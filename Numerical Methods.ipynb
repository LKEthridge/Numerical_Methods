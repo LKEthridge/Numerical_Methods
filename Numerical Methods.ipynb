{
 "cells": [
  {
   "cell_type": "markdown",
   "metadata": {},
   "source": [
    "# Predicting Car Market Value with Machine Learning: A Fast and Accurate Model for Rusty Bargain\n",
    "Rusty Bargain, a used car sales service, is developing an app to help customers quickly estimate the market value of their vehicles. To support this initiative, I will build a predictive model using historical data, including technical specifications and prices. The model must balance three key priorities: prediction quality, inference speed, and training efficiency.\n",
    "\n",
    "This project will involve training multiple models, including linear regression (as a baseline), a random forest, and gradient boosting methods such as LightGBM and CatBoost. These models will be evaluated using the Root Mean Squared Error (RMSE) metric to assess prediction accuracy. Additionally, I will compare model training times and prediction speeds to ensure that the final model is both accurate and efficient.\n",
    "\n",
    "By the end of this project, I aim to deliver a well-optimized model that can provide fast and reliable car price predictions, helping Rusty Bargain enhance its customer experience and attract new users to its platform."
   ]
  },
  {
   "cell_type": "markdown",
   "metadata": {},
   "source": [
    "## Data preparation"
   ]
  },
  {
   "cell_type": "markdown",
   "metadata": {},
   "source": [
    "This project will rely on pandas for data manipulation, numpy, matplotlib, and seaborn for visualizing data, and scikit-learn for building and training the model."
   ]
  },
  {
   "cell_type": "code",
   "execution_count": 1,
   "metadata": {},
   "outputs": [],
   "source": [
    "import pandas as pd\n",
    "import numpy as np\n",
    "\n",
    "import matplotlib.pyplot as plt\n",
    "import seaborn as sns\n",
    "\n",
    "import time\n",
    "\n",
    "import lightgbm as lgb\n",
    "from lightgbm.callback import early_stopping\n",
    "\n",
    "from catboost import CatBoostRegressor\n",
    "\n",
    "from sklearn.ensemble import RandomForestRegressor, RandomForestClassifier\n",
    "from sklearn.multioutput import MultiOutputRegressor\n",
    "from sklearn.linear_model import LinearRegression\n",
    "\n",
    "from sklearn.preprocessing import StandardScaler, LabelEncoder, OneHotEncoder, OrdinalEncoder\n",
    "from sklearn.impute import SimpleImputer\n",
    "\n",
    "from sklearn.metrics import mean_squared_error, mean_absolute_error, make_scorer\n",
    "from sklearn.utils import shuffle\n",
    "from sklearn.model_selection import cross_val_score, KFold, RandomizedSearchCV, train_test_split"
   ]
  },
  {
   "cell_type": "markdown",
   "metadata": {},
   "source": [
    "### Opening and Exploring Data Sets"
   ]
  },
  {
   "cell_type": "code",
   "execution_count": 2,
   "metadata": {},
   "outputs": [],
   "source": [
    "cars = pd.read_csv('/datasets/car_data.csv')"
   ]
  },
  {
   "cell_type": "code",
   "execution_count": 3,
   "metadata": {},
   "outputs": [
    {
     "data": {
      "text/html": [
       "<div>\n",
       "<style scoped>\n",
       "    .dataframe tbody tr th:only-of-type {\n",
       "        vertical-align: middle;\n",
       "    }\n",
       "\n",
       "    .dataframe tbody tr th {\n",
       "        vertical-align: top;\n",
       "    }\n",
       "\n",
       "    .dataframe thead th {\n",
       "        text-align: right;\n",
       "    }\n",
       "</style>\n",
       "<table border=\"1\" class=\"dataframe\">\n",
       "  <thead>\n",
       "    <tr style=\"text-align: right;\">\n",
       "      <th></th>\n",
       "      <th>DateCrawled</th>\n",
       "      <th>Price</th>\n",
       "      <th>VehicleType</th>\n",
       "      <th>RegistrationYear</th>\n",
       "      <th>Gearbox</th>\n",
       "      <th>Power</th>\n",
       "      <th>Model</th>\n",
       "      <th>Mileage</th>\n",
       "      <th>RegistrationMonth</th>\n",
       "      <th>FuelType</th>\n",
       "      <th>Brand</th>\n",
       "      <th>NotRepaired</th>\n",
       "      <th>DateCreated</th>\n",
       "      <th>NumberOfPictures</th>\n",
       "      <th>PostalCode</th>\n",
       "      <th>LastSeen</th>\n",
       "    </tr>\n",
       "  </thead>\n",
       "  <tbody>\n",
       "    <tr>\n",
       "      <th>0</th>\n",
       "      <td>24/03/2016 11:52</td>\n",
       "      <td>480</td>\n",
       "      <td>NaN</td>\n",
       "      <td>1993</td>\n",
       "      <td>manual</td>\n",
       "      <td>0</td>\n",
       "      <td>golf</td>\n",
       "      <td>150000</td>\n",
       "      <td>0</td>\n",
       "      <td>petrol</td>\n",
       "      <td>volkswagen</td>\n",
       "      <td>NaN</td>\n",
       "      <td>24/03/2016 00:00</td>\n",
       "      <td>0</td>\n",
       "      <td>70435</td>\n",
       "      <td>07/04/2016 03:16</td>\n",
       "    </tr>\n",
       "    <tr>\n",
       "      <th>1</th>\n",
       "      <td>24/03/2016 10:58</td>\n",
       "      <td>18300</td>\n",
       "      <td>coupe</td>\n",
       "      <td>2011</td>\n",
       "      <td>manual</td>\n",
       "      <td>190</td>\n",
       "      <td>NaN</td>\n",
       "      <td>125000</td>\n",
       "      <td>5</td>\n",
       "      <td>gasoline</td>\n",
       "      <td>audi</td>\n",
       "      <td>yes</td>\n",
       "      <td>24/03/2016 00:00</td>\n",
       "      <td>0</td>\n",
       "      <td>66954</td>\n",
       "      <td>07/04/2016 01:46</td>\n",
       "    </tr>\n",
       "    <tr>\n",
       "      <th>2</th>\n",
       "      <td>14/03/2016 12:52</td>\n",
       "      <td>9800</td>\n",
       "      <td>suv</td>\n",
       "      <td>2004</td>\n",
       "      <td>auto</td>\n",
       "      <td>163</td>\n",
       "      <td>grand</td>\n",
       "      <td>125000</td>\n",
       "      <td>8</td>\n",
       "      <td>gasoline</td>\n",
       "      <td>jeep</td>\n",
       "      <td>NaN</td>\n",
       "      <td>14/03/2016 00:00</td>\n",
       "      <td>0</td>\n",
       "      <td>90480</td>\n",
       "      <td>05/04/2016 12:47</td>\n",
       "    </tr>\n",
       "    <tr>\n",
       "      <th>3</th>\n",
       "      <td>17/03/2016 16:54</td>\n",
       "      <td>1500</td>\n",
       "      <td>small</td>\n",
       "      <td>2001</td>\n",
       "      <td>manual</td>\n",
       "      <td>75</td>\n",
       "      <td>golf</td>\n",
       "      <td>150000</td>\n",
       "      <td>6</td>\n",
       "      <td>petrol</td>\n",
       "      <td>volkswagen</td>\n",
       "      <td>no</td>\n",
       "      <td>17/03/2016 00:00</td>\n",
       "      <td>0</td>\n",
       "      <td>91074</td>\n",
       "      <td>17/03/2016 17:40</td>\n",
       "    </tr>\n",
       "    <tr>\n",
       "      <th>4</th>\n",
       "      <td>31/03/2016 17:25</td>\n",
       "      <td>3600</td>\n",
       "      <td>small</td>\n",
       "      <td>2008</td>\n",
       "      <td>manual</td>\n",
       "      <td>69</td>\n",
       "      <td>fabia</td>\n",
       "      <td>90000</td>\n",
       "      <td>7</td>\n",
       "      <td>gasoline</td>\n",
       "      <td>skoda</td>\n",
       "      <td>no</td>\n",
       "      <td>31/03/2016 00:00</td>\n",
       "      <td>0</td>\n",
       "      <td>60437</td>\n",
       "      <td>06/04/2016 10:17</td>\n",
       "    </tr>\n",
       "    <tr>\n",
       "      <th>...</th>\n",
       "      <td>...</td>\n",
       "      <td>...</td>\n",
       "      <td>...</td>\n",
       "      <td>...</td>\n",
       "      <td>...</td>\n",
       "      <td>...</td>\n",
       "      <td>...</td>\n",
       "      <td>...</td>\n",
       "      <td>...</td>\n",
       "      <td>...</td>\n",
       "      <td>...</td>\n",
       "      <td>...</td>\n",
       "      <td>...</td>\n",
       "      <td>...</td>\n",
       "      <td>...</td>\n",
       "      <td>...</td>\n",
       "    </tr>\n",
       "    <tr>\n",
       "      <th>354364</th>\n",
       "      <td>21/03/2016 09:50</td>\n",
       "      <td>0</td>\n",
       "      <td>NaN</td>\n",
       "      <td>2005</td>\n",
       "      <td>manual</td>\n",
       "      <td>0</td>\n",
       "      <td>colt</td>\n",
       "      <td>150000</td>\n",
       "      <td>7</td>\n",
       "      <td>petrol</td>\n",
       "      <td>mitsubishi</td>\n",
       "      <td>yes</td>\n",
       "      <td>21/03/2016 00:00</td>\n",
       "      <td>0</td>\n",
       "      <td>2694</td>\n",
       "      <td>21/03/2016 10:42</td>\n",
       "    </tr>\n",
       "    <tr>\n",
       "      <th>354365</th>\n",
       "      <td>14/03/2016 17:48</td>\n",
       "      <td>2200</td>\n",
       "      <td>NaN</td>\n",
       "      <td>2005</td>\n",
       "      <td>NaN</td>\n",
       "      <td>0</td>\n",
       "      <td>NaN</td>\n",
       "      <td>20000</td>\n",
       "      <td>1</td>\n",
       "      <td>NaN</td>\n",
       "      <td>sonstige_autos</td>\n",
       "      <td>NaN</td>\n",
       "      <td>14/03/2016 00:00</td>\n",
       "      <td>0</td>\n",
       "      <td>39576</td>\n",
       "      <td>06/04/2016 00:46</td>\n",
       "    </tr>\n",
       "    <tr>\n",
       "      <th>354366</th>\n",
       "      <td>05/03/2016 19:56</td>\n",
       "      <td>1199</td>\n",
       "      <td>convertible</td>\n",
       "      <td>2000</td>\n",
       "      <td>auto</td>\n",
       "      <td>101</td>\n",
       "      <td>fortwo</td>\n",
       "      <td>125000</td>\n",
       "      <td>3</td>\n",
       "      <td>petrol</td>\n",
       "      <td>smart</td>\n",
       "      <td>no</td>\n",
       "      <td>05/03/2016 00:00</td>\n",
       "      <td>0</td>\n",
       "      <td>26135</td>\n",
       "      <td>11/03/2016 18:17</td>\n",
       "    </tr>\n",
       "    <tr>\n",
       "      <th>354367</th>\n",
       "      <td>19/03/2016 18:57</td>\n",
       "      <td>9200</td>\n",
       "      <td>bus</td>\n",
       "      <td>1996</td>\n",
       "      <td>manual</td>\n",
       "      <td>102</td>\n",
       "      <td>transporter</td>\n",
       "      <td>150000</td>\n",
       "      <td>3</td>\n",
       "      <td>gasoline</td>\n",
       "      <td>volkswagen</td>\n",
       "      <td>no</td>\n",
       "      <td>19/03/2016 00:00</td>\n",
       "      <td>0</td>\n",
       "      <td>87439</td>\n",
       "      <td>07/04/2016 07:15</td>\n",
       "    </tr>\n",
       "    <tr>\n",
       "      <th>354368</th>\n",
       "      <td>20/03/2016 19:41</td>\n",
       "      <td>3400</td>\n",
       "      <td>wagon</td>\n",
       "      <td>2002</td>\n",
       "      <td>manual</td>\n",
       "      <td>100</td>\n",
       "      <td>golf</td>\n",
       "      <td>150000</td>\n",
       "      <td>6</td>\n",
       "      <td>gasoline</td>\n",
       "      <td>volkswagen</td>\n",
       "      <td>NaN</td>\n",
       "      <td>20/03/2016 00:00</td>\n",
       "      <td>0</td>\n",
       "      <td>40764</td>\n",
       "      <td>24/03/2016 12:45</td>\n",
       "    </tr>\n",
       "  </tbody>\n",
       "</table>\n",
       "<p>354369 rows × 16 columns</p>\n",
       "</div>"
      ],
      "text/plain": [
       "             DateCrawled  Price  VehicleType  RegistrationYear Gearbox  Power  \\\n",
       "0       24/03/2016 11:52    480          NaN              1993  manual      0   \n",
       "1       24/03/2016 10:58  18300        coupe              2011  manual    190   \n",
       "2       14/03/2016 12:52   9800          suv              2004    auto    163   \n",
       "3       17/03/2016 16:54   1500        small              2001  manual     75   \n",
       "4       31/03/2016 17:25   3600        small              2008  manual     69   \n",
       "...                  ...    ...          ...               ...     ...    ...   \n",
       "354364  21/03/2016 09:50      0          NaN              2005  manual      0   \n",
       "354365  14/03/2016 17:48   2200          NaN              2005     NaN      0   \n",
       "354366  05/03/2016 19:56   1199  convertible              2000    auto    101   \n",
       "354367  19/03/2016 18:57   9200          bus              1996  manual    102   \n",
       "354368  20/03/2016 19:41   3400        wagon              2002  manual    100   \n",
       "\n",
       "              Model  Mileage  RegistrationMonth  FuelType           Brand  \\\n",
       "0              golf   150000                  0    petrol      volkswagen   \n",
       "1               NaN   125000                  5  gasoline            audi   \n",
       "2             grand   125000                  8  gasoline            jeep   \n",
       "3              golf   150000                  6    petrol      volkswagen   \n",
       "4             fabia    90000                  7  gasoline           skoda   \n",
       "...             ...      ...                ...       ...             ...   \n",
       "354364         colt   150000                  7    petrol      mitsubishi   \n",
       "354365          NaN    20000                  1       NaN  sonstige_autos   \n",
       "354366       fortwo   125000                  3    petrol           smart   \n",
       "354367  transporter   150000                  3  gasoline      volkswagen   \n",
       "354368         golf   150000                  6  gasoline      volkswagen   \n",
       "\n",
       "       NotRepaired       DateCreated  NumberOfPictures  PostalCode  \\\n",
       "0              NaN  24/03/2016 00:00                 0       70435   \n",
       "1              yes  24/03/2016 00:00                 0       66954   \n",
       "2              NaN  14/03/2016 00:00                 0       90480   \n",
       "3               no  17/03/2016 00:00                 0       91074   \n",
       "4               no  31/03/2016 00:00                 0       60437   \n",
       "...            ...               ...               ...         ...   \n",
       "354364         yes  21/03/2016 00:00                 0        2694   \n",
       "354365         NaN  14/03/2016 00:00                 0       39576   \n",
       "354366          no  05/03/2016 00:00                 0       26135   \n",
       "354367          no  19/03/2016 00:00                 0       87439   \n",
       "354368         NaN  20/03/2016 00:00                 0       40764   \n",
       "\n",
       "                LastSeen  \n",
       "0       07/04/2016 03:16  \n",
       "1       07/04/2016 01:46  \n",
       "2       05/04/2016 12:47  \n",
       "3       17/03/2016 17:40  \n",
       "4       06/04/2016 10:17  \n",
       "...                  ...  \n",
       "354364  21/03/2016 10:42  \n",
       "354365  06/04/2016 00:46  \n",
       "354366  11/03/2016 18:17  \n",
       "354367  07/04/2016 07:15  \n",
       "354368  24/03/2016 12:45  \n",
       "\n",
       "[354369 rows x 16 columns]"
      ]
     },
     "execution_count": 3,
     "metadata": {},
     "output_type": "execute_result"
    }
   ],
   "source": [
    "cars"
   ]
  },
  {
   "cell_type": "code",
   "execution_count": 4,
   "metadata": {},
   "outputs": [
    {
     "name": "stdout",
     "output_type": "stream",
     "text": [
      "<class 'pandas.core.frame.DataFrame'>\n",
      "RangeIndex: 354369 entries, 0 to 354368\n",
      "Data columns (total 16 columns):\n",
      " #   Column             Non-Null Count   Dtype \n",
      "---  ------             --------------   ----- \n",
      " 0   DateCrawled        354369 non-null  object\n",
      " 1   Price              354369 non-null  int64 \n",
      " 2   VehicleType        316879 non-null  object\n",
      " 3   RegistrationYear   354369 non-null  int64 \n",
      " 4   Gearbox            334536 non-null  object\n",
      " 5   Power              354369 non-null  int64 \n",
      " 6   Model              334664 non-null  object\n",
      " 7   Mileage            354369 non-null  int64 \n",
      " 8   RegistrationMonth  354369 non-null  int64 \n",
      " 9   FuelType           321474 non-null  object\n",
      " 10  Brand              354369 non-null  object\n",
      " 11  NotRepaired        283215 non-null  object\n",
      " 12  DateCreated        354369 non-null  object\n",
      " 13  NumberOfPictures   354369 non-null  int64 \n",
      " 14  PostalCode         354369 non-null  int64 \n",
      " 15  LastSeen           354369 non-null  object\n",
      "dtypes: int64(7), object(9)\n",
      "memory usage: 43.3+ MB\n"
     ]
    }
   ],
   "source": [
    "cars.info()"
   ]
  },
  {
   "cell_type": "code",
   "execution_count": 5,
   "metadata": {},
   "outputs": [
    {
     "data": {
      "text/plain": [
       "Index(['datecrawled', 'price', 'vehicletype', 'registrationyear', 'gearbox',\n",
       "       'power', 'model', 'mileage', 'registrationmonth', 'fueltype', 'brand',\n",
       "       'notrepaired', 'datecreated', 'numberofpictures', 'postalcode',\n",
       "       'lastseen'],\n",
       "      dtype='object')"
      ]
     },
     "execution_count": 5,
     "metadata": {},
     "output_type": "execute_result"
    }
   ],
   "source": [
    "# changing column names to lowercase\n",
    "cars.columns = cars.columns.str.lower()\n",
    "cars.columns"
   ]
  },
  {
   "cell_type": "code",
   "execution_count": 6,
   "metadata": {},
   "outputs": [
    {
     "data": {
      "text/html": [
       "<div>\n",
       "<style scoped>\n",
       "    .dataframe tbody tr th:only-of-type {\n",
       "        vertical-align: middle;\n",
       "    }\n",
       "\n",
       "    .dataframe tbody tr th {\n",
       "        vertical-align: top;\n",
       "    }\n",
       "\n",
       "    .dataframe thead th {\n",
       "        text-align: right;\n",
       "    }\n",
       "</style>\n",
       "<table border=\"1\" class=\"dataframe\">\n",
       "  <thead>\n",
       "    <tr style=\"text-align: right;\">\n",
       "      <th></th>\n",
       "      <th>price</th>\n",
       "      <th>registrationyear</th>\n",
       "      <th>power</th>\n",
       "      <th>mileage</th>\n",
       "      <th>registrationmonth</th>\n",
       "      <th>numberofpictures</th>\n",
       "      <th>postalcode</th>\n",
       "    </tr>\n",
       "  </thead>\n",
       "  <tbody>\n",
       "    <tr>\n",
       "      <th>count</th>\n",
       "      <td>354369.000000</td>\n",
       "      <td>354369.000000</td>\n",
       "      <td>354369.000000</td>\n",
       "      <td>354369.000000</td>\n",
       "      <td>354369.000000</td>\n",
       "      <td>354369.0</td>\n",
       "      <td>354369.000000</td>\n",
       "    </tr>\n",
       "    <tr>\n",
       "      <th>mean</th>\n",
       "      <td>4416.656776</td>\n",
       "      <td>2004.234448</td>\n",
       "      <td>110.094337</td>\n",
       "      <td>128211.172535</td>\n",
       "      <td>5.714645</td>\n",
       "      <td>0.0</td>\n",
       "      <td>50508.689087</td>\n",
       "    </tr>\n",
       "    <tr>\n",
       "      <th>std</th>\n",
       "      <td>4514.158514</td>\n",
       "      <td>90.227958</td>\n",
       "      <td>189.850405</td>\n",
       "      <td>37905.341530</td>\n",
       "      <td>3.726421</td>\n",
       "      <td>0.0</td>\n",
       "      <td>25783.096248</td>\n",
       "    </tr>\n",
       "    <tr>\n",
       "      <th>min</th>\n",
       "      <td>0.000000</td>\n",
       "      <td>1000.000000</td>\n",
       "      <td>0.000000</td>\n",
       "      <td>5000.000000</td>\n",
       "      <td>0.000000</td>\n",
       "      <td>0.0</td>\n",
       "      <td>1067.000000</td>\n",
       "    </tr>\n",
       "    <tr>\n",
       "      <th>25%</th>\n",
       "      <td>1050.000000</td>\n",
       "      <td>1999.000000</td>\n",
       "      <td>69.000000</td>\n",
       "      <td>125000.000000</td>\n",
       "      <td>3.000000</td>\n",
       "      <td>0.0</td>\n",
       "      <td>30165.000000</td>\n",
       "    </tr>\n",
       "    <tr>\n",
       "      <th>50%</th>\n",
       "      <td>2700.000000</td>\n",
       "      <td>2003.000000</td>\n",
       "      <td>105.000000</td>\n",
       "      <td>150000.000000</td>\n",
       "      <td>6.000000</td>\n",
       "      <td>0.0</td>\n",
       "      <td>49413.000000</td>\n",
       "    </tr>\n",
       "    <tr>\n",
       "      <th>75%</th>\n",
       "      <td>6400.000000</td>\n",
       "      <td>2008.000000</td>\n",
       "      <td>143.000000</td>\n",
       "      <td>150000.000000</td>\n",
       "      <td>9.000000</td>\n",
       "      <td>0.0</td>\n",
       "      <td>71083.000000</td>\n",
       "    </tr>\n",
       "    <tr>\n",
       "      <th>max</th>\n",
       "      <td>20000.000000</td>\n",
       "      <td>9999.000000</td>\n",
       "      <td>20000.000000</td>\n",
       "      <td>150000.000000</td>\n",
       "      <td>12.000000</td>\n",
       "      <td>0.0</td>\n",
       "      <td>99998.000000</td>\n",
       "    </tr>\n",
       "  </tbody>\n",
       "</table>\n",
       "</div>"
      ],
      "text/plain": [
       "               price  registrationyear          power        mileage  \\\n",
       "count  354369.000000     354369.000000  354369.000000  354369.000000   \n",
       "mean     4416.656776       2004.234448     110.094337  128211.172535   \n",
       "std      4514.158514         90.227958     189.850405   37905.341530   \n",
       "min         0.000000       1000.000000       0.000000    5000.000000   \n",
       "25%      1050.000000       1999.000000      69.000000  125000.000000   \n",
       "50%      2700.000000       2003.000000     105.000000  150000.000000   \n",
       "75%      6400.000000       2008.000000     143.000000  150000.000000   \n",
       "max     20000.000000       9999.000000   20000.000000  150000.000000   \n",
       "\n",
       "       registrationmonth  numberofpictures     postalcode  \n",
       "count      354369.000000          354369.0  354369.000000  \n",
       "mean            5.714645               0.0   50508.689087  \n",
       "std             3.726421               0.0   25783.096248  \n",
       "min             0.000000               0.0    1067.000000  \n",
       "25%             3.000000               0.0   30165.000000  \n",
       "50%             6.000000               0.0   49413.000000  \n",
       "75%             9.000000               0.0   71083.000000  \n",
       "max            12.000000               0.0   99998.000000  "
      ]
     },
     "execution_count": 6,
     "metadata": {},
     "output_type": "execute_result"
    }
   ],
   "source": [
    "cars.describe()"
   ]
  },
  {
   "cell_type": "markdown",
   "metadata": {},
   "source": [
    "The full dataset includes information for over 350k cars with 16 parameters.  No car exceeds 20k€ in value or 150k miles, so the cars are, indeed, a rusty bargain!  The majority of cars are over twenty years old, however, and most do, in fact, have 150k miles.\n",
    "\n",
    "There are some missing values in the vehicletype, gearbox, model, fueltype, and notrepaired columns that will need to be handled, but the data is overall intact.\n",
    "\n",
    "The numberofpictures column seems to have lost all of its data as all responses are 0.  Thus, it can be dropped.  There appear to be some faulty figures in the registrationyear column.  Registrationyear seems to in fact indicate model year, and thus I will seek to drop erroneous values like the cars from the first and tenth milleniums and fill this column with the average value for the model in question."
   ]
  },
  {
   "cell_type": "markdown",
   "metadata": {},
   "source": [
    "### Data Preprocessing"
   ]
  },
  {
   "cell_type": "markdown",
   "metadata": {},
   "source": [
    "Before proceeding, I will take some basic steps to clean up further the column names for clear code by separating words with an underscore and updating some of the unclear/nontechnical language, e.g. registration year and \"brand\" (more commonly referred to as \"make\")."
   ]
  },
  {
   "cell_type": "code",
   "execution_count": 7,
   "metadata": {
    "scrolled": true
   },
   "outputs": [
    {
     "data": {
      "text/html": [
       "<div>\n",
       "<style scoped>\n",
       "    .dataframe tbody tr th:only-of-type {\n",
       "        vertical-align: middle;\n",
       "    }\n",
       "\n",
       "    .dataframe tbody tr th {\n",
       "        vertical-align: top;\n",
       "    }\n",
       "\n",
       "    .dataframe thead th {\n",
       "        text-align: right;\n",
       "    }\n",
       "</style>\n",
       "<table border=\"1\" class=\"dataframe\">\n",
       "  <thead>\n",
       "    <tr style=\"text-align: right;\">\n",
       "      <th></th>\n",
       "      <th>date_crawled</th>\n",
       "      <th>price</th>\n",
       "      <th>type</th>\n",
       "      <th>model_year</th>\n",
       "      <th>gearbox</th>\n",
       "      <th>power</th>\n",
       "      <th>model</th>\n",
       "      <th>mileage</th>\n",
       "      <th>registration_month</th>\n",
       "      <th>fuel_type</th>\n",
       "      <th>make</th>\n",
       "      <th>unrepaired</th>\n",
       "      <th>date_created</th>\n",
       "      <th>postal_code</th>\n",
       "      <th>last_seen</th>\n",
       "    </tr>\n",
       "  </thead>\n",
       "  <tbody>\n",
       "    <tr>\n",
       "      <th>0</th>\n",
       "      <td>24/03/2016 11:52</td>\n",
       "      <td>480</td>\n",
       "      <td>NaN</td>\n",
       "      <td>1993</td>\n",
       "      <td>manual</td>\n",
       "      <td>0</td>\n",
       "      <td>golf</td>\n",
       "      <td>150000</td>\n",
       "      <td>0</td>\n",
       "      <td>petrol</td>\n",
       "      <td>volkswagen</td>\n",
       "      <td>NaN</td>\n",
       "      <td>24/03/2016 00:00</td>\n",
       "      <td>70435</td>\n",
       "      <td>07/04/2016 03:16</td>\n",
       "    </tr>\n",
       "    <tr>\n",
       "      <th>1</th>\n",
       "      <td>24/03/2016 10:58</td>\n",
       "      <td>18300</td>\n",
       "      <td>coupe</td>\n",
       "      <td>2011</td>\n",
       "      <td>manual</td>\n",
       "      <td>190</td>\n",
       "      <td>NaN</td>\n",
       "      <td>125000</td>\n",
       "      <td>5</td>\n",
       "      <td>gasoline</td>\n",
       "      <td>audi</td>\n",
       "      <td>yes</td>\n",
       "      <td>24/03/2016 00:00</td>\n",
       "      <td>66954</td>\n",
       "      <td>07/04/2016 01:46</td>\n",
       "    </tr>\n",
       "    <tr>\n",
       "      <th>2</th>\n",
       "      <td>14/03/2016 12:52</td>\n",
       "      <td>9800</td>\n",
       "      <td>suv</td>\n",
       "      <td>2004</td>\n",
       "      <td>auto</td>\n",
       "      <td>163</td>\n",
       "      <td>grand</td>\n",
       "      <td>125000</td>\n",
       "      <td>8</td>\n",
       "      <td>gasoline</td>\n",
       "      <td>jeep</td>\n",
       "      <td>NaN</td>\n",
       "      <td>14/03/2016 00:00</td>\n",
       "      <td>90480</td>\n",
       "      <td>05/04/2016 12:47</td>\n",
       "    </tr>\n",
       "    <tr>\n",
       "      <th>3</th>\n",
       "      <td>17/03/2016 16:54</td>\n",
       "      <td>1500</td>\n",
       "      <td>small</td>\n",
       "      <td>2001</td>\n",
       "      <td>manual</td>\n",
       "      <td>75</td>\n",
       "      <td>golf</td>\n",
       "      <td>150000</td>\n",
       "      <td>6</td>\n",
       "      <td>petrol</td>\n",
       "      <td>volkswagen</td>\n",
       "      <td>no</td>\n",
       "      <td>17/03/2016 00:00</td>\n",
       "      <td>91074</td>\n",
       "      <td>17/03/2016 17:40</td>\n",
       "    </tr>\n",
       "    <tr>\n",
       "      <th>4</th>\n",
       "      <td>31/03/2016 17:25</td>\n",
       "      <td>3600</td>\n",
       "      <td>small</td>\n",
       "      <td>2008</td>\n",
       "      <td>manual</td>\n",
       "      <td>69</td>\n",
       "      <td>fabia</td>\n",
       "      <td>90000</td>\n",
       "      <td>7</td>\n",
       "      <td>gasoline</td>\n",
       "      <td>skoda</td>\n",
       "      <td>no</td>\n",
       "      <td>31/03/2016 00:00</td>\n",
       "      <td>60437</td>\n",
       "      <td>06/04/2016 10:17</td>\n",
       "    </tr>\n",
       "    <tr>\n",
       "      <th>...</th>\n",
       "      <td>...</td>\n",
       "      <td>...</td>\n",
       "      <td>...</td>\n",
       "      <td>...</td>\n",
       "      <td>...</td>\n",
       "      <td>...</td>\n",
       "      <td>...</td>\n",
       "      <td>...</td>\n",
       "      <td>...</td>\n",
       "      <td>...</td>\n",
       "      <td>...</td>\n",
       "      <td>...</td>\n",
       "      <td>...</td>\n",
       "      <td>...</td>\n",
       "      <td>...</td>\n",
       "    </tr>\n",
       "    <tr>\n",
       "      <th>354364</th>\n",
       "      <td>21/03/2016 09:50</td>\n",
       "      <td>0</td>\n",
       "      <td>NaN</td>\n",
       "      <td>2005</td>\n",
       "      <td>manual</td>\n",
       "      <td>0</td>\n",
       "      <td>colt</td>\n",
       "      <td>150000</td>\n",
       "      <td>7</td>\n",
       "      <td>petrol</td>\n",
       "      <td>mitsubishi</td>\n",
       "      <td>yes</td>\n",
       "      <td>21/03/2016 00:00</td>\n",
       "      <td>2694</td>\n",
       "      <td>21/03/2016 10:42</td>\n",
       "    </tr>\n",
       "    <tr>\n",
       "      <th>354365</th>\n",
       "      <td>14/03/2016 17:48</td>\n",
       "      <td>2200</td>\n",
       "      <td>NaN</td>\n",
       "      <td>2005</td>\n",
       "      <td>NaN</td>\n",
       "      <td>0</td>\n",
       "      <td>NaN</td>\n",
       "      <td>20000</td>\n",
       "      <td>1</td>\n",
       "      <td>NaN</td>\n",
       "      <td>sonstige_autos</td>\n",
       "      <td>NaN</td>\n",
       "      <td>14/03/2016 00:00</td>\n",
       "      <td>39576</td>\n",
       "      <td>06/04/2016 00:46</td>\n",
       "    </tr>\n",
       "    <tr>\n",
       "      <th>354366</th>\n",
       "      <td>05/03/2016 19:56</td>\n",
       "      <td>1199</td>\n",
       "      <td>convertible</td>\n",
       "      <td>2000</td>\n",
       "      <td>auto</td>\n",
       "      <td>101</td>\n",
       "      <td>fortwo</td>\n",
       "      <td>125000</td>\n",
       "      <td>3</td>\n",
       "      <td>petrol</td>\n",
       "      <td>smart</td>\n",
       "      <td>no</td>\n",
       "      <td>05/03/2016 00:00</td>\n",
       "      <td>26135</td>\n",
       "      <td>11/03/2016 18:17</td>\n",
       "    </tr>\n",
       "    <tr>\n",
       "      <th>354367</th>\n",
       "      <td>19/03/2016 18:57</td>\n",
       "      <td>9200</td>\n",
       "      <td>bus</td>\n",
       "      <td>1996</td>\n",
       "      <td>manual</td>\n",
       "      <td>102</td>\n",
       "      <td>transporter</td>\n",
       "      <td>150000</td>\n",
       "      <td>3</td>\n",
       "      <td>gasoline</td>\n",
       "      <td>volkswagen</td>\n",
       "      <td>no</td>\n",
       "      <td>19/03/2016 00:00</td>\n",
       "      <td>87439</td>\n",
       "      <td>07/04/2016 07:15</td>\n",
       "    </tr>\n",
       "    <tr>\n",
       "      <th>354368</th>\n",
       "      <td>20/03/2016 19:41</td>\n",
       "      <td>3400</td>\n",
       "      <td>wagon</td>\n",
       "      <td>2002</td>\n",
       "      <td>manual</td>\n",
       "      <td>100</td>\n",
       "      <td>golf</td>\n",
       "      <td>150000</td>\n",
       "      <td>6</td>\n",
       "      <td>gasoline</td>\n",
       "      <td>volkswagen</td>\n",
       "      <td>NaN</td>\n",
       "      <td>20/03/2016 00:00</td>\n",
       "      <td>40764</td>\n",
       "      <td>24/03/2016 12:45</td>\n",
       "    </tr>\n",
       "  </tbody>\n",
       "</table>\n",
       "<p>354369 rows × 15 columns</p>\n",
       "</div>"
      ],
      "text/plain": [
       "            date_crawled  price         type  model_year gearbox  power  \\\n",
       "0       24/03/2016 11:52    480          NaN        1993  manual      0   \n",
       "1       24/03/2016 10:58  18300        coupe        2011  manual    190   \n",
       "2       14/03/2016 12:52   9800          suv        2004    auto    163   \n",
       "3       17/03/2016 16:54   1500        small        2001  manual     75   \n",
       "4       31/03/2016 17:25   3600        small        2008  manual     69   \n",
       "...                  ...    ...          ...         ...     ...    ...   \n",
       "354364  21/03/2016 09:50      0          NaN        2005  manual      0   \n",
       "354365  14/03/2016 17:48   2200          NaN        2005     NaN      0   \n",
       "354366  05/03/2016 19:56   1199  convertible        2000    auto    101   \n",
       "354367  19/03/2016 18:57   9200          bus        1996  manual    102   \n",
       "354368  20/03/2016 19:41   3400        wagon        2002  manual    100   \n",
       "\n",
       "              model  mileage  registration_month fuel_type            make  \\\n",
       "0              golf   150000                   0    petrol      volkswagen   \n",
       "1               NaN   125000                   5  gasoline            audi   \n",
       "2             grand   125000                   8  gasoline            jeep   \n",
       "3              golf   150000                   6    petrol      volkswagen   \n",
       "4             fabia    90000                   7  gasoline           skoda   \n",
       "...             ...      ...                 ...       ...             ...   \n",
       "354364         colt   150000                   7    petrol      mitsubishi   \n",
       "354365          NaN    20000                   1       NaN  sonstige_autos   \n",
       "354366       fortwo   125000                   3    petrol           smart   \n",
       "354367  transporter   150000                   3  gasoline      volkswagen   \n",
       "354368         golf   150000                   6  gasoline      volkswagen   \n",
       "\n",
       "       unrepaired      date_created  postal_code         last_seen  \n",
       "0             NaN  24/03/2016 00:00        70435  07/04/2016 03:16  \n",
       "1             yes  24/03/2016 00:00        66954  07/04/2016 01:46  \n",
       "2             NaN  14/03/2016 00:00        90480  05/04/2016 12:47  \n",
       "3              no  17/03/2016 00:00        91074  17/03/2016 17:40  \n",
       "4              no  31/03/2016 00:00        60437  06/04/2016 10:17  \n",
       "...           ...               ...          ...               ...  \n",
       "354364        yes  21/03/2016 00:00         2694  21/03/2016 10:42  \n",
       "354365        NaN  14/03/2016 00:00        39576  06/04/2016 00:46  \n",
       "354366         no  05/03/2016 00:00        26135  11/03/2016 18:17  \n",
       "354367         no  19/03/2016 00:00        87439  07/04/2016 07:15  \n",
       "354368        NaN  20/03/2016 00:00        40764  24/03/2016 12:45  \n",
       "\n",
       "[354369 rows x 15 columns]"
      ]
     },
     "execution_count": 7,
     "metadata": {},
     "output_type": "execute_result"
    }
   ],
   "source": [
    "cars.drop('numberofpictures', axis=1, inplace=True)\n",
    "cars.rename(columns={'datecrawled': 'date_crawled', 'vehicletype': 'type','registrationyear': 'model_year', 'registrationmonth': 'registration_month', 'fueltype': 'fuel_type', 'brand': 'make', 'notrepaired': 'unrepaired', 'datecreated': 'date_created', 'postalcode': 'postal_code', 'lastseen': 'last_seen'}, inplace=True)\n",
    "cars"
   ]
  },
  {
   "cell_type": "markdown",
   "metadata": {},
   "source": [
    "The faulty numberofpictures column has been removed."
   ]
  },
  {
   "cell_type": "code",
   "execution_count": 8,
   "metadata": {},
   "outputs": [
    {
     "data": {
      "text/plain": [
       "262"
      ]
     },
     "execution_count": 8,
     "metadata": {},
     "output_type": "execute_result"
    }
   ],
   "source": [
    "cars.duplicated().sum()"
   ]
  },
  {
   "cell_type": "code",
   "execution_count": 9,
   "metadata": {},
   "outputs": [
    {
     "data": {
      "text/plain": [
       "0"
      ]
     },
     "execution_count": 9,
     "metadata": {},
     "output_type": "execute_result"
    }
   ],
   "source": [
    "cars.drop_duplicates(inplace=True)\n",
    "cars.duplicated().sum()"
   ]
  },
  {
   "cell_type": "markdown",
   "metadata": {},
   "source": [
    "There were 262 duplicates in the data that I removed from the dataset.  It is still a robust dataset of details on over 354k cars.  I will now find solutions to the above-referenced missing data."
   ]
  },
  {
   "cell_type": "code",
   "execution_count": 10,
   "metadata": {},
   "outputs": [
    {
     "data": {
      "text/plain": [
       "37484"
      ]
     },
     "execution_count": 10,
     "metadata": {},
     "output_type": "execute_result"
    }
   ],
   "source": [
    "cars['type'].isna().sum()"
   ]
  },
  {
   "cell_type": "markdown",
   "metadata": {},
   "source": [
    "11% of the cars are missing a designated vehicle type.  Filling with 'Unknown' has too much potential to affect predictions.  Therefore, a more creative approach is required.  Given that, in general, model names correspond to a particular vehicle type, I will fill vehicletype--where possible--based on the most common vehicle type for a given model.  Cars without vehicletype or model will need to be dropped from the dataset."
   ]
  },
  {
   "cell_type": "code",
   "execution_count": 11,
   "metadata": {},
   "outputs": [
    {
     "data": {
      "text/plain": [
       "6827"
      ]
     },
     "execution_count": 11,
     "metadata": {},
     "output_type": "execute_result"
    }
   ],
   "source": [
    "model_to_vt = cars.dropna(subset=['type', 'model'])[['model', 'type']].drop_duplicates()\n",
    "\n",
    "cars['type'] = cars.apply(lambda row: model_to_vt.loc[model_to_vt['model'] == row['model'], 'type'].values[0] if pd.isnull(row['type']) and row['model'] in model_to_vt['model'].values else row['type'], axis=1)\n",
    "cars['type'].isna().sum()"
   ]
  },
  {
   "cell_type": "code",
   "execution_count": 12,
   "metadata": {},
   "outputs": [
    {
     "data": {
      "text/plain": [
       "0"
      ]
     },
     "execution_count": 12,
     "metadata": {},
     "output_type": "execute_result"
    }
   ],
   "source": [
    "cars.dropna(subset=['type'], inplace=True)\n",
    "cars['type'].isna().sum()"
   ]
  },
  {
   "cell_type": "markdown",
   "metadata": {},
   "source": [
    "Filling vehicletype based on model names allowed over 82% of the affected data to remain as part of the dataset in a meaningful way.  The remaining 18% of the affected data had to be dropped to avoid negative impact on predictions; however, this represents a mere 2% of the total initial dataset."
   ]
  },
  {
   "cell_type": "code",
   "execution_count": 13,
   "metadata": {},
   "outputs": [
    {
     "data": {
      "text/plain": [
       "16819"
      ]
     },
     "execution_count": 13,
     "metadata": {},
     "output_type": "execute_result"
    }
   ],
   "source": [
    "cars['gearbox'].isna().sum()"
   ]
  },
  {
   "cell_type": "markdown",
   "metadata": {},
   "source": [
    "Roughly 5% of the remaining cars are missing information on their gearbox type.  Gearbox type tends to have a considerable impact on pricing.  Therefore, preserving this data is ideal.  Similarly to vehicletype, gearbox type can be generally deduced based on model, given that 30% of new cars in Europe are sold with a manual transmission option.  I will use a similar strategy to impute the gearbox type."
   ]
  },
  {
   "cell_type": "code",
   "execution_count": 14,
   "metadata": {},
   "outputs": [
    {
     "data": {
      "text/plain": [
       "1119"
      ]
     },
     "execution_count": 14,
     "metadata": {},
     "output_type": "execute_result"
    }
   ],
   "source": [
    "model_to_gb = cars.dropna(subset=['gearbox', 'model'])[['model', 'gearbox']].drop_duplicates()\n",
    "\n",
    "cars['gearbox'] = cars.apply(lambda row: model_to_gb.loc[model_to_gb['model'] == row['model'], 'gearbox'].values[0] if pd.isnull(row['gearbox']) and row['model'] in model_to_gb['model'].values else row['gearbox'], axis=1)\n",
    "cars['gearbox'].isna().sum()"
   ]
  },
  {
   "cell_type": "code",
   "execution_count": 15,
   "metadata": {},
   "outputs": [
    {
     "data": {
      "text/plain": [
       "0"
      ]
     },
     "execution_count": 15,
     "metadata": {},
     "output_type": "execute_result"
    }
   ],
   "source": [
    "cars.dropna(subset=['gearbox'], inplace=True)\n",
    "cars['gearbox'].isna().sum()"
   ]
  },
  {
   "cell_type": "markdown",
   "metadata": {},
   "source": [
    "Filling gearbox based on model named preserved 95% of the affected data.  The remaining 5% was dropped to avoid negative impact on predictions, representing <1% of the initial data.\n",
    "\n",
    "Next, I will replace the clearly erroneous 'model_year' values with the median year for a given type and model."
   ]
  },
  {
   "cell_type": "code",
   "execution_count": 16,
   "metadata": {},
   "outputs": [
    {
     "data": {
      "text/plain": [
       "96"
      ]
     },
     "execution_count": 16,
     "metadata": {},
     "output_type": "execute_result"
    }
   ],
   "source": [
    "#defining valid range\n",
    "valid_range = (1886, 2025)\n",
    "\n",
    "#replacing invalid years with NaN\n",
    "cars['model_year'] = cars['model_year'].apply(lambda x: None if x < valid_range[0] or x > valid_range[1] else x)\n",
    "cars['model_year'].isna().sum()"
   ]
  },
  {
   "cell_type": "markdown",
   "metadata": {},
   "source": [
    "96 cars have invalid or already missing model_years.  Now, I will impute a reasonable value using the median of each type and model wherever possible."
   ]
  },
  {
   "cell_type": "code",
   "execution_count": 18,
   "metadata": {},
   "outputs": [
    {
     "data": {
      "text/plain": [
       "0"
      ]
     },
     "execution_count": 18,
     "metadata": {},
     "output_type": "execute_result"
    }
   ],
   "source": [
    "tm_medians = cars.groupby(['model', 'type'])['model_year'].median()\n",
    "\n",
    "cars['model_year'] = cars.apply(lambda row: tm_medians.get((row['model'], row['type']), row['model_year']) if pd.isnull(row['model_year']) else row['model_year'], axis=1)\n",
    "cars['model_year'].isna().sum()"
   ]
  },
  {
   "cell_type": "markdown",
   "metadata": {},
   "source": [
    "This method was successful, eliminating all null values without a loss of data.  Next, I will handle missing model values using predictive imputation."
   ]
  },
  {
   "cell_type": "code",
   "execution_count": 19,
   "metadata": {},
   "outputs": [
    {
     "data": {
      "text/plain": [
       "11755"
      ]
     },
     "execution_count": 19,
     "metadata": {},
     "output_type": "execute_result"
    }
   ],
   "source": [
    "cars['model'].isna().sum()"
   ]
  },
  {
   "cell_type": "markdown",
   "metadata": {},
   "source": [
    "3% of cars are missing their model name.  I could simply drop this data, but model names can likely be filled with predictive imputation based on other features such as type, model_year, power, and make."
   ]
  },
  {
   "cell_type": "code",
   "execution_count": 20,
   "metadata": {},
   "outputs": [
    {
     "data": {
      "text/plain": [
       "0.7946981250560688"
      ]
     },
     "execution_count": 20,
     "metadata": {},
     "output_type": "execute_result"
    }
   ],
   "source": [
    "features = ['type', 'model_year', 'power', 'make']\n",
    "target = 'model'\n",
    "\n",
    "train = cars.dropna(subset=['model']).copy()\n",
    "\n",
    "label_encoders = {}\n",
    "for col in ['type', 'make']:\n",
    "    le = LabelEncoder()\n",
    "    train.loc[:, col] = le.fit_transform(train[col])\n",
    "    label_encoders[col] = le\n",
    "    \n",
    "encoder = LabelEncoder()\n",
    "train['model'] = encoder.fit_transform(train['model'])\n",
    "\n",
    "imputer = SimpleImputer(strategy='median')\n",
    "train[features] = imputer.fit_transform(train[features])\n",
    "\n",
    "X_train, X_test, y_train, y_test = train_test_split(train[features], train[target], test_size=0.2, random_state=21)\n",
    "\n",
    "rfc = RandomForestClassifier(n_estimators=25, random_state=21)\n",
    "rfc.fit(X_train, y_train)\n",
    "rfc.score(X_test, y_test)"
   ]
  },
  {
   "cell_type": "code",
   "execution_count": 21,
   "metadata": {},
   "outputs": [
    {
     "name": "stdout",
     "output_type": "stream",
     "text": [
      "Imputing 11755 missing model values....\n",
      "0 NaN values remaining.\n"
     ]
    }
   ],
   "source": [
    "missing_models = cars[cars['model'].isna()].copy()\n",
    "\n",
    "print(f'Imputing {len(missing_models)} missing model values....')\n",
    "\n",
    "for col in ['type', 'make']:\n",
    "    if col in label_encoders:\n",
    "        missing_models[col] = missing_models[col].map(lambda x: label_encoders[col].transform([x])[0] if x in label_encoders[col].classes_ else -1)\n",
    "\n",
    "missing_models[features] = imputer.transform(missing_models[features])\n",
    "\n",
    "predicted_models = rfc.predict(missing_models[features])\n",
    "\n",
    "missing_models['model'] = encoder.inverse_transform(predicted_models)\n",
    "\n",
    "cars.loc[cars['model'].isna(), 'model'] = missing_models['model']\n",
    "\n",
    "print(cars['model'].isna().sum(), 'NaN values remaining.')"
   ]
  },
  {
   "cell_type": "markdown",
   "metadata": {},
   "source": [
    "The RandomForestClassifier successfully filled all missing model values with the most likely value, thus allowing 3% of data to be retained.\n",
    "\n",
    "Some fueltype values were missing.  I will now see if I can fill some of them."
   ]
  },
  {
   "cell_type": "code",
   "execution_count": 22,
   "metadata": {},
   "outputs": [
    {
     "data": {
      "text/plain": [
       "28046"
      ]
     },
     "execution_count": 22,
     "metadata": {},
     "output_type": "execute_result"
    }
   ],
   "source": [
    "cars['fuel_type'].isna().sum()"
   ]
  },
  {
   "cell_type": "markdown",
   "metadata": {},
   "source": [
    "Roughly 8% of the cars are missing fuel type.  Given that fuel type can significantly impact the value of a car, filling with 'unknown' or with the mode for the data set could skew the data.  However, car models are generally only available with a single fuel type.  Therefore, I will use model value to impute the most likely fuel type for each vehicle."
   ]
  },
  {
   "cell_type": "code",
   "execution_count": 23,
   "metadata": {},
   "outputs": [
    {
     "data": {
      "text/plain": [
       "0"
      ]
     },
     "execution_count": 23,
     "metadata": {},
     "output_type": "execute_result"
    }
   ],
   "source": [
    "model_to_ft = cars.dropna(subset=['model', 'fuel_type'])[['fuel_type', 'model']].drop_duplicates()\n",
    "\n",
    "cars['fuel_type'] = cars.apply(lambda row: model_to_ft.loc[model_to_ft['model'] == row['model'], 'fuel_type'].values[0] if pd.isnull(row['fuel_type']) else row['fuel_type'], axis=1)\n",
    "cars['fuel_type'].isna().sum()"
   ]
  },
  {
   "cell_type": "markdown",
   "metadata": {},
   "source": [
    "Successfully filled all missing fuel_type values with the most common fuel type for their model, thus preserving 8% of the data intact.\n",
    "\n",
    "Finally, there are some cars where whether or not they have been repaired is unknown.  For these, while this has a large impact on value, it also is not something we can determine based on other known details about the car.  Therefore, how to handle these values depends on the amount and nature of the data missing."
   ]
  },
  {
   "cell_type": "code",
   "execution_count": 24,
   "metadata": {
    "scrolled": true
   },
   "outputs": [
    {
     "data": {
      "text/html": [
       "<div>\n",
       "<style scoped>\n",
       "    .dataframe tbody tr th:only-of-type {\n",
       "        vertical-align: middle;\n",
       "    }\n",
       "\n",
       "    .dataframe tbody tr th {\n",
       "        vertical-align: top;\n",
       "    }\n",
       "\n",
       "    .dataframe thead th {\n",
       "        text-align: right;\n",
       "    }\n",
       "</style>\n",
       "<table border=\"1\" class=\"dataframe\">\n",
       "  <thead>\n",
       "    <tr style=\"text-align: right;\">\n",
       "      <th></th>\n",
       "      <th>price</th>\n",
       "      <th>model_year</th>\n",
       "      <th>power</th>\n",
       "      <th>mileage</th>\n",
       "      <th>registration_month</th>\n",
       "      <th>postal_code</th>\n",
       "    </tr>\n",
       "  </thead>\n",
       "  <tbody>\n",
       "    <tr>\n",
       "      <th>count</th>\n",
       "      <td>65940.000000</td>\n",
       "      <td>65940.000000</td>\n",
       "      <td>65940.000000</td>\n",
       "      <td>65940.000000</td>\n",
       "      <td>65940.000000</td>\n",
       "      <td>65940.000000</td>\n",
       "    </tr>\n",
       "    <tr>\n",
       "      <th>mean</th>\n",
       "      <td>2700.693797</td>\n",
       "      <td>2002.144184</td>\n",
       "      <td>88.192220</td>\n",
       "      <td>132078.328784</td>\n",
       "      <td>4.624704</td>\n",
       "      <td>48528.073097</td>\n",
       "    </tr>\n",
       "    <tr>\n",
       "      <th>std</th>\n",
       "      <td>3386.995317</td>\n",
       "      <td>8.790205</td>\n",
       "      <td>258.069845</td>\n",
       "      <td>38015.059668</td>\n",
       "      <td>4.054897</td>\n",
       "      <td>25297.173766</td>\n",
       "    </tr>\n",
       "    <tr>\n",
       "      <th>min</th>\n",
       "      <td>0.000000</td>\n",
       "      <td>1910.000000</td>\n",
       "      <td>0.000000</td>\n",
       "      <td>5000.000000</td>\n",
       "      <td>0.000000</td>\n",
       "      <td>1067.000000</td>\n",
       "    </tr>\n",
       "    <tr>\n",
       "      <th>25%</th>\n",
       "      <td>550.000000</td>\n",
       "      <td>1998.000000</td>\n",
       "      <td>0.000000</td>\n",
       "      <td>125000.000000</td>\n",
       "      <td>0.000000</td>\n",
       "      <td>28215.000000</td>\n",
       "    </tr>\n",
       "    <tr>\n",
       "      <th>50%</th>\n",
       "      <td>1450.000000</td>\n",
       "      <td>2001.000000</td>\n",
       "      <td>75.000000</td>\n",
       "      <td>150000.000000</td>\n",
       "      <td>4.000000</td>\n",
       "      <td>47166.000000</td>\n",
       "    </tr>\n",
       "    <tr>\n",
       "      <th>75%</th>\n",
       "      <td>3499.000000</td>\n",
       "      <td>2006.000000</td>\n",
       "      <td>122.000000</td>\n",
       "      <td>150000.000000</td>\n",
       "      <td>8.000000</td>\n",
       "      <td>66564.000000</td>\n",
       "    </tr>\n",
       "    <tr>\n",
       "      <th>max</th>\n",
       "      <td>20000.000000</td>\n",
       "      <td>2019.000000</td>\n",
       "      <td>19211.000000</td>\n",
       "      <td>150000.000000</td>\n",
       "      <td>12.000000</td>\n",
       "      <td>99998.000000</td>\n",
       "    </tr>\n",
       "  </tbody>\n",
       "</table>\n",
       "</div>"
      ],
      "text/plain": [
       "              price    model_year         power        mileage  \\\n",
       "count  65940.000000  65940.000000  65940.000000   65940.000000   \n",
       "mean    2700.693797   2002.144184     88.192220  132078.328784   \n",
       "std     3386.995317      8.790205    258.069845   38015.059668   \n",
       "min        0.000000   1910.000000      0.000000    5000.000000   \n",
       "25%      550.000000   1998.000000      0.000000  125000.000000   \n",
       "50%     1450.000000   2001.000000     75.000000  150000.000000   \n",
       "75%     3499.000000   2006.000000    122.000000  150000.000000   \n",
       "max    20000.000000   2019.000000  19211.000000  150000.000000   \n",
       "\n",
       "       registration_month   postal_code  \n",
       "count        65940.000000  65940.000000  \n",
       "mean             4.624704  48528.073097  \n",
       "std              4.054897  25297.173766  \n",
       "min              0.000000   1067.000000  \n",
       "25%              0.000000  28215.000000  \n",
       "50%              4.000000  47166.000000  \n",
       "75%              8.000000  66564.000000  \n",
       "max             12.000000  99998.000000  "
      ]
     },
     "execution_count": 24,
     "metadata": {},
     "output_type": "execute_result"
    }
   ],
   "source": [
    "unknown_repairs = cars[cars['unrepaired'].isna()]\n",
    "unknown_repairs.describe()"
   ]
  },
  {
   "cell_type": "code",
   "execution_count": 25,
   "metadata": {},
   "outputs": [
    {
     "data": {
      "text/plain": [
       "unknown_repair        1.000000\n",
       "mileage               0.046355\n",
       "postal_code          -0.038698\n",
       "power                -0.059026\n",
       "model_year           -0.059724\n",
       "registration_month   -0.151328\n",
       "price                -0.189699\n",
       "Name: unknown_repair, dtype: float64"
      ]
     },
     "execution_count": 25,
     "metadata": {},
     "output_type": "execute_result"
    }
   ],
   "source": [
    "cars['unknown_repair'] = cars['unrepaired'].isnull().astype(int)\n",
    "correlation = cars.corr()['unknown_repair'].sort_values(ascending=False)\n",
    "correlation"
   ]
  },
  {
   "cell_type": "code",
   "execution_count": 26,
   "metadata": {},
   "outputs": [],
   "source": [
    "cars.drop(['unknown_repair'], axis=1, inplace=True)"
   ]
  },
  {
   "cell_type": "code",
   "execution_count": 27,
   "metadata": {},
   "outputs": [
    {
     "data": {
      "image/png": "[encoded data removed]",
      "text/plain": [
       "<Figure size 640x480 with 1 Axes>"
      ]
     },
     "metadata": {},
     "output_type": "display_data"
    }
   ],
   "source": [
    "sns.heatmap(cars.isnull(), cmap='viridis', cbar=False, yticklabels=False)\n",
    "plt.title('Missing Unrepaired Data Heatmap')\n",
    "plt.show()"
   ]
  },
  {
   "cell_type": "code",
   "execution_count": 28,
   "metadata": {
    "scrolled": true
   },
   "outputs": [
    {
     "data": {
      "text/plain": [
       "make\n",
       "trabant           0.436293\n",
       "rover             0.247241\n",
       "lada              0.246575\n",
       "daihatsu          0.230088\n",
       "renault           0.226253\n",
       "fiat              0.225074\n",
       "lancia            0.221505\n",
       "opel              0.218406\n",
       "mitsubishi        0.212551\n",
       "volkswagen        0.211452\n",
       "ford              0.207046\n",
       "daewoo            0.203065\n",
       "honda             0.191959\n",
       "subaru            0.190283\n",
       "chrysler          0.189496\n",
       "citroen           0.184597\n",
       "nissan            0.184064\n",
       "jeep              0.181409\n",
       "mazda             0.177354\n",
       "audi              0.176383\n",
       "seat              0.175666\n",
       "porsche           0.173261\n",
       "jaguar            0.169661\n",
       "bmw               0.169180\n",
       "peugeot           0.168216\n",
       "mercedes_benz     0.167258\n",
       "chevrolet         0.166764\n",
       "suzuki            0.164830\n",
       "alfa_romeo        0.160373\n",
       "land_rover        0.160221\n",
       "sonstige_autos    0.157101\n",
       "smart             0.151367\n",
       "volvo             0.149211\n",
       "kia               0.139975\n",
       "hyundai           0.134803\n",
       "toyota            0.129103\n",
       "skoda             0.127734\n",
       "saab              0.124283\n",
       "dacia             0.111982\n",
       "mini              0.097922\n",
       "Name: unrepaired, dtype: float64"
      ]
     },
     "execution_count": 28,
     "metadata": {},
     "output_type": "execute_result"
    }
   ],
   "source": [
    "cars.groupby('make')['unrepaired'].apply(lambda x: x.isnull().mean()).sort_values(ascending=False)"
   ]
  },
  {
   "cell_type": "markdown",
   "metadata": {},
   "source": [
    "Nearly 1/5 of the data set has missing values for unrepaired.  Compared to the data set as a whole, these cars are on average around 40% cheaper than cars for the data set overall, though their ages, power, and mileage are comparable.  Likewise, for most makes, unknown repair status cars represent 15-25% of the set, with a few outliers (Trabant, Mini). Overall, the missing data has no correlation with other features for the cars.  As dropping the data would result in a sizable loss of data, but filling could affect price predictions by a significant amount, the best option is unclear.  I will explore the statistical distributions of each option before deciding how to proceed."
   ]
  },
  {
   "cell_type": "code",
   "execution_count": 29,
   "metadata": {},
   "outputs": [
    {
     "name": "stdout",
     "output_type": "stream",
     "text": [
      "Unrepaired Filled with Unknown\n",
      "               price     model_year          power        mileage  \\\n",
      "count  346161.000000  346161.000000  346161.000000  346161.000000   \n",
      "mean     4470.501469    2003.041257     111.321018  128505.911989   \n",
      "std      4525.692115       7.286226     190.079804   37384.688674   \n",
      "min         0.000000    1910.000000       0.000000    5000.000000   \n",
      "25%      1100.000000    1999.000000      69.000000  125000.000000   \n",
      "50%      2800.000000    2003.000000     105.000000  150000.000000   \n",
      "75%      6499.000000    2007.000000     143.000000  150000.000000   \n",
      "max     20000.000000    2019.000000   20000.000000  150000.000000   \n",
      "\n",
      "       registration_month    postal_code  \n",
      "count       346161.000000  346161.000000  \n",
      "mean             5.778739   50584.276851  \n",
      "std              3.699349   25775.360680  \n",
      "min              0.000000    1067.000000  \n",
      "25%              3.000000   30173.000000  \n",
      "50%              6.000000   49477.000000  \n",
      "75%              9.000000   71126.000000  \n",
      "max             12.000000   99998.000000  \n",
      "Unrepaired Unknown Dropped\n",
      "               price     model_year          power        mileage  \\\n",
      "count  280221.000000  280221.000000  280221.000000  280221.000000   \n",
      "mean     4886.962469    2003.252351     116.763554  127665.271339   \n",
      "std      4657.430197       6.867740     169.720608   37185.021343   \n",
      "min         0.000000    1910.000000       0.000000    5000.000000   \n",
      "25%      1300.000000    1999.000000      75.000000  125000.000000   \n",
      "50%      3200.000000    2003.000000     109.000000  150000.000000   \n",
      "75%      7000.000000    2008.000000     147.000000  150000.000000   \n",
      "max     20000.000000    2019.000000   20000.000000  150000.000000   \n",
      "\n",
      "       registration_month    postal_code  \n",
      "count       280221.000000  280221.000000  \n",
      "mean             6.050300   51068.130936  \n",
      "std              3.556591   25862.896144  \n",
      "min              0.000000    1067.000000  \n",
      "25%              3.000000   30655.000000  \n",
      "50%              6.000000   50169.000000  \n",
      "75%              9.000000   71735.000000  \n",
      "max             12.000000   99998.000000  \n"
     ]
    }
   ],
   "source": [
    "unrepaired_filled = cars.copy()\n",
    "unrepaired_filled['unrepaired'].fillna('unknown', inplace=True)\n",
    "\n",
    "unrepaired_dropped = cars.dropna(subset=['unrepaired'])\n",
    "\n",
    "print('Unrepaired Filled with Unknown')\n",
    "print(unrepaired_filled.describe())\n",
    "\n",
    "print('Unrepaired Unknown Dropped')\n",
    "print(unrepaired_dropped.describe())"
   ]
  },
  {
   "cell_type": "markdown",
   "metadata": {},
   "source": [
    "Overall, proceeding with the addition of \"unknown\" repair status seems to be the best option, as it preserves the data in other columns without losing 1/5 of the dataset and statistically both options are similar.\n",
    "\n",
    "### Data Preparation Conclusion\n",
    "Through careful data preprocessing, I have refined the dataset while preserving as much valuable information as possible. I successfully addressed missing values in key features using targeted imputation strategies, such as filling vehicle type, gearbox, fuel type, and model values based on existing patterns in the data. Erroneous model years were corrected using median imputation, and duplicate and irrelevant columns, such as numberofpictures, were removed.\n",
    "\n",
    "The most complex decision involved handling missing repair status values, which accounted for nearly 20% of the dataset. Statistical analysis showed that filling these rows provided the best balance between data integrity and predictive accuracy, though I remain open to revisiting this choice if needed.\n",
    "\n",
    "With these preprocessing steps complete, the dataset is now clean, structured, and ready for model training. The next phase will involve exploratory data analysis (EDA) to better understand key relationships and optimize feature selection for building a robust predictive model."
   ]
  },
  {
   "cell_type": "markdown",
   "metadata": {},
   "source": [
    "## Model training\n",
    "Now that the data is clean, I will begin training various models.  As noted above, I will produce and analyze several different models in pursuit of an ideal option for Rusty Bargain.  I will begin with a linear regression model to establish a baseline RMSE.  Then, I will train a random forest model using LightGBM for hyperparameter tuning.  I will also refine parameters further using CatBoost.\n",
    "\n",
    "### Splitting Data\n",
    "First, I will split the data into training and test sets with an 70:15:15 split."
   ]
  },
  {
   "cell_type": "code",
   "execution_count": 30,
   "metadata": {},
   "outputs": [],
   "source": [
    "#features and target--dropping data irrelevant to predictions in X (features)\n",
    "X = unrepaired_filled.drop(['price', 'date_crawled', 'registration_month', 'last_seen', 'date_created'], axis=1)\n",
    "y = unrepaired_filled['price']"
   ]
  },
  {
   "cell_type": "markdown",
   "metadata": {},
   "source": [
    "### Encoding Data\n",
    "Due to the immense variety of variables in the data set, I will use a combination of Label encoding and scaling the data so that the models run successfully without introducing excess columns or distorting the data.  I will encode and then scale the data before creating a linear regression baseline."
   ]
  },
  {
   "cell_type": "code",
   "execution_count": 31,
   "metadata": {},
   "outputs": [],
   "source": [
    "#defining categorical columns to be encoded\n",
    "cat_cols = ['type', 'gearbox', 'model', 'fuel_type', 'make', 'unrepaired', 'postal_code']\n",
    "num_cols = ['model_year', 'power', 'mileage']"
   ]
  },
  {
   "cell_type": "code",
   "execution_count": 32,
   "metadata": {
    "scrolled": true
   },
   "outputs": [
    {
     "data": {
      "text/html": [
       "<div>\n",
       "<style scoped>\n",
       "    .dataframe tbody tr th:only-of-type {\n",
       "        vertical-align: middle;\n",
       "    }\n",
       "\n",
       "    .dataframe tbody tr th {\n",
       "        vertical-align: top;\n",
       "    }\n",
       "\n",
       "    .dataframe thead th {\n",
       "        text-align: right;\n",
       "    }\n",
       "</style>\n",
       "<table border=\"1\" class=\"dataframe\">\n",
       "  <thead>\n",
       "    <tr style=\"text-align: right;\">\n",
       "      <th></th>\n",
       "      <th>type</th>\n",
       "      <th>model_year</th>\n",
       "      <th>power</th>\n",
       "      <th>make</th>\n",
       "    </tr>\n",
       "  </thead>\n",
       "  <tbody>\n",
       "    <tr>\n",
       "      <th>295021</th>\n",
       "      <td>6.0</td>\n",
       "      <td>2004.0</td>\n",
       "      <td>203.0</td>\n",
       "      <td>10.0</td>\n",
       "    </tr>\n",
       "    <tr>\n",
       "      <th>112188</th>\n",
       "      <td>7.0</td>\n",
       "      <td>2004.0</td>\n",
       "      <td>344.0</td>\n",
       "      <td>1.0</td>\n",
       "    </tr>\n",
       "    <tr>\n",
       "      <th>53302</th>\n",
       "      <td>5.0</td>\n",
       "      <td>1997.0</td>\n",
       "      <td>60.0</td>\n",
       "      <td>37.0</td>\n",
       "    </tr>\n",
       "    <tr>\n",
       "      <th>293027</th>\n",
       "      <td>7.0</td>\n",
       "      <td>1998.0</td>\n",
       "      <td>60.0</td>\n",
       "      <td>37.0</td>\n",
       "    </tr>\n",
       "    <tr>\n",
       "      <th>12714</th>\n",
       "      <td>7.0</td>\n",
       "      <td>2005.0</td>\n",
       "      <td>131.0</td>\n",
       "      <td>10.0</td>\n",
       "    </tr>\n",
       "    <tr>\n",
       "      <th>...</th>\n",
       "      <td>...</td>\n",
       "      <td>...</td>\n",
       "      <td>...</td>\n",
       "      <td>...</td>\n",
       "    </tr>\n",
       "    <tr>\n",
       "      <th>86833</th>\n",
       "      <td>1.0</td>\n",
       "      <td>2006.0</td>\n",
       "      <td>90.0</td>\n",
       "      <td>21.0</td>\n",
       "    </tr>\n",
       "    <tr>\n",
       "      <th>148340</th>\n",
       "      <td>0.0</td>\n",
       "      <td>1998.0</td>\n",
       "      <td>68.0</td>\n",
       "      <td>37.0</td>\n",
       "    </tr>\n",
       "    <tr>\n",
       "      <th>214676</th>\n",
       "      <td>5.0</td>\n",
       "      <td>1997.0</td>\n",
       "      <td>70.0</td>\n",
       "      <td>24.0</td>\n",
       "    </tr>\n",
       "    <tr>\n",
       "      <th>352896</th>\n",
       "      <td>7.0</td>\n",
       "      <td>2009.0</td>\n",
       "      <td>140.0</td>\n",
       "      <td>1.0</td>\n",
       "    </tr>\n",
       "    <tr>\n",
       "      <th>85636</th>\n",
       "      <td>5.0</td>\n",
       "      <td>2006.0</td>\n",
       "      <td>95.0</td>\n",
       "      <td>22.0</td>\n",
       "    </tr>\n",
       "  </tbody>\n",
       "</table>\n",
       "<p>267524 rows × 4 columns</p>\n",
       "</div>"
      ],
      "text/plain": [
       "        type  model_year  power  make\n",
       "295021   6.0      2004.0  203.0  10.0\n",
       "112188   7.0      2004.0  344.0   1.0\n",
       "53302    5.0      1997.0   60.0  37.0\n",
       "293027   7.0      1998.0   60.0  37.0\n",
       "12714    7.0      2005.0  131.0  10.0\n",
       "...      ...         ...    ...   ...\n",
       "86833    1.0      2006.0   90.0  21.0\n",
       "148340   0.0      1998.0   68.0  37.0\n",
       "214676   5.0      1997.0   70.0  24.0\n",
       "352896   7.0      2009.0  140.0   1.0\n",
       "85636    5.0      2006.0   95.0  22.0\n",
       "\n",
       "[267524 rows x 4 columns]"
      ]
     },
     "execution_count": 32,
     "metadata": {},
     "output_type": "execute_result"
    }
   ],
   "source": [
    "encoder = OrdinalEncoder(handle_unknown='use_encoded_value', unknown_value=-1)\n",
    "X[cat_cols] = encoder.fit_transform(X[cat_cols])\n",
    "X_train"
   ]
  },
  {
   "cell_type": "code",
   "execution_count": 33,
   "metadata": {},
   "outputs": [],
   "source": [
    "#splitting the data\n",
    "X_train, X_temp, y_train, y_temp = train_test_split(X, y, test_size=0.3, random_state=21)\n",
    "X_valid, X_test, y_valid, y_test = train_test_split(X_temp, y_temp, test_size=0.5, random_state=21)\n",
    "#resetting indices to prevent index misalignment\n",
    "X_train = X_train.reset_index(drop=True)\n",
    "X_valid = X_valid.reset_index(drop=True)\n",
    "X_test = X_test.reset_index(drop=True)"
   ]
  },
  {
   "cell_type": "markdown",
   "metadata": {},
   "source": [
    "All data is now encoded using OrdinalEncoder() which will allow for use in an ML algorithm without being as computationally intensive as it would be if another method, such as OHE, would be.\n",
    "\n",
    "Before proceeding further, I will scale all of the data to avoid some columns having an overly strong influence on predictions.\n",
    "\n",
    "### Scaling Data"
   ]
  },
  {
   "cell_type": "code",
   "execution_count": 34,
   "metadata": {},
   "outputs": [],
   "source": [
    "scaler = StandardScaler()\n",
    "X_train_es = scaler.fit_transform(X_train)\n",
    "X_valid_es = scaler.transform(X_valid)\n",
    "X_test_es = scaler.transform(X_test)"
   ]
  },
  {
   "cell_type": "markdown",
   "metadata": {},
   "source": [
    "### Constant Model Baseline\n",
    "I will first establish a baseline RMSE."
   ]
  },
  {
   "cell_type": "code",
   "execution_count": 35,
   "metadata": {},
   "outputs": [
    {
     "data": {
      "text/plain": [
       "4504.253064756224"
      ]
     },
     "execution_count": 35,
     "metadata": {},
     "output_type": "execute_result"
    }
   ],
   "source": [
    "#establishing baseline constant model\n",
    "y_train_mean = y_train.mean()\n",
    "y_constant_pred = np.full_like(y_valid, y_train_mean)\n",
    "constant_rmse = mean_squared_error(y_valid, y_constant_pred, squared=False)\n",
    "constant_rmse"
   ]
  },
  {
   "cell_type": "markdown",
   "metadata": {},
   "source": [
    "The constant model has an RMSE of 4504.25."
   ]
  },
  {
   "cell_type": "markdown",
   "metadata": {},
   "source": [
    "### Random Forest Model"
   ]
  },
  {
   "cell_type": "code",
   "execution_count": 36,
   "metadata": {},
   "outputs": [
    {
     "name": "stdout",
     "output_type": "stream",
     "text": [
      "Fitting 3 folds for each of 20 candidates, totalling 60 fits\n",
      "[CV] END bootstrap=False, max_depth=None, max_features=sqrt, min_samples_leaf=2, min_samples_split=5, n_estimators=60; total time=  14.9s\n",
      "[CV] END bootstrap=False, max_depth=None, max_features=sqrt, min_samples_leaf=2, min_samples_split=5, n_estimators=60; total time=  14.9s\n",
      "[CV] END bootstrap=False, max_depth=None, max_features=sqrt, min_samples_leaf=2, min_samples_split=5, n_estimators=60; total time=  14.9s\n",
      "[CV] END bootstrap=False, max_depth=10, max_features=log2, min_samples_leaf=2, min_samples_split=2, n_estimators=100; total time=  13.3s\n",
      "[CV] END bootstrap=False, max_depth=10, max_features=log2, min_samples_leaf=2, min_samples_split=2, n_estimators=100; total time=  13.3s\n",
      "[CV] END bootstrap=False, max_depth=10, max_features=log2, min_samples_leaf=2, min_samples_split=2, n_estimators=100; total time=  13.6s\n",
      "[CV] END bootstrap=False, max_depth=10, max_features=sqrt, min_samples_leaf=2, min_samples_split=5, n_estimators=80; total time=  10.7s\n",
      "[CV] END bootstrap=False, max_depth=10, max_features=sqrt, min_samples_leaf=2, min_samples_split=5, n_estimators=80; total time=  10.6s\n",
      "[CV] END bootstrap=False, max_depth=10, max_features=sqrt, min_samples_leaf=2, min_samples_split=5, n_estimators=80; total time=  10.5s\n",
      "[CV] END bootstrap=False, max_depth=None, max_features=sqrt, min_samples_leaf=5, min_samples_split=5, n_estimators=60; total time=  13.2s\n",
      "[CV] END bootstrap=False, max_depth=None, max_features=sqrt, min_samples_leaf=5, min_samples_split=5, n_estimators=60; total time=  13.4s\n",
      "[CV] END bootstrap=False, max_depth=None, max_features=sqrt, min_samples_leaf=5, min_samples_split=5, n_estimators=60; total time=  13.4s\n",
      "[CV] END bootstrap=False, max_depth=None, max_features=sqrt, min_samples_leaf=2, min_samples_split=2, n_estimators=60; total time=  15.0s\n",
      "[CV] END bootstrap=False, max_depth=None, max_features=sqrt, min_samples_leaf=2, min_samples_split=2, n_estimators=60; total time=  15.0s\n",
      "[CV] END bootstrap=False, max_depth=None, max_features=sqrt, min_samples_leaf=2, min_samples_split=2, n_estimators=60; total time=  15.6s\n",
      "[CV] END bootstrap=False, max_depth=10, max_features=sqrt, min_samples_leaf=2, min_samples_split=2, n_estimators=100; total time=  13.3s\n",
      "[CV] END bootstrap=False, max_depth=10, max_features=sqrt, min_samples_leaf=2, min_samples_split=2, n_estimators=100; total time=  13.3s\n",
      "[CV] END bootstrap=False, max_depth=10, max_features=sqrt, min_samples_leaf=2, min_samples_split=2, n_estimators=100; total time=  13.4s\n",
      "[CV] END bootstrap=False, max_depth=10, max_features=log2, min_samples_leaf=5, min_samples_split=2, n_estimators=80; total time=  10.6s\n",
      "[CV] END bootstrap=False, max_depth=10, max_features=log2, min_samples_leaf=5, min_samples_split=2, n_estimators=80; total time=  10.7s\n",
      "[CV] END bootstrap=False, max_depth=10, max_features=log2, min_samples_leaf=5, min_samples_split=2, n_estimators=80; total time=  10.9s\n",
      "[CV] END bootstrap=True, max_depth=10, max_features=sqrt, min_samples_leaf=2, min_samples_split=5, n_estimators=60; total time=   5.6s\n",
      "[CV] END bootstrap=True, max_depth=10, max_features=sqrt, min_samples_leaf=2, min_samples_split=5, n_estimators=60; total time=   5.5s\n",
      "[CV] END bootstrap=True, max_depth=10, max_features=sqrt, min_samples_leaf=2, min_samples_split=5, n_estimators=60; total time=   5.5s\n",
      "[CV] END bootstrap=True, max_depth=None, max_features=sqrt, min_samples_leaf=2, min_samples_split=2, n_estimators=60; total time=  10.3s\n",
      "[CV] END bootstrap=True, max_depth=None, max_features=sqrt, min_samples_leaf=2, min_samples_split=2, n_estimators=60; total time=  10.1s\n",
      "[CV] END bootstrap=True, max_depth=None, max_features=sqrt, min_samples_leaf=2, min_samples_split=2, n_estimators=60; total time=  10.1s\n",
      "[CV] END bootstrap=False, max_depth=20, max_features=log2, min_samples_leaf=5, min_samples_split=2, n_estimators=100; total time=  20.7s\n",
      "[CV] END bootstrap=False, max_depth=20, max_features=log2, min_samples_leaf=5, min_samples_split=2, n_estimators=100; total time=  20.8s\n",
      "[CV] END bootstrap=False, max_depth=20, max_features=log2, min_samples_leaf=5, min_samples_split=2, n_estimators=100; total time=  20.7s\n",
      "[CV] END bootstrap=False, max_depth=10, max_features=sqrt, min_samples_leaf=5, min_samples_split=5, n_estimators=60; total time=   7.9s\n",
      "[CV] END bootstrap=False, max_depth=10, max_features=sqrt, min_samples_leaf=5, min_samples_split=5, n_estimators=60; total time=   8.0s\n",
      "[CV] END bootstrap=False, max_depth=10, max_features=sqrt, min_samples_leaf=5, min_samples_split=5, n_estimators=60; total time=   8.0s\n",
      "[CV] END bootstrap=False, max_depth=None, max_features=log2, min_samples_leaf=1, min_samples_split=5, n_estimators=100; total time=  26.8s\n",
      "[CV] END bootstrap=False, max_depth=None, max_features=log2, min_samples_leaf=1, min_samples_split=5, n_estimators=100; total time=  26.8s\n",
      "[CV] END bootstrap=False, max_depth=None, max_features=log2, min_samples_leaf=1, min_samples_split=5, n_estimators=100; total time=  26.6s\n",
      "[CV] END bootstrap=True, max_depth=None, max_features=sqrt, min_samples_leaf=2, min_samples_split=5, n_estimators=60; total time=   9.8s\n",
      "[CV] END bootstrap=True, max_depth=None, max_features=sqrt, min_samples_leaf=2, min_samples_split=5, n_estimators=60; total time=   9.8s\n",
      "[CV] END bootstrap=True, max_depth=None, max_features=sqrt, min_samples_leaf=2, min_samples_split=5, n_estimators=60; total time=   9.7s\n",
      "[CV] END bootstrap=False, max_depth=20, max_features=log2, min_samples_leaf=2, min_samples_split=2, n_estimators=60; total time=  13.5s\n",
      "[CV] END bootstrap=False, max_depth=20, max_features=log2, min_samples_leaf=2, min_samples_split=2, n_estimators=60; total time=  13.4s\n",
      "[CV] END bootstrap=False, max_depth=20, max_features=log2, min_samples_leaf=2, min_samples_split=2, n_estimators=60; total time=  13.5s\n",
      "[CV] END bootstrap=False, max_depth=20, max_features=sqrt, min_samples_leaf=5, min_samples_split=5, n_estimators=80; total time=  16.7s\n",
      "[CV] END bootstrap=False, max_depth=20, max_features=sqrt, min_samples_leaf=5, min_samples_split=5, n_estimators=80; total time=  16.6s\n",
      "[CV] END bootstrap=False, max_depth=20, max_features=sqrt, min_samples_leaf=5, min_samples_split=5, n_estimators=80; total time=  16.7s\n",
      "[CV] END bootstrap=True, max_depth=20, max_features=log2, min_samples_leaf=1, min_samples_split=2, n_estimators=80; total time=  13.2s\n",
      "[CV] END bootstrap=True, max_depth=20, max_features=log2, min_samples_leaf=1, min_samples_split=2, n_estimators=80; total time=  13.2s\n",
      "[CV] END bootstrap=True, max_depth=20, max_features=log2, min_samples_leaf=1, min_samples_split=2, n_estimators=80; total time=  13.1s\n",
      "[CV] END bootstrap=False, max_depth=10, max_features=sqrt, min_samples_leaf=2, min_samples_split=2, n_estimators=80; total time=  10.6s\n",
      "[CV] END bootstrap=False, max_depth=10, max_features=sqrt, min_samples_leaf=2, min_samples_split=2, n_estimators=80; total time=  10.6s\n",
      "[CV] END bootstrap=False, max_depth=10, max_features=sqrt, min_samples_leaf=2, min_samples_split=2, n_estimators=80; total time=  10.7s\n",
      "[CV] END bootstrap=False, max_depth=10, max_features=sqrt, min_samples_leaf=1, min_samples_split=2, n_estimators=80; total time=  10.6s\n",
      "[CV] END bootstrap=False, max_depth=10, max_features=sqrt, min_samples_leaf=1, min_samples_split=2, n_estimators=80; total time=  10.6s\n",
      "[CV] END bootstrap=False, max_depth=10, max_features=sqrt, min_samples_leaf=1, min_samples_split=2, n_estimators=80; total time=  10.7s\n",
      "[CV] END bootstrap=True, max_depth=None, max_features=log2, min_samples_leaf=1, min_samples_split=2, n_estimators=100; total time=  20.0s\n",
      "[CV] END bootstrap=True, max_depth=None, max_features=log2, min_samples_leaf=1, min_samples_split=2, n_estimators=100; total time=  20.0s\n",
      "[CV] END bootstrap=True, max_depth=None, max_features=log2, min_samples_leaf=1, min_samples_split=2, n_estimators=100; total time=  20.0s\n",
      "[CV] END bootstrap=False, max_depth=10, max_features=sqrt, min_samples_leaf=1, min_samples_split=2, n_estimators=100; total time=  13.2s\n",
      "[CV] END bootstrap=False, max_depth=10, max_features=sqrt, min_samples_leaf=1, min_samples_split=2, n_estimators=100; total time=  13.3s\n",
      "[CV] END bootstrap=False, max_depth=10, max_features=sqrt, min_samples_leaf=1, min_samples_split=2, n_estimators=100; total time=  13.5s\n"
     ]
    },
    {
     "name": "stdout",
     "output_type": "stream",
     "text": [
      "Best parameters: {'n_estimators': 60, 'min_samples_split': 2, 'min_samples_leaf': 2, 'max_features': 'log2', 'max_depth': 20, 'bootstrap': False}\n",
      "Best RMSE:  1694.097 in 19.30271887779236 seconds.\n"
     ]
    }
   ],
   "source": [
    "param_grid = {\n",
    "    'n_estimators': [60, 80, 100],\n",
    "    'max_depth': [None, 10, 20],\n",
    "    'min_samples_split': [2, 5],\n",
    "    'min_samples_leaf': [1, 2, 5],\n",
    "    'max_features': ['sqrt', 'log2'],\n",
    "    'bootstrap': [True, False]\n",
    "}\n",
    "\n",
    "rf_model_tuned = RandomForestRegressor(random_state=21, n_jobs=-1)\n",
    "\n",
    "random_search = RandomizedSearchCV(rf_model_tuned, param_distributions=param_grid, n_iter=20, cv=3, scoring='neg_root_mean_squared_error', random_state=21, n_jobs=-1, verbose=2)\n",
    "\n",
    "random_search.fit(X_train_es, y_train)\n",
    "\n",
    "print(\"Best parameters:\", random_search.best_params_)\n",
    "\n",
    "best_rf = random_search.best_estimator_\n",
    "\n",
    "start_best_train = time.time()\n",
    "\n",
    "best_rf.fit(X_train_es, y_train)\n",
    "\n",
    "end_best_train = time.time()\n",
    "\n",
    "best_training_time = end_best_train - start_best_train\n",
    "\n",
    "y_pred = best_rf.predict(X_valid_es)\n",
    "rmse = mean_squared_error(y_valid, y_pred, squared=False)\n",
    "\n",
    "print(f\"Best RMSE: {rmse: .3f}\", \"in\", best_training_time, \"seconds.\")"
   ]
  },
  {
   "cell_type": "markdown",
   "metadata": {},
   "source": [
    "Hyperparameter tuning for the Random Forest Regressor produced an RMSE of 1694.1 in 19.3 seconds.  The best version uses 60 estimators with a min_samples_split of 2, min_samples_leaf of 2, uses log2 for max features, has a max_depth of 20, and no bootstrapping."
   ]
  },
  {
   "cell_type": "markdown",
   "metadata": {},
   "source": [
    "A more complex algorithm could possibly predict even more reliable values more quickly for Rusty Bargain.  LightGBM seems like a potentially solid solution with the right parameters.\n",
    "\n",
    "### LightGBM"
   ]
  },
  {
   "cell_type": "code",
   "execution_count": 37,
   "metadata": {
    "scrolled": true
   },
   "outputs": [
    {
     "name": "stdout",
     "output_type": "stream",
     "text": [
      "[1]\tvalidation's rmse: 4348.94\n",
      "[2]\tvalidation's rmse: 4202.06\n",
      "[3]\tvalidation's rmse: 4066.36\n",
      "[4]\tvalidation's rmse: 3937.61\n",
      "[5]\tvalidation's rmse: 3818.55\n",
      "[6]\tvalidation's rmse: 3714.59\n",
      "[7]\tvalidation's rmse: 3608.61\n",
      "[8]\tvalidation's rmse: 3509.54\n",
      "[9]\tvalidation's rmse: 3416.81\n",
      "[10]\tvalidation's rmse: 3330.82\n",
      "[11]\tvalidation's rmse: 3254.85\n",
      "[12]\tvalidation's rmse: 3184.88\n",
      "[13]\tvalidation's rmse: 3113.71\n",
      "[14]\tvalidation's rmse: 3046.09\n",
      "[15]\tvalidation's rmse: 2987.44\n",
      "[16]\tvalidation's rmse: 2942.97\n",
      "[17]\tvalidation's rmse: 2905.06\n",
      "[18]\tvalidation's rmse: 2852.24\n",
      "[19]\tvalidation's rmse: 2803.78\n",
      "[20]\tvalidation's rmse: 2755.12\n",
      "[21]\tvalidation's rmse: 2710.55\n",
      "[22]\tvalidation's rmse: 2669.87\n",
      "[23]\tvalidation's rmse: 2629.57\n",
      "[24]\tvalidation's rmse: 2594.72\n",
      "[25]\tvalidation's rmse: 2559.77\n",
      "[26]\tvalidation's rmse: 2528.04\n",
      "[27]\tvalidation's rmse: 2497.51\n",
      "[28]\tvalidation's rmse: 2468.08\n",
      "[29]\tvalidation's rmse: 2441.02\n",
      "[30]\tvalidation's rmse: 2419.09\n",
      "[31]\tvalidation's rmse: 2395.13\n",
      "[32]\tvalidation's rmse: 2374.11\n",
      "[33]\tvalidation's rmse: 2352.56\n",
      "[34]\tvalidation's rmse: 2333.71\n",
      "[35]\tvalidation's rmse: 2315.18\n",
      "[36]\tvalidation's rmse: 2298.03\n",
      "[37]\tvalidation's rmse: 2281.56\n",
      "[38]\tvalidation's rmse: 2265.79\n",
      "[39]\tvalidation's rmse: 2250.93\n",
      "[40]\tvalidation's rmse: 2237.76\n",
      "[41]\tvalidation's rmse: 2224.03\n",
      "[42]\tvalidation's rmse: 2211.92\n",
      "[43]\tvalidation's rmse: 2200.35\n",
      "[44]\tvalidation's rmse: 2189.42\n",
      "[45]\tvalidation's rmse: 2177.75\n",
      "[46]\tvalidation's rmse: 2167.52\n",
      "[47]\tvalidation's rmse: 2157.69\n",
      "[48]\tvalidation's rmse: 2148.81\n",
      "[49]\tvalidation's rmse: 2139.05\n",
      "[50]\tvalidation's rmse: 2131.66\n",
      "[51]\tvalidation's rmse: 2123.36\n",
      "[52]\tvalidation's rmse: 2115.04\n",
      "[53]\tvalidation's rmse: 2107.05\n",
      "[54]\tvalidation's rmse: 2099.32\n",
      "[55]\tvalidation's rmse: 2092.72\n",
      "[56]\tvalidation's rmse: 2086.98\n",
      "[57]\tvalidation's rmse: 2080.52\n",
      "[58]\tvalidation's rmse: 2074.82\n",
      "[59]\tvalidation's rmse: 2067.42\n",
      "[60]\tvalidation's rmse: 2061.26\n",
      "[61]\tvalidation's rmse: 2056.91\n",
      "[62]\tvalidation's rmse: 2052.66\n",
      "[63]\tvalidation's rmse: 2047.36\n",
      "[64]\tvalidation's rmse: 2041.98\n",
      "[65]\tvalidation's rmse: 2036.93\n",
      "[66]\tvalidation's rmse: 2032.45\n",
      "[67]\tvalidation's rmse: 2028.35\n",
      "[68]\tvalidation's rmse: 2024.36\n",
      "[69]\tvalidation's rmse: 2019.98\n",
      "[70]\tvalidation's rmse: 2016.5\n",
      "[71]\tvalidation's rmse: 2012.41\n",
      "[72]\tvalidation's rmse: 2008.35\n",
      "[73]\tvalidation's rmse: 2004.88\n",
      "[74]\tvalidation's rmse: 2001.63\n",
      "[75]\tvalidation's rmse: 1997.78\n",
      "[76]\tvalidation's rmse: 1994.04\n",
      "[77]\tvalidation's rmse: 1991\n",
      "[78]\tvalidation's rmse: 1987.67\n",
      "[79]\tvalidation's rmse: 1984.46\n",
      "[80]\tvalidation's rmse: 1982.22\n",
      "[81]\tvalidation's rmse: 1979.42\n",
      "[82]\tvalidation's rmse: 1977.5\n",
      "[83]\tvalidation's rmse: 1975.38\n",
      "[84]\tvalidation's rmse: 1972.3\n",
      "[85]\tvalidation's rmse: 1969.64\n",
      "[86]\tvalidation's rmse: 1968.03\n",
      "[87]\tvalidation's rmse: 1964.67\n",
      "[88]\tvalidation's rmse: 1962.61\n",
      "[89]\tvalidation's rmse: 1959.6\n",
      "[90]\tvalidation's rmse: 1957.87\n",
      "[91]\tvalidation's rmse: 1955.28\n",
      "[92]\tvalidation's rmse: 1953.59\n",
      "[93]\tvalidation's rmse: 1951.65\n",
      "[94]\tvalidation's rmse: 1950.64\n",
      "[95]\tvalidation's rmse: 1947.82\n",
      "[96]\tvalidation's rmse: 1946.49\n",
      "[97]\tvalidation's rmse: 1943.57\n",
      "[98]\tvalidation's rmse: 1942.15\n",
      "[99]\tvalidation's rmse: 1940.52\n",
      "[100]\tvalidation's rmse: 1938.65\n",
      "[101]\tvalidation's rmse: 1936.82\n",
      "[102]\tvalidation's rmse: 1935.21\n",
      "[103]\tvalidation's rmse: 1933.22\n",
      "[104]\tvalidation's rmse: 1932.08\n",
      "[105]\tvalidation's rmse: 1930.95\n",
      "[106]\tvalidation's rmse: 1928.86\n",
      "[107]\tvalidation's rmse: 1927.85\n",
      "[108]\tvalidation's rmse: 1926\n",
      "[109]\tvalidation's rmse: 1923.89\n",
      "[110]\tvalidation's rmse: 1923.29\n",
      "[111]\tvalidation's rmse: 1922.26\n",
      "[112]\tvalidation's rmse: 1920.66\n",
      "[113]\tvalidation's rmse: 1919.81\n",
      "[114]\tvalidation's rmse: 1918.78\n",
      "[115]\tvalidation's rmse: 1916.79\n",
      "[116]\tvalidation's rmse: 1915.05\n",
      "[117]\tvalidation's rmse: 1913.99\n",
      "[118]\tvalidation's rmse: 1913.35\n",
      "[119]\tvalidation's rmse: 1911.85\n",
      "[120]\tvalidation's rmse: 1910.73\n",
      "[121]\tvalidation's rmse: 1909.52\n",
      "[122]\tvalidation's rmse: 1908.36\n",
      "[123]\tvalidation's rmse: 1906.85\n",
      "[124]\tvalidation's rmse: 1905.59\n",
      "[125]\tvalidation's rmse: 1904.85\n",
      "[126]\tvalidation's rmse: 1903.81\n",
      "[127]\tvalidation's rmse: 1902.56\n",
      "[128]\tvalidation's rmse: 1901.1\n",
      "[129]\tvalidation's rmse: 1900.22\n",
      "[130]\tvalidation's rmse: 1899.25\n",
      "[131]\tvalidation's rmse: 1898.08\n",
      "[132]\tvalidation's rmse: 1897.33\n",
      "[133]\tvalidation's rmse: 1896.45\n",
      "[134]\tvalidation's rmse: 1895.77\n",
      "[135]\tvalidation's rmse: 1895.03\n",
      "[136]\tvalidation's rmse: 1894\n",
      "[137]\tvalidation's rmse: 1893.2\n",
      "[138]\tvalidation's rmse: 1892.16\n",
      "[139]\tvalidation's rmse: 1890.86\n",
      "[140]\tvalidation's rmse: 1890.14\n",
      "[141]\tvalidation's rmse: 1889.69\n",
      "[142]\tvalidation's rmse: 1889.1\n",
      "[143]\tvalidation's rmse: 1888.12\n",
      "[144]\tvalidation's rmse: 1887.4\n",
      "[145]\tvalidation's rmse: 1886.72\n",
      "[146]\tvalidation's rmse: 1885.5\n",
      "[147]\tvalidation's rmse: 1884.61\n",
      "[148]\tvalidation's rmse: 1884.15\n",
      "[149]\tvalidation's rmse: 1883.24\n",
      "[150]\tvalidation's rmse: 1882.69\n",
      "[151]\tvalidation's rmse: 1881.94\n",
      "[152]\tvalidation's rmse: 1881.25\n",
      "[153]\tvalidation's rmse: 1880.37\n",
      "[154]\tvalidation's rmse: 1879.45\n",
      "[155]\tvalidation's rmse: 1878.19\n",
      "[156]\tvalidation's rmse: 1877.35\n",
      "[157]\tvalidation's rmse: 1876.67\n",
      "[158]\tvalidation's rmse: 1875.63\n",
      "[159]\tvalidation's rmse: 1874.91\n",
      "[160]\tvalidation's rmse: 1874.29\n",
      "[161]\tvalidation's rmse: 1873.75\n",
      "[162]\tvalidation's rmse: 1873.05\n",
      "[163]\tvalidation's rmse: 1872.27\n",
      "[164]\tvalidation's rmse: 1871.69\n",
      "[165]\tvalidation's rmse: 1870.9\n",
      "[166]\tvalidation's rmse: 1870.24\n",
      "[167]\tvalidation's rmse: 1869.94\n",
      "[168]\tvalidation's rmse: 1869.59\n",
      "[169]\tvalidation's rmse: 1868.92\n",
      "[170]\tvalidation's rmse: 1868.55\n",
      "[171]\tvalidation's rmse: 1868\n",
      "[172]\tvalidation's rmse: 1867.27\n",
      "[173]\tvalidation's rmse: 1866.56\n",
      "[174]\tvalidation's rmse: 1865.64\n",
      "[175]\tvalidation's rmse: 1865.11\n",
      "[176]\tvalidation's rmse: 1864.56\n",
      "[177]\tvalidation's rmse: 1863.99\n",
      "[178]\tvalidation's rmse: 1863.7\n",
      "[179]\tvalidation's rmse: 1863.25\n",
      "[180]\tvalidation's rmse: 1862.65\n",
      "[181]\tvalidation's rmse: 1862.26\n",
      "[182]\tvalidation's rmse: 1861.74\n",
      "[183]\tvalidation's rmse: 1861.32\n",
      "[184]\tvalidation's rmse: 1861.14\n",
      "[185]\tvalidation's rmse: 1860.57\n",
      "[186]\tvalidation's rmse: 1860.14\n",
      "[187]\tvalidation's rmse: 1859.46\n",
      "[188]\tvalidation's rmse: 1858.8\n",
      "[189]\tvalidation's rmse: 1858.48\n",
      "[190]\tvalidation's rmse: 1857.92\n",
      "[191]\tvalidation's rmse: 1857.38\n",
      "[192]\tvalidation's rmse: 1856.62\n",
      "[193]\tvalidation's rmse: 1855.89\n",
      "[194]\tvalidation's rmse: 1855.51\n",
      "[195]\tvalidation's rmse: 1854.96\n",
      "[196]\tvalidation's rmse: 1854.71\n",
      "[197]\tvalidation's rmse: 1854.19\n",
      "[198]\tvalidation's rmse: 1853.64\n",
      "[199]\tvalidation's rmse: 1853.43\n",
      "[200]\tvalidation's rmse: 1853.13\n",
      "[201]\tvalidation's rmse: 1852.54\n",
      "[202]\tvalidation's rmse: 1851.74\n",
      "[203]\tvalidation's rmse: 1851.35\n",
      "[204]\tvalidation's rmse: 1851.01\n",
      "[205]\tvalidation's rmse: 1850.88\n",
      "[206]\tvalidation's rmse: 1850.46\n",
      "[207]\tvalidation's rmse: 1850.08\n",
      "[208]\tvalidation's rmse: 1849.65\n",
      "[209]\tvalidation's rmse: 1849.06\n",
      "[210]\tvalidation's rmse: 1848.9\n",
      "[211]\tvalidation's rmse: 1848.13\n",
      "[212]\tvalidation's rmse: 1847.76\n",
      "[213]\tvalidation's rmse: 1847.26\n",
      "[214]\tvalidation's rmse: 1846.75\n",
      "[215]\tvalidation's rmse: 1845.96\n",
      "[216]\tvalidation's rmse: 1845.29\n",
      "[217]\tvalidation's rmse: 1845.09\n",
      "[218]\tvalidation's rmse: 1844.72\n",
      "[219]\tvalidation's rmse: 1844.22\n",
      "[220]\tvalidation's rmse: 1843.77\n",
      "[221]\tvalidation's rmse: 1843.39\n",
      "[222]\tvalidation's rmse: 1843.04\n",
      "[223]\tvalidation's rmse: 1842.73\n",
      "[224]\tvalidation's rmse: 1842.26\n",
      "[225]\tvalidation's rmse: 1841.89\n",
      "[226]\tvalidation's rmse: 1841.71\n",
      "[227]\tvalidation's rmse: 1841.64\n",
      "[228]\tvalidation's rmse: 1841.03\n",
      "[229]\tvalidation's rmse: 1840.62\n",
      "[230]\tvalidation's rmse: 1840\n",
      "[231]\tvalidation's rmse: 1839.55\n",
      "[232]\tvalidation's rmse: 1839.4\n",
      "[233]\tvalidation's rmse: 1839.02\n",
      "[234]\tvalidation's rmse: 1838.4\n",
      "[235]\tvalidation's rmse: 1838.15\n",
      "[236]\tvalidation's rmse: 1837.9\n",
      "[237]\tvalidation's rmse: 1837.48\n",
      "[238]\tvalidation's rmse: 1837.36\n",
      "[239]\tvalidation's rmse: 1837.1\n",
      "[240]\tvalidation's rmse: 1836.64\n",
      "[241]\tvalidation's rmse: 1836.3\n",
      "[242]\tvalidation's rmse: 1836.03\n",
      "[243]\tvalidation's rmse: 1835.73\n",
      "[244]\tvalidation's rmse: 1835.26\n",
      "[245]\tvalidation's rmse: 1834.86\n",
      "[246]\tvalidation's rmse: 1834.52\n",
      "[247]\tvalidation's rmse: 1834.24\n",
      "[248]\tvalidation's rmse: 1833.81\n",
      "[249]\tvalidation's rmse: 1833.51\n",
      "[250]\tvalidation's rmse: 1833.23\n",
      "[251]\tvalidation's rmse: 1832.79\n",
      "[252]\tvalidation's rmse: 1832.62\n",
      "[253]\tvalidation's rmse: 1832.28\n",
      "[254]\tvalidation's rmse: 1832.18\n",
      "[255]\tvalidation's rmse: 1831.83\n"
     ]
    },
    {
     "name": "stdout",
     "output_type": "stream",
     "text": [
      "[256]\tvalidation's rmse: 1831.8\n",
      "[257]\tvalidation's rmse: 1831.69\n",
      "[258]\tvalidation's rmse: 1831.34\n",
      "[259]\tvalidation's rmse: 1830.98\n",
      "[260]\tvalidation's rmse: 1830.68\n",
      "[261]\tvalidation's rmse: 1830.16\n",
      "[262]\tvalidation's rmse: 1829.81\n",
      "[263]\tvalidation's rmse: 1829.29\n",
      "[264]\tvalidation's rmse: 1829.02\n",
      "[265]\tvalidation's rmse: 1828.71\n",
      "[266]\tvalidation's rmse: 1828.39\n",
      "[267]\tvalidation's rmse: 1827.88\n",
      "[268]\tvalidation's rmse: 1827.78\n",
      "[269]\tvalidation's rmse: 1827.48\n",
      "[270]\tvalidation's rmse: 1827.18\n",
      "[271]\tvalidation's rmse: 1826.82\n",
      "[272]\tvalidation's rmse: 1826.58\n",
      "[273]\tvalidation's rmse: 1826.13\n",
      "[274]\tvalidation's rmse: 1825.85\n",
      "[275]\tvalidation's rmse: 1825.11\n",
      "[276]\tvalidation's rmse: 1824.79\n",
      "[277]\tvalidation's rmse: 1824.45\n",
      "[278]\tvalidation's rmse: 1824.23\n",
      "[279]\tvalidation's rmse: 1823.92\n",
      "[280]\tvalidation's rmse: 1823.57\n",
      "[281]\tvalidation's rmse: 1823.37\n",
      "[282]\tvalidation's rmse: 1823.06\n",
      "[283]\tvalidation's rmse: 1822.79\n",
      "[284]\tvalidation's rmse: 1822.61\n",
      "[285]\tvalidation's rmse: 1822.43\n",
      "[286]\tvalidation's rmse: 1822.07\n",
      "[287]\tvalidation's rmse: 1821.75\n",
      "[288]\tvalidation's rmse: 1821.46\n",
      "[289]\tvalidation's rmse: 1821.25\n",
      "[290]\tvalidation's rmse: 1820.87\n",
      "[291]\tvalidation's rmse: 1820.57\n",
      "[292]\tvalidation's rmse: 1820.51\n",
      "[293]\tvalidation's rmse: 1820.29\n",
      "[294]\tvalidation's rmse: 1820.22\n",
      "[295]\tvalidation's rmse: 1819.92\n",
      "[296]\tvalidation's rmse: 1819.55\n",
      "[297]\tvalidation's rmse: 1819.39\n",
      "[298]\tvalidation's rmse: 1819.14\n",
      "[299]\tvalidation's rmse: 1818.74\n",
      "[300]\tvalidation's rmse: 1818.57\n",
      "[301]\tvalidation's rmse: 1818.22\n",
      "[302]\tvalidation's rmse: 1818.12\n",
      "[303]\tvalidation's rmse: 1818.08\n",
      "[304]\tvalidation's rmse: 1817.7\n",
      "[305]\tvalidation's rmse: 1817.36\n",
      "[306]\tvalidation's rmse: 1817.18\n",
      "[307]\tvalidation's rmse: 1816.96\n",
      "[308]\tvalidation's rmse: 1816.7\n",
      "[309]\tvalidation's rmse: 1816.55\n",
      "[310]\tvalidation's rmse: 1816.21\n",
      "[311]\tvalidation's rmse: 1815.8\n",
      "[312]\tvalidation's rmse: 1815.45\n",
      "[313]\tvalidation's rmse: 1815.08\n",
      "[314]\tvalidation's rmse: 1815.02\n",
      "[315]\tvalidation's rmse: 1814.99\n",
      "[316]\tvalidation's rmse: 1814.75\n",
      "[317]\tvalidation's rmse: 1814.49\n",
      "[318]\tvalidation's rmse: 1814.21\n",
      "[319]\tvalidation's rmse: 1813.92\n",
      "[320]\tvalidation's rmse: 1813.62\n",
      "[321]\tvalidation's rmse: 1813.39\n",
      "[322]\tvalidation's rmse: 1813.13\n",
      "[323]\tvalidation's rmse: 1812.93\n",
      "[324]\tvalidation's rmse: 1812.69\n",
      "[325]\tvalidation's rmse: 1812.32\n",
      "[326]\tvalidation's rmse: 1812.21\n",
      "[327]\tvalidation's rmse: 1811.96\n",
      "[328]\tvalidation's rmse: 1811.78\n",
      "[329]\tvalidation's rmse: 1811.61\n",
      "[330]\tvalidation's rmse: 1811.27\n",
      "[331]\tvalidation's rmse: 1811.07\n",
      "[332]\tvalidation's rmse: 1810.71\n",
      "[333]\tvalidation's rmse: 1810.61\n",
      "[334]\tvalidation's rmse: 1810.44\n",
      "[335]\tvalidation's rmse: 1809.99\n",
      "[336]\tvalidation's rmse: 1809.5\n",
      "[337]\tvalidation's rmse: 1809.3\n",
      "[338]\tvalidation's rmse: 1809.27\n",
      "[339]\tvalidation's rmse: 1809.08\n",
      "[340]\tvalidation's rmse: 1808.92\n",
      "[341]\tvalidation's rmse: 1808.57\n",
      "[342]\tvalidation's rmse: 1808.46\n",
      "[343]\tvalidation's rmse: 1808.22\n",
      "[344]\tvalidation's rmse: 1807.98\n",
      "[345]\tvalidation's rmse: 1807.77\n",
      "[346]\tvalidation's rmse: 1807.54\n",
      "[347]\tvalidation's rmse: 1807.26\n",
      "[348]\tvalidation's rmse: 1806.97\n",
      "[349]\tvalidation's rmse: 1806.89\n",
      "[350]\tvalidation's rmse: 1806.52\n",
      "[351]\tvalidation's rmse: 1806.38\n",
      "[352]\tvalidation's rmse: 1806.04\n",
      "[353]\tvalidation's rmse: 1805.78\n",
      "[354]\tvalidation's rmse: 1805.48\n",
      "[355]\tvalidation's rmse: 1805.48\n",
      "[356]\tvalidation's rmse: 1805.37\n",
      "[357]\tvalidation's rmse: 1805.18\n",
      "[358]\tvalidation's rmse: 1805.01\n",
      "[359]\tvalidation's rmse: 1804.8\n",
      "[360]\tvalidation's rmse: 1804.6\n",
      "[361]\tvalidation's rmse: 1804.32\n",
      "[362]\tvalidation's rmse: 1804.27\n",
      "[363]\tvalidation's rmse: 1804.08\n",
      "[364]\tvalidation's rmse: 1804.01\n",
      "[365]\tvalidation's rmse: 1803.8\n",
      "[366]\tvalidation's rmse: 1803.37\n",
      "[367]\tvalidation's rmse: 1803.23\n",
      "[368]\tvalidation's rmse: 1802.88\n",
      "[369]\tvalidation's rmse: 1802.57\n",
      "[370]\tvalidation's rmse: 1802.35\n",
      "[371]\tvalidation's rmse: 1802.09\n",
      "[372]\tvalidation's rmse: 1802\n",
      "[373]\tvalidation's rmse: 1801.87\n",
      "[374]\tvalidation's rmse: 1801.67\n",
      "[375]\tvalidation's rmse: 1801.47\n",
      "[376]\tvalidation's rmse: 1801.36\n",
      "[377]\tvalidation's rmse: 1801.15\n",
      "[378]\tvalidation's rmse: 1801.01\n",
      "[379]\tvalidation's rmse: 1801.02\n",
      "[380]\tvalidation's rmse: 1800.86\n",
      "[381]\tvalidation's rmse: 1800.63\n",
      "[382]\tvalidation's rmse: 1800.43\n",
      "[383]\tvalidation's rmse: 1800.19\n",
      "[384]\tvalidation's rmse: 1800.07\n",
      "[385]\tvalidation's rmse: 1799.88\n",
      "[386]\tvalidation's rmse: 1799.75\n",
      "[387]\tvalidation's rmse: 1799.66\n",
      "[388]\tvalidation's rmse: 1799.33\n",
      "[389]\tvalidation's rmse: 1799.25\n",
      "[390]\tvalidation's rmse: 1799.08\n",
      "[391]\tvalidation's rmse: 1798.75\n",
      "[392]\tvalidation's rmse: 1798.5\n",
      "[393]\tvalidation's rmse: 1798.3\n",
      "[394]\tvalidation's rmse: 1798.17\n",
      "[395]\tvalidation's rmse: 1798.17\n",
      "[396]\tvalidation's rmse: 1797.95\n",
      "[397]\tvalidation's rmse: 1797.84\n",
      "[398]\tvalidation's rmse: 1797.66\n",
      "[399]\tvalidation's rmse: 1797.52\n",
      "[400]\tvalidation's rmse: 1797.28\n",
      "[401]\tvalidation's rmse: 1796.95\n",
      "[402]\tvalidation's rmse: 1796.72\n",
      "[403]\tvalidation's rmse: 1796.69\n",
      "[404]\tvalidation's rmse: 1796.46\n",
      "[405]\tvalidation's rmse: 1796.27\n",
      "[406]\tvalidation's rmse: 1796.12\n",
      "[407]\tvalidation's rmse: 1796\n",
      "[408]\tvalidation's rmse: 1795.81\n",
      "[409]\tvalidation's rmse: 1795.8\n",
      "[410]\tvalidation's rmse: 1795.56\n",
      "[411]\tvalidation's rmse: 1795.41\n",
      "[412]\tvalidation's rmse: 1795.27\n",
      "[413]\tvalidation's rmse: 1795.1\n",
      "[414]\tvalidation's rmse: 1794.98\n",
      "[415]\tvalidation's rmse: 1794.79\n",
      "[416]\tvalidation's rmse: 1794.57\n",
      "[417]\tvalidation's rmse: 1794.16\n",
      "[418]\tvalidation's rmse: 1793.93\n",
      "[419]\tvalidation's rmse: 1793.69\n",
      "[420]\tvalidation's rmse: 1793.66\n",
      "[421]\tvalidation's rmse: 1793.59\n",
      "[422]\tvalidation's rmse: 1793.36\n",
      "[423]\tvalidation's rmse: 1793.29\n",
      "[424]\tvalidation's rmse: 1793.13\n",
      "[425]\tvalidation's rmse: 1792.96\n",
      "[426]\tvalidation's rmse: 1792.81\n",
      "[427]\tvalidation's rmse: 1792.63\n",
      "[428]\tvalidation's rmse: 1792.59\n",
      "[429]\tvalidation's rmse: 1792.37\n",
      "[430]\tvalidation's rmse: 1792.25\n",
      "[431]\tvalidation's rmse: 1792.09\n",
      "[432]\tvalidation's rmse: 1791.91\n",
      "[433]\tvalidation's rmse: 1791.66\n",
      "[434]\tvalidation's rmse: 1791.49\n",
      "[435]\tvalidation's rmse: 1791.28\n",
      "[436]\tvalidation's rmse: 1791.28\n",
      "[437]\tvalidation's rmse: 1791.13\n",
      "[438]\tvalidation's rmse: 1790.86\n",
      "[439]\tvalidation's rmse: 1790.52\n",
      "[440]\tvalidation's rmse: 1790.44\n",
      "[441]\tvalidation's rmse: 1790.24\n",
      "[442]\tvalidation's rmse: 1790.03\n",
      "[443]\tvalidation's rmse: 1789.9\n",
      "[444]\tvalidation's rmse: 1789.83\n",
      "[445]\tvalidation's rmse: 1789.47\n",
      "[446]\tvalidation's rmse: 1789.35\n",
      "[447]\tvalidation's rmse: 1789.17\n",
      "[448]\tvalidation's rmse: 1789.07\n",
      "[449]\tvalidation's rmse: 1788.9\n",
      "[450]\tvalidation's rmse: 1788.84\n",
      "[451]\tvalidation's rmse: 1788.6\n",
      "[452]\tvalidation's rmse: 1788.4\n",
      "[453]\tvalidation's rmse: 1788.23\n",
      "[454]\tvalidation's rmse: 1788.2\n",
      "[455]\tvalidation's rmse: 1788.15\n",
      "[456]\tvalidation's rmse: 1788.12\n",
      "[457]\tvalidation's rmse: 1787.81\n",
      "[458]\tvalidation's rmse: 1787.71\n",
      "[459]\tvalidation's rmse: 1787.5\n",
      "[460]\tvalidation's rmse: 1787.43\n",
      "[461]\tvalidation's rmse: 1787.48\n",
      "[462]\tvalidation's rmse: 1787.32\n",
      "[463]\tvalidation's rmse: 1787.27\n",
      "[464]\tvalidation's rmse: 1787.02\n",
      "[465]\tvalidation's rmse: 1786.92\n",
      "[466]\tvalidation's rmse: 1786.67\n",
      "[467]\tvalidation's rmse: 1786.67\n",
      "[468]\tvalidation's rmse: 1786.5\n",
      "[469]\tvalidation's rmse: 1786.46\n",
      "[470]\tvalidation's rmse: 1786.35\n",
      "[471]\tvalidation's rmse: 1786.28\n",
      "[472]\tvalidation's rmse: 1786.04\n",
      "[473]\tvalidation's rmse: 1785.83\n",
      "[474]\tvalidation's rmse: 1785.68\n",
      "[475]\tvalidation's rmse: 1785.54\n",
      "[476]\tvalidation's rmse: 1785.42\n",
      "[477]\tvalidation's rmse: 1785.3\n",
      "[478]\tvalidation's rmse: 1785.1\n",
      "[479]\tvalidation's rmse: 1785.1\n",
      "[480]\tvalidation's rmse: 1784.94\n",
      "[481]\tvalidation's rmse: 1784.72\n",
      "[482]\tvalidation's rmse: 1784.62\n",
      "[483]\tvalidation's rmse: 1784.59\n",
      "[484]\tvalidation's rmse: 1784.3\n",
      "[485]\tvalidation's rmse: 1784.14\n",
      "[486]\tvalidation's rmse: 1783.96\n",
      "[487]\tvalidation's rmse: 1783.93\n",
      "[488]\tvalidation's rmse: 1783.9\n",
      "[489]\tvalidation's rmse: 1783.79\n",
      "[490]\tvalidation's rmse: 1783.73\n",
      "[491]\tvalidation's rmse: 1783.59\n",
      "[492]\tvalidation's rmse: 1783.44\n",
      "[493]\tvalidation's rmse: 1783.29\n",
      "[494]\tvalidation's rmse: 1783.29\n",
      "[495]\tvalidation's rmse: 1783.05\n",
      "[496]\tvalidation's rmse: 1782.96\n",
      "[497]\tvalidation's rmse: 1782.74\n",
      "[498]\tvalidation's rmse: 1782.49\n",
      "[499]\tvalidation's rmse: 1782.1\n",
      "[500]\tvalidation's rmse: 1781.95\n",
      "[501]\tvalidation's rmse: 1781.76\n",
      "[502]\tvalidation's rmse: 1781.69\n",
      "[503]\tvalidation's rmse: 1781.47\n",
      "[504]\tvalidation's rmse: 1781.28\n",
      "[505]\tvalidation's rmse: 1781.3\n",
      "[506]\tvalidation's rmse: 1781.11\n",
      "[507]\tvalidation's rmse: 1780.95\n",
      "[508]\tvalidation's rmse: 1780.81\n",
      "[509]\tvalidation's rmse: 1780.75\n",
      "[510]\tvalidation's rmse: 1780.64\n",
      "[511]\tvalidation's rmse: 1780.5\n",
      "[512]\tvalidation's rmse: 1780.4\n"
     ]
    },
    {
     "name": "stdout",
     "output_type": "stream",
     "text": [
      "[513]\tvalidation's rmse: 1780.25\n",
      "[514]\tvalidation's rmse: 1780.17\n",
      "[515]\tvalidation's rmse: 1780.12\n",
      "[516]\tvalidation's rmse: 1780\n",
      "[517]\tvalidation's rmse: 1779.96\n",
      "[518]\tvalidation's rmse: 1779.86\n",
      "[519]\tvalidation's rmse: 1779.68\n",
      "[520]\tvalidation's rmse: 1779.49\n",
      "[521]\tvalidation's rmse: 1779.32\n",
      "[522]\tvalidation's rmse: 1779.14\n",
      "[523]\tvalidation's rmse: 1779.07\n",
      "[524]\tvalidation's rmse: 1779.07\n",
      "[525]\tvalidation's rmse: 1779.01\n",
      "[526]\tvalidation's rmse: 1778.79\n",
      "[527]\tvalidation's rmse: 1778.67\n",
      "[528]\tvalidation's rmse: 1778.46\n",
      "[529]\tvalidation's rmse: 1778.46\n",
      "[530]\tvalidation's rmse: 1778.32\n",
      "[531]\tvalidation's rmse: 1778.33\n",
      "[532]\tvalidation's rmse: 1778.21\n",
      "[533]\tvalidation's rmse: 1778.16\n",
      "[534]\tvalidation's rmse: 1778.09\n",
      "[535]\tvalidation's rmse: 1777.93\n",
      "[536]\tvalidation's rmse: 1777.85\n",
      "[537]\tvalidation's rmse: 1777.73\n",
      "[538]\tvalidation's rmse: 1777.62\n",
      "[539]\tvalidation's rmse: 1777.51\n",
      "[540]\tvalidation's rmse: 1777.45\n",
      "[541]\tvalidation's rmse: 1777.26\n",
      "[542]\tvalidation's rmse: 1777.07\n",
      "[543]\tvalidation's rmse: 1776.89\n",
      "[544]\tvalidation's rmse: 1776.7\n",
      "[545]\tvalidation's rmse: 1776.65\n",
      "[546]\tvalidation's rmse: 1776.5\n",
      "[547]\tvalidation's rmse: 1776.46\n",
      "[548]\tvalidation's rmse: 1776.26\n",
      "[549]\tvalidation's rmse: 1776.1\n",
      "[550]\tvalidation's rmse: 1776.09\n",
      "[551]\tvalidation's rmse: 1775.94\n",
      "[552]\tvalidation's rmse: 1775.76\n",
      "[553]\tvalidation's rmse: 1775.58\n",
      "[554]\tvalidation's rmse: 1775.46\n",
      "[555]\tvalidation's rmse: 1775.25\n",
      "[556]\tvalidation's rmse: 1775.25\n",
      "[557]\tvalidation's rmse: 1775.09\n",
      "[558]\tvalidation's rmse: 1774.95\n",
      "[559]\tvalidation's rmse: 1774.9\n",
      "[560]\tvalidation's rmse: 1774.74\n",
      "[561]\tvalidation's rmse: 1774.64\n",
      "[562]\tvalidation's rmse: 1774.59\n",
      "[563]\tvalidation's rmse: 1774.5\n",
      "[564]\tvalidation's rmse: 1774.33\n",
      "[565]\tvalidation's rmse: 1774.28\n",
      "[566]\tvalidation's rmse: 1774.14\n",
      "[567]\tvalidation's rmse: 1774.02\n",
      "[568]\tvalidation's rmse: 1773.97\n",
      "[569]\tvalidation's rmse: 1773.96\n",
      "[570]\tvalidation's rmse: 1773.84\n",
      "[571]\tvalidation's rmse: 1773.82\n",
      "[572]\tvalidation's rmse: 1773.79\n",
      "[573]\tvalidation's rmse: 1773.79\n",
      "[574]\tvalidation's rmse: 1773.57\n",
      "[575]\tvalidation's rmse: 1773.51\n",
      "[576]\tvalidation's rmse: 1773.36\n",
      "[577]\tvalidation's rmse: 1773.1\n",
      "[578]\tvalidation's rmse: 1773.11\n",
      "[579]\tvalidation's rmse: 1773.07\n",
      "[580]\tvalidation's rmse: 1773.05\n",
      "[581]\tvalidation's rmse: 1772.99\n",
      "[582]\tvalidation's rmse: 1772.9\n",
      "[583]\tvalidation's rmse: 1772.84\n",
      "[584]\tvalidation's rmse: 1772.61\n",
      "[585]\tvalidation's rmse: 1772.48\n",
      "[586]\tvalidation's rmse: 1772.4\n",
      "[587]\tvalidation's rmse: 1772.3\n",
      "[588]\tvalidation's rmse: 1772.18\n",
      "[589]\tvalidation's rmse: 1772.14\n",
      "[590]\tvalidation's rmse: 1771.94\n",
      "[591]\tvalidation's rmse: 1771.91\n",
      "[592]\tvalidation's rmse: 1771.93\n",
      "[593]\tvalidation's rmse: 1771.87\n",
      "[594]\tvalidation's rmse: 1771.74\n",
      "[595]\tvalidation's rmse: 1771.72\n",
      "[596]\tvalidation's rmse: 1771.57\n",
      "[597]\tvalidation's rmse: 1771.41\n",
      "[598]\tvalidation's rmse: 1771.26\n",
      "[599]\tvalidation's rmse: 1771.27\n",
      "[600]\tvalidation's rmse: 1771.13\n",
      "[601]\tvalidation's rmse: 1771.02\n",
      "[602]\tvalidation's rmse: 1771.02\n",
      "[603]\tvalidation's rmse: 1770.91\n",
      "[604]\tvalidation's rmse: 1770.82\n",
      "[605]\tvalidation's rmse: 1770.72\n",
      "[606]\tvalidation's rmse: 1770.65\n",
      "[607]\tvalidation's rmse: 1770.55\n",
      "[608]\tvalidation's rmse: 1770.39\n",
      "[609]\tvalidation's rmse: 1770.31\n",
      "[610]\tvalidation's rmse: 1770.2\n",
      "[611]\tvalidation's rmse: 1770.05\n",
      "[612]\tvalidation's rmse: 1769.98\n",
      "[613]\tvalidation's rmse: 1769.86\n",
      "[614]\tvalidation's rmse: 1769.8\n",
      "[615]\tvalidation's rmse: 1769.75\n",
      "[616]\tvalidation's rmse: 1769.53\n",
      "[617]\tvalidation's rmse: 1769.44\n",
      "[618]\tvalidation's rmse: 1769.34\n",
      "[619]\tvalidation's rmse: 1769.13\n",
      "[620]\tvalidation's rmse: 1769.03\n",
      "[621]\tvalidation's rmse: 1768.89\n",
      "[622]\tvalidation's rmse: 1768.73\n",
      "[623]\tvalidation's rmse: 1768.62\n",
      "[624]\tvalidation's rmse: 1768.48\n",
      "[625]\tvalidation's rmse: 1768.4\n",
      "[626]\tvalidation's rmse: 1768.33\n",
      "[627]\tvalidation's rmse: 1768.25\n",
      "[628]\tvalidation's rmse: 1768.23\n",
      "[629]\tvalidation's rmse: 1768.16\n",
      "[630]\tvalidation's rmse: 1768.06\n",
      "[631]\tvalidation's rmse: 1767.86\n",
      "[632]\tvalidation's rmse: 1767.81\n",
      "[633]\tvalidation's rmse: 1767.68\n",
      "[634]\tvalidation's rmse: 1767.53\n",
      "[635]\tvalidation's rmse: 1767.41\n",
      "[636]\tvalidation's rmse: 1767.19\n",
      "[637]\tvalidation's rmse: 1767.15\n",
      "[638]\tvalidation's rmse: 1767.13\n",
      "[639]\tvalidation's rmse: 1767.11\n",
      "[640]\tvalidation's rmse: 1767.16\n",
      "[641]\tvalidation's rmse: 1766.99\n",
      "[642]\tvalidation's rmse: 1766.81\n",
      "[643]\tvalidation's rmse: 1766.74\n",
      "[644]\tvalidation's rmse: 1766.53\n",
      "[645]\tvalidation's rmse: 1766.53\n",
      "[646]\tvalidation's rmse: 1766.28\n",
      "[647]\tvalidation's rmse: 1766.13\n",
      "[648]\tvalidation's rmse: 1766.06\n",
      "[649]\tvalidation's rmse: 1765.91\n",
      "[650]\tvalidation's rmse: 1765.73\n",
      "[651]\tvalidation's rmse: 1765.6\n",
      "[652]\tvalidation's rmse: 1765.44\n",
      "[653]\tvalidation's rmse: 1765.29\n",
      "[654]\tvalidation's rmse: 1765.1\n",
      "[655]\tvalidation's rmse: 1765.08\n",
      "[656]\tvalidation's rmse: 1765.04\n",
      "[657]\tvalidation's rmse: 1764.99\n",
      "[658]\tvalidation's rmse: 1764.85\n",
      "[659]\tvalidation's rmse: 1764.88\n",
      "[660]\tvalidation's rmse: 1764.8\n",
      "[661]\tvalidation's rmse: 1764.66\n",
      "[662]\tvalidation's rmse: 1764.59\n",
      "[663]\tvalidation's rmse: 1764.44\n",
      "[664]\tvalidation's rmse: 1764.43\n",
      "[665]\tvalidation's rmse: 1764.28\n",
      "[666]\tvalidation's rmse: 1764.26\n",
      "[667]\tvalidation's rmse: 1764.1\n",
      "[668]\tvalidation's rmse: 1764.04\n",
      "[669]\tvalidation's rmse: 1763.93\n",
      "[670]\tvalidation's rmse: 1763.85\n",
      "[671]\tvalidation's rmse: 1763.69\n",
      "[672]\tvalidation's rmse: 1763.63\n",
      "[673]\tvalidation's rmse: 1763.46\n",
      "[674]\tvalidation's rmse: 1763.38\n",
      "[675]\tvalidation's rmse: 1763.29\n",
      "[676]\tvalidation's rmse: 1763.19\n",
      "[677]\tvalidation's rmse: 1763.05\n",
      "[678]\tvalidation's rmse: 1763.02\n",
      "[679]\tvalidation's rmse: 1763.01\n",
      "[680]\tvalidation's rmse: 1762.82\n",
      "[681]\tvalidation's rmse: 1762.81\n",
      "[682]\tvalidation's rmse: 1762.7\n",
      "[683]\tvalidation's rmse: 1762.58\n",
      "[684]\tvalidation's rmse: 1762.48\n",
      "[685]\tvalidation's rmse: 1762.37\n",
      "[686]\tvalidation's rmse: 1762.33\n",
      "[687]\tvalidation's rmse: 1762.16\n",
      "[688]\tvalidation's rmse: 1762.02\n",
      "[689]\tvalidation's rmse: 1761.99\n",
      "[690]\tvalidation's rmse: 1761.84\n",
      "[691]\tvalidation's rmse: 1761.73\n",
      "[692]\tvalidation's rmse: 1761.65\n",
      "[693]\tvalidation's rmse: 1761.49\n",
      "[694]\tvalidation's rmse: 1761.28\n",
      "[695]\tvalidation's rmse: 1761.23\n",
      "[696]\tvalidation's rmse: 1761.27\n",
      "[697]\tvalidation's rmse: 1761.22\n",
      "[698]\tvalidation's rmse: 1761.11\n",
      "[699]\tvalidation's rmse: 1761.09\n",
      "[700]\tvalidation's rmse: 1760.97\n",
      "[701]\tvalidation's rmse: 1760.8\n",
      "[702]\tvalidation's rmse: 1760.77\n",
      "[703]\tvalidation's rmse: 1760.68\n",
      "[704]\tvalidation's rmse: 1760.56\n",
      "[705]\tvalidation's rmse: 1760.42\n",
      "[706]\tvalidation's rmse: 1760.35\n",
      "[707]\tvalidation's rmse: 1760.26\n",
      "[708]\tvalidation's rmse: 1760.26\n",
      "[709]\tvalidation's rmse: 1760.11\n",
      "[710]\tvalidation's rmse: 1760.02\n",
      "[711]\tvalidation's rmse: 1759.94\n",
      "[712]\tvalidation's rmse: 1759.88\n",
      "[713]\tvalidation's rmse: 1759.77\n",
      "[714]\tvalidation's rmse: 1759.72\n",
      "[715]\tvalidation's rmse: 1759.7\n",
      "[716]\tvalidation's rmse: 1759.53\n",
      "[717]\tvalidation's rmse: 1759.41\n",
      "[718]\tvalidation's rmse: 1759.34\n",
      "[719]\tvalidation's rmse: 1759.25\n",
      "[720]\tvalidation's rmse: 1759.16\n",
      "[721]\tvalidation's rmse: 1759.05\n",
      "[722]\tvalidation's rmse: 1758.99\n",
      "[723]\tvalidation's rmse: 1758.95\n",
      "[724]\tvalidation's rmse: 1758.86\n",
      "[725]\tvalidation's rmse: 1758.74\n",
      "[726]\tvalidation's rmse: 1758.71\n",
      "[727]\tvalidation's rmse: 1758.7\n",
      "[728]\tvalidation's rmse: 1758.6\n",
      "[729]\tvalidation's rmse: 1758.47\n",
      "[730]\tvalidation's rmse: 1758.28\n",
      "[731]\tvalidation's rmse: 1758.14\n",
      "[732]\tvalidation's rmse: 1758\n",
      "[733]\tvalidation's rmse: 1757.76\n",
      "[734]\tvalidation's rmse: 1757.65\n",
      "[735]\tvalidation's rmse: 1757.5\n",
      "[736]\tvalidation's rmse: 1757.51\n",
      "[737]\tvalidation's rmse: 1757.43\n",
      "[738]\tvalidation's rmse: 1757.32\n",
      "[739]\tvalidation's rmse: 1757.18\n",
      "[740]\tvalidation's rmse: 1757.09\n",
      "[741]\tvalidation's rmse: 1756.94\n",
      "[742]\tvalidation's rmse: 1756.82\n",
      "[743]\tvalidation's rmse: 1756.8\n",
      "[744]\tvalidation's rmse: 1756.62\n",
      "[745]\tvalidation's rmse: 1756.56\n",
      "[746]\tvalidation's rmse: 1756.55\n",
      "[747]\tvalidation's rmse: 1756.47\n",
      "[748]\tvalidation's rmse: 1756.37\n",
      "[749]\tvalidation's rmse: 1756.25\n",
      "[750]\tvalidation's rmse: 1756.09\n",
      "[751]\tvalidation's rmse: 1755.99\n",
      "[752]\tvalidation's rmse: 1755.9\n",
      "[753]\tvalidation's rmse: 1755.89\n",
      "[754]\tvalidation's rmse: 1755.86\n",
      "[755]\tvalidation's rmse: 1755.8\n",
      "[756]\tvalidation's rmse: 1755.8\n",
      "[757]\tvalidation's rmse: 1755.74\n",
      "[758]\tvalidation's rmse: 1755.65\n",
      "[759]\tvalidation's rmse: 1755.52\n",
      "[760]\tvalidation's rmse: 1755.47\n",
      "[761]\tvalidation's rmse: 1755.38\n",
      "[762]\tvalidation's rmse: 1755.36\n",
      "[763]\tvalidation's rmse: 1755.29\n",
      "[764]\tvalidation's rmse: 1755.2\n",
      "[765]\tvalidation's rmse: 1755.09\n"
     ]
    },
    {
     "name": "stdout",
     "output_type": "stream",
     "text": [
      "[766]\tvalidation's rmse: 1755.08\n",
      "[767]\tvalidation's rmse: 1754.98\n",
      "[768]\tvalidation's rmse: 1754.94\n",
      "[769]\tvalidation's rmse: 1754.91\n",
      "[770]\tvalidation's rmse: 1754.89\n",
      "[771]\tvalidation's rmse: 1754.83\n",
      "[772]\tvalidation's rmse: 1754.79\n",
      "[773]\tvalidation's rmse: 1754.71\n",
      "[774]\tvalidation's rmse: 1754.54\n",
      "[775]\tvalidation's rmse: 1754.39\n",
      "[776]\tvalidation's rmse: 1754.31\n",
      "[777]\tvalidation's rmse: 1754.21\n",
      "[778]\tvalidation's rmse: 1754.1\n",
      "[779]\tvalidation's rmse: 1754.08\n",
      "[780]\tvalidation's rmse: 1754.03\n",
      "[781]\tvalidation's rmse: 1753.95\n",
      "[782]\tvalidation's rmse: 1753.93\n",
      "[783]\tvalidation's rmse: 1753.81\n",
      "[784]\tvalidation's rmse: 1753.79\n",
      "[785]\tvalidation's rmse: 1753.75\n",
      "[786]\tvalidation's rmse: 1753.64\n",
      "[787]\tvalidation's rmse: 1753.55\n",
      "[788]\tvalidation's rmse: 1753.55\n",
      "[789]\tvalidation's rmse: 1753.46\n",
      "[790]\tvalidation's rmse: 1753.43\n",
      "[791]\tvalidation's rmse: 1753.38\n",
      "[792]\tvalidation's rmse: 1753.29\n",
      "[793]\tvalidation's rmse: 1753.25\n",
      "[794]\tvalidation's rmse: 1753.2\n",
      "[795]\tvalidation's rmse: 1753.13\n",
      "[796]\tvalidation's rmse: 1753.11\n",
      "[797]\tvalidation's rmse: 1753.09\n",
      "[798]\tvalidation's rmse: 1753.07\n",
      "[799]\tvalidation's rmse: 1753.09\n",
      "[800]\tvalidation's rmse: 1753.05\n",
      "[801]\tvalidation's rmse: 1753.05\n",
      "[802]\tvalidation's rmse: 1752.93\n",
      "[803]\tvalidation's rmse: 1752.79\n",
      "[804]\tvalidation's rmse: 1752.78\n",
      "[805]\tvalidation's rmse: 1752.57\n",
      "[806]\tvalidation's rmse: 1752.29\n",
      "[807]\tvalidation's rmse: 1752.22\n",
      "[808]\tvalidation's rmse: 1752.15\n",
      "[809]\tvalidation's rmse: 1752.08\n",
      "[810]\tvalidation's rmse: 1752.07\n",
      "[811]\tvalidation's rmse: 1752.07\n",
      "[812]\tvalidation's rmse: 1752.07\n",
      "[813]\tvalidation's rmse: 1751.97\n",
      "[814]\tvalidation's rmse: 1751.84\n",
      "[815]\tvalidation's rmse: 1751.8\n",
      "[816]\tvalidation's rmse: 1751.78\n",
      "[817]\tvalidation's rmse: 1751.78\n",
      "[818]\tvalidation's rmse: 1751.76\n",
      "[819]\tvalidation's rmse: 1751.7\n",
      "[820]\tvalidation's rmse: 1751.59\n",
      "[821]\tvalidation's rmse: 1751.47\n",
      "[822]\tvalidation's rmse: 1751.32\n",
      "[823]\tvalidation's rmse: 1751.21\n",
      "[824]\tvalidation's rmse: 1751.15\n",
      "[825]\tvalidation's rmse: 1751.1\n",
      "[826]\tvalidation's rmse: 1751.04\n",
      "[827]\tvalidation's rmse: 1751.05\n",
      "[828]\tvalidation's rmse: 1750.94\n",
      "[829]\tvalidation's rmse: 1750.92\n",
      "[830]\tvalidation's rmse: 1750.92\n",
      "[831]\tvalidation's rmse: 1750.86\n",
      "[832]\tvalidation's rmse: 1750.84\n",
      "[833]\tvalidation's rmse: 1750.87\n",
      "[834]\tvalidation's rmse: 1750.8\n",
      "[835]\tvalidation's rmse: 1750.76\n",
      "[836]\tvalidation's rmse: 1750.6\n",
      "[837]\tvalidation's rmse: 1750.53\n",
      "[838]\tvalidation's rmse: 1750.54\n",
      "[839]\tvalidation's rmse: 1750.51\n",
      "[840]\tvalidation's rmse: 1750.52\n",
      "[841]\tvalidation's rmse: 1750.49\n",
      "[842]\tvalidation's rmse: 1750.47\n",
      "[843]\tvalidation's rmse: 1750.41\n",
      "[844]\tvalidation's rmse: 1750.31\n",
      "[845]\tvalidation's rmse: 1750.28\n",
      "[846]\tvalidation's rmse: 1750.21\n",
      "[847]\tvalidation's rmse: 1750.11\n",
      "[848]\tvalidation's rmse: 1750.08\n",
      "[849]\tvalidation's rmse: 1750.06\n",
      "[850]\tvalidation's rmse: 1750.07\n",
      "[851]\tvalidation's rmse: 1750.01\n",
      "[852]\tvalidation's rmse: 1749.89\n",
      "[853]\tvalidation's rmse: 1749.79\n",
      "[854]\tvalidation's rmse: 1749.73\n",
      "[855]\tvalidation's rmse: 1749.72\n",
      "[856]\tvalidation's rmse: 1749.62\n",
      "[857]\tvalidation's rmse: 1749.53\n",
      "[858]\tvalidation's rmse: 1749.43\n",
      "[859]\tvalidation's rmse: 1749.34\n",
      "[860]\tvalidation's rmse: 1749.32\n",
      "[861]\tvalidation's rmse: 1749.24\n",
      "[862]\tvalidation's rmse: 1749.17\n",
      "[863]\tvalidation's rmse: 1749.18\n",
      "[864]\tvalidation's rmse: 1748.93\n",
      "[865]\tvalidation's rmse: 1748.8\n",
      "[866]\tvalidation's rmse: 1748.74\n",
      "[867]\tvalidation's rmse: 1748.7\n",
      "[868]\tvalidation's rmse: 1748.74\n",
      "[869]\tvalidation's rmse: 1748.57\n",
      "[870]\tvalidation's rmse: 1748.55\n",
      "[871]\tvalidation's rmse: 1748.48\n",
      "[872]\tvalidation's rmse: 1748.32\n",
      "[873]\tvalidation's rmse: 1748.41\n",
      "[874]\tvalidation's rmse: 1748.36\n",
      "[875]\tvalidation's rmse: 1748.24\n",
      "[876]\tvalidation's rmse: 1748.15\n",
      "[877]\tvalidation's rmse: 1748.22\n",
      "[878]\tvalidation's rmse: 1748.07\n",
      "[879]\tvalidation's rmse: 1748.03\n",
      "[880]\tvalidation's rmse: 1747.97\n",
      "[881]\tvalidation's rmse: 1747.86\n",
      "[882]\tvalidation's rmse: 1747.73\n",
      "[883]\tvalidation's rmse: 1747.62\n",
      "[884]\tvalidation's rmse: 1747.51\n",
      "[885]\tvalidation's rmse: 1747.51\n",
      "[886]\tvalidation's rmse: 1747.46\n",
      "[887]\tvalidation's rmse: 1747.4\n",
      "[888]\tvalidation's rmse: 1747.35\n",
      "[889]\tvalidation's rmse: 1747.25\n",
      "[890]\tvalidation's rmse: 1747.22\n",
      "[891]\tvalidation's rmse: 1747.08\n",
      "[892]\tvalidation's rmse: 1747.03\n",
      "[893]\tvalidation's rmse: 1746.98\n",
      "[894]\tvalidation's rmse: 1746.87\n",
      "[895]\tvalidation's rmse: 1746.85\n",
      "[896]\tvalidation's rmse: 1746.74\n",
      "[897]\tvalidation's rmse: 1746.71\n",
      "[898]\tvalidation's rmse: 1746.48\n",
      "[899]\tvalidation's rmse: 1746.37\n",
      "[900]\tvalidation's rmse: 1746.25\n",
      "[901]\tvalidation's rmse: 1746.17\n",
      "[902]\tvalidation's rmse: 1746.16\n",
      "[903]\tvalidation's rmse: 1746.12\n",
      "[904]\tvalidation's rmse: 1746\n",
      "[905]\tvalidation's rmse: 1745.95\n",
      "[906]\tvalidation's rmse: 1745.91\n",
      "[907]\tvalidation's rmse: 1745.92\n",
      "[908]\tvalidation's rmse: 1745.87\n",
      "[909]\tvalidation's rmse: 1745.83\n",
      "[910]\tvalidation's rmse: 1745.8\n",
      "[911]\tvalidation's rmse: 1745.75\n",
      "[912]\tvalidation's rmse: 1745.76\n",
      "[913]\tvalidation's rmse: 1745.75\n",
      "[914]\tvalidation's rmse: 1745.59\n",
      "[915]\tvalidation's rmse: 1745.55\n",
      "[916]\tvalidation's rmse: 1745.43\n",
      "[917]\tvalidation's rmse: 1745.4\n",
      "[918]\tvalidation's rmse: 1745.44\n",
      "[919]\tvalidation's rmse: 1745.44\n",
      "[920]\tvalidation's rmse: 1745.41\n",
      "[921]\tvalidation's rmse: 1745.31\n",
      "[922]\tvalidation's rmse: 1745.28\n",
      "[923]\tvalidation's rmse: 1745.25\n",
      "[924]\tvalidation's rmse: 1745.21\n",
      "[925]\tvalidation's rmse: 1745.18\n",
      "[926]\tvalidation's rmse: 1745.13\n",
      "[927]\tvalidation's rmse: 1745.11\n",
      "[928]\tvalidation's rmse: 1745.08\n",
      "[929]\tvalidation's rmse: 1745.05\n",
      "[930]\tvalidation's rmse: 1745\n",
      "[931]\tvalidation's rmse: 1744.92\n",
      "[932]\tvalidation's rmse: 1744.83\n",
      "[933]\tvalidation's rmse: 1744.74\n",
      "[934]\tvalidation's rmse: 1744.58\n",
      "[935]\tvalidation's rmse: 1744.53\n",
      "[936]\tvalidation's rmse: 1744.39\n",
      "[937]\tvalidation's rmse: 1744.37\n",
      "[938]\tvalidation's rmse: 1744.35\n",
      "[939]\tvalidation's rmse: 1744.24\n",
      "[940]\tvalidation's rmse: 1744.3\n",
      "[941]\tvalidation's rmse: 1744.28\n",
      "[942]\tvalidation's rmse: 1744.19\n",
      "[943]\tvalidation's rmse: 1744.07\n",
      "[944]\tvalidation's rmse: 1744.07\n",
      "[945]\tvalidation's rmse: 1744.1\n",
      "[946]\tvalidation's rmse: 1744.1\n",
      "[947]\tvalidation's rmse: 1744.14\n",
      "[948]\tvalidation's rmse: 1744.06\n",
      "[949]\tvalidation's rmse: 1744.06\n",
      "[950]\tvalidation's rmse: 1744.06\n",
      "[951]\tvalidation's rmse: 1743.95\n",
      "[952]\tvalidation's rmse: 1743.87\n",
      "[953]\tvalidation's rmse: 1743.81\n",
      "[954]\tvalidation's rmse: 1743.79\n",
      "[955]\tvalidation's rmse: 1743.76\n",
      "[956]\tvalidation's rmse: 1743.63\n",
      "[957]\tvalidation's rmse: 1743.6\n",
      "[958]\tvalidation's rmse: 1743.56\n",
      "[959]\tvalidation's rmse: 1743.59\n",
      "[960]\tvalidation's rmse: 1743.54\n",
      "[961]\tvalidation's rmse: 1743.42\n",
      "[962]\tvalidation's rmse: 1743.4\n",
      "[963]\tvalidation's rmse: 1743.37\n",
      "[964]\tvalidation's rmse: 1743.35\n",
      "[965]\tvalidation's rmse: 1743.32\n",
      "[966]\tvalidation's rmse: 1743.29\n",
      "[967]\tvalidation's rmse: 1743.26\n",
      "[968]\tvalidation's rmse: 1743.19\n",
      "[969]\tvalidation's rmse: 1743.1\n",
      "[970]\tvalidation's rmse: 1743.05\n",
      "[971]\tvalidation's rmse: 1743.02\n",
      "[972]\tvalidation's rmse: 1743.01\n",
      "[973]\tvalidation's rmse: 1742.93\n",
      "[974]\tvalidation's rmse: 1742.85\n",
      "[975]\tvalidation's rmse: 1742.7\n",
      "[976]\tvalidation's rmse: 1742.66\n",
      "[977]\tvalidation's rmse: 1742.67\n",
      "[978]\tvalidation's rmse: 1742.59\n",
      "[979]\tvalidation's rmse: 1742.53\n",
      "[980]\tvalidation's rmse: 1742.53\n",
      "[981]\tvalidation's rmse: 1742.48\n",
      "[982]\tvalidation's rmse: 1742.31\n",
      "[983]\tvalidation's rmse: 1742.33\n",
      "[984]\tvalidation's rmse: 1742.27\n",
      "[985]\tvalidation's rmse: 1742.17\n",
      "[986]\tvalidation's rmse: 1742.11\n",
      "[987]\tvalidation's rmse: 1742.05\n",
      "[988]\tvalidation's rmse: 1742.03\n",
      "[989]\tvalidation's rmse: 1741.9\n",
      "[990]\tvalidation's rmse: 1741.84\n",
      "[991]\tvalidation's rmse: 1741.77\n",
      "[992]\tvalidation's rmse: 1741.7\n",
      "[993]\tvalidation's rmse: 1741.57\n",
      "[994]\tvalidation's rmse: 1741.53\n",
      "[995]\tvalidation's rmse: 1741.53\n",
      "[996]\tvalidation's rmse: 1741.5\n",
      "[997]\tvalidation's rmse: 1741.47\n",
      "[998]\tvalidation's rmse: 1741.44\n",
      "[999]\tvalidation's rmse: 1741.43\n",
      "[1000]\tvalidation's rmse: 1741.44\n",
      "LightGBM RMSE:  1741.441\n",
      "Training time:  21.145\n"
     ]
    }
   ],
   "source": [
    "train_data = lgb.Dataset(X_train_es, label=y_train)\n",
    "valid_data = lgb.Dataset(X_valid_es, label=y_valid, reference=train_data)\n",
    "\n",
    "params = {\n",
    "    'objective': 'regression',\n",
    "    'metric': 'rmse',\n",
    "    'boosting_type': 'gbdt',\n",
    "    'num_leaves': 31,\n",
    "    'learning_rate': 0.05,\n",
    "    'max_depth': -1,\n",
    "    'min_child_samples': 20,\n",
    "    'subsample': 0.8,\n",
    "    'colsample_bytree': 0.8,\n",
    "    'reg_lambda': 0.1,\n",
    "    'random_state': 21,\n",
    "    'verbose': -1\n",
    "}\n",
    "\n",
    "num_boost_round = 1000\n",
    "\n",
    "start_time_lgb = time.time()\n",
    "lgb_model = lgb.train(params, train_data, num_boost_round = num_boost_round, valid_sets=[valid_data], valid_names=['validation'])\n",
    "end_time_lgb = time.time()\n",
    "\n",
    "y_pred_lgb = lgb_model.predict(X_valid_es)\n",
    "\n",
    "rmse_lgb = mean_squared_error(y_valid, y_pred_lgb, squared=False)\n",
    "\n",
    "print(f\"LightGBM RMSE: {rmse_lgb: .3f}\")\n",
    "print(f\"Training time: {end_time_lgb - start_time_lgb: .3f}\")"
   ]
  },
  {
   "cell_type": "markdown",
   "metadata": {},
   "source": [
    "An initial run of the LightGBM model unfortunately is slightly worse than the Random Forest model with an RMSE of 1741.441 in 20.145 seconds.  I will run a param_grid search to see if we can improve upon those results with different parameters."
   ]
  },
  {
   "cell_type": "code",
   "execution_count": 42,
   "metadata": {
    "scrolled": true
   },
   "outputs": [
    {
     "name": "stdout",
     "output_type": "stream",
     "text": [
      "Fitting 5 folds for each of 20 candidates, totalling 100 fits\n",
      "[CV] END colsample_bytree=0.8, learning_rate=0.2, max_depth=5, min_child_samples=10, n_estimators=1000, num_leaves=20, subsample=1.0; total time=  14.1s\n",
      "[CV] END colsample_bytree=0.8, learning_rate=0.2, max_depth=5, min_child_samples=10, n_estimators=1000, num_leaves=20, subsample=1.0; total time=  14.7s\n",
      "[CV] END colsample_bytree=0.8, learning_rate=0.2, max_depth=5, min_child_samples=10, n_estimators=1000, num_leaves=20, subsample=1.0; total time=  14.5s\n",
      "[CV] END colsample_bytree=0.8, learning_rate=0.2, max_depth=5, min_child_samples=10, n_estimators=1000, num_leaves=20, subsample=1.0; total time=  14.4s\n",
      "[CV] END colsample_bytree=0.8, learning_rate=0.2, max_depth=5, min_child_samples=10, n_estimators=1000, num_leaves=20, subsample=1.0; total time=  14.4s\n",
      "[CV] END colsample_bytree=0.9, learning_rate=0.01, max_depth=5, min_child_samples=5, n_estimators=100, num_leaves=20, subsample=0.7; total time=   2.4s\n",
      "[CV] END colsample_bytree=0.9, learning_rate=0.01, max_depth=5, min_child_samples=5, n_estimators=100, num_leaves=20, subsample=0.7; total time=   2.4s\n",
      "[CV] END colsample_bytree=0.9, learning_rate=0.01, max_depth=5, min_child_samples=5, n_estimators=100, num_leaves=20, subsample=0.7; total time=   2.3s\n",
      "[CV] END colsample_bytree=0.9, learning_rate=0.01, max_depth=5, min_child_samples=5, n_estimators=100, num_leaves=20, subsample=0.7; total time=   2.2s\n",
      "[CV] END colsample_bytree=0.9, learning_rate=0.01, max_depth=5, min_child_samples=5, n_estimators=100, num_leaves=20, subsample=0.7; total time=   2.4s\n",
      "[CV] END colsample_bytree=1.0, learning_rate=0.01, max_depth=5, min_child_samples=20, n_estimators=500, num_leaves=20, subsample=0.7; total time=  10.2s\n",
      "[CV] END colsample_bytree=1.0, learning_rate=0.01, max_depth=5, min_child_samples=20, n_estimators=500, num_leaves=20, subsample=0.7; total time=  10.3s\n",
      "[CV] END colsample_bytree=1.0, learning_rate=0.01, max_depth=5, min_child_samples=20, n_estimators=500, num_leaves=20, subsample=0.7; total time=  10.1s\n",
      "[CV] END colsample_bytree=1.0, learning_rate=0.01, max_depth=5, min_child_samples=20, n_estimators=500, num_leaves=20, subsample=0.7; total time=  10.1s\n",
      "[CV] END colsample_bytree=1.0, learning_rate=0.01, max_depth=5, min_child_samples=20, n_estimators=500, num_leaves=20, subsample=0.7; total time=  10.5s\n",
      "[CV] END colsample_bytree=0.7, learning_rate=0.01, max_depth=-1, min_child_samples=5, n_estimators=1000, num_leaves=30, subsample=0.7; total time=  22.2s\n",
      "[CV] END colsample_bytree=0.7, learning_rate=0.01, max_depth=-1, min_child_samples=5, n_estimators=1000, num_leaves=30, subsample=0.7; total time=  24.1s\n",
      "[CV] END colsample_bytree=0.7, learning_rate=0.01, max_depth=-1, min_child_samples=5, n_estimators=1000, num_leaves=30, subsample=0.7; total time=  23.5s\n",
      "[CV] END colsample_bytree=0.7, learning_rate=0.01, max_depth=-1, min_child_samples=5, n_estimators=1000, num_leaves=30, subsample=0.7; total time=  22.7s\n",
      "[CV] END colsample_bytree=0.7, learning_rate=0.01, max_depth=-1, min_child_samples=5, n_estimators=1000, num_leaves=30, subsample=0.7; total time=  22.7s\n",
      "[CV] END colsample_bytree=1.0, learning_rate=0.01, max_depth=20, min_child_samples=20, n_estimators=500, num_leaves=100, subsample=0.7; total time=  18.7s\n",
      "[CV] END colsample_bytree=1.0, learning_rate=0.01, max_depth=20, min_child_samples=20, n_estimators=500, num_leaves=100, subsample=0.7; total time=  19.1s\n",
      "[CV] END colsample_bytree=1.0, learning_rate=0.01, max_depth=20, min_child_samples=20, n_estimators=500, num_leaves=100, subsample=0.7; total time=  23.3s\n",
      "[CV] END colsample_bytree=1.0, learning_rate=0.01, max_depth=20, min_child_samples=20, n_estimators=500, num_leaves=100, subsample=0.7; total time=  18.5s\n",
      "[CV] END colsample_bytree=1.0, learning_rate=0.01, max_depth=20, min_child_samples=20, n_estimators=500, num_leaves=100, subsample=0.7; total time=  18.9s\n",
      "[CV] END colsample_bytree=0.9, learning_rate=0.02, max_depth=10, min_child_samples=5, n_estimators=100, num_leaves=20, subsample=0.7; total time=   2.6s\n",
      "[CV] END colsample_bytree=0.9, learning_rate=0.02, max_depth=10, min_child_samples=5, n_estimators=100, num_leaves=20, subsample=0.7; total time=   2.4s\n",
      "[CV] END colsample_bytree=0.9, learning_rate=0.02, max_depth=10, min_child_samples=5, n_estimators=100, num_leaves=20, subsample=0.7; total time=   2.7s\n",
      "[CV] END colsample_bytree=0.9, learning_rate=0.02, max_depth=10, min_child_samples=5, n_estimators=100, num_leaves=20, subsample=0.7; total time=   2.4s\n",
      "[CV] END colsample_bytree=0.9, learning_rate=0.02, max_depth=10, min_child_samples=5, n_estimators=100, num_leaves=20, subsample=0.7; total time=   2.5s\n",
      "[CV] END colsample_bytree=0.7, learning_rate=0.02, max_depth=-1, min_child_samples=20, n_estimators=100, num_leaves=10, subsample=0.7; total time=   2.0s\n",
      "[CV] END colsample_bytree=0.7, learning_rate=0.02, max_depth=-1, min_child_samples=20, n_estimators=100, num_leaves=10, subsample=0.7; total time=   2.0s\n",
      "[CV] END colsample_bytree=0.7, learning_rate=0.02, max_depth=-1, min_child_samples=20, n_estimators=100, num_leaves=10, subsample=0.7; total time=   2.0s\n",
      "[CV] END colsample_bytree=0.7, learning_rate=0.02, max_depth=-1, min_child_samples=20, n_estimators=100, num_leaves=10, subsample=0.7; total time=   1.9s\n",
      "[CV] END colsample_bytree=0.7, learning_rate=0.02, max_depth=-1, min_child_samples=20, n_estimators=100, num_leaves=10, subsample=0.7; total time=   1.9s\n",
      "[CV] END colsample_bytree=0.7, learning_rate=0.1, max_depth=5, min_child_samples=5, n_estimators=500, num_leaves=20, subsample=0.9; total time=   8.0s\n",
      "[CV] END colsample_bytree=0.7, learning_rate=0.1, max_depth=5, min_child_samples=5, n_estimators=500, num_leaves=20, subsample=0.9; total time=   8.0s\n",
      "[CV] END colsample_bytree=0.7, learning_rate=0.1, max_depth=5, min_child_samples=5, n_estimators=500, num_leaves=20, subsample=0.9; total time=   8.1s\n",
      "[CV] END colsample_bytree=0.7, learning_rate=0.1, max_depth=5, min_child_samples=5, n_estimators=500, num_leaves=20, subsample=0.9; total time=   8.3s\n",
      "[CV] END colsample_bytree=0.7, learning_rate=0.1, max_depth=5, min_child_samples=5, n_estimators=500, num_leaves=20, subsample=0.9; total time=   8.2s\n",
      "[CV] END colsample_bytree=0.9, learning_rate=0.2, max_depth=20, min_child_samples=20, n_estimators=1000, num_leaves=100, subsample=1.0; total time=  22.7s\n",
      "[CV] END colsample_bytree=0.9, learning_rate=0.2, max_depth=20, min_child_samples=20, n_estimators=1000, num_leaves=100, subsample=1.0; total time=  20.2s\n",
      "[CV] END colsample_bytree=0.9, learning_rate=0.2, max_depth=20, min_child_samples=20, n_estimators=1000, num_leaves=100, subsample=1.0; total time=  21.1s\n",
      "[CV] END colsample_bytree=0.9, learning_rate=0.2, max_depth=20, min_child_samples=20, n_estimators=1000, num_leaves=100, subsample=1.0; total time=  20.1s\n",
      "[CV] END colsample_bytree=0.9, learning_rate=0.2, max_depth=20, min_child_samples=20, n_estimators=1000, num_leaves=100, subsample=1.0; total time=  19.9s\n",
      "[CV] END colsample_bytree=0.8, learning_rate=0.2, max_depth=10, min_child_samples=20, n_estimators=500, num_leaves=30, subsample=0.7; total time=   7.5s\n",
      "[CV] END colsample_bytree=0.8, learning_rate=0.2, max_depth=10, min_child_samples=20, n_estimators=500, num_leaves=30, subsample=0.7; total time=   7.4s\n",
      "[CV] END colsample_bytree=0.8, learning_rate=0.2, max_depth=10, min_child_samples=20, n_estimators=500, num_leaves=30, subsample=0.7; total time=   7.3s\n",
      "[CV] END colsample_bytree=0.8, learning_rate=0.2, max_depth=10, min_child_samples=20, n_estimators=500, num_leaves=30, subsample=0.7; total time=   7.3s\n",
      "[CV] END colsample_bytree=0.8, learning_rate=0.2, max_depth=10, min_child_samples=20, n_estimators=500, num_leaves=30, subsample=0.7; total time=   7.4s\n",
      "[CV] END colsample_bytree=0.7, learning_rate=0.02, max_depth=-1, min_child_samples=10, n_estimators=1000, num_leaves=30, subsample=0.8; total time=  19.1s\n",
      "[CV] END colsample_bytree=0.7, learning_rate=0.02, max_depth=-1, min_child_samples=10, n_estimators=1000, num_leaves=30, subsample=0.8; total time=  19.1s\n",
      "[CV] END colsample_bytree=0.7, learning_rate=0.02, max_depth=-1, min_child_samples=10, n_estimators=1000, num_leaves=30, subsample=0.8; total time=  19.3s\n",
      "[CV] END colsample_bytree=0.7, learning_rate=0.02, max_depth=-1, min_child_samples=10, n_estimators=1000, num_leaves=30, subsample=0.8; total time=  18.8s\n"
     ]
    },
    {
     "name": "stdout",
     "output_type": "stream",
     "text": [
      "[CV] END colsample_bytree=0.7, learning_rate=0.02, max_depth=-1, min_child_samples=10, n_estimators=1000, num_leaves=30, subsample=0.8; total time=  18.9s\n",
      "[CV] END colsample_bytree=0.9, learning_rate=0.2, max_depth=10, min_child_samples=20, n_estimators=500, num_leaves=20, subsample=0.8; total time=   7.2s\n",
      "[CV] END colsample_bytree=0.9, learning_rate=0.2, max_depth=10, min_child_samples=20, n_estimators=500, num_leaves=20, subsample=0.8; total time=   7.2s\n",
      "[CV] END colsample_bytree=0.9, learning_rate=0.2, max_depth=10, min_child_samples=20, n_estimators=500, num_leaves=20, subsample=0.8; total time=   6.7s\n",
      "[CV] END colsample_bytree=0.9, learning_rate=0.2, max_depth=10, min_child_samples=20, n_estimators=500, num_leaves=20, subsample=0.8; total time=   6.6s\n",
      "[CV] END colsample_bytree=0.9, learning_rate=0.2, max_depth=10, min_child_samples=20, n_estimators=500, num_leaves=20, subsample=0.8; total time=   7.0s\n",
      "[CV] END colsample_bytree=1.0, learning_rate=0.02, max_depth=20, min_child_samples=10, n_estimators=500, num_leaves=10, subsample=0.8; total time=   7.9s\n",
      "[CV] END colsample_bytree=1.0, learning_rate=0.02, max_depth=20, min_child_samples=10, n_estimators=500, num_leaves=10, subsample=0.8; total time=   8.8s\n",
      "[CV] END colsample_bytree=1.0, learning_rate=0.02, max_depth=20, min_child_samples=10, n_estimators=500, num_leaves=10, subsample=0.8; total time=   9.1s\n",
      "[CV] END colsample_bytree=1.0, learning_rate=0.02, max_depth=20, min_child_samples=10, n_estimators=500, num_leaves=10, subsample=0.8; total time=   8.2s\n",
      "[CV] END colsample_bytree=1.0, learning_rate=0.02, max_depth=20, min_child_samples=10, n_estimators=500, num_leaves=10, subsample=0.8; total time=   7.8s\n",
      "[CV] END colsample_bytree=0.7, learning_rate=0.2, max_depth=5, min_child_samples=5, n_estimators=100, num_leaves=50, subsample=0.7; total time=   2.1s\n",
      "[CV] END colsample_bytree=0.7, learning_rate=0.2, max_depth=5, min_child_samples=5, n_estimators=100, num_leaves=50, subsample=0.7; total time=   2.1s\n",
      "[CV] END colsample_bytree=0.7, learning_rate=0.2, max_depth=5, min_child_samples=5, n_estimators=100, num_leaves=50, subsample=0.7; total time=   2.2s\n",
      "[CV] END colsample_bytree=0.7, learning_rate=0.2, max_depth=5, min_child_samples=5, n_estimators=100, num_leaves=50, subsample=0.7; total time=   2.1s\n",
      "[CV] END colsample_bytree=0.7, learning_rate=0.2, max_depth=5, min_child_samples=5, n_estimators=100, num_leaves=50, subsample=0.7; total time=   2.1s\n",
      "[CV] END colsample_bytree=0.8, learning_rate=0.01, max_depth=10, min_child_samples=10, n_estimators=100, num_leaves=30, subsample=0.9; total time=   2.8s\n",
      "[CV] END colsample_bytree=0.8, learning_rate=0.01, max_depth=10, min_child_samples=10, n_estimators=100, num_leaves=30, subsample=0.9; total time=   3.0s\n",
      "[CV] END colsample_bytree=0.8, learning_rate=0.01, max_depth=10, min_child_samples=10, n_estimators=100, num_leaves=30, subsample=0.9; total time=   2.7s\n",
      "[CV] END colsample_bytree=0.8, learning_rate=0.01, max_depth=10, min_child_samples=10, n_estimators=100, num_leaves=30, subsample=0.9; total time=   2.6s\n",
      "[CV] END colsample_bytree=0.8, learning_rate=0.01, max_depth=10, min_child_samples=10, n_estimators=100, num_leaves=30, subsample=0.9; total time=   2.7s\n",
      "[CV] END colsample_bytree=1.0, learning_rate=0.2, max_depth=5, min_child_samples=20, n_estimators=100, num_leaves=30, subsample=0.7; total time=   2.2s\n",
      "[CV] END colsample_bytree=1.0, learning_rate=0.2, max_depth=5, min_child_samples=20, n_estimators=100, num_leaves=30, subsample=0.7; total time=   2.0s\n",
      "[CV] END colsample_bytree=1.0, learning_rate=0.2, max_depth=5, min_child_samples=20, n_estimators=100, num_leaves=30, subsample=0.7; total time=   2.2s\n",
      "[CV] END colsample_bytree=1.0, learning_rate=0.2, max_depth=5, min_child_samples=20, n_estimators=100, num_leaves=30, subsample=0.7; total time=   2.1s\n",
      "[CV] END colsample_bytree=1.0, learning_rate=0.2, max_depth=5, min_child_samples=20, n_estimators=100, num_leaves=30, subsample=0.7; total time=   2.1s\n",
      "[CV] END colsample_bytree=0.8, learning_rate=0.2, max_depth=-1, min_child_samples=5, n_estimators=1000, num_leaves=50, subsample=0.9; total time=  15.3s\n",
      "[CV] END colsample_bytree=0.8, learning_rate=0.2, max_depth=-1, min_child_samples=5, n_estimators=1000, num_leaves=50, subsample=0.9; total time=  14.7s\n",
      "[CV] END colsample_bytree=0.8, learning_rate=0.2, max_depth=-1, min_child_samples=5, n_estimators=1000, num_leaves=50, subsample=0.9; total time=  15.0s\n",
      "[CV] END colsample_bytree=0.8, learning_rate=0.2, max_depth=-1, min_child_samples=5, n_estimators=1000, num_leaves=50, subsample=0.9; total time=  15.1s\n",
      "[CV] END colsample_bytree=0.8, learning_rate=0.2, max_depth=-1, min_child_samples=5, n_estimators=1000, num_leaves=50, subsample=0.9; total time=  14.9s\n",
      "[CV] END colsample_bytree=1.0, learning_rate=0.2, max_depth=-1, min_child_samples=5, n_estimators=500, num_leaves=100, subsample=0.7; total time=  10.5s\n",
      "[CV] END colsample_bytree=1.0, learning_rate=0.2, max_depth=-1, min_child_samples=5, n_estimators=500, num_leaves=100, subsample=0.7; total time=  10.2s\n",
      "[CV] END colsample_bytree=1.0, learning_rate=0.2, max_depth=-1, min_child_samples=5, n_estimators=500, num_leaves=100, subsample=0.7; total time=  10.1s\n",
      "[CV] END colsample_bytree=1.0, learning_rate=0.2, max_depth=-1, min_child_samples=5, n_estimators=500, num_leaves=100, subsample=0.7; total time=  10.1s\n",
      "[CV] END colsample_bytree=1.0, learning_rate=0.2, max_depth=-1, min_child_samples=5, n_estimators=500, num_leaves=100, subsample=0.7; total time=  10.2s\n",
      "[CV] END colsample_bytree=0.9, learning_rate=0.02, max_depth=5, min_child_samples=20, n_estimators=500, num_leaves=20, subsample=0.7; total time=  10.1s\n",
      "[CV] END colsample_bytree=0.9, learning_rate=0.02, max_depth=5, min_child_samples=20, n_estimators=500, num_leaves=20, subsample=0.7; total time=   9.5s\n",
      "[CV] END colsample_bytree=0.9, learning_rate=0.02, max_depth=5, min_child_samples=20, n_estimators=500, num_leaves=20, subsample=0.7; total time=   9.5s\n",
      "[CV] END colsample_bytree=0.9, learning_rate=0.02, max_depth=5, min_child_samples=20, n_estimators=500, num_leaves=20, subsample=0.7; total time=   9.6s\n",
      "[CV] END colsample_bytree=0.9, learning_rate=0.02, max_depth=5, min_child_samples=20, n_estimators=500, num_leaves=20, subsample=0.7; total time=   9.5s\n",
      "[CV] END colsample_bytree=1.0, learning_rate=0.2, max_depth=5, min_child_samples=20, n_estimators=500, num_leaves=20, subsample=1.0; total time=   7.8s\n",
      "[CV] END colsample_bytree=1.0, learning_rate=0.2, max_depth=5, min_child_samples=20, n_estimators=500, num_leaves=20, subsample=1.0; total time=   7.8s\n",
      "[CV] END colsample_bytree=1.0, learning_rate=0.2, max_depth=5, min_child_samples=20, n_estimators=500, num_leaves=20, subsample=1.0; total time=   8.0s\n",
      "[CV] END colsample_bytree=1.0, learning_rate=0.2, max_depth=5, min_child_samples=20, n_estimators=500, num_leaves=20, subsample=1.0; total time=   7.6s\n",
      "[CV] END colsample_bytree=1.0, learning_rate=0.2, max_depth=5, min_child_samples=20, n_estimators=500, num_leaves=20, subsample=1.0; total time=   7.8s\n",
      "Best parameters: {'subsample': 0.9, 'num_leaves': 50, 'n_estimators': 1000, 'min_child_samples': 5, 'max_depth': -1, 'learning_rate': 0.2, 'colsample_bytree': 0.8} in  987.924 seconds.\n",
      "Training time for the best LightGBM model:  49.811 seconds.\n",
      "Tuned LightGBM RMSE:  1710.119\n"
     ]
    }
   ],
   "source": [
    "\n",
    "param_grid = {\n",
    "    'num_leaves': [10, 20, 30, 50, 100],\n",
    "    'learning_rate': [0.01, 0.02, 0.1, 0.2],\n",
    "    'n_estimators': [100, 500, 1000],\n",
    "    'max_depth': [-1, 5, 10, 20],\n",
    "    'min_child_samples': [5, 10, 20],\n",
    "    'subsample': [0.7, 0.8, 0.9, 1.0],\n",
    "    'colsample_bytree': [0.7, 0.8, 0.9, 1.0]\n",
    "}\n",
    "\n",
    "lgb_reg = lgb.LGBMRegressor(random_state=21)\n",
    "\n",
    "random_search = RandomizedSearchCV(\n",
    "    estimator=lgb_reg, \n",
    "    param_distributions=param_grid, \n",
    "    n_iter=20, \n",
    "    cv=5, \n",
    "    scoring='neg_root_mean_squared_error',\n",
    "    random_state=21,\n",
    "    n_jobs=-1,\n",
    "    verbose=2\n",
    ")\n",
    "\n",
    "# Start measuring training time for RandomizedSearchCV\n",
    "start_tuned_lgb = time.time()\n",
    "random_search.fit(X_train_es, y_train)\n",
    "end_tuned_lgb = time.time()\n",
    "\n",
    "# Print the best parameters and training time for the search process\n",
    "print(f\"Best parameters: {random_search.best_params_} in {end_tuned_lgb - start_tuned_lgb: .3f} seconds.\")\n",
    "\n",
    "# Get the best model and predict\n",
    "best_lgb1 = random_search.best_estimator_\n",
    "\n",
    "# Measure training time for the best model only\n",
    "start_best_train = time.time()\n",
    "best_lgb.fit(X_train_es, y_train)\n",
    "end_best_train = time.time()\n",
    "\n",
    "# Calculating the training time for the best model\n",
    "best_tuned_time = end_best_train - start_best_train\n",
    "print(f\"Training time for the best LightGBM model: {best_tuned_time: .3f} seconds.\")\n",
    "\n",
    "# Evaluate on validation set and calculate RMSE\n",
    "y_pred_best1 = best_lgb.predict(X_valid_es)\n",
    "rmse_best = mean_squared_error(y_valid, y_pred_best1, squared=False)\n",
    "\n",
    "# Print RMSE for the best model\n",
    "print(f\"Tuned LightGBM RMSE: {rmse_best: .3f}\")"
   ]
  },
  {
   "cell_type": "markdown",
   "metadata": {},
   "source": [
    "Hyperparameter tuning for the LightGBM model managed to reduce RMSE to 1710.119 with a subsample of 0.9, num_leaves of 50, n_estimators of 1000, min_child_samples of 5, max_depth of -1, learning_rate of 0.2, and colsample_bytree of 0.8.  The best model ran in 49.811 seconds."
   ]
  },
  {
   "cell_type": "code",
   "execution_count": 38,
   "metadata": {
    "scrolled": true
   },
   "outputs": [
    {
     "name": "stdout",
     "output_type": "stream",
     "text": [
      "Fitting 3 folds for each of 30 candidates, totalling 90 fits\n",
      "Training until validation scores don't improve for 50 rounds\n",
      "Did not meet early stopping. Best iteration is:\n",
      "[100]\tvalid_0's rmse: 1768.07\tvalid_0's l2: 3.12607e+06\n",
      "[CV] END colsample_bytree=0.9, learning_rate=0.2, max_depth=15, min_child_samples=5, n_estimators=100, num_leaves=100, subsample=0.6; total time=   2.8s\n",
      "Did not meet early stopping. Best iteration is:\n",
      "[100]\tvalid_0's rmse: 1763.28\tvalid_0's l2: 3.10915e+06\n",
      "[CV] END colsample_bytree=0.9, learning_rate=0.2, max_depth=15, min_child_samples=5, n_estimators=100, num_leaves=100, subsample=0.6; total time=   2.9s\n",
      "Did not meet early stopping. Best iteration is:\n",
      "[100]\tvalid_0's rmse: 1763.27\tvalid_0's l2: 3.10912e+06\n",
      "[CV] END colsample_bytree=0.9, learning_rate=0.2, max_depth=15, min_child_samples=5, n_estimators=100, num_leaves=100, subsample=0.6; total time=   3.0s\n",
      "Early stopping, best iteration is:\n",
      "[98]\tvalid_0's rmse: 1763.6\tvalid_0's l2: 3.11027e+06\n",
      "[CV] END colsample_bytree=0.7, learning_rate=0.2, max_depth=5, min_child_samples=20, n_estimators=500, num_leaves=50, subsample=0.8; total time=   3.3s\n",
      "Early stopping, best iteration is:\n",
      "[98]\tvalid_0's rmse: 1763.6\tvalid_0's l2: 3.11027e+06\n",
      "[CV] END colsample_bytree=0.7, learning_rate=0.2, max_depth=5, min_child_samples=20, n_estimators=500, num_leaves=50, subsample=0.8; total time=   3.1s\n",
      "Early stopping, best iteration is:\n",
      "[98]\tvalid_0's rmse: 1763.6\tvalid_0's l2: 3.11027e+06\n",
      "[CV] END colsample_bytree=0.7, learning_rate=0.2, max_depth=5, min_child_samples=20, n_estimators=500, num_leaves=50, subsample=0.8; total time=   3.2s\n",
      "Early stopping, best iteration is:\n",
      "[347]\tvalid_0's rmse: 1725.41\tvalid_0's l2: 2.97703e+06\n",
      "[CV] END colsample_bytree=0.7, learning_rate=0.2, max_depth=15, min_child_samples=20, n_estimators=500, num_leaves=200, subsample=1.0; total time=  15.3s\n",
      "Early stopping, best iteration is:\n",
      "[347]\tvalid_0's rmse: 1725.41\tvalid_0's l2: 2.97703e+06\n",
      "[CV] END colsample_bytree=0.7, learning_rate=0.2, max_depth=15, min_child_samples=20, n_estimators=500, num_leaves=200, subsample=1.0; total time=  15.1s\n",
      "Early stopping, best iteration is:\n",
      "[347]\tvalid_0's rmse: 1725.41\tvalid_0's l2: 2.97703e+06\n",
      "[CV] END colsample_bytree=0.7, learning_rate=0.2, max_depth=15, min_child_samples=20, n_estimators=500, num_leaves=200, subsample=1.0; total time=  15.1s\n",
      "Early stopping, best iteration is:\n",
      "[347]\tvalid_0's rmse: 1725.41\tvalid_0's l2: 2.97703e+06\n",
      "[CV] END colsample_bytree=0.7, learning_rate=0.5, max_depth=5, min_child_samples=20, n_estimators=1000, num_leaves=150, subsample=1.0; total time=   8.5s\n",
      "Early stopping, best iteration is:\n",
      "[347]\tvalid_0's rmse: 1725.41\tvalid_0's l2: 2.97703e+06\n",
      "[CV] END colsample_bytree=0.7, learning_rate=0.5, max_depth=5, min_child_samples=20, n_estimators=1000, num_leaves=150, subsample=1.0; total time=   8.4s\n",
      "Early stopping, best iteration is:\n",
      "[347]\tvalid_0's rmse: 1725.41\tvalid_0's l2: 2.97703e+06\n",
      "[CV] END colsample_bytree=0.7, learning_rate=0.5, max_depth=5, min_child_samples=20, n_estimators=1000, num_leaves=150, subsample=1.0; total time=   8.1s\n",
      "Early stopping, best iteration is:\n",
      "[347]\tvalid_0's rmse: 1725.41\tvalid_0's l2: 2.97703e+06\n",
      "[CV] END colsample_bytree=0.9, learning_rate=0.3, max_depth=10, min_child_samples=20, n_estimators=500, num_leaves=100, subsample=0.8; total time=  10.4s\n",
      "Early stopping, best iteration is:\n",
      "[347]\tvalid_0's rmse: 1725.41\tvalid_0's l2: 2.97703e+06\n",
      "[CV] END colsample_bytree=0.9, learning_rate=0.3, max_depth=10, min_child_samples=20, n_estimators=500, num_leaves=100, subsample=0.8; total time=  10.7s\n",
      "Early stopping, best iteration is:\n",
      "[347]\tvalid_0's rmse: 1725.41\tvalid_0's l2: 2.97703e+06\n",
      "[CV] END colsample_bytree=0.9, learning_rate=0.3, max_depth=10, min_child_samples=20, n_estimators=500, num_leaves=100, subsample=0.8; total time=  10.2s\n",
      "Early stopping, best iteration is:\n",
      "[347]\tvalid_0's rmse: 1725.41\tvalid_0's l2: 2.97703e+06\n",
      "[CV] END colsample_bytree=0.7, learning_rate=0.5, max_depth=15, min_child_samples=5, n_estimators=500, num_leaves=150, subsample=0.7; total time=   9.8s\n",
      "Early stopping, best iteration is:\n",
      "[347]\tvalid_0's rmse: 1725.41\tvalid_0's l2: 2.97703e+06\n",
      "[CV] END colsample_bytree=0.7, learning_rate=0.5, max_depth=15, min_child_samples=5, n_estimators=500, num_leaves=150, subsample=0.7; total time=   9.5s\n",
      "Early stopping, best iteration is:\n",
      "[347]\tvalid_0's rmse: 1725.41\tvalid_0's l2: 2.97703e+06\n",
      "[CV] END colsample_bytree=0.7, learning_rate=0.5, max_depth=15, min_child_samples=5, n_estimators=500, num_leaves=150, subsample=0.7; total time=   9.9s\n",
      "Early stopping, best iteration is:\n",
      "[347]\tvalid_0's rmse: 1725.41\tvalid_0's l2: 2.97703e+06\n",
      "[CV] END colsample_bytree=1.0, learning_rate=0.5, max_depth=5, min_child_samples=10, n_estimators=500, num_leaves=50, subsample=0.9; total time=   8.6s\n",
      "Early stopping, best iteration is:\n",
      "[347]\tvalid_0's rmse: 1725.41\tvalid_0's l2: 2.97703e+06\n",
      "[CV] END colsample_bytree=1.0, learning_rate=0.5, max_depth=5, min_child_samples=10, n_estimators=500, num_leaves=50, subsample=0.9; total time=   8.3s\n",
      "Early stopping, best iteration is:\n",
      "[347]\tvalid_0's rmse: 1725.41\tvalid_0's l2: 2.97703e+06\n",
      "[CV] END colsample_bytree=1.0, learning_rate=0.5, max_depth=5, min_child_samples=10, n_estimators=500, num_leaves=50, subsample=0.9; total time=   8.7s\n",
      "Early stopping, best iteration is:\n",
      "[347]\tvalid_0's rmse: 1725.41\tvalid_0's l2: 2.97703e+06\n",
      "[CV] END colsample_bytree=0.8, learning_rate=0.4, max_depth=10, min_child_samples=20, n_estimators=2000, num_leaves=250, subsample=0.9; total time=  17.3s\n",
      "Early stopping, best iteration is:\n",
      "[347]\tvalid_0's rmse: 1725.41\tvalid_0's l2: 2.97703e+06\n",
      "[CV] END colsample_bytree=0.8, learning_rate=0.4, max_depth=10, min_child_samples=20, n_estimators=2000, num_leaves=250, subsample=0.9; total time=  17.6s\n",
      "Early stopping, best iteration is:\n",
      "[347]\tvalid_0's rmse: 1725.41\tvalid_0's l2: 2.97703e+06\n",
      "[CV] END colsample_bytree=0.8, learning_rate=0.4, max_depth=10, min_child_samples=20, n_estimators=2000, num_leaves=250, subsample=0.9; total time=  17.4s\n",
      "Early stopping, best iteration is:\n",
      "[347]\tvalid_0's rmse: 1725.41\tvalid_0's l2: 2.97703e+06\n",
      "[CV] END colsample_bytree=0.8, learning_rate=0.4, max_depth=5, min_child_samples=10, n_estimators=2000, num_leaves=200, subsample=0.6; total time=   8.7s\n",
      "Early stopping, best iteration is:\n",
      "[347]\tvalid_0's rmse: 1725.41\tvalid_0's l2: 2.97703e+06\n",
      "[CV] END colsample_bytree=0.8, learning_rate=0.4, max_depth=5, min_child_samples=10, n_estimators=2000, num_leaves=200, subsample=0.6; total time=   8.4s\n",
      "Early stopping, best iteration is:\n",
      "[347]\tvalid_0's rmse: 1725.41\tvalid_0's l2: 2.97703e+06\n",
      "[CV] END colsample_bytree=0.8, learning_rate=0.4, max_depth=5, min_child_samples=10, n_estimators=2000, num_leaves=200, subsample=0.6; total time=   8.4s\n",
      "Did not meet early stopping. Best iteration is:\n",
      "[347]\tvalid_0's rmse: 1725.41\tvalid_0's l2: 2.97703e+06\n",
      "[CV] END colsample_bytree=0.9, learning_rate=0.4, max_depth=5, min_child_samples=10, n_estimators=100, num_leaves=250, subsample=1.0; total time=   2.2s\n",
      "Did not meet early stopping. Best iteration is:\n",
      "[347]\tvalid_0's rmse: 1725.41\tvalid_0's l2: 2.97703e+06\n",
      "[CV] END colsample_bytree=0.9, learning_rate=0.4, max_depth=5, min_child_samples=10, n_estimators=100, num_leaves=250, subsample=1.0; total time=   2.4s\n",
      "Did not meet early stopping. Best iteration is:\n",
      "[347]\tvalid_0's rmse: 1725.41\tvalid_0's l2: 2.97703e+06\n",
      "[CV] END colsample_bytree=0.9, learning_rate=0.4, max_depth=5, min_child_samples=10, n_estimators=100, num_leaves=250, subsample=1.0; total time=   2.3s\n",
      "Early stopping, best iteration is:\n",
      "[347]\tvalid_0's rmse: 1725.41\tvalid_0's l2: 2.97703e+06\n",
      "[CV] END colsample_bytree=0.6, learning_rate=0.3, max_depth=5, min_child_samples=10, n_estimators=500, num_leaves=250, subsample=0.7; total time=   8.8s\n",
      "Early stopping, best iteration is:\n",
      "[347]\tvalid_0's rmse: 1725.41\tvalid_0's l2: 2.97703e+06\n",
      "[CV] END colsample_bytree=0.6, learning_rate=0.3, max_depth=5, min_child_samples=10, n_estimators=500, num_leaves=250, subsample=0.7; total time=   8.5s\n",
      "Early stopping, best iteration is:\n",
      "[347]\tvalid_0's rmse: 1725.41\tvalid_0's l2: 2.97703e+06\n",
      "[CV] END colsample_bytree=0.6, learning_rate=0.3, max_depth=5, min_child_samples=10, n_estimators=500, num_leaves=250, subsample=0.7; total time=   8.4s\n"
     ]
    },
    {
     "name": "stdout",
     "output_type": "stream",
     "text": [
      "Early stopping, best iteration is:\n",
      "[347]\tvalid_0's rmse: 1725.41\tvalid_0's l2: 2.97703e+06\n",
      "[CV] END colsample_bytree=0.7, learning_rate=0.2, max_depth=10, min_child_samples=10, n_estimators=500, num_leaves=250, subsample=0.9; total time=  17.8s\n",
      "Early stopping, best iteration is:\n",
      "[267]\tvalid_0's rmse: 1724.97\tvalid_0's l2: 2.97551e+06\n",
      "[CV] END colsample_bytree=0.7, learning_rate=0.2, max_depth=10, min_child_samples=10, n_estimators=500, num_leaves=250, subsample=0.9; total time=  13.4s\n",
      "Early stopping, best iteration is:\n",
      "[267]\tvalid_0's rmse: 1724.97\tvalid_0's l2: 2.97551e+06\n",
      "[CV] END colsample_bytree=0.7, learning_rate=0.2, max_depth=10, min_child_samples=10, n_estimators=500, num_leaves=250, subsample=0.9; total time=  13.5s\n",
      "Did not meet early stopping. Best iteration is:\n",
      "[267]\tvalid_0's rmse: 1724.97\tvalid_0's l2: 2.97551e+06\n",
      "[CV] END colsample_bytree=0.9, learning_rate=0.4, max_depth=5, min_child_samples=10, n_estimators=100, num_leaves=150, subsample=0.9; total time=   2.3s\n",
      "Did not meet early stopping. Best iteration is:\n",
      "[267]\tvalid_0's rmse: 1724.97\tvalid_0's l2: 2.97551e+06\n",
      "[CV] END colsample_bytree=0.9, learning_rate=0.4, max_depth=5, min_child_samples=10, n_estimators=100, num_leaves=150, subsample=0.9; total time=   2.2s\n",
      "Did not meet early stopping. Best iteration is:\n",
      "[267]\tvalid_0's rmse: 1724.97\tvalid_0's l2: 2.97551e+06\n",
      "[CV] END colsample_bytree=0.9, learning_rate=0.4, max_depth=5, min_child_samples=10, n_estimators=100, num_leaves=150, subsample=0.9; total time=   2.5s\n",
      "Did not meet early stopping. Best iteration is:\n",
      "[267]\tvalid_0's rmse: 1724.97\tvalid_0's l2: 2.97551e+06\n",
      "[CV] END colsample_bytree=0.9, learning_rate=0.3, max_depth=None, min_child_samples=5, n_estimators=100, num_leaves=150, subsample=0.9; total time=   3.4s\n",
      "Did not meet early stopping. Best iteration is:\n",
      "[267]\tvalid_0's rmse: 1724.97\tvalid_0's l2: 2.97551e+06\n",
      "[CV] END colsample_bytree=0.9, learning_rate=0.3, max_depth=None, min_child_samples=5, n_estimators=100, num_leaves=150, subsample=0.9; total time=   3.3s\n",
      "Did not meet early stopping. Best iteration is:\n",
      "[267]\tvalid_0's rmse: 1724.97\tvalid_0's l2: 2.97551e+06\n",
      "[CV] END colsample_bytree=0.9, learning_rate=0.3, max_depth=None, min_child_samples=5, n_estimators=100, num_leaves=150, subsample=0.9; total time=   3.4s\n",
      "Did not meet early stopping. Best iteration is:\n",
      "[267]\tvalid_0's rmse: 1724.97\tvalid_0's l2: 2.97551e+06\n",
      "[CV] END colsample_bytree=0.9, learning_rate=0.3, max_depth=5, min_child_samples=20, n_estimators=100, num_leaves=200, subsample=0.9; total time=   2.3s\n",
      "Did not meet early stopping. Best iteration is:\n",
      "[267]\tvalid_0's rmse: 1724.97\tvalid_0's l2: 2.97551e+06\n",
      "[CV] END colsample_bytree=0.9, learning_rate=0.3, max_depth=5, min_child_samples=20, n_estimators=100, num_leaves=200, subsample=0.9; total time=   2.3s\n",
      "Did not meet early stopping. Best iteration is:\n",
      "[267]\tvalid_0's rmse: 1724.97\tvalid_0's l2: 2.97551e+06\n",
      "[CV] END colsample_bytree=0.9, learning_rate=0.3, max_depth=5, min_child_samples=20, n_estimators=100, num_leaves=200, subsample=0.9; total time=   2.2s\n",
      "Early stopping, best iteration is:\n",
      "[267]\tvalid_0's rmse: 1724.97\tvalid_0's l2: 2.97551e+06\n",
      "[CV] END colsample_bytree=0.9, learning_rate=0.2, max_depth=None, min_child_samples=5, n_estimators=1000, num_leaves=100, subsample=0.9; total time=   7.4s\n",
      "Early stopping, best iteration is:\n",
      "[267]\tvalid_0's rmse: 1724.97\tvalid_0's l2: 2.97551e+06\n",
      "[CV] END colsample_bytree=0.9, learning_rate=0.2, max_depth=None, min_child_samples=5, n_estimators=1000, num_leaves=100, subsample=0.9; total time=   7.9s\n",
      "Early stopping, best iteration is:\n",
      "[267]\tvalid_0's rmse: 1724.97\tvalid_0's l2: 2.97551e+06\n",
      "[CV] END colsample_bytree=0.9, learning_rate=0.2, max_depth=None, min_child_samples=5, n_estimators=1000, num_leaves=100, subsample=0.9; total time=   7.1s\n",
      "Early stopping, best iteration is:\n",
      "[267]\tvalid_0's rmse: 1724.97\tvalid_0's l2: 2.97551e+06\n",
      "[CV] END colsample_bytree=0.6, learning_rate=0.3, max_depth=15, min_child_samples=20, n_estimators=1000, num_leaves=50, subsample=0.8; total time=   6.0s\n",
      "Early stopping, best iteration is:\n",
      "[267]\tvalid_0's rmse: 1724.97\tvalid_0's l2: 2.97551e+06\n",
      "[CV] END colsample_bytree=0.6, learning_rate=0.3, max_depth=15, min_child_samples=20, n_estimators=1000, num_leaves=50, subsample=0.8; total time=   6.0s\n",
      "Early stopping, best iteration is:\n",
      "[267]\tvalid_0's rmse: 1724.97\tvalid_0's l2: 2.97551e+06\n",
      "[CV] END colsample_bytree=0.6, learning_rate=0.3, max_depth=15, min_child_samples=20, n_estimators=1000, num_leaves=50, subsample=0.8; total time=   5.9s\n",
      "Did not meet early stopping. Best iteration is:\n",
      "[267]\tvalid_0's rmse: 1724.97\tvalid_0's l2: 2.97551e+06\n",
      "[CV] END colsample_bytree=0.6, learning_rate=0.4, max_depth=15, min_child_samples=5, n_estimators=100, num_leaves=150, subsample=0.6; total time=   3.3s\n",
      "Did not meet early stopping. Best iteration is:\n",
      "[267]\tvalid_0's rmse: 1724.97\tvalid_0's l2: 2.97551e+06\n",
      "[CV] END colsample_bytree=0.6, learning_rate=0.4, max_depth=15, min_child_samples=5, n_estimators=100, num_leaves=150, subsample=0.6; total time=   3.1s\n",
      "Did not meet early stopping. Best iteration is:\n",
      "[267]\tvalid_0's rmse: 1724.97\tvalid_0's l2: 2.97551e+06\n",
      "[CV] END colsample_bytree=0.6, learning_rate=0.4, max_depth=15, min_child_samples=5, n_estimators=100, num_leaves=150, subsample=0.6; total time=   3.0s\n",
      "Did not meet early stopping. Best iteration is:\n",
      "[267]\tvalid_0's rmse: 1724.97\tvalid_0's l2: 2.97551e+06\n",
      "[CV] END colsample_bytree=0.8, learning_rate=0.3, max_depth=5, min_child_samples=5, n_estimators=100, num_leaves=100, subsample=0.9; total time=   2.5s\n",
      "Did not meet early stopping. Best iteration is:\n",
      "[267]\tvalid_0's rmse: 1724.97\tvalid_0's l2: 2.97551e+06\n",
      "[CV] END colsample_bytree=0.8, learning_rate=0.3, max_depth=5, min_child_samples=5, n_estimators=100, num_leaves=100, subsample=0.9; total time=   2.2s\n",
      "Did not meet early stopping. Best iteration is:\n",
      "[267]\tvalid_0's rmse: 1724.97\tvalid_0's l2: 2.97551e+06\n",
      "[CV] END colsample_bytree=0.8, learning_rate=0.3, max_depth=5, min_child_samples=5, n_estimators=100, num_leaves=100, subsample=0.9; total time=   2.3s\n",
      "Early stopping, best iteration is:\n",
      "[311]\tvalid_0's rmse: 1724.95\tvalid_0's l2: 2.97545e+06\n",
      "[CV] END colsample_bytree=0.7, learning_rate=0.2, max_depth=None, min_child_samples=20, n_estimators=2000, num_leaves=200, subsample=1.0; total time=  13.0s\n",
      "Early stopping, best iteration is:\n",
      "[347]\tvalid_0's rmse: 1723.6\tvalid_0's l2: 2.97078e+06\n",
      "[CV] END colsample_bytree=0.7, learning_rate=0.2, max_depth=None, min_child_samples=20, n_estimators=2000, num_leaves=200, subsample=1.0; total time=  13.8s\n",
      "Early stopping, best iteration is:\n",
      "[347]\tvalid_0's rmse: 1723.6\tvalid_0's l2: 2.97078e+06\n",
      "[CV] END colsample_bytree=0.7, learning_rate=0.2, max_depth=None, min_child_samples=20, n_estimators=2000, num_leaves=200, subsample=1.0; total time=  13.9s\n",
      "Early stopping, best iteration is:\n",
      "[347]\tvalid_0's rmse: 1723.6\tvalid_0's l2: 2.97078e+06\n",
      "[CV] END colsample_bytree=0.8, learning_rate=0.3, max_depth=None, min_child_samples=5, n_estimators=500, num_leaves=150, subsample=0.7; total time=  10.1s\n",
      "Early stopping, best iteration is:\n",
      "[347]\tvalid_0's rmse: 1723.6\tvalid_0's l2: 2.97078e+06\n",
      "[CV] END colsample_bytree=0.8, learning_rate=0.3, max_depth=None, min_child_samples=5, n_estimators=500, num_leaves=150, subsample=0.7; total time=  10.1s\n",
      "Early stopping, best iteration is:\n",
      "[347]\tvalid_0's rmse: 1723.6\tvalid_0's l2: 2.97078e+06\n",
      "[CV] END colsample_bytree=0.8, learning_rate=0.3, max_depth=None, min_child_samples=5, n_estimators=500, num_leaves=150, subsample=0.7; total time=   9.9s\n",
      "Early stopping, best iteration is:\n",
      "[347]\tvalid_0's rmse: 1723.6\tvalid_0's l2: 2.97078e+06\n",
      "[CV] END colsample_bytree=0.9, learning_rate=0.3, max_depth=None, min_child_samples=5, n_estimators=2000, num_leaves=50, subsample=0.6; total time=   6.9s\n",
      "Early stopping, best iteration is:\n",
      "[347]\tvalid_0's rmse: 1723.6\tvalid_0's l2: 2.97078e+06\n",
      "[CV] END colsample_bytree=0.9, learning_rate=0.3, max_depth=None, min_child_samples=5, n_estimators=2000, num_leaves=50, subsample=0.6; total time=   6.8s\n",
      "Early stopping, best iteration is:\n",
      "[347]\tvalid_0's rmse: 1723.6\tvalid_0's l2: 2.97078e+06\n",
      "[CV] END colsample_bytree=0.9, learning_rate=0.3, max_depth=None, min_child_samples=5, n_estimators=2000, num_leaves=50, subsample=0.6; total time=   6.8s\n"
     ]
    },
    {
     "name": "stdout",
     "output_type": "stream",
     "text": [
      "Did not meet early stopping. Best iteration is:\n",
      "[347]\tvalid_0's rmse: 1723.6\tvalid_0's l2: 2.97078e+06\n",
      "[CV] END colsample_bytree=0.7, learning_rate=0.3, max_depth=10, min_child_samples=20, n_estimators=100, num_leaves=50, subsample=1.0; total time=   2.6s\n",
      "Did not meet early stopping. Best iteration is:\n",
      "[347]\tvalid_0's rmse: 1723.6\tvalid_0's l2: 2.97078e+06\n",
      "[CV] END colsample_bytree=0.7, learning_rate=0.3, max_depth=10, min_child_samples=20, n_estimators=100, num_leaves=50, subsample=1.0; total time=   2.6s\n",
      "Did not meet early stopping. Best iteration is:\n",
      "[347]\tvalid_0's rmse: 1723.6\tvalid_0's l2: 2.97078e+06\n",
      "[CV] END colsample_bytree=0.7, learning_rate=0.3, max_depth=10, min_child_samples=20, n_estimators=100, num_leaves=50, subsample=1.0; total time=   2.4s\n",
      "Early stopping, best iteration is:\n",
      "[347]\tvalid_0's rmse: 1723.6\tvalid_0's l2: 2.97078e+06\n",
      "[CV] END colsample_bytree=0.7, learning_rate=0.4, max_depth=10, min_child_samples=5, n_estimators=2000, num_leaves=100, subsample=1.0; total time=   9.3s\n",
      "Early stopping, best iteration is:\n",
      "[347]\tvalid_0's rmse: 1723.6\tvalid_0's l2: 2.97078e+06\n",
      "[CV] END colsample_bytree=0.7, learning_rate=0.4, max_depth=10, min_child_samples=5, n_estimators=2000, num_leaves=100, subsample=1.0; total time=   8.6s\n",
      "Early stopping, best iteration is:\n",
      "[347]\tvalid_0's rmse: 1723.6\tvalid_0's l2: 2.97078e+06\n",
      "[CV] END colsample_bytree=0.7, learning_rate=0.4, max_depth=10, min_child_samples=5, n_estimators=2000, num_leaves=100, subsample=1.0; total time=   8.8s\n",
      "Did not meet early stopping. Best iteration is:\n",
      "[347]\tvalid_0's rmse: 1723.6\tvalid_0's l2: 2.97078e+06\n",
      "[CV] END colsample_bytree=0.7, learning_rate=0.5, max_depth=15, min_child_samples=10, n_estimators=100, num_leaves=50, subsample=0.6; total time=   2.3s\n",
      "Did not meet early stopping. Best iteration is:\n",
      "[347]\tvalid_0's rmse: 1723.6\tvalid_0's l2: 2.97078e+06\n",
      "[CV] END colsample_bytree=0.7, learning_rate=0.5, max_depth=15, min_child_samples=10, n_estimators=100, num_leaves=50, subsample=0.6; total time=   2.6s\n",
      "Did not meet early stopping. Best iteration is:\n",
      "[347]\tvalid_0's rmse: 1723.6\tvalid_0's l2: 2.97078e+06\n",
      "[CV] END colsample_bytree=0.7, learning_rate=0.5, max_depth=15, min_child_samples=10, n_estimators=100, num_leaves=50, subsample=0.6; total time=   2.7s\n",
      "Early stopping, best iteration is:\n",
      "[347]\tvalid_0's rmse: 1723.6\tvalid_0's l2: 2.97078e+06\n",
      "[CV] END colsample_bytree=0.8, learning_rate=0.5, max_depth=10, min_child_samples=10, n_estimators=1000, num_leaves=100, subsample=0.8; total time=  11.0s\n",
      "Early stopping, best iteration is:\n",
      "[347]\tvalid_0's rmse: 1723.6\tvalid_0's l2: 2.97078e+06\n",
      "[CV] END colsample_bytree=0.8, learning_rate=0.5, max_depth=10, min_child_samples=10, n_estimators=1000, num_leaves=100, subsample=0.8; total time=   9.2s\n",
      "Early stopping, best iteration is:\n",
      "[347]\tvalid_0's rmse: 1723.6\tvalid_0's l2: 2.97078e+06\n",
      "[CV] END colsample_bytree=0.8, learning_rate=0.5, max_depth=10, min_child_samples=10, n_estimators=1000, num_leaves=100, subsample=0.8; total time=   9.0s\n",
      "Early stopping, best iteration is:\n",
      "[347]\tvalid_0's rmse: 1723.6\tvalid_0's l2: 2.97078e+06\n",
      "[CV] END colsample_bytree=0.8, learning_rate=0.2, max_depth=5, min_child_samples=5, n_estimators=1000, num_leaves=100, subsample=0.8; total time=   8.7s\n",
      "Early stopping, best iteration is:\n",
      "[347]\tvalid_0's rmse: 1723.6\tvalid_0's l2: 2.97078e+06\n",
      "[CV] END colsample_bytree=0.8, learning_rate=0.2, max_depth=5, min_child_samples=5, n_estimators=1000, num_leaves=100, subsample=0.8; total time=  11.2s\n",
      "Early stopping, best iteration is:\n",
      "[347]\tvalid_0's rmse: 1723.6\tvalid_0's l2: 2.97078e+06\n",
      "[CV] END colsample_bytree=0.8, learning_rate=0.2, max_depth=5, min_child_samples=5, n_estimators=1000, num_leaves=100, subsample=0.8; total time=   8.5s\n",
      "Did not meet early stopping. Best iteration is:\n",
      "[347]\tvalid_0's rmse: 1723.6\tvalid_0's l2: 2.97078e+06\n",
      "[CV] END colsample_bytree=0.9, learning_rate=0.2, max_depth=None, min_child_samples=20, n_estimators=100, num_leaves=150, subsample=0.6; total time=   5.6s\n",
      "Did not meet early stopping. Best iteration is:\n",
      "[347]\tvalid_0's rmse: 1723.6\tvalid_0's l2: 2.97078e+06\n",
      "[CV] END colsample_bytree=0.9, learning_rate=0.2, max_depth=None, min_child_samples=20, n_estimators=100, num_leaves=150, subsample=0.6; total time=   4.3s\n",
      "Did not meet early stopping. Best iteration is:\n",
      "[347]\tvalid_0's rmse: 1723.6\tvalid_0's l2: 2.97078e+06\n",
      "[CV] END colsample_bytree=0.9, learning_rate=0.2, max_depth=None, min_child_samples=20, n_estimators=100, num_leaves=150, subsample=0.6; total time=   3.7s\n",
      "Early stopping, best iteration is:\n",
      "[347]\tvalid_0's rmse: 1723.6\tvalid_0's l2: 2.97078e+06\n",
      "[CV] END colsample_bytree=0.8, learning_rate=0.5, max_depth=5, min_child_samples=20, n_estimators=1000, num_leaves=200, subsample=0.7; total time=   8.3s\n",
      "Early stopping, best iteration is:\n",
      "[347]\tvalid_0's rmse: 1723.6\tvalid_0's l2: 2.97078e+06\n",
      "[CV] END colsample_bytree=0.8, learning_rate=0.5, max_depth=5, min_child_samples=20, n_estimators=1000, num_leaves=200, subsample=0.7; total time=   8.1s\n",
      "Early stopping, best iteration is:\n",
      "[347]\tvalid_0's rmse: 1723.6\tvalid_0's l2: 2.97078e+06\n",
      "[CV] END colsample_bytree=0.8, learning_rate=0.5, max_depth=5, min_child_samples=20, n_estimators=1000, num_leaves=200, subsample=0.7; total time=   8.3s\n",
      "Early stopping, best iteration is:\n",
      "[347]\tvalid_0's rmse: 1723.6\tvalid_0's l2: 2.97078e+06\n",
      "[CV] END colsample_bytree=0.8, learning_rate=0.4, max_depth=5, min_child_samples=5, n_estimators=500, num_leaves=150, subsample=0.9; total time=  10.8s\n",
      "Early stopping, best iteration is:\n",
      "[347]\tvalid_0's rmse: 1723.6\tvalid_0's l2: 2.97078e+06\n",
      "[CV] END colsample_bytree=0.8, learning_rate=0.4, max_depth=5, min_child_samples=5, n_estimators=500, num_leaves=150, subsample=0.9; total time=   8.6s\n",
      "Early stopping, best iteration is:\n",
      "[347]\tvalid_0's rmse: 1723.6\tvalid_0's l2: 2.97078e+06\n",
      "[CV] END colsample_bytree=0.8, learning_rate=0.4, max_depth=5, min_child_samples=5, n_estimators=500, num_leaves=150, subsample=0.9; total time=  10.5s\n",
      "Early stopping, best iteration is:\n",
      "[355]\tvalid_0's rmse: 1683.51\tvalid_0's l2: 2.8342e+06\n",
      "Best parameters: {'subsample': 1.0, 'num_leaves': 200, 'n_estimators': 2000, 'min_child_samples': 20, 'max_depth': None, 'learning_rate': 0.2, 'colsample_bytree': 0.7}\n",
      "Training time for the best LightGBM model:  54.444 seconds.\n",
      "Tuned LightGBM RMSE:  1710.119\n"
     ]
    }
   ],
   "source": [
    "#different set of hyperparameters\n",
    "param_grid = {\n",
    "    'num_leaves': [50, 100, 150, 200, 250],\n",
    "    'learning_rate': [0.2, 0.3, 0.4, 0.5],\n",
    "    'n_estimators': [100, 500, 1000, 2000],\n",
    "    'max_depth': [None, 5, 10, 15],\n",
    "    'min_child_samples': [5, 10, 20],\n",
    "    'subsample': [0.6, 0.7, 0.8, 0.9, 1.0],\n",
    "    'colsample_bytree': [0.6, 0.7, 0.8, 0.9, 1.0]\n",
    "}\n",
    "\n",
    "lgb_reg = lgb.LGBMRegressor(random_state=21)\n",
    "\n",
    "random_search = RandomizedSearchCV(\n",
    "    estimator=lgb_reg, \n",
    "    param_distributions=param_grid, \n",
    "    n_iter=30, \n",
    "    cv=3, \n",
    "    scoring='neg_root_mean_squared_error',\n",
    "    random_state=21,\n",
    "    n_jobs=-1,\n",
    "    verbose=2,\n",
    ")\n",
    "\n",
    "random_search.fit(\n",
    "                X_train_es, y_train, \n",
    "                  eval_set=[(X_valid_es, y_valid)], \n",
    "                  eval_metric=\"rmse\", \n",
    "                  callbacks=[early_stopping(50)]\n",
    "                 )\n",
    "\n",
    "print(\"Best parameters:\", random_search.best_params_)\n",
    "\n",
    "best_lgb2 = random_search.best_estimator_\n",
    "\n",
    "# Measure training time for the best model only\n",
    "start_best_train = time.time()\n",
    "best_lgb2.fit(X_train_es, y_train)\n",
    "end_best_train = time.time()\n",
    "\n",
    "# Calculating the training time for the best model\n",
    "best_tuned_time = end_best_train - start_best_train\n",
    "print(f\"Training time for the best LightGBM model: {best_tuned_time: .3f} seconds.\")\n",
    "\n",
    "y_pred_best2 = best_lgb.predict(X_valid_es)\n",
    "rmse_best = mean_squared_error(y_valid, y_pred_best2, squared=False)\n",
    "\n",
    "print(f\"Tuned LightGBM RMSE: {rmse_best: .3f}\")"
   ]
  },
  {
   "cell_type": "markdown",
   "metadata": {},
   "source": [
    "This search yielded the same RMSE of 1710.119 with a subsample of 1.0, 200 num_leaves, 2000 n_estimators, 20 min_child_samples, no max_depth, a learning_rate of 0.2, and a colsample_bytree of 0.7 in 54.444 seconds.\n",
    "\n",
    "Given this is not an improvement over the previous run, I will now see if CatBoost is capable of achieving an even better RMSE.\n",
    "\n",
    "### CatBoost"
   ]
  },
  {
   "cell_type": "code",
   "execution_count": 54,
   "metadata": {},
   "outputs": [],
   "source": [
    "X_train_es = pd.DataFrame(X_train_es)\n",
    "X_valid_es = pd.DataFrame(X_valid_es)\n",
    "X_test_es = pd.DataFrame(X_test_es)"
   ]
  },
  {
   "cell_type": "code",
   "execution_count": 49,
   "metadata": {},
   "outputs": [
    {
     "name": "stdout",
     "output_type": "stream",
     "text": [
      "Learning rate set to 0.171257\n",
      "0:\tlearn: 4067.7158793\ttotal: 80.4ms\tremaining: 40.1s\n",
      "10:\tlearn: 2394.4052352\ttotal: 357ms\tremaining: 15.9s\n",
      "20:\tlearn: 2151.4341440\ttotal: 620ms\tremaining: 14.1s\n",
      "30:\tlearn: 2048.7140900\ttotal: 881ms\tremaining: 13.3s\n",
      "40:\tlearn: 1994.4264631\ttotal: 1.15s\tremaining: 12.9s\n",
      "50:\tlearn: 1962.8523429\ttotal: 1.42s\tremaining: 12.5s\n",
      "60:\tlearn: 1938.7033198\ttotal: 1.68s\tremaining: 12.1s\n",
      "70:\tlearn: 1917.2278894\ttotal: 1.94s\tremaining: 11.7s\n",
      "80:\tlearn: 1899.5343447\ttotal: 2.19s\tremaining: 11.4s\n",
      "90:\tlearn: 1884.3657360\ttotal: 2.46s\tremaining: 11s\n",
      "100:\tlearn: 1872.1515060\ttotal: 2.72s\tremaining: 10.8s\n",
      "110:\tlearn: 1863.1323138\ttotal: 2.98s\tremaining: 10.4s\n",
      "120:\tlearn: 1850.8418431\ttotal: 3.24s\tremaining: 10.2s\n",
      "130:\tlearn: 1841.4610734\ttotal: 3.5s\tremaining: 9.86s\n",
      "140:\tlearn: 1831.8656669\ttotal: 3.75s\tremaining: 9.56s\n",
      "150:\tlearn: 1823.5916399\ttotal: 4.02s\tremaining: 9.29s\n",
      "160:\tlearn: 1816.0924238\ttotal: 4.28s\tremaining: 9.01s\n",
      "170:\tlearn: 1809.7581372\ttotal: 4.54s\tremaining: 8.73s\n",
      "180:\tlearn: 1803.9847658\ttotal: 4.8s\tremaining: 8.46s\n",
      "190:\tlearn: 1797.3509877\ttotal: 5.06s\tremaining: 8.18s\n",
      "200:\tlearn: 1791.2743516\ttotal: 5.32s\tremaining: 7.92s\n",
      "210:\tlearn: 1785.4118556\ttotal: 5.6s\tremaining: 7.67s\n",
      "220:\tlearn: 1781.0747075\ttotal: 5.85s\tremaining: 7.39s\n",
      "230:\tlearn: 1775.8798943\ttotal: 6.13s\tremaining: 7.13s\n",
      "240:\tlearn: 1770.8406363\ttotal: 6.38s\tremaining: 6.86s\n",
      "250:\tlearn: 1766.2128569\ttotal: 6.64s\tremaining: 6.59s\n",
      "260:\tlearn: 1762.1728361\ttotal: 6.91s\tremaining: 6.33s\n",
      "270:\tlearn: 1757.9028125\ttotal: 7.18s\tremaining: 6.06s\n",
      "280:\tlearn: 1753.9935671\ttotal: 7.44s\tremaining: 5.8s\n",
      "290:\tlearn: 1750.2053773\ttotal: 7.7s\tremaining: 5.53s\n",
      "300:\tlearn: 1746.5542620\ttotal: 7.96s\tremaining: 5.27s\n",
      "310:\tlearn: 1742.5466654\ttotal: 8.23s\tremaining: 5s\n",
      "320:\tlearn: 1739.1707673\ttotal: 8.49s\tremaining: 4.74s\n",
      "330:\tlearn: 1735.8948019\ttotal: 8.75s\tremaining: 4.47s\n",
      "340:\tlearn: 1732.3186320\ttotal: 9.01s\tremaining: 4.2s\n",
      "350:\tlearn: 1728.9584609\ttotal: 9.27s\tremaining: 3.94s\n",
      "360:\tlearn: 1725.5941315\ttotal: 9.54s\tremaining: 3.67s\n",
      "370:\tlearn: 1722.6918437\ttotal: 9.78s\tremaining: 3.4s\n",
      "380:\tlearn: 1719.6247966\ttotal: 10s\tremaining: 3.13s\n",
      "390:\tlearn: 1716.5597414\ttotal: 10.3s\tremaining: 2.87s\n",
      "400:\tlearn: 1713.5533532\ttotal: 10.6s\tremaining: 2.6s\n",
      "410:\tlearn: 1710.4686086\ttotal: 10.8s\tremaining: 2.34s\n",
      "420:\tlearn: 1708.1512345\ttotal: 11.1s\tremaining: 2.08s\n",
      "430:\tlearn: 1705.6022813\ttotal: 11.3s\tremaining: 1.82s\n",
      "440:\tlearn: 1702.9909419\ttotal: 11.6s\tremaining: 1.55s\n",
      "450:\tlearn: 1700.6021388\ttotal: 11.9s\tremaining: 1.29s\n",
      "460:\tlearn: 1697.6218017\ttotal: 12.1s\tremaining: 1.02s\n",
      "470:\tlearn: 1695.1330163\ttotal: 12.4s\tremaining: 763ms\n",
      "480:\tlearn: 1692.5104816\ttotal: 12.7s\tremaining: 500ms\n",
      "490:\tlearn: 1689.9574304\ttotal: 12.9s\tremaining: 237ms\n",
      "499:\tlearn: 1688.0163399\ttotal: 13.1s\tremaining: 0us\n"
     ]
    }
   ],
   "source": [
    "cat = CatBoostRegressor(loss_function=\"RMSE\", iterations=500, random_seed=21)\n",
    "\n",
    "cat_features = [feature for feature in cat_cols if feature in X_train_es.columns]\n",
    "\n",
    "for feature in cat_features:\n",
    "    if feature in X_train_es.columns:\n",
    "        X_train_es[feature] = X_train_es[feature].astype('category')\n",
    "\n",
    "for feature in cat_features:\n",
    "    if feature in X_valid_es.columns:\n",
    "        X_valid_es[feature] = X_valid_es[feature].astype('category')\n",
    "\n",
    "cat.fit(X_train_es, y_train, cat_features=cat_features, verbose=10)\n",
    "\n",
    "pred_valid = cat.predict(X_valid_es)"
   ]
  },
  {
   "cell_type": "markdown",
   "metadata": {},
   "source": [
    "With 500 iterations, CatBoost achieves the best RMSE at 1688.016 in 13.1 seconds.  This is by far the best result for any of the models trained.\n",
    "\n",
    "## Model Testing & Analysis\n",
    "\n",
    "Since Rusty Bargain needs to know the speed of predictions to keep customers engaged throughout the pricing process, let's evaluate the time each model takes.  While the CatBoost model produced the best RMSE in the least time during training, we need to ensure that it is still the most capable model when applied to the test set.  After all, speed matters when trying to ensure customers don't abandon their inquiry into selling their car with Rusty Bargain.\n",
    "\n",
    "### Random Forest Time\n",
    "I first built a Random Forest Regressor, which achieved an RMSE of 1694.1.  While not the best, it is certainly not a bad RMSE.  The best version used 60 estimators with a min_samples_split of 2, min_samples_leaf of 2, used log2 for max features, had a max_depth of 20, and no bootstrapping.  It was able to train on the train set in 19.303 seconds.  Let's check how quickly it can make these calculations on the test set."
   ]
  },
  {
   "cell_type": "code",
   "execution_count": 40,
   "metadata": {},
   "outputs": [
    {
     "name": "stdout",
     "output_type": "stream",
     "text": [
      "RMSE on the test set:  1691.208\n",
      "Prediction time:  0.704\n"
     ]
    }
   ],
   "source": [
    "start_pred = time.time()\n",
    "y_pred_test = best_rf.predict(X_test_es)\n",
    "end_pred = time.time()\n",
    "rmse_test = mean_squared_error(y_test, y_pred_test, squared=False)\n",
    "\n",
    "print(f\"RMSE on the test set: {rmse_test: .3f}\")\n",
    "print(f\"Prediction time: {end_pred - start_pred: .3f}\")\n",
    "\n"
   ]
  },
  {
   "cell_type": "markdown",
   "metadata": {},
   "source": [
    "The trained RF model can make slightly better predictions with an RMSE of 1691.21 in just over 2/3 of a second."
   ]
  },
  {
   "cell_type": "markdown",
   "metadata": {},
   "source": [
    "### LightGBM Time\n",
    "The LightGBM model's second iteration achieved the best RMSE on the validation set at 1696.54 with a training time of 14.999 seconds.  Let's see how the model performs on the test set."
   ]
  },
  {
   "cell_type": "code",
   "execution_count": 47,
   "metadata": {},
   "outputs": [
    {
     "name": "stdout",
     "output_type": "stream",
     "text": [
      "Prediction time for the best LightGBM model:  8.455 seconds.\n",
      "Tuned LightGBM RMSE:  1706.943\n"
     ]
    }
   ],
   "source": [
    "# Measure training time for the best model only\n",
    "\n",
    "best_lgb1.fit(X_train_es, y_train)\n",
    "\n",
    "\n",
    "# Calculating the training time for the best model\n",
    "\n",
    "# Evaluate on test set and calculate RMSE\n",
    "start_best_test = time.time()\n",
    "y_pred_best_test = best_lgb.predict(X_test_es)\n",
    "end_best_test = time.time()\n",
    "best_test_time = end_best_test - start_best_test\n",
    "rmse_best = mean_squared_error(y_test, y_pred_best_test, squared=False)\n",
    "\n",
    "# Print RMSE for the best model\n",
    "print(f\"Prediction time for the best LightGBM model: {best_test_time: .3f} seconds.\")\n",
    "print(f\"Tuned LightGBM RMSE: {rmse_best: .3f}\")"
   ]
  },
  {
   "cell_type": "markdown",
   "metadata": {},
   "source": [
    "With a final RMSE of 1706.943 on the test data, the LightGBM model performs slightly better than it did during training, and it is able to predict on the test set much more quickly in 8.455 seconds.\n",
    "\n",
    "I will now measure the metrics for the CatBoost model, which performed the best during training and validation.\n",
    "\n",
    "### CatBoost Time"
   ]
  },
  {
   "cell_type": "code",
   "execution_count": 59,
   "metadata": {},
   "outputs": [
    {
     "name": "stdout",
     "output_type": "stream",
     "text": [
      "Prediction time for the best CatBoost model:  0.021 seconds.\n",
      "Test set RMSE:  1774.320\n"
     ]
    }
   ],
   "source": [
    "cat_features = [feature for feature in cat_cols if feature in X_test_es.columns]\n",
    "\n",
    "for feature in cat_features:\n",
    "    X_test_es[feature] = X_test_es[feature].astype('category')\n",
    "\n",
    "start_cat_test = time.time()\n",
    "pred_test = cat.predict(X_test_es)\n",
    "end_cat_test = time.time()\n",
    "\n",
    "\n",
    "best_cat_time = end_cat_test - start_cat_test\n",
    "print(f\"Prediction time for the best CatBoost model: {best_cat_time: .3f} seconds.\")\n",
    "\n",
    "rmse_test = mean_squared_error(y_test, pred_test, squared=False)\n",
    "print(f\"Test set RMSE: {rmse_test: .3f}\")"
   ]
  },
  {
   "cell_type": "markdown",
   "metadata": {},
   "source": [
    "While the CatBoost performed best during training and validation, its performance is not as impressive on the test set.  Rather, it achieves an RMSE of 1774.32.  It does, however, do so in only 0.021 seconds."
   ]
  },
  {
   "cell_type": "markdown",
   "metadata": {},
   "source": [
    "### Model Analysis\n",
    "Overall, the Random Forest Regressor is likely the best choice for Rusty Bargain.  It achieved the best RMSE on the test set at 1691.20 in the second least amount of time at 2/3 of a second.  In terms of training time, it is also second quickest.  Though CatBoost is capable of quicker predictions at 0.021 seconds, its RMSE is significantly higher at 1774.32 on the test set.  CatBoost also trains quicker.  However, the loss of accuracy in predictions means the slightly slower times of the RandomForest model are preferable.  LightGBM, though the second most accurate, took the longest to train (49.811 seconds) and the longest to predict (8.455 seconds), indicating that scaling it to function in a real-world context would likely bog the model down even moreso, rendering it nowhere quick enough to keep customers from clicking away.  Thus, the Random Forest Regressor offers the best accuracy for the amount of time it takes to predict, making it a clear best choice for Rusty Bargain."
   ]
  },
  {
   "cell_type": "markdown",
   "metadata": {},
   "source": [
    "## Conclusion\n",
    "In this project, I developed a predictive model to estimate the market value of vehicles for Rusty Bargain, a used car sales service, using historical data with various car specifications. The goal was to create a model that not only delivers accurate predictions but also ensures fast inference speed and efficient training.\n",
    "\n",
    "After extensive data preprocessing, I successfully addressed missing values in critical features like vehicle type, gearbox, model, and fuel type using targeted imputation strategies. I also corrected erroneous values, removed irrelevant columns, and dealt with the complex challenge of missing repair status by determining that dropping these rows was the most statistically sound decision. As a result, I prepared a clean and structured dataset for model training.\n",
    "\n",
    "I tested multiple models, establishing a baseline constant prediction, and then began to test more advanced models such as Random Forest, LightGBM, and CatBoost. The Random Forest model demonstrated significant improvement over the baseline with an RMSE of 1694.1. LightGBM showed promise but did not outperform the Random Forest model, achieving an RMSE of 1710.119 after tuning. CatBoost, while promising, did not achieve a better RMSE than the Random Forest or LightGBM models.\n",
    "\n",
    "Ultimately, the tuned Random Forest model achieved the best results on the test set with an RMSE of 1691.20 in the second least amount of time.  Thus, it is the model I recommend to Rusty Bargain to use in realtime pricing predictions.  While there is room for further improvement, this model provides Rusty Bargain with a reliable starting point for quickly and accurately estimating car prices and should be scalable. With further optimization and model testing, this predictive tool can enhance the customer experience and drive user engagement on the platform.  Future iterations of the model can focus on refining its accuracy and performance to better meet business needs."
   ]
  }
 ],
 "metadata": {
  "ExecuteTimeLog": [
   {
    "duration": 2715,
    "start_time": "2025-02-02T03:50:57.477Z"
   },
   {
    "duration": 290,
    "start_time": "2025-02-02T03:52:26.812Z"
   },
   {
    "duration": 439,
    "start_time": "2025-02-02T03:52:36.724Z"
   },
   {
    "duration": 19,
    "start_time": "2025-02-02T03:52:47.490Z"
   },
   {
    "duration": 90,
    "start_time": "2025-02-02T03:53:04.748Z"
   },
   {
    "duration": 2,
    "start_time": "2025-02-02T03:56:19.730Z"
   },
   {
    "duration": 4,
    "start_time": "2025-02-02T03:56:27.785Z"
   },
   {
    "duration": 7,
    "start_time": "2025-02-02T03:56:37.447Z"
   },
   {
    "duration": 56,
    "start_time": "2025-02-02T03:57:03.538Z"
   },
   {
    "duration": 221,
    "start_time": "2025-02-02T04:26:41.334Z"
   },
   {
    "duration": 269,
    "start_time": "2025-02-02T04:27:47.626Z"
   },
   {
    "duration": 535,
    "start_time": "2025-02-02T04:27:57.532Z"
   },
   {
    "duration": 13,
    "start_time": "2025-02-02T04:31:02.395Z"
   },
   {
    "duration": 19,
    "start_time": "2025-02-02T04:31:16.725Z"
   },
   {
    "duration": 19,
    "start_time": "2025-02-02T04:31:26.841Z"
   },
   {
    "duration": 15,
    "start_time": "2025-02-02T04:32:44.660Z"
   },
   {
    "duration": 42,
    "start_time": "2025-02-02T04:33:42.995Z"
   },
   {
    "duration": 29,
    "start_time": "2025-02-02T04:33:55.644Z"
   },
   {
    "duration": 130,
    "start_time": "2025-02-02T04:34:05.344Z"
   },
   {
    "duration": 15,
    "start_time": "2025-02-02T04:34:23.099Z"
   },
   {
    "duration": 110,
    "start_time": "2025-02-02T04:34:35.942Z"
   },
   {
    "duration": 108,
    "start_time": "2025-02-02T04:34:41.773Z"
   },
   {
    "duration": 111,
    "start_time": "2025-02-02T04:34:47.623Z"
   },
   {
    "duration": 144,
    "start_time": "2025-02-02T04:35:00.289Z"
   },
   {
    "duration": 531,
    "start_time": "2025-02-02T04:42:55.060Z"
   },
   {
    "duration": 91,
    "start_time": "2025-02-02T04:43:14.306Z"
   },
   {
    "duration": 10510,
    "start_time": "2025-02-02T04:51:15.933Z"
   },
   {
    "duration": 2756,
    "start_time": "2025-02-02T04:51:32.799Z"
   },
   {
    "duration": 31,
    "start_time": "2025-02-02T04:52:25.028Z"
   },
   {
    "duration": 44,
    "start_time": "2025-02-02T04:52:41.517Z"
   },
   {
    "duration": 25,
    "start_time": "2025-02-02T04:52:49.040Z"
   },
   {
    "duration": 13,
    "start_time": "2025-02-02T04:53:02.440Z"
   },
   {
    "duration": 15,
    "start_time": "2025-02-02T04:53:06.568Z"
   },
   {
    "duration": 4,
    "start_time": "2025-02-02T04:53:14.430Z"
   },
   {
    "duration": 401,
    "start_time": "2025-02-02T04:53:14.436Z"
   },
   {
    "duration": 18,
    "start_time": "2025-02-02T04:53:14.839Z"
   },
   {
    "duration": 99,
    "start_time": "2025-02-02T04:53:14.860Z"
   },
   {
    "duration": 5,
    "start_time": "2025-02-02T04:53:14.960Z"
   },
   {
    "duration": 72,
    "start_time": "2025-02-02T04:53:14.967Z"
   },
   {
    "duration": 202,
    "start_time": "2025-02-02T04:53:15.041Z"
   },
   {
    "duration": 448,
    "start_time": "2025-02-02T04:53:15.245Z"
   },
   {
    "duration": 19,
    "start_time": "2025-02-02T04:53:15.694Z"
   },
   {
    "duration": 10503,
    "start_time": "2025-02-02T04:53:15.715Z"
   },
   {
    "duration": 25,
    "start_time": "2025-02-02T04:53:29.256Z"
   },
   {
    "duration": 132,
    "start_time": "2025-02-02T04:54:37.899Z"
   },
   {
    "duration": 49,
    "start_time": "2025-02-02T04:54:56.218Z"
   },
   {
    "duration": 13,
    "start_time": "2025-02-02T04:59:26.367Z"
   },
   {
    "duration": 999,
    "start_time": "2025-02-02T05:01:57.785Z"
   },
   {
    "duration": 396,
    "start_time": "2025-02-02T05:01:58.786Z"
   },
   {
    "duration": 20,
    "start_time": "2025-02-02T05:01:59.184Z"
   },
   {
    "duration": 111,
    "start_time": "2025-02-02T05:01:59.206Z"
   },
   {
    "duration": 4,
    "start_time": "2025-02-02T05:01:59.320Z"
   },
   {
    "duration": 61,
    "start_time": "2025-02-02T05:01:59.325Z"
   },
   {
    "duration": 246,
    "start_time": "2025-02-02T05:01:59.388Z"
   },
   {
    "duration": 501,
    "start_time": "2025-02-02T05:01:59.636Z"
   },
   {
    "duration": 14,
    "start_time": "2025-02-02T05:02:00.139Z"
   },
   {
    "duration": 10693,
    "start_time": "2025-02-02T05:02:00.154Z"
   },
   {
    "duration": 62,
    "start_time": "2025-02-02T05:02:10.849Z"
   },
   {
    "duration": 101,
    "start_time": "2025-02-02T05:02:10.912Z"
   },
   {
    "duration": 21,
    "start_time": "2025-02-02T05:02:11.014Z"
   },
   {
    "duration": 91,
    "start_time": "2025-02-02T05:02:27.849Z"
   },
   {
    "duration": 88109,
    "start_time": "2025-02-02T05:02:49.769Z"
   },
   {
    "duration": 88,
    "start_time": "2025-02-02T05:09:42.997Z"
   },
   {
    "duration": 6137,
    "start_time": "2025-02-02T05:11:47.382Z"
   },
   {
    "duration": 2449,
    "start_time": "2025-02-02T05:12:07.943Z"
   },
   {
    "duration": 58,
    "start_time": "2025-02-02T05:13:08.946Z"
   },
   {
    "duration": 153,
    "start_time": "2025-02-02T23:27:52.876Z"
   },
   {
    "duration": 2708,
    "start_time": "2025-02-02T23:27:58.247Z"
   },
   {
    "duration": 458,
    "start_time": "2025-02-02T23:28:00.958Z"
   },
   {
    "duration": 21,
    "start_time": "2025-02-02T23:28:01.418Z"
   },
   {
    "duration": 104,
    "start_time": "2025-02-02T23:28:01.440Z"
   },
   {
    "duration": 4,
    "start_time": "2025-02-02T23:28:01.547Z"
   },
   {
    "duration": 72,
    "start_time": "2025-02-02T23:28:01.553Z"
   },
   {
    "duration": 794,
    "start_time": "2025-02-02T23:28:05.325Z"
   },
   {
    "duration": 157,
    "start_time": "2025-02-02T23:28:24.753Z"
   },
   {
    "duration": 80,
    "start_time": "2025-02-02T23:28:36.727Z"
   },
   {
    "duration": 52,
    "start_time": "2025-02-02T23:29:18.174Z"
   },
   {
    "duration": 32,
    "start_time": "2025-02-02T23:29:38.139Z"
   },
   {
    "duration": 34,
    "start_time": "2025-02-02T23:29:42.341Z"
   },
   {
    "duration": 3,
    "start_time": "2025-02-02T23:29:51.221Z"
   },
   {
    "duration": 418,
    "start_time": "2025-02-02T23:29:51.227Z"
   },
   {
    "duration": 27,
    "start_time": "2025-02-02T23:29:51.647Z"
   },
   {
    "duration": 96,
    "start_time": "2025-02-02T23:29:51.677Z"
   },
   {
    "duration": 4,
    "start_time": "2025-02-02T23:29:51.775Z"
   },
   {
    "duration": 57,
    "start_time": "2025-02-02T23:29:51.781Z"
   },
   {
    "duration": 38,
    "start_time": "2025-02-02T23:29:53.888Z"
   },
   {
    "duration": 18,
    "start_time": "2025-02-02T23:51:18.055Z"
   },
   {
    "duration": 36,
    "start_time": "2025-02-02T23:53:17.823Z"
   },
   {
    "duration": 3,
    "start_time": "2025-02-02T23:53:30.224Z"
   },
   {
    "duration": 390,
    "start_time": "2025-02-02T23:53:30.229Z"
   },
   {
    "duration": 17,
    "start_time": "2025-02-02T23:53:30.620Z"
   },
   {
    "duration": 104,
    "start_time": "2025-02-02T23:53:30.639Z"
   },
   {
    "duration": 4,
    "start_time": "2025-02-02T23:53:30.745Z"
   },
   {
    "duration": 69,
    "start_time": "2025-02-02T23:53:30.750Z"
   },
   {
    "duration": 36,
    "start_time": "2025-02-02T23:53:32.590Z"
   },
   {
    "duration": 36,
    "start_time": "2025-02-02T23:56:03.538Z"
   },
   {
    "duration": 4,
    "start_time": "2025-02-02T23:56:07.365Z"
   },
   {
    "duration": 398,
    "start_time": "2025-02-02T23:56:07.371Z"
   },
   {
    "duration": 17,
    "start_time": "2025-02-02T23:56:07.771Z"
   },
   {
    "duration": 103,
    "start_time": "2025-02-02T23:56:07.790Z"
   },
   {
    "duration": 4,
    "start_time": "2025-02-02T23:56:07.896Z"
   },
   {
    "duration": 69,
    "start_time": "2025-02-02T23:56:07.902Z"
   },
   {
    "duration": 36,
    "start_time": "2025-02-02T23:56:10.150Z"
   },
   {
    "duration": 74,
    "start_time": "2025-02-03T00:02:41.402Z"
   },
   {
    "duration": 129,
    "start_time": "2025-02-03T00:03:01.313Z"
   },
   {
    "duration": 159,
    "start_time": "2025-02-03T00:03:18.901Z"
   },
   {
    "duration": 153,
    "start_time": "2025-02-03T00:03:39.257Z"
   },
   {
    "duration": 72,
    "start_time": "2025-02-03T00:03:49.378Z"
   },
   {
    "duration": 168,
    "start_time": "2025-02-11T02:18:47.795Z"
   },
   {
    "duration": 2771,
    "start_time": "2025-02-11T02:18:52.156Z"
   },
   {
    "duration": 482,
    "start_time": "2025-02-11T02:18:54.929Z"
   },
   {
    "duration": 24,
    "start_time": "2025-02-11T02:18:55.413Z"
   },
   {
    "duration": 96,
    "start_time": "2025-02-11T02:18:55.439Z"
   },
   {
    "duration": 6,
    "start_time": "2025-02-11T02:18:55.538Z"
   },
   {
    "duration": 56,
    "start_time": "2025-02-11T02:18:55.545Z"
   },
   {
    "duration": 39,
    "start_time": "2025-02-11T02:18:55.624Z"
   },
   {
    "duration": 239,
    "start_time": "2025-02-11T02:18:55.664Z"
   },
   {
    "duration": 496,
    "start_time": "2025-02-11T02:18:55.905Z"
   },
   {
    "duration": 534,
    "start_time": "2025-02-11T02:18:56.402Z"
   },
   {
    "duration": 0,
    "start_time": "2025-02-11T02:18:56.938Z"
   },
   {
    "duration": 0,
    "start_time": "2025-02-11T02:18:56.940Z"
   },
   {
    "duration": 0,
    "start_time": "2025-02-11T02:18:56.942Z"
   },
   {
    "duration": 0,
    "start_time": "2025-02-11T02:18:56.943Z"
   },
   {
    "duration": 0,
    "start_time": "2025-02-11T02:18:56.945Z"
   },
   {
    "duration": 0,
    "start_time": "2025-02-11T02:18:56.947Z"
   },
   {
    "duration": 14,
    "start_time": "2025-02-11T02:19:18.950Z"
   },
   {
    "duration": 26,
    "start_time": "2025-02-11T02:19:34.964Z"
   },
   {
    "duration": 445,
    "start_time": "2025-02-11T02:19:52.187Z"
   },
   {
    "duration": 10485,
    "start_time": "2025-02-11T02:20:13.020Z"
   },
   {
    "duration": 51,
    "start_time": "2025-02-11T02:20:35.035Z"
   },
   {
    "duration": 14,
    "start_time": "2025-02-11T02:20:50.153Z"
   },
   {
    "duration": 6320,
    "start_time": "2025-02-11T02:20:53.553Z"
   },
   {
    "duration": 62,
    "start_time": "2025-02-11T02:21:01.992Z"
   },
   {
    "duration": 72,
    "start_time": "2025-02-11T02:21:10.466Z"
   },
   {
    "duration": 336,
    "start_time": "2025-02-11T02:21:30.337Z"
   },
   {
    "duration": 326,
    "start_time": "2025-02-11T02:24:50.367Z"
   },
   {
    "duration": 2295,
    "start_time": "2025-02-11T02:28:37.519Z"
   },
   {
    "duration": 14,
    "start_time": "2025-02-11T02:29:18.013Z"
   },
   {
    "duration": 34,
    "start_time": "2025-02-11T02:36:38.382Z"
   },
   {
    "duration": 70,
    "start_time": "2025-02-11T02:38:50.992Z"
   },
   {
    "duration": 3,
    "start_time": "2025-02-11T02:39:14.081Z"
   },
   {
    "duration": 5,
    "start_time": "2025-02-11T02:41:06.228Z"
   },
   {
    "duration": 117,
    "start_time": "2025-02-11T02:41:13.064Z"
   },
   {
    "duration": 131,
    "start_time": "2025-02-11T02:41:22.330Z"
   },
   {
    "duration": 191,
    "start_time": "2025-02-11T02:43:29.682Z"
   },
   {
    "duration": 216,
    "start_time": "2025-02-11T02:44:33.193Z"
   },
   {
    "duration": 248,
    "start_time": "2025-02-11T02:46:43.296Z"
   },
   {
    "duration": 273,
    "start_time": "2025-02-11T02:48:48.026Z"
   },
   {
    "duration": 209,
    "start_time": "2025-02-11T02:50:11.294Z"
   },
   {
    "duration": 289,
    "start_time": "2025-02-11T02:52:26.066Z"
   },
   {
    "duration": 4,
    "start_time": "2025-02-11T02:52:47.011Z"
   },
   {
    "duration": 387,
    "start_time": "2025-02-11T02:52:53.544Z"
   },
   {
    "duration": 472,
    "start_time": "2025-02-11T02:55:27.715Z"
   },
   {
    "duration": 3,
    "start_time": "2025-02-11T02:55:47.595Z"
   },
   {
    "duration": 998,
    "start_time": "2025-02-11T02:56:16.210Z"
   },
   {
    "duration": 460,
    "start_time": "2025-02-11T02:56:17.210Z"
   },
   {
    "duration": 25,
    "start_time": "2025-02-11T02:56:17.674Z"
   },
   {
    "duration": 109,
    "start_time": "2025-02-11T02:56:17.701Z"
   },
   {
    "duration": 11,
    "start_time": "2025-02-11T02:56:17.813Z"
   },
   {
    "duration": 60,
    "start_time": "2025-02-11T02:56:17.827Z"
   },
   {
    "duration": 61,
    "start_time": "2025-02-11T02:56:17.889Z"
   },
   {
    "duration": 239,
    "start_time": "2025-02-11T02:56:17.952Z"
   },
   {
    "duration": 490,
    "start_time": "2025-02-11T02:56:18.193Z"
   },
   {
    "duration": 13,
    "start_time": "2025-02-11T02:56:18.686Z"
   },
   {
    "duration": 10471,
    "start_time": "2025-02-11T02:56:18.700Z"
   },
   {
    "duration": 59,
    "start_time": "2025-02-11T02:56:29.173Z"
   },
   {
    "duration": 12,
    "start_time": "2025-02-11T02:56:29.234Z"
   },
   {
    "duration": 6131,
    "start_time": "2025-02-11T02:56:29.248Z"
   },
   {
    "duration": 57,
    "start_time": "2025-02-11T02:56:35.382Z"
   },
   {
    "duration": 83,
    "start_time": "2025-02-11T02:56:35.441Z"
   },
   {
    "duration": 2388,
    "start_time": "2025-02-11T02:56:35.526Z"
   },
   {
    "duration": 17,
    "start_time": "2025-02-11T02:56:37.916Z"
   },
   {
    "duration": 166,
    "start_time": "2025-02-11T03:00:39.838Z"
   },
   {
    "duration": 1031,
    "start_time": "2025-02-11T03:00:49.784Z"
   },
   {
    "duration": 459,
    "start_time": "2025-02-11T03:00:50.818Z"
   },
   {
    "duration": 19,
    "start_time": "2025-02-11T03:00:51.279Z"
   },
   {
    "duration": 103,
    "start_time": "2025-02-11T03:00:51.300Z"
   },
   {
    "duration": 6,
    "start_time": "2025-02-11T03:00:51.405Z"
   },
   {
    "duration": 91,
    "start_time": "2025-02-11T03:00:51.412Z"
   },
   {
    "duration": 52,
    "start_time": "2025-02-11T03:00:51.505Z"
   },
   {
    "duration": 233,
    "start_time": "2025-02-11T03:00:51.559Z"
   },
   {
    "duration": 527,
    "start_time": "2025-02-11T03:00:51.794Z"
   },
   {
    "duration": 13,
    "start_time": "2025-02-11T03:00:52.323Z"
   },
   {
    "duration": 10390,
    "start_time": "2025-02-11T03:00:52.338Z"
   },
   {
    "duration": 51,
    "start_time": "2025-02-11T03:01:02.730Z"
   },
   {
    "duration": 14,
    "start_time": "2025-02-11T03:01:02.783Z"
   },
   {
    "duration": 6119,
    "start_time": "2025-02-11T03:01:02.800Z"
   },
   {
    "duration": 56,
    "start_time": "2025-02-11T03:01:08.920Z"
   },
   {
    "duration": 95,
    "start_time": "2025-02-11T03:01:08.978Z"
   },
   {
    "duration": 2330,
    "start_time": "2025-02-11T03:01:09.075Z"
   },
   {
    "duration": 19,
    "start_time": "2025-02-11T03:01:11.406Z"
   },
   {
    "duration": 161,
    "start_time": "2025-02-11T03:01:59.336Z"
   },
   {
    "duration": 1013,
    "start_time": "2025-02-11T03:02:06.617Z"
   },
   {
    "duration": 458,
    "start_time": "2025-02-11T03:02:07.634Z"
   },
   {
    "duration": 31,
    "start_time": "2025-02-11T03:02:08.094Z"
   },
   {
    "duration": 97,
    "start_time": "2025-02-11T03:02:08.128Z"
   },
   {
    "duration": 5,
    "start_time": "2025-02-11T03:02:08.232Z"
   },
   {
    "duration": 62,
    "start_time": "2025-02-11T03:02:08.238Z"
   },
   {
    "duration": 58,
    "start_time": "2025-02-11T03:02:08.303Z"
   },
   {
    "duration": 251,
    "start_time": "2025-02-11T03:02:08.363Z"
   },
   {
    "duration": 477,
    "start_time": "2025-02-11T03:02:08.616Z"
   },
   {
    "duration": 13,
    "start_time": "2025-02-11T03:02:09.095Z"
   },
   {
    "duration": 10637,
    "start_time": "2025-02-11T03:02:09.109Z"
   },
   {
    "duration": 50,
    "start_time": "2025-02-11T03:02:19.749Z"
   },
   {
    "duration": 26,
    "start_time": "2025-02-11T03:02:19.801Z"
   },
   {
    "duration": 6229,
    "start_time": "2025-02-11T03:02:19.831Z"
   },
   {
    "duration": 63,
    "start_time": "2025-02-11T03:02:26.062Z"
   },
   {
    "duration": 73,
    "start_time": "2025-02-11T03:02:26.127Z"
   },
   {
    "duration": 2426,
    "start_time": "2025-02-11T03:02:26.202Z"
   },
   {
    "duration": 13,
    "start_time": "2025-02-11T03:02:28.629Z"
   },
   {
    "duration": 1046,
    "start_time": "2025-02-11T03:03:33.094Z"
   },
   {
    "duration": 451,
    "start_time": "2025-02-11T03:03:34.143Z"
   },
   {
    "duration": 28,
    "start_time": "2025-02-11T03:03:34.596Z"
   },
   {
    "duration": 101,
    "start_time": "2025-02-11T03:03:34.625Z"
   },
   {
    "duration": 6,
    "start_time": "2025-02-11T03:03:34.729Z"
   },
   {
    "duration": 60,
    "start_time": "2025-02-11T03:03:34.736Z"
   },
   {
    "duration": 64,
    "start_time": "2025-02-11T03:03:34.797Z"
   },
   {
    "duration": 241,
    "start_time": "2025-02-11T03:03:34.863Z"
   },
   {
    "duration": 485,
    "start_time": "2025-02-11T03:03:35.106Z"
   },
   {
    "duration": 14,
    "start_time": "2025-02-11T03:03:35.593Z"
   },
   {
    "duration": 10317,
    "start_time": "2025-02-11T03:03:35.608Z"
   },
   {
    "duration": 51,
    "start_time": "2025-02-11T03:03:45.927Z"
   },
   {
    "duration": 13,
    "start_time": "2025-02-11T03:03:45.980Z"
   },
   {
    "duration": 6209,
    "start_time": "2025-02-11T03:03:45.997Z"
   },
   {
    "duration": 67,
    "start_time": "2025-02-11T03:03:52.208Z"
   },
   {
    "duration": 96,
    "start_time": "2025-02-11T03:03:52.277Z"
   },
   {
    "duration": 2407,
    "start_time": "2025-02-11T03:03:52.375Z"
   },
   {
    "duration": 15,
    "start_time": "2025-02-11T03:03:54.784Z"
   },
   {
    "duration": 1061,
    "start_time": "2025-02-11T03:04:41.728Z"
   },
   {
    "duration": 461,
    "start_time": "2025-02-11T03:04:42.791Z"
   },
   {
    "duration": 22,
    "start_time": "2025-02-11T03:04:43.253Z"
   },
   {
    "duration": 100,
    "start_time": "2025-02-11T03:04:43.277Z"
   },
   {
    "duration": 5,
    "start_time": "2025-02-11T03:04:43.379Z"
   },
   {
    "duration": 75,
    "start_time": "2025-02-11T03:04:43.385Z"
   },
   {
    "duration": 46,
    "start_time": "2025-02-11T03:04:43.461Z"
   },
   {
    "duration": 251,
    "start_time": "2025-02-11T03:04:43.509Z"
   },
   {
    "duration": 466,
    "start_time": "2025-02-11T03:04:43.762Z"
   },
   {
    "duration": 13,
    "start_time": "2025-02-11T03:04:44.230Z"
   },
   {
    "duration": 10302,
    "start_time": "2025-02-11T03:04:44.245Z"
   },
   {
    "duration": 56,
    "start_time": "2025-02-11T03:04:54.549Z"
   },
   {
    "duration": 26,
    "start_time": "2025-02-11T03:04:54.607Z"
   },
   {
    "duration": 6067,
    "start_time": "2025-02-11T03:04:54.635Z"
   },
   {
    "duration": 58,
    "start_time": "2025-02-11T03:05:00.704Z"
   },
   {
    "duration": 84,
    "start_time": "2025-02-11T03:05:00.763Z"
   },
   {
    "duration": 2365,
    "start_time": "2025-02-11T03:05:00.849Z"
   },
   {
    "duration": 20,
    "start_time": "2025-02-11T03:05:03.217Z"
   },
   {
    "duration": 253,
    "start_time": "2025-02-11T03:05:03.238Z"
   },
   {
    "duration": 0,
    "start_time": "2025-02-11T03:05:03.493Z"
   },
   {
    "duration": 9094,
    "start_time": "2025-02-11T03:05:27.395Z"
   },
   {
    "duration": 13,
    "start_time": "2025-02-11T03:06:41.135Z"
   },
   {
    "duration": 153,
    "start_time": "2025-02-11T03:07:42.542Z"
   },
   {
    "duration": 5,
    "start_time": "2025-02-11T03:13:29.134Z"
   },
   {
    "duration": 20,
    "start_time": "2025-02-11T03:13:53.951Z"
   },
   {
    "duration": 22,
    "start_time": "2025-02-11T03:14:15.200Z"
   },
   {
    "duration": 6,
    "start_time": "2025-02-11T03:14:25.184Z"
   },
   {
    "duration": 5,
    "start_time": "2025-02-11T03:15:53.867Z"
   },
   {
    "duration": 4,
    "start_time": "2025-02-11T03:15:57.691Z"
   },
   {
    "duration": 398,
    "start_time": "2025-02-11T03:15:57.697Z"
   },
   {
    "duration": 18,
    "start_time": "2025-02-11T03:15:58.096Z"
   },
   {
    "duration": 99,
    "start_time": "2025-02-11T03:15:58.125Z"
   },
   {
    "duration": 7,
    "start_time": "2025-02-11T03:15:58.227Z"
   },
   {
    "duration": 57,
    "start_time": "2025-02-11T03:15:58.236Z"
   },
   {
    "duration": 52,
    "start_time": "2025-02-11T03:15:58.295Z"
   },
   {
    "duration": 200,
    "start_time": "2025-02-11T03:15:58.349Z"
   },
   {
    "duration": 441,
    "start_time": "2025-02-11T03:15:58.550Z"
   },
   {
    "duration": 14,
    "start_time": "2025-02-11T03:15:58.993Z"
   },
   {
    "duration": 10570,
    "start_time": "2025-02-11T03:15:59.008Z"
   },
   {
    "duration": 60,
    "start_time": "2025-02-11T03:16:09.580Z"
   },
   {
    "duration": 13,
    "start_time": "2025-02-11T03:16:09.641Z"
   },
   {
    "duration": 6099,
    "start_time": "2025-02-11T03:16:09.657Z"
   },
   {
    "duration": 49,
    "start_time": "2025-02-11T03:16:15.758Z"
   },
   {
    "duration": 83,
    "start_time": "2025-02-11T03:16:15.808Z"
   },
   {
    "duration": 2366,
    "start_time": "2025-02-11T03:16:15.894Z"
   },
   {
    "duration": 13,
    "start_time": "2025-02-11T03:16:18.266Z"
   },
   {
    "duration": 9071,
    "start_time": "2025-02-11T03:16:18.281Z"
   },
   {
    "duration": 38,
    "start_time": "2025-02-11T03:16:37.619Z"
   },
   {
    "duration": 225,
    "start_time": "2025-02-11T03:16:50.407Z"
   },
   {
    "duration": 53,
    "start_time": "2025-02-11T03:21:08.547Z"
   },
   {
    "duration": 562,
    "start_time": "2025-02-11T03:21:55.521Z"
   },
   {
    "duration": 4,
    "start_time": "2025-02-11T03:24:21.651Z"
   },
   {
    "duration": 4,
    "start_time": "2025-02-11T03:24:44.533Z"
   },
   {
    "duration": 679,
    "start_time": "2025-02-11T03:24:49.531Z"
   },
   {
    "duration": 603,
    "start_time": "2025-02-11T03:25:38.624Z"
   },
   {
    "duration": 730,
    "start_time": "2025-02-11T03:26:24.985Z"
   },
   {
    "duration": 80,
    "start_time": "2025-02-11T03:26:52.750Z"
   },
   {
    "duration": 4,
    "start_time": "2025-02-11T03:27:06.586Z"
   },
   {
    "duration": 363,
    "start_time": "2025-02-11T03:27:06.593Z"
   },
   {
    "duration": 19,
    "start_time": "2025-02-11T03:27:06.957Z"
   },
   {
    "duration": 101,
    "start_time": "2025-02-11T03:27:06.977Z"
   },
   {
    "duration": 4,
    "start_time": "2025-02-11T03:27:07.081Z"
   },
   {
    "duration": 71,
    "start_time": "2025-02-11T03:27:07.087Z"
   },
   {
    "duration": 34,
    "start_time": "2025-02-11T03:27:07.160Z"
   },
   {
    "duration": 216,
    "start_time": "2025-02-11T03:27:07.196Z"
   },
   {
    "duration": 459,
    "start_time": "2025-02-11T03:27:07.415Z"
   },
   {
    "duration": 13,
    "start_time": "2025-02-11T03:27:07.876Z"
   },
   {
    "duration": 10353,
    "start_time": "2025-02-11T03:27:07.891Z"
   },
   {
    "duration": 53,
    "start_time": "2025-02-11T03:27:18.246Z"
   },
   {
    "duration": 27,
    "start_time": "2025-02-11T03:27:18.301Z"
   },
   {
    "duration": 6142,
    "start_time": "2025-02-11T03:27:18.333Z"
   },
   {
    "duration": 66,
    "start_time": "2025-02-11T03:27:24.477Z"
   },
   {
    "duration": 81,
    "start_time": "2025-02-11T03:27:24.545Z"
   },
   {
    "duration": 2368,
    "start_time": "2025-02-11T03:27:24.628Z"
   },
   {
    "duration": 13,
    "start_time": "2025-02-11T03:27:26.998Z"
   },
   {
    "duration": 9120,
    "start_time": "2025-02-11T03:27:27.012Z"
   },
   {
    "duration": 690,
    "start_time": "2025-02-11T03:27:42.461Z"
   },
   {
    "duration": 74,
    "start_time": "2025-02-11T03:28:18.498Z"
   },
   {
    "duration": 4,
    "start_time": "2025-02-11T03:28:27.475Z"
   },
   {
    "duration": 398,
    "start_time": "2025-02-11T03:28:27.481Z"
   },
   {
    "duration": 25,
    "start_time": "2025-02-11T03:28:27.881Z"
   },
   {
    "duration": 105,
    "start_time": "2025-02-11T03:28:27.910Z"
   },
   {
    "duration": 5,
    "start_time": "2025-02-11T03:28:28.026Z"
   },
   {
    "duration": 58,
    "start_time": "2025-02-11T03:28:28.034Z"
   },
   {
    "duration": 52,
    "start_time": "2025-02-11T03:28:28.094Z"
   },
   {
    "duration": 216,
    "start_time": "2025-02-11T03:28:28.148Z"
   },
   {
    "duration": 424,
    "start_time": "2025-02-11T03:28:28.366Z"
   },
   {
    "duration": 14,
    "start_time": "2025-02-11T03:28:28.792Z"
   },
   {
    "duration": 10717,
    "start_time": "2025-02-11T03:28:28.808Z"
   },
   {
    "duration": 56,
    "start_time": "2025-02-11T03:28:39.526Z"
   },
   {
    "duration": 14,
    "start_time": "2025-02-11T03:28:39.584Z"
   },
   {
    "duration": 6402,
    "start_time": "2025-02-11T03:28:39.601Z"
   },
   {
    "duration": 54,
    "start_time": "2025-02-11T03:28:46.004Z"
   },
   {
    "duration": 82,
    "start_time": "2025-02-11T03:28:46.059Z"
   },
   {
    "duration": 2396,
    "start_time": "2025-02-11T03:28:46.144Z"
   },
   {
    "duration": 14,
    "start_time": "2025-02-11T03:28:48.541Z"
   },
   {
    "duration": 9305,
    "start_time": "2025-02-11T03:28:48.558Z"
   },
   {
    "duration": 721,
    "start_time": "2025-02-11T03:29:00.869Z"
   },
   {
    "duration": 158,
    "start_time": "2025-02-11T23:07:09.175Z"
   },
   {
    "duration": 2801,
    "start_time": "2025-02-11T23:07:13.137Z"
   },
   {
    "duration": 455,
    "start_time": "2025-02-11T23:07:15.940Z"
   },
   {
    "duration": 21,
    "start_time": "2025-02-11T23:07:16.396Z"
   },
   {
    "duration": 106,
    "start_time": "2025-02-11T23:07:16.419Z"
   },
   {
    "duration": 4,
    "start_time": "2025-02-11T23:07:16.527Z"
   },
   {
    "duration": 79,
    "start_time": "2025-02-11T23:07:16.533Z"
   },
   {
    "duration": 36,
    "start_time": "2025-02-11T23:07:16.614Z"
   },
   {
    "duration": 236,
    "start_time": "2025-02-11T23:07:16.652Z"
   },
   {
    "duration": 466,
    "start_time": "2025-02-11T23:07:16.889Z"
   },
   {
    "duration": 13,
    "start_time": "2025-02-11T23:07:17.359Z"
   },
   {
    "duration": 10348,
    "start_time": "2025-02-11T23:07:17.387Z"
   },
   {
    "duration": 62,
    "start_time": "2025-02-11T23:07:27.737Z"
   },
   {
    "duration": 13,
    "start_time": "2025-02-11T23:07:27.801Z"
   },
   {
    "duration": 6317,
    "start_time": "2025-02-11T23:07:27.816Z"
   },
   {
    "duration": 62,
    "start_time": "2025-02-11T23:07:34.135Z"
   },
   {
    "duration": 71,
    "start_time": "2025-02-11T23:07:34.198Z"
   },
   {
    "duration": 2336,
    "start_time": "2025-02-11T23:07:34.271Z"
   },
   {
    "duration": 12,
    "start_time": "2025-02-11T23:07:36.609Z"
   },
   {
    "duration": 8865,
    "start_time": "2025-02-11T23:07:36.623Z"
   },
   {
    "duration": 748,
    "start_time": "2025-02-11T23:07:45.490Z"
   },
   {
    "duration": 13,
    "start_time": "2025-02-11T23:07:54.377Z"
   },
   {
    "duration": 822,
    "start_time": "2025-02-11T23:21:25.672Z"
   },
   {
    "duration": 87,
    "start_time": "2025-02-11T23:21:51.268Z"
   },
   {
    "duration": 8,
    "start_time": "2025-02-11T23:25:02.699Z"
   },
   {
    "duration": 8142,
    "start_time": "2025-02-11T23:26:34.870Z"
   },
   {
    "duration": 2443,
    "start_time": "2025-02-11T23:26:58.014Z"
   },
   {
    "duration": 14,
    "start_time": "2025-02-11T23:29:54.737Z"
   },
   {
    "duration": 17,
    "start_time": "2025-02-11T23:33:37.828Z"
   },
   {
    "duration": 155,
    "start_time": "2025-02-11T23:34:22.246Z"
   },
   {
    "duration": 43,
    "start_time": "2025-02-11T23:34:36.760Z"
   },
   {
    "duration": 78,
    "start_time": "2025-02-11T23:37:22.660Z"
   },
   {
    "duration": 69,
    "start_time": "2025-02-11T23:41:06.669Z"
   },
   {
    "duration": 3066,
    "start_time": "2025-02-11T23:44:45.087Z"
   },
   {
    "duration": 384,
    "start_time": "2025-02-11T23:45:08.113Z"
   },
   {
    "duration": 71,
    "start_time": "2025-02-11T23:45:28.524Z"
   },
   {
    "duration": 3028,
    "start_time": "2025-02-11T23:45:37.631Z"
   },
   {
    "duration": 60,
    "start_time": "2025-02-11T23:47:27.191Z"
   },
   {
    "duration": 5,
    "start_time": "2025-02-12T00:02:40.318Z"
   },
   {
    "duration": 212,
    "start_time": "2025-02-12T00:02:49.799Z"
   },
   {
    "duration": 163,
    "start_time": "2025-02-12T00:05:07.300Z"
   },
   {
    "duration": 333,
    "start_time": "2025-02-12T00:41:02.867Z"
   },
   {
    "duration": 11,
    "start_time": "2025-02-12T00:41:34.866Z"
   },
   {
    "duration": 19,
    "start_time": "2025-02-12T00:41:48.972Z"
   },
   {
    "duration": 13,
    "start_time": "2025-02-12T00:42:06.895Z"
   },
   {
    "duration": 74,
    "start_time": "2025-02-12T00:44:23.828Z"
   },
   {
    "duration": 87,
    "start_time": "2025-02-12T00:49:38.272Z"
   },
   {
    "duration": 84,
    "start_time": "2025-02-12T00:50:53.619Z"
   },
   {
    "duration": 4,
    "start_time": "2025-02-12T00:55:41.289Z"
   },
   {
    "duration": 32,
    "start_time": "2025-02-12T01:00:03.975Z"
   },
   {
    "duration": 56,
    "start_time": "2025-02-12T01:02:30.441Z"
   },
   {
    "duration": 15,
    "start_time": "2025-02-12T01:02:46.166Z"
   },
   {
    "duration": 209,
    "start_time": "2025-02-12T01:03:02.174Z"
   },
   {
    "duration": 31,
    "start_time": "2025-02-12T01:03:15.651Z"
   },
   {
    "duration": 184,
    "start_time": "2025-02-12T01:03:20.608Z"
   },
   {
    "duration": 3,
    "start_time": "2025-02-12T01:03:24.099Z"
   },
   {
    "duration": 378,
    "start_time": "2025-02-12T01:03:24.105Z"
   },
   {
    "duration": 18,
    "start_time": "2025-02-12T01:03:24.487Z"
   },
   {
    "duration": 102,
    "start_time": "2025-02-12T01:03:24.506Z"
   },
   {
    "duration": 4,
    "start_time": "2025-02-12T01:03:24.610Z"
   },
   {
    "duration": 54,
    "start_time": "2025-02-12T01:03:24.615Z"
   },
   {
    "duration": 46,
    "start_time": "2025-02-12T01:03:24.671Z"
   },
   {
    "duration": 198,
    "start_time": "2025-02-12T01:03:24.719Z"
   },
   {
    "duration": 402,
    "start_time": "2025-02-12T01:03:24.918Z"
   },
   {
    "duration": 13,
    "start_time": "2025-02-12T01:03:25.322Z"
   },
   {
    "duration": 10551,
    "start_time": "2025-02-12T01:03:25.338Z"
   },
   {
    "duration": 59,
    "start_time": "2025-02-12T01:03:35.891Z"
   },
   {
    "duration": 13,
    "start_time": "2025-02-12T01:03:35.952Z"
   },
   {
    "duration": 6323,
    "start_time": "2025-02-12T01:03:35.969Z"
   },
   {
    "duration": 51,
    "start_time": "2025-02-12T01:03:42.294Z"
   },
   {
    "duration": 89,
    "start_time": "2025-02-12T01:03:42.347Z"
   },
   {
    "duration": 2406,
    "start_time": "2025-02-12T01:03:42.439Z"
   },
   {
    "duration": 13,
    "start_time": "2025-02-12T01:03:44.847Z"
   },
   {
    "duration": 9132,
    "start_time": "2025-02-12T01:03:44.861Z"
   },
   {
    "duration": 743,
    "start_time": "2025-02-12T01:03:53.995Z"
   },
   {
    "duration": 13,
    "start_time": "2025-02-12T01:03:54.741Z"
   },
   {
    "duration": 8139,
    "start_time": "2025-02-12T01:03:54.756Z"
   },
   {
    "duration": 44,
    "start_time": "2025-02-12T01:04:02.898Z"
   },
   {
    "duration": 64,
    "start_time": "2025-02-12T01:04:02.943Z"
   },
   {
    "duration": 3135,
    "start_time": "2025-02-12T01:04:03.009Z"
   },
   {
    "duration": 67,
    "start_time": "2025-02-12T01:04:06.145Z"
   },
   {
    "duration": 172,
    "start_time": "2025-02-12T01:04:06.214Z"
   },
   {
    "duration": 19,
    "start_time": "2025-02-12T01:04:06.388Z"
   },
   {
    "duration": 83,
    "start_time": "2025-02-12T01:04:06.410Z"
   },
   {
    "duration": 11,
    "start_time": "2025-02-12T01:04:06.495Z"
   },
   {
    "duration": 9180,
    "start_time": "2025-02-12T01:04:19.619Z"
   },
   {
    "duration": 34,
    "start_time": "2025-02-12T01:05:33.758Z"
   },
   {
    "duration": 5,
    "start_time": "2025-02-12T01:05:41.945Z"
   },
   {
    "duration": 395,
    "start_time": "2025-02-12T01:05:41.952Z"
   },
   {
    "duration": 16,
    "start_time": "2025-02-12T01:05:42.349Z"
   },
   {
    "duration": 101,
    "start_time": "2025-02-12T01:05:42.367Z"
   },
   {
    "duration": 16,
    "start_time": "2025-02-12T01:05:42.470Z"
   },
   {
    "duration": 56,
    "start_time": "2025-02-12T01:05:42.488Z"
   },
   {
    "duration": 54,
    "start_time": "2025-02-12T01:05:42.546Z"
   },
   {
    "duration": 196,
    "start_time": "2025-02-12T01:05:42.602Z"
   },
   {
    "duration": 436,
    "start_time": "2025-02-12T01:05:42.800Z"
   },
   {
    "duration": 13,
    "start_time": "2025-02-12T01:05:43.238Z"
   },
   {
    "duration": 10548,
    "start_time": "2025-02-12T01:05:43.253Z"
   },
   {
    "duration": 52,
    "start_time": "2025-02-12T01:05:53.803Z"
   },
   {
    "duration": 29,
    "start_time": "2025-02-12T01:05:53.858Z"
   },
   {
    "duration": 6171,
    "start_time": "2025-02-12T01:05:53.891Z"
   },
   {
    "duration": 61,
    "start_time": "2025-02-12T01:06:00.064Z"
   },
   {
    "duration": 80,
    "start_time": "2025-02-12T01:06:00.127Z"
   },
   {
    "duration": 2365,
    "start_time": "2025-02-12T01:06:00.209Z"
   },
   {
    "duration": 22,
    "start_time": "2025-02-12T01:06:02.577Z"
   },
   {
    "duration": 9340,
    "start_time": "2025-02-12T01:06:02.600Z"
   },
   {
    "duration": 738,
    "start_time": "2025-02-12T01:06:11.942Z"
   },
   {
    "duration": 14,
    "start_time": "2025-02-12T01:06:12.682Z"
   },
   {
    "duration": 8174,
    "start_time": "2025-02-12T01:06:12.697Z"
   },
   {
    "duration": 47,
    "start_time": "2025-02-12T01:06:20.873Z"
   },
   {
    "duration": 74,
    "start_time": "2025-02-12T01:06:20.922Z"
   },
   {
    "duration": 3098,
    "start_time": "2025-02-12T01:06:20.997Z"
   },
   {
    "duration": 50,
    "start_time": "2025-02-12T01:06:24.097Z"
   },
   {
    "duration": 167,
    "start_time": "2025-02-12T01:06:24.149Z"
   },
   {
    "duration": 14,
    "start_time": "2025-02-12T01:06:24.317Z"
   },
   {
    "duration": 87,
    "start_time": "2025-02-12T01:06:24.333Z"
   },
   {
    "duration": 12,
    "start_time": "2025-02-12T01:06:24.422Z"
   },
   {
    "duration": 9938,
    "start_time": "2025-02-12T01:06:33.226Z"
   },
   {
    "duration": 23,
    "start_time": "2025-02-12T01:08:49.186Z"
   },
   {
    "duration": 3,
    "start_time": "2025-02-12T01:08:52.107Z"
   },
   {
    "duration": 363,
    "start_time": "2025-02-12T01:08:52.112Z"
   },
   {
    "duration": 24,
    "start_time": "2025-02-12T01:08:52.477Z"
   },
   {
    "duration": 103,
    "start_time": "2025-02-12T01:08:52.503Z"
   },
   {
    "duration": 4,
    "start_time": "2025-02-12T01:08:52.609Z"
   },
   {
    "duration": 56,
    "start_time": "2025-02-12T01:08:52.615Z"
   },
   {
    "duration": 36,
    "start_time": "2025-02-12T01:08:52.687Z"
   },
   {
    "duration": 210,
    "start_time": "2025-02-12T01:08:52.725Z"
   },
   {
    "duration": 419,
    "start_time": "2025-02-12T01:08:52.936Z"
   },
   {
    "duration": 13,
    "start_time": "2025-02-12T01:08:53.357Z"
   },
   {
    "duration": 10540,
    "start_time": "2025-02-12T01:08:53.371Z"
   },
   {
    "duration": 74,
    "start_time": "2025-02-12T01:09:03.912Z"
   },
   {
    "duration": 18,
    "start_time": "2025-02-12T01:09:03.991Z"
   },
   {
    "duration": 6138,
    "start_time": "2025-02-12T01:09:04.010Z"
   },
   {
    "duration": 57,
    "start_time": "2025-02-12T01:09:10.150Z"
   },
   {
    "duration": 79,
    "start_time": "2025-02-12T01:09:10.209Z"
   },
   {
    "duration": 2350,
    "start_time": "2025-02-12T01:09:10.290Z"
   },
   {
    "duration": 14,
    "start_time": "2025-02-12T01:09:12.641Z"
   },
   {
    "duration": 9220,
    "start_time": "2025-02-12T01:09:12.657Z"
   },
   {
    "duration": 748,
    "start_time": "2025-02-12T01:09:21.880Z"
   },
   {
    "duration": 13,
    "start_time": "2025-02-12T01:09:22.630Z"
   },
   {
    "duration": 8215,
    "start_time": "2025-02-12T01:09:22.645Z"
   },
   {
    "duration": 48,
    "start_time": "2025-02-12T01:09:30.862Z"
   },
   {
    "duration": 76,
    "start_time": "2025-02-12T01:09:30.913Z"
   },
   {
    "duration": 3248,
    "start_time": "2025-02-12T01:09:30.990Z"
   },
   {
    "duration": 53,
    "start_time": "2025-02-12T01:09:34.240Z"
   },
   {
    "duration": 166,
    "start_time": "2025-02-12T01:09:34.295Z"
   },
   {
    "duration": 14,
    "start_time": "2025-02-12T01:09:34.463Z"
   },
   {
    "duration": 81,
    "start_time": "2025-02-12T01:09:34.479Z"
   },
   {
    "duration": 13,
    "start_time": "2025-02-12T01:09:34.562Z"
   },
   {
    "duration": 19,
    "start_time": "2025-02-12T01:09:47.255Z"
   },
   {
    "duration": 1012,
    "start_time": "2025-02-12T01:10:31.670Z"
   },
   {
    "duration": 460,
    "start_time": "2025-02-12T01:10:32.684Z"
   },
   {
    "duration": 24,
    "start_time": "2025-02-12T01:10:33.147Z"
   },
   {
    "duration": 114,
    "start_time": "2025-02-12T01:10:33.177Z"
   },
   {
    "duration": 7,
    "start_time": "2025-02-12T01:10:33.294Z"
   },
   {
    "duration": 63,
    "start_time": "2025-02-12T01:10:33.303Z"
   },
   {
    "duration": 61,
    "start_time": "2025-02-12T01:10:33.369Z"
   },
   {
    "duration": 241,
    "start_time": "2025-02-12T01:10:33.432Z"
   },
   {
    "duration": 477,
    "start_time": "2025-02-12T01:10:33.675Z"
   },
   {
    "duration": 13,
    "start_time": "2025-02-12T01:10:34.154Z"
   },
   {
    "duration": 10367,
    "start_time": "2025-02-12T01:10:34.168Z"
   },
   {
    "duration": 60,
    "start_time": "2025-02-12T01:10:44.537Z"
   },
   {
    "duration": 14,
    "start_time": "2025-02-12T01:10:44.599Z"
   },
   {
    "duration": 6100,
    "start_time": "2025-02-12T01:10:44.617Z"
   },
   {
    "duration": 68,
    "start_time": "2025-02-12T01:10:50.720Z"
   },
   {
    "duration": 74,
    "start_time": "2025-02-12T01:10:50.789Z"
   },
   {
    "duration": 2367,
    "start_time": "2025-02-12T01:10:50.865Z"
   },
   {
    "duration": 14,
    "start_time": "2025-02-12T01:10:53.234Z"
   },
   {
    "duration": 8894,
    "start_time": "2025-02-12T01:10:53.250Z"
   },
   {
    "duration": 733,
    "start_time": "2025-02-12T01:11:02.146Z"
   },
   {
    "duration": 12,
    "start_time": "2025-02-12T01:11:02.888Z"
   },
   {
    "duration": 7996,
    "start_time": "2025-02-12T01:11:02.902Z"
   },
   {
    "duration": 41,
    "start_time": "2025-02-12T01:11:10.900Z"
   },
   {
    "duration": 72,
    "start_time": "2025-02-12T01:11:10.942Z"
   },
   {
    "duration": 3108,
    "start_time": "2025-02-12T01:11:11.016Z"
   },
   {
    "duration": 51,
    "start_time": "2025-02-12T01:11:14.126Z"
   },
   {
    "duration": 186,
    "start_time": "2025-02-12T01:11:14.187Z"
   },
   {
    "duration": 21,
    "start_time": "2025-02-12T01:11:14.375Z"
   },
   {
    "duration": 75,
    "start_time": "2025-02-12T01:11:14.398Z"
   },
   {
    "duration": 20,
    "start_time": "2025-02-12T01:11:14.475Z"
   },
   {
    "duration": 161,
    "start_time": "2025-02-12T01:13:06.020Z"
   },
   {
    "duration": 1077,
    "start_time": "2025-02-12T01:13:17.042Z"
   },
   {
    "duration": 461,
    "start_time": "2025-02-12T01:13:18.121Z"
   },
   {
    "duration": 20,
    "start_time": "2025-02-12T01:13:18.584Z"
   },
   {
    "duration": 94,
    "start_time": "2025-02-12T01:13:18.607Z"
   },
   {
    "duration": 4,
    "start_time": "2025-02-12T01:13:18.703Z"
   },
   {
    "duration": 58,
    "start_time": "2025-02-12T01:13:18.708Z"
   },
   {
    "duration": 60,
    "start_time": "2025-02-12T01:13:18.768Z"
   },
   {
    "duration": 248,
    "start_time": "2025-02-12T01:13:18.830Z"
   },
   {
    "duration": 477,
    "start_time": "2025-02-12T01:13:19.080Z"
   },
   {
    "duration": 25,
    "start_time": "2025-02-12T01:13:19.561Z"
   },
   {
    "duration": 10313,
    "start_time": "2025-02-12T01:13:19.588Z"
   },
   {
    "duration": 50,
    "start_time": "2025-02-12T01:13:29.903Z"
   },
   {
    "duration": 32,
    "start_time": "2025-02-12T01:13:29.955Z"
   },
   {
    "duration": 6331,
    "start_time": "2025-02-12T01:13:29.989Z"
   },
   {
    "duration": 52,
    "start_time": "2025-02-12T01:13:36.322Z"
   },
   {
    "duration": 76,
    "start_time": "2025-02-12T01:13:36.387Z"
   },
   {
    "duration": 2359,
    "start_time": "2025-02-12T01:13:36.465Z"
   },
   {
    "duration": 13,
    "start_time": "2025-02-12T01:13:38.827Z"
   },
   {
    "duration": 8989,
    "start_time": "2025-02-12T01:13:38.842Z"
   },
   {
    "duration": 782,
    "start_time": "2025-02-12T01:13:47.833Z"
   },
   {
    "duration": 13,
    "start_time": "2025-02-12T01:13:48.618Z"
   },
   {
    "duration": 8050,
    "start_time": "2025-02-12T01:13:48.633Z"
   },
   {
    "duration": 41,
    "start_time": "2025-02-12T01:13:56.687Z"
   },
   {
    "duration": 69,
    "start_time": "2025-02-12T01:13:56.730Z"
   },
   {
    "duration": 3101,
    "start_time": "2025-02-12T01:13:56.800Z"
   },
   {
    "duration": 50,
    "start_time": "2025-02-12T01:13:59.903Z"
   },
   {
    "duration": 193,
    "start_time": "2025-02-12T01:13:59.955Z"
   },
   {
    "duration": 11,
    "start_time": "2025-02-12T01:14:00.153Z"
   },
   {
    "duration": 100,
    "start_time": "2025-02-12T01:14:00.166Z"
   },
   {
    "duration": 20,
    "start_time": "2025-02-12T01:14:00.268Z"
   },
   {
    "duration": 148,
    "start_time": "2025-02-12T01:14:00.290Z"
   },
   {
    "duration": 1043,
    "start_time": "2025-02-12T01:16:21.658Z"
   },
   {
    "duration": 479,
    "start_time": "2025-02-12T01:16:22.703Z"
   },
   {
    "duration": 21,
    "start_time": "2025-02-12T01:16:23.191Z"
   },
   {
    "duration": 104,
    "start_time": "2025-02-12T01:16:23.214Z"
   },
   {
    "duration": 5,
    "start_time": "2025-02-12T01:16:23.321Z"
   },
   {
    "duration": 86,
    "start_time": "2025-02-12T01:16:23.328Z"
   },
   {
    "duration": 47,
    "start_time": "2025-02-12T01:16:23.415Z"
   },
   {
    "duration": 234,
    "start_time": "2025-02-12T01:16:23.465Z"
   },
   {
    "duration": 463,
    "start_time": "2025-02-12T01:16:23.700Z"
   },
   {
    "duration": 13,
    "start_time": "2025-02-12T01:16:24.165Z"
   },
   {
    "duration": 10420,
    "start_time": "2025-02-12T01:16:24.187Z"
   },
   {
    "duration": 58,
    "start_time": "2025-02-12T01:16:34.610Z"
   },
   {
    "duration": 21,
    "start_time": "2025-02-12T01:16:34.670Z"
   },
   {
    "duration": 5986,
    "start_time": "2025-02-12T01:16:34.694Z"
   },
   {
    "duration": 53,
    "start_time": "2025-02-12T01:16:40.686Z"
   },
   {
    "duration": 85,
    "start_time": "2025-02-12T01:16:40.741Z"
   },
   {
    "duration": 2369,
    "start_time": "2025-02-12T01:16:40.828Z"
   },
   {
    "duration": 12,
    "start_time": "2025-02-12T01:16:43.199Z"
   },
   {
    "duration": 8865,
    "start_time": "2025-02-12T01:16:43.213Z"
   },
   {
    "duration": 751,
    "start_time": "2025-02-12T01:16:52.088Z"
   },
   {
    "duration": 13,
    "start_time": "2025-02-12T01:16:52.841Z"
   },
   {
    "duration": 8009,
    "start_time": "2025-02-12T01:16:52.857Z"
   },
   {
    "duration": 44,
    "start_time": "2025-02-12T01:17:00.868Z"
   },
   {
    "duration": 56,
    "start_time": "2025-02-12T01:17:00.914Z"
   },
   {
    "duration": 3125,
    "start_time": "2025-02-12T01:17:00.972Z"
   },
   {
    "duration": 51,
    "start_time": "2025-02-12T01:17:04.099Z"
   },
   {
    "duration": 188,
    "start_time": "2025-02-12T01:17:04.152Z"
   },
   {
    "duration": 16,
    "start_time": "2025-02-12T01:17:04.342Z"
   },
   {
    "duration": 89,
    "start_time": "2025-02-12T01:17:04.360Z"
   },
   {
    "duration": 16,
    "start_time": "2025-02-12T01:17:04.451Z"
   },
   {
    "duration": 150,
    "start_time": "2025-02-12T01:17:04.469Z"
   },
   {
    "duration": 338,
    "start_time": "2025-02-12T01:20:11.821Z"
   },
   {
    "duration": 600,
    "start_time": "2025-02-12T01:20:21.170Z"
   },
   {
    "duration": 631,
    "start_time": "2025-02-12T01:21:53.383Z"
   },
   {
    "duration": 604,
    "start_time": "2025-02-12T01:23:10.653Z"
   },
   {
    "duration": 975,
    "start_time": "2025-02-12T01:23:13.446Z"
   },
   {
    "duration": 79,
    "start_time": "2025-02-12T01:24:40.143Z"
   },
   {
    "duration": 13,
    "start_time": "2025-02-12T01:25:08.613Z"
   },
   {
    "duration": 64,
    "start_time": "2025-02-12T01:25:09.593Z"
   },
   {
    "duration": 16,
    "start_time": "2025-02-12T01:25:12.759Z"
   },
   {
    "duration": 114,
    "start_time": "2025-02-12T01:25:14.298Z"
   },
   {
    "duration": 500,
    "start_time": "2025-02-12T01:25:19.435Z"
   },
   {
    "duration": 1072,
    "start_time": "2025-02-12T01:25:56.578Z"
   },
   {
    "duration": 505,
    "start_time": "2025-02-12T01:25:57.652Z"
   },
   {
    "duration": 33,
    "start_time": "2025-02-12T01:25:58.162Z"
   },
   {
    "duration": 104,
    "start_time": "2025-02-12T01:25:58.198Z"
   },
   {
    "duration": 5,
    "start_time": "2025-02-12T01:25:58.303Z"
   },
   {
    "duration": 78,
    "start_time": "2025-02-12T01:25:58.310Z"
   },
   {
    "duration": 46,
    "start_time": "2025-02-12T01:25:58.390Z"
   },
   {
    "duration": 238,
    "start_time": "2025-02-12T01:25:58.439Z"
   },
   {
    "duration": 480,
    "start_time": "2025-02-12T01:25:58.680Z"
   },
   {
    "duration": 17,
    "start_time": "2025-02-12T01:25:59.162Z"
   },
   {
    "duration": 10612,
    "start_time": "2025-02-12T01:25:59.187Z"
   },
   {
    "duration": 55,
    "start_time": "2025-02-12T01:26:09.800Z"
   },
   {
    "duration": 29,
    "start_time": "2025-02-12T01:26:09.858Z"
   },
   {
    "duration": 6216,
    "start_time": "2025-02-12T01:26:09.889Z"
   },
   {
    "duration": 54,
    "start_time": "2025-02-12T01:26:16.107Z"
   },
   {
    "duration": 88,
    "start_time": "2025-02-12T01:26:16.163Z"
   },
   {
    "duration": 2335,
    "start_time": "2025-02-12T01:26:16.252Z"
   },
   {
    "duration": 13,
    "start_time": "2025-02-12T01:26:18.589Z"
   },
   {
    "duration": 8922,
    "start_time": "2025-02-12T01:26:18.604Z"
   },
   {
    "duration": 761,
    "start_time": "2025-02-12T01:26:27.528Z"
   },
   {
    "duration": 13,
    "start_time": "2025-02-12T01:26:28.291Z"
   },
   {
    "duration": 8184,
    "start_time": "2025-02-12T01:26:28.306Z"
   },
   {
    "duration": 49,
    "start_time": "2025-02-12T01:26:36.492Z"
   },
   {
    "duration": 73,
    "start_time": "2025-02-12T01:26:36.543Z"
   },
   {
    "duration": 3106,
    "start_time": "2025-02-12T01:26:36.618Z"
   },
   {
    "duration": 61,
    "start_time": "2025-02-12T01:26:39.726Z"
   },
   {
    "duration": 189,
    "start_time": "2025-02-12T01:26:39.789Z"
   },
   {
    "duration": 14,
    "start_time": "2025-02-12T01:26:39.979Z"
   },
   {
    "duration": 67,
    "start_time": "2025-02-12T01:26:39.996Z"
   },
   {
    "duration": 23,
    "start_time": "2025-02-12T01:26:40.065Z"
   },
   {
    "duration": 122,
    "start_time": "2025-02-12T01:26:40.090Z"
   },
   {
    "duration": 500,
    "start_time": "2025-02-12T01:26:40.214Z"
   },
   {
    "duration": 822,
    "start_time": "2025-02-12T01:26:40.716Z"
   },
   {
    "duration": 158,
    "start_time": "2025-02-12T01:27:10.379Z"
   },
   {
    "duration": 1060,
    "start_time": "2025-02-12T01:27:24.136Z"
   },
   {
    "duration": 457,
    "start_time": "2025-02-12T01:27:25.198Z"
   },
   {
    "duration": 30,
    "start_time": "2025-02-12T01:27:25.656Z"
   },
   {
    "duration": 101,
    "start_time": "2025-02-12T01:27:25.688Z"
   },
   {
    "duration": 4,
    "start_time": "2025-02-12T01:27:25.792Z"
   },
   {
    "duration": 58,
    "start_time": "2025-02-12T01:27:25.798Z"
   },
   {
    "duration": 63,
    "start_time": "2025-02-12T01:27:25.858Z"
   },
   {
    "duration": 249,
    "start_time": "2025-02-12T01:27:25.923Z"
   },
   {
    "duration": 485,
    "start_time": "2025-02-12T01:27:26.174Z"
   },
   {
    "duration": 14,
    "start_time": "2025-02-12T01:27:26.661Z"
   },
   {
    "duration": 10589,
    "start_time": "2025-02-12T01:27:26.686Z"
   },
   {
    "duration": 61,
    "start_time": "2025-02-12T01:27:37.277Z"
   },
   {
    "duration": 13,
    "start_time": "2025-02-12T01:27:37.340Z"
   },
   {
    "duration": 6011,
    "start_time": "2025-02-12T01:27:37.357Z"
   },
   {
    "duration": 64,
    "start_time": "2025-02-12T01:27:43.370Z"
   },
   {
    "duration": 92,
    "start_time": "2025-02-12T01:27:43.436Z"
   },
   {
    "duration": 2380,
    "start_time": "2025-02-12T01:27:43.530Z"
   },
   {
    "duration": 13,
    "start_time": "2025-02-12T01:27:45.912Z"
   },
   {
    "duration": 8895,
    "start_time": "2025-02-12T01:27:45.927Z"
   },
   {
    "duration": 744,
    "start_time": "2025-02-12T01:27:54.825Z"
   },
   {
    "duration": 16,
    "start_time": "2025-02-12T01:27:55.571Z"
   },
   {
    "duration": 8203,
    "start_time": "2025-02-12T01:27:55.589Z"
   },
   {
    "duration": 42,
    "start_time": "2025-02-12T01:28:03.793Z"
   },
   {
    "duration": 70,
    "start_time": "2025-02-12T01:28:03.837Z"
   },
   {
    "duration": 3106,
    "start_time": "2025-02-12T01:28:03.908Z"
   },
   {
    "duration": 54,
    "start_time": "2025-02-12T01:28:07.016Z"
   },
   {
    "duration": 208,
    "start_time": "2025-02-12T01:28:07.071Z"
   },
   {
    "duration": 15,
    "start_time": "2025-02-12T01:28:07.281Z"
   },
   {
    "duration": 67,
    "start_time": "2025-02-12T01:28:07.298Z"
   },
   {
    "duration": 26,
    "start_time": "2025-02-12T01:28:07.367Z"
   },
   {
    "duration": 125,
    "start_time": "2025-02-12T01:28:07.395Z"
   },
   {
    "duration": 513,
    "start_time": "2025-02-12T01:28:15.196Z"
   },
   {
    "duration": 514,
    "start_time": "2025-02-12T01:28:37.345Z"
   },
   {
    "duration": 819,
    "start_time": "2025-02-12T01:28:43.231Z"
   },
   {
    "duration": 1016,
    "start_time": "2025-02-12T01:30:04.182Z"
   },
   {
    "duration": 462,
    "start_time": "2025-02-12T01:30:05.200Z"
   },
   {
    "duration": 24,
    "start_time": "2025-02-12T01:30:05.664Z"
   },
   {
    "duration": 99,
    "start_time": "2025-02-12T01:30:05.690Z"
   },
   {
    "duration": 4,
    "start_time": "2025-02-12T01:30:05.792Z"
   },
   {
    "duration": 62,
    "start_time": "2025-02-12T01:30:05.798Z"
   },
   {
    "duration": 60,
    "start_time": "2025-02-12T01:30:05.863Z"
   },
   {
    "duration": 232,
    "start_time": "2025-02-12T01:30:05.924Z"
   },
   {
    "duration": 471,
    "start_time": "2025-02-12T01:30:06.158Z"
   },
   {
    "duration": 13,
    "start_time": "2025-02-12T01:30:06.631Z"
   },
   {
    "duration": 11328,
    "start_time": "2025-02-12T01:30:06.646Z"
   },
   {
    "duration": 54,
    "start_time": "2025-02-12T01:30:17.976Z"
   },
   {
    "duration": 13,
    "start_time": "2025-02-12T01:30:18.032Z"
   },
   {
    "duration": 6103,
    "start_time": "2025-02-12T01:30:18.048Z"
   },
   {
    "duration": 60,
    "start_time": "2025-02-12T01:30:24.153Z"
   },
   {
    "duration": 81,
    "start_time": "2025-02-12T01:30:24.214Z"
   },
   {
    "duration": 2311,
    "start_time": "2025-02-12T01:30:24.297Z"
   },
   {
    "duration": 13,
    "start_time": "2025-02-12T01:30:26.609Z"
   },
   {
    "duration": 9238,
    "start_time": "2025-02-12T01:30:26.624Z"
   },
   {
    "duration": 722,
    "start_time": "2025-02-12T01:30:35.864Z"
   },
   {
    "duration": 14,
    "start_time": "2025-02-12T01:30:36.588Z"
   },
   {
    "duration": 7864,
    "start_time": "2025-02-12T01:30:36.603Z"
   },
   {
    "duration": 48,
    "start_time": "2025-02-12T01:30:44.469Z"
   },
   {
    "duration": 69,
    "start_time": "2025-02-12T01:30:44.519Z"
   },
   {
    "duration": 3064,
    "start_time": "2025-02-12T01:30:44.590Z"
   },
   {
    "duration": 59,
    "start_time": "2025-02-12T01:30:47.656Z"
   },
   {
    "duration": 197,
    "start_time": "2025-02-12T01:30:47.717Z"
   },
   {
    "duration": 12,
    "start_time": "2025-02-12T01:30:47.916Z"
   },
   {
    "duration": 78,
    "start_time": "2025-02-12T01:30:47.929Z"
   },
   {
    "duration": 14,
    "start_time": "2025-02-12T01:30:48.009Z"
   },
   {
    "duration": 137,
    "start_time": "2025-02-12T01:30:48.024Z"
   },
   {
    "duration": 494,
    "start_time": "2025-02-12T01:30:48.162Z"
   },
   {
    "duration": 738,
    "start_time": "2025-02-12T01:30:48.658Z"
   },
   {
    "duration": 1067,
    "start_time": "2025-02-12T01:33:53.932Z"
   },
   {
    "duration": 493,
    "start_time": "2025-02-12T01:33:55.002Z"
   },
   {
    "duration": 20,
    "start_time": "2025-02-12T01:33:55.497Z"
   },
   {
    "duration": 104,
    "start_time": "2025-02-12T01:33:55.519Z"
   },
   {
    "duration": 4,
    "start_time": "2025-02-12T01:33:55.625Z"
   },
   {
    "duration": 105,
    "start_time": "2025-02-12T01:33:55.631Z"
   },
   {
    "duration": 53,
    "start_time": "2025-02-12T01:33:55.738Z"
   },
   {
    "duration": 243,
    "start_time": "2025-02-12T01:33:55.793Z"
   },
   {
    "duration": 513,
    "start_time": "2025-02-12T01:33:56.038Z"
   },
   {
    "duration": 15,
    "start_time": "2025-02-12T01:33:56.553Z"
   },
   {
    "duration": 10521,
    "start_time": "2025-02-12T01:33:56.569Z"
   },
   {
    "duration": 50,
    "start_time": "2025-02-12T01:34:07.092Z"
   },
   {
    "duration": 13,
    "start_time": "2025-02-12T01:34:07.144Z"
   },
   {
    "duration": 4397,
    "start_time": "2025-02-12T01:34:07.161Z"
   },
   {
    "duration": 0,
    "start_time": "2025-02-12T01:34:11.560Z"
   },
   {
    "duration": 0,
    "start_time": "2025-02-12T01:34:11.561Z"
   },
   {
    "duration": 0,
    "start_time": "2025-02-12T01:34:11.562Z"
   },
   {
    "duration": 0,
    "start_time": "2025-02-12T01:34:11.563Z"
   },
   {
    "duration": 0,
    "start_time": "2025-02-12T01:34:11.564Z"
   },
   {
    "duration": 0,
    "start_time": "2025-02-12T01:34:11.565Z"
   },
   {
    "duration": 0,
    "start_time": "2025-02-12T01:34:11.570Z"
   },
   {
    "duration": 0,
    "start_time": "2025-02-12T01:34:11.572Z"
   },
   {
    "duration": 0,
    "start_time": "2025-02-12T01:34:11.573Z"
   },
   {
    "duration": 0,
    "start_time": "2025-02-12T01:34:11.574Z"
   },
   {
    "duration": 0,
    "start_time": "2025-02-12T01:34:11.586Z"
   },
   {
    "duration": 0,
    "start_time": "2025-02-12T01:34:11.588Z"
   },
   {
    "duration": 0,
    "start_time": "2025-02-12T01:34:11.589Z"
   },
   {
    "duration": 0,
    "start_time": "2025-02-12T01:34:11.590Z"
   },
   {
    "duration": 0,
    "start_time": "2025-02-12T01:34:11.591Z"
   },
   {
    "duration": 0,
    "start_time": "2025-02-12T01:34:11.592Z"
   },
   {
    "duration": 0,
    "start_time": "2025-02-12T01:34:11.592Z"
   },
   {
    "duration": 0,
    "start_time": "2025-02-12T01:34:11.593Z"
   },
   {
    "duration": 0,
    "start_time": "2025-02-12T01:34:11.595Z"
   },
   {
    "duration": 0,
    "start_time": "2025-02-12T01:34:11.596Z"
   },
   {
    "duration": 1035,
    "start_time": "2025-02-12T01:34:37.343Z"
   },
   {
    "duration": 410,
    "start_time": "2025-02-12T01:34:38.380Z"
   },
   {
    "duration": 21,
    "start_time": "2025-02-12T01:34:38.792Z"
   },
   {
    "duration": 105,
    "start_time": "2025-02-12T01:34:38.815Z"
   },
   {
    "duration": 5,
    "start_time": "2025-02-12T01:34:38.922Z"
   },
   {
    "duration": 75,
    "start_time": "2025-02-12T01:34:38.928Z"
   },
   {
    "duration": 46,
    "start_time": "2025-02-12T01:34:39.004Z"
   },
   {
    "duration": 236,
    "start_time": "2025-02-12T01:34:39.052Z"
   },
   {
    "duration": 464,
    "start_time": "2025-02-12T01:34:39.289Z"
   },
   {
    "duration": 14,
    "start_time": "2025-02-12T01:34:39.754Z"
   },
   {
    "duration": 10491,
    "start_time": "2025-02-12T01:34:39.770Z"
   },
   {
    "duration": 64,
    "start_time": "2025-02-12T01:34:50.263Z"
   },
   {
    "duration": 12,
    "start_time": "2025-02-12T01:34:50.330Z"
   },
   {
    "duration": 6181,
    "start_time": "2025-02-12T01:34:50.345Z"
   },
   {
    "duration": 62,
    "start_time": "2025-02-12T01:34:56.528Z"
   },
   {
    "duration": 72,
    "start_time": "2025-02-12T01:34:56.592Z"
   },
   {
    "duration": 2363,
    "start_time": "2025-02-12T01:34:56.666Z"
   },
   {
    "duration": 13,
    "start_time": "2025-02-12T01:34:59.031Z"
   },
   {
    "duration": 8847,
    "start_time": "2025-02-12T01:34:59.046Z"
   },
   {
    "duration": 769,
    "start_time": "2025-02-12T01:35:07.894Z"
   },
   {
    "duration": 20,
    "start_time": "2025-02-12T01:35:08.665Z"
   },
   {
    "duration": 7948,
    "start_time": "2025-02-12T01:35:08.687Z"
   },
   {
    "duration": 51,
    "start_time": "2025-02-12T01:35:16.637Z"
   },
   {
    "duration": 56,
    "start_time": "2025-02-12T01:35:16.689Z"
   },
   {
    "duration": 3051,
    "start_time": "2025-02-12T01:35:16.748Z"
   },
   {
    "duration": 51,
    "start_time": "2025-02-12T01:35:19.800Z"
   },
   {
    "duration": 195,
    "start_time": "2025-02-12T01:35:19.853Z"
   },
   {
    "duration": 10,
    "start_time": "2025-02-12T01:35:20.050Z"
   },
   {
    "duration": 78,
    "start_time": "2025-02-12T01:35:20.062Z"
   },
   {
    "duration": 14,
    "start_time": "2025-02-12T01:35:20.141Z"
   },
   {
    "duration": 124,
    "start_time": "2025-02-12T01:35:20.157Z"
   },
   {
    "duration": 501,
    "start_time": "2025-02-12T01:35:20.286Z"
   },
   {
    "duration": 735,
    "start_time": "2025-02-12T01:35:39.096Z"
   },
   {
    "duration": 1272,
    "start_time": "2025-02-12T01:36:41.104Z"
   },
   {
    "duration": 539,
    "start_time": "2025-02-12T01:36:42.379Z"
   },
   {
    "duration": 21,
    "start_time": "2025-02-12T01:36:42.920Z"
   },
   {
    "duration": 122,
    "start_time": "2025-02-12T01:36:42.943Z"
   },
   {
    "duration": 4,
    "start_time": "2025-02-12T01:36:43.067Z"
   },
   {
    "duration": 83,
    "start_time": "2025-02-12T01:36:43.072Z"
   },
   {
    "duration": 55,
    "start_time": "2025-02-12T01:36:43.157Z"
   },
   {
    "duration": 245,
    "start_time": "2025-02-12T01:36:43.214Z"
   },
   {
    "duration": 512,
    "start_time": "2025-02-12T01:36:43.462Z"
   },
   {
    "duration": 18,
    "start_time": "2025-02-12T01:36:43.975Z"
   },
   {
    "duration": 10654,
    "start_time": "2025-02-12T01:36:43.995Z"
   },
   {
    "duration": 74,
    "start_time": "2025-02-12T01:36:54.651Z"
   },
   {
    "duration": 17,
    "start_time": "2025-02-12T01:36:54.728Z"
   },
   {
    "duration": 6368,
    "start_time": "2025-02-12T01:36:54.749Z"
   },
   {
    "duration": 52,
    "start_time": "2025-02-12T01:37:01.119Z"
   },
   {
    "duration": 81,
    "start_time": "2025-02-12T01:37:01.173Z"
   },
   {
    "duration": 2446,
    "start_time": "2025-02-12T01:37:01.257Z"
   },
   {
    "duration": 17,
    "start_time": "2025-02-12T01:37:03.705Z"
   },
   {
    "duration": 9321,
    "start_time": "2025-02-12T01:37:03.723Z"
   },
   {
    "duration": 769,
    "start_time": "2025-02-12T01:37:13.045Z"
   },
   {
    "duration": 14,
    "start_time": "2025-02-12T01:37:13.816Z"
   },
   {
    "duration": 7969,
    "start_time": "2025-02-12T01:37:13.832Z"
   },
   {
    "duration": 40,
    "start_time": "2025-02-12T01:37:21.803Z"
   },
   {
    "duration": 73,
    "start_time": "2025-02-12T01:37:21.845Z"
   },
   {
    "duration": 3125,
    "start_time": "2025-02-12T01:37:21.919Z"
   },
   {
    "duration": 61,
    "start_time": "2025-02-12T01:37:25.046Z"
   },
   {
    "duration": 183,
    "start_time": "2025-02-12T01:37:25.109Z"
   },
   {
    "duration": 10,
    "start_time": "2025-02-12T01:37:25.294Z"
   },
   {
    "duration": 83,
    "start_time": "2025-02-12T01:37:25.306Z"
   },
   {
    "duration": 15,
    "start_time": "2025-02-12T01:37:25.391Z"
   },
   {
    "duration": 123,
    "start_time": "2025-02-12T01:37:25.408Z"
   },
   {
    "duration": 506,
    "start_time": "2025-02-12T01:37:25.532Z"
   },
   {
    "duration": 763,
    "start_time": "2025-02-12T01:37:26.040Z"
   },
   {
    "duration": 648,
    "start_time": "2025-02-12T01:38:37.448Z"
   },
   {
    "duration": 1024,
    "start_time": "2025-02-12T01:38:53.848Z"
   },
   {
    "duration": 426,
    "start_time": "2025-02-12T01:38:54.874Z"
   },
   {
    "duration": 20,
    "start_time": "2025-02-12T01:38:55.304Z"
   },
   {
    "duration": 102,
    "start_time": "2025-02-12T01:38:55.325Z"
   },
   {
    "duration": 4,
    "start_time": "2025-02-12T01:38:55.431Z"
   },
   {
    "duration": 72,
    "start_time": "2025-02-12T01:38:55.436Z"
   },
   {
    "duration": 45,
    "start_time": "2025-02-12T01:38:55.510Z"
   },
   {
    "duration": 249,
    "start_time": "2025-02-12T01:38:55.557Z"
   },
   {
    "duration": 496,
    "start_time": "2025-02-12T01:38:55.808Z"
   },
   {
    "duration": 13,
    "start_time": "2025-02-12T01:38:56.306Z"
   },
   {
    "duration": 10872,
    "start_time": "2025-02-12T01:38:56.321Z"
   },
   {
    "duration": 49,
    "start_time": "2025-02-12T01:39:07.195Z"
   },
   {
    "duration": 14,
    "start_time": "2025-02-12T01:39:07.246Z"
   },
   {
    "duration": 6042,
    "start_time": "2025-02-12T01:39:07.263Z"
   },
   {
    "duration": 54,
    "start_time": "2025-02-12T01:39:13.306Z"
   },
   {
    "duration": 91,
    "start_time": "2025-02-12T01:39:13.362Z"
   },
   {
    "duration": 2298,
    "start_time": "2025-02-12T01:39:13.454Z"
   },
   {
    "duration": 14,
    "start_time": "2025-02-12T01:39:15.755Z"
   },
   {
    "duration": 9230,
    "start_time": "2025-02-12T01:39:15.773Z"
   },
   {
    "duration": 737,
    "start_time": "2025-02-12T01:39:25.004Z"
   },
   {
    "duration": 14,
    "start_time": "2025-02-12T01:39:25.743Z"
   },
   {
    "duration": 8985,
    "start_time": "2025-02-12T01:39:25.758Z"
   },
   {
    "duration": 50,
    "start_time": "2025-02-12T01:39:34.745Z"
   },
   {
    "duration": 58,
    "start_time": "2025-02-12T01:39:34.796Z"
   },
   {
    "duration": 3033,
    "start_time": "2025-02-12T01:39:34.856Z"
   },
   {
    "duration": 53,
    "start_time": "2025-02-12T01:39:37.892Z"
   },
   {
    "duration": 196,
    "start_time": "2025-02-12T01:39:37.947Z"
   },
   {
    "duration": 10,
    "start_time": "2025-02-12T01:39:38.145Z"
   },
   {
    "duration": 75,
    "start_time": "2025-02-12T01:39:38.157Z"
   },
   {
    "duration": 14,
    "start_time": "2025-02-12T01:39:38.234Z"
   },
   {
    "duration": 127,
    "start_time": "2025-02-12T01:39:38.249Z"
   },
   {
    "duration": 518,
    "start_time": "2025-02-12T01:39:50.042Z"
   },
   {
    "duration": 187,
    "start_time": "2025-02-12T01:40:01.993Z"
   },
   {
    "duration": 16,
    "start_time": "2025-02-12T01:40:35.150Z"
   },
   {
    "duration": 147,
    "start_time": "2025-02-12T01:45:54.678Z"
   },
   {
    "duration": 672,
    "start_time": "2025-02-12T01:46:04.112Z"
   },
   {
    "duration": 304,
    "start_time": "2025-02-12T01:46:14.245Z"
   },
   {
    "duration": 1095,
    "start_time": "2025-02-12T01:46:31.806Z"
   },
   {
    "duration": 505,
    "start_time": "2025-02-12T01:46:32.903Z"
   },
   {
    "duration": 22,
    "start_time": "2025-02-12T01:46:33.409Z"
   },
   {
    "duration": 123,
    "start_time": "2025-02-12T01:46:33.434Z"
   },
   {
    "duration": 4,
    "start_time": "2025-02-12T01:46:33.562Z"
   },
   {
    "duration": 82,
    "start_time": "2025-02-12T01:46:33.569Z"
   },
   {
    "duration": 59,
    "start_time": "2025-02-12T01:46:33.652Z"
   },
   {
    "duration": 243,
    "start_time": "2025-02-12T01:46:33.713Z"
   },
   {
    "duration": 494,
    "start_time": "2025-02-12T01:46:33.958Z"
   },
   {
    "duration": 19,
    "start_time": "2025-02-12T01:46:34.454Z"
   },
   {
    "duration": 10639,
    "start_time": "2025-02-12T01:46:34.475Z"
   },
   {
    "duration": 56,
    "start_time": "2025-02-12T01:46:45.116Z"
   },
   {
    "duration": 26,
    "start_time": "2025-02-12T01:46:45.174Z"
   },
   {
    "duration": 6311,
    "start_time": "2025-02-12T01:46:45.203Z"
   },
   {
    "duration": 70,
    "start_time": "2025-02-12T01:46:51.516Z"
   },
   {
    "duration": 74,
    "start_time": "2025-02-12T01:46:51.588Z"
   },
   {
    "duration": 2447,
    "start_time": "2025-02-12T01:46:51.663Z"
   },
   {
    "duration": 14,
    "start_time": "2025-02-12T01:46:54.112Z"
   },
   {
    "duration": 9188,
    "start_time": "2025-02-12T01:46:54.129Z"
   },
   {
    "duration": 898,
    "start_time": "2025-02-12T01:47:03.319Z"
   },
   {
    "duration": 13,
    "start_time": "2025-02-12T01:47:04.219Z"
   },
   {
    "duration": 8129,
    "start_time": "2025-02-12T01:47:04.235Z"
   },
   {
    "duration": 56,
    "start_time": "2025-02-12T01:47:12.366Z"
   },
   {
    "duration": 75,
    "start_time": "2025-02-12T01:47:12.425Z"
   },
   {
    "duration": 3145,
    "start_time": "2025-02-12T01:47:12.502Z"
   },
   {
    "duration": 64,
    "start_time": "2025-02-12T01:47:15.649Z"
   },
   {
    "duration": 186,
    "start_time": "2025-02-12T01:47:15.716Z"
   },
   {
    "duration": 10,
    "start_time": "2025-02-12T01:47:15.905Z"
   },
   {
    "duration": 74,
    "start_time": "2025-02-12T01:47:15.916Z"
   },
   {
    "duration": 14,
    "start_time": "2025-02-12T01:47:15.992Z"
   },
   {
    "duration": 154,
    "start_time": "2025-02-12T01:47:16.008Z"
   },
   {
    "duration": 538,
    "start_time": "2025-02-12T01:47:16.163Z"
   },
   {
    "duration": 718,
    "start_time": "2025-02-12T01:47:16.704Z"
   },
   {
    "duration": 358,
    "start_time": "2025-02-12T01:47:17.424Z"
   },
   {
    "duration": 2,
    "start_time": "2025-02-12T01:48:11.395Z"
   },
   {
    "duration": 161,
    "start_time": "2025-02-13T01:21:47.700Z"
   },
   {
    "duration": 2750,
    "start_time": "2025-02-13T01:21:51.789Z"
   },
   {
    "duration": 477,
    "start_time": "2025-02-13T01:21:54.541Z"
   },
   {
    "duration": 28,
    "start_time": "2025-02-13T01:21:55.020Z"
   },
   {
    "duration": 103,
    "start_time": "2025-02-13T01:21:55.050Z"
   },
   {
    "duration": 4,
    "start_time": "2025-02-13T01:21:55.156Z"
   },
   {
    "duration": 63,
    "start_time": "2025-02-13T01:21:55.161Z"
   },
   {
    "duration": 62,
    "start_time": "2025-02-13T01:21:55.225Z"
   },
   {
    "duration": 232,
    "start_time": "2025-02-13T01:21:55.290Z"
   },
   {
    "duration": 468,
    "start_time": "2025-02-13T01:21:55.523Z"
   },
   {
    "duration": 12,
    "start_time": "2025-02-13T01:21:55.993Z"
   },
   {
    "duration": 10596,
    "start_time": "2025-02-13T01:21:56.007Z"
   },
   {
    "duration": 54,
    "start_time": "2025-02-13T01:22:06.605Z"
   },
   {
    "duration": 12,
    "start_time": "2025-02-13T01:22:06.661Z"
   },
   {
    "duration": 6153,
    "start_time": "2025-02-13T01:22:06.677Z"
   },
   {
    "duration": 56,
    "start_time": "2025-02-13T01:22:12.831Z"
   },
   {
    "duration": 85,
    "start_time": "2025-02-13T01:22:12.889Z"
   },
   {
    "duration": 2324,
    "start_time": "2025-02-13T01:22:12.976Z"
   },
   {
    "duration": 13,
    "start_time": "2025-02-13T01:22:15.302Z"
   },
   {
    "duration": 8871,
    "start_time": "2025-02-13T01:22:15.316Z"
   },
   {
    "duration": 753,
    "start_time": "2025-02-13T01:22:24.189Z"
   },
   {
    "duration": 13,
    "start_time": "2025-02-13T01:22:24.945Z"
   },
   {
    "duration": 8163,
    "start_time": "2025-02-13T01:22:24.959Z"
   },
   {
    "duration": 53,
    "start_time": "2025-02-13T01:22:33.124Z"
   },
   {
    "duration": 71,
    "start_time": "2025-02-13T01:22:33.178Z"
   },
   {
    "duration": 3046,
    "start_time": "2025-02-13T01:22:33.251Z"
   },
   {
    "duration": 64,
    "start_time": "2025-02-13T01:22:36.298Z"
   },
   {
    "duration": 183,
    "start_time": "2025-02-13T01:22:36.366Z"
   },
   {
    "duration": 10,
    "start_time": "2025-02-13T01:22:36.552Z"
   },
   {
    "duration": 64,
    "start_time": "2025-02-13T01:22:59.786Z"
   },
   {
    "duration": 84,
    "start_time": "2025-02-13T01:23:42.851Z"
   },
   {
    "duration": 104,
    "start_time": "2025-02-13T01:23:57.821Z"
   },
   {
    "duration": 93,
    "start_time": "2025-02-13T01:24:06.895Z"
   },
   {
    "duration": 105,
    "start_time": "2025-02-13T01:24:14.385Z"
   },
   {
    "duration": 78,
    "start_time": "2025-02-13T01:24:19.795Z"
   },
   {
    "duration": 132,
    "start_time": "2025-02-13T01:24:50.092Z"
   },
   {
    "duration": 76,
    "start_time": "2025-02-13T01:25:05.271Z"
   },
   {
    "duration": 10,
    "start_time": "2025-02-13T01:25:05.349Z"
   },
   {
    "duration": 109,
    "start_time": "2025-02-13T01:25:05.361Z"
   },
   {
    "duration": 447,
    "start_time": "2025-02-13T01:25:05.472Z"
   },
   {
    "duration": 620,
    "start_time": "2025-02-13T01:25:05.922Z"
   },
   {
    "duration": 322,
    "start_time": "2025-02-13T01:25:06.544Z"
   },
   {
    "duration": 199,
    "start_time": "2025-02-13T01:25:06.868Z"
   },
   {
    "duration": 90,
    "start_time": "2025-02-13T01:25:13.559Z"
   },
   {
    "duration": 32,
    "start_time": "2025-02-13T01:25:59.714Z"
   },
   {
    "duration": 69,
    "start_time": "2025-02-13T01:26:45.066Z"
   },
   {
    "duration": 53,
    "start_time": "2025-02-13T01:27:01.661Z"
   },
   {
    "duration": 32,
    "start_time": "2025-02-13T01:27:15.629Z"
   },
   {
    "duration": 4,
    "start_time": "2025-02-13T01:27:26.739Z"
   },
   {
    "duration": 373,
    "start_time": "2025-02-13T01:27:26.745Z"
   },
   {
    "duration": 26,
    "start_time": "2025-02-13T01:27:27.120Z"
   },
   {
    "duration": 95,
    "start_time": "2025-02-13T01:27:27.148Z"
   },
   {
    "duration": 4,
    "start_time": "2025-02-13T01:27:27.245Z"
   },
   {
    "duration": 54,
    "start_time": "2025-02-13T01:27:27.251Z"
   },
   {
    "duration": 51,
    "start_time": "2025-02-13T01:27:27.307Z"
   },
   {
    "duration": 213,
    "start_time": "2025-02-13T01:27:27.360Z"
   },
   {
    "duration": 405,
    "start_time": "2025-02-13T01:27:27.574Z"
   },
   {
    "duration": 13,
    "start_time": "2025-02-13T01:27:27.982Z"
   },
   {
    "duration": 10800,
    "start_time": "2025-02-13T01:27:27.996Z"
   },
   {
    "duration": 57,
    "start_time": "2025-02-13T01:27:38.798Z"
   },
   {
    "duration": 13,
    "start_time": "2025-02-13T01:27:38.857Z"
   },
   {
    "duration": 6168,
    "start_time": "2025-02-13T01:27:38.874Z"
   },
   {
    "duration": 49,
    "start_time": "2025-02-13T01:27:45.044Z"
   },
   {
    "duration": 88,
    "start_time": "2025-02-13T01:27:45.096Z"
   },
   {
    "duration": 2338,
    "start_time": "2025-02-13T01:27:45.187Z"
   },
   {
    "duration": 18,
    "start_time": "2025-02-13T01:27:47.527Z"
   },
   {
    "duration": 9125,
    "start_time": "2025-02-13T01:27:47.547Z"
   },
   {
    "duration": 741,
    "start_time": "2025-02-13T01:27:56.674Z"
   },
   {
    "duration": 13,
    "start_time": "2025-02-13T01:27:57.416Z"
   },
   {
    "duration": 8097,
    "start_time": "2025-02-13T01:27:57.443Z"
   },
   {
    "duration": 47,
    "start_time": "2025-02-13T01:28:05.543Z"
   },
   {
    "duration": 67,
    "start_time": "2025-02-13T01:28:05.593Z"
   },
   {
    "duration": 3037,
    "start_time": "2025-02-13T01:28:05.662Z"
   },
   {
    "duration": 53,
    "start_time": "2025-02-13T01:28:08.701Z"
   },
   {
    "duration": 165,
    "start_time": "2025-02-13T01:28:08.756Z"
   },
   {
    "duration": 21,
    "start_time": "2025-02-13T01:28:08.923Z"
   },
   {
    "duration": 76,
    "start_time": "2025-02-13T01:28:08.945Z"
   },
   {
    "duration": 20,
    "start_time": "2025-02-13T01:28:09.023Z"
   },
   {
    "duration": 108,
    "start_time": "2025-02-13T01:28:09.045Z"
   },
   {
    "duration": 456,
    "start_time": "2025-02-13T01:28:09.155Z"
   },
   {
    "duration": 1056,
    "start_time": "2025-02-13T01:28:21.863Z"
   },
   {
    "duration": 455,
    "start_time": "2025-02-13T01:28:22.921Z"
   },
   {
    "duration": 21,
    "start_time": "2025-02-13T01:28:23.377Z"
   },
   {
    "duration": 111,
    "start_time": "2025-02-13T01:28:23.400Z"
   },
   {
    "duration": 4,
    "start_time": "2025-02-13T01:28:23.512Z"
   },
   {
    "duration": 75,
    "start_time": "2025-02-13T01:28:23.518Z"
   },
   {
    "duration": 54,
    "start_time": "2025-02-13T01:28:23.595Z"
   },
   {
    "duration": 234,
    "start_time": "2025-02-13T01:28:23.651Z"
   },
   {
    "duration": 477,
    "start_time": "2025-02-13T01:28:23.887Z"
   },
   {
    "duration": 13,
    "start_time": "2025-02-13T01:28:24.367Z"
   },
   {
    "duration": 10245,
    "start_time": "2025-02-13T01:28:24.381Z"
   },
   {
    "duration": 61,
    "start_time": "2025-02-13T01:28:34.628Z"
   },
   {
    "duration": 13,
    "start_time": "2025-02-13T01:28:34.691Z"
   },
   {
    "duration": 5938,
    "start_time": "2025-02-13T01:28:34.706Z"
   },
   {
    "duration": 52,
    "start_time": "2025-02-13T01:28:40.646Z"
   },
   {
    "duration": 92,
    "start_time": "2025-02-13T01:28:40.699Z"
   },
   {
    "duration": 2340,
    "start_time": "2025-02-13T01:28:40.793Z"
   },
   {
    "duration": 20,
    "start_time": "2025-02-13T01:28:43.135Z"
   },
   {
    "duration": 9410,
    "start_time": "2025-02-13T01:28:43.156Z"
   },
   {
    "duration": 741,
    "start_time": "2025-02-13T01:28:52.568Z"
   },
   {
    "duration": 16,
    "start_time": "2025-02-13T01:28:53.311Z"
   },
   {
    "duration": 8094,
    "start_time": "2025-02-13T01:28:53.329Z"
   },
   {
    "duration": 49,
    "start_time": "2025-02-13T01:29:01.424Z"
   },
   {
    "duration": 55,
    "start_time": "2025-02-13T01:29:01.475Z"
   },
   {
    "duration": 3057,
    "start_time": "2025-02-13T01:29:01.543Z"
   },
   {
    "duration": 62,
    "start_time": "2025-02-13T01:29:04.602Z"
   },
   {
    "duration": 181,
    "start_time": "2025-02-13T01:29:04.666Z"
   },
   {
    "duration": 10,
    "start_time": "2025-02-13T01:29:04.851Z"
   },
   {
    "duration": 91,
    "start_time": "2025-02-13T01:29:04.863Z"
   },
   {
    "duration": 13,
    "start_time": "2025-02-13T01:29:04.955Z"
   },
   {
    "duration": 120,
    "start_time": "2025-02-13T01:29:04.970Z"
   },
   {
    "duration": 459,
    "start_time": "2025-02-13T01:29:05.091Z"
   },
   {
    "duration": 604,
    "start_time": "2025-02-13T01:29:05.552Z"
   },
   {
    "duration": 315,
    "start_time": "2025-02-13T01:29:06.157Z"
   },
   {
    "duration": 414,
    "start_time": "2025-02-13T01:29:06.473Z"
   },
   {
    "duration": 35,
    "start_time": "2025-02-13T01:29:36.745Z"
   },
   {
    "duration": 82,
    "start_time": "2025-02-13T01:31:41.127Z"
   },
   {
    "duration": 83,
    "start_time": "2025-02-13T01:31:51.660Z"
   },
   {
    "duration": 41,
    "start_time": "2025-02-13T01:31:53.431Z"
   },
   {
    "duration": 5,
    "start_time": "2025-02-13T01:32:20.704Z"
   },
   {
    "duration": 94,
    "start_time": "2025-02-13T01:32:26.980Z"
   },
   {
    "duration": 5,
    "start_time": "2025-02-13T01:32:27.648Z"
   },
   {
    "duration": 14,
    "start_time": "2025-02-13T01:32:36.694Z"
   },
   {
    "duration": 14,
    "start_time": "2025-02-13T01:32:46.176Z"
   },
   {
    "duration": 79,
    "start_time": "2025-02-13T01:32:51.737Z"
   },
   {
    "duration": 10,
    "start_time": "2025-02-13T01:32:53.325Z"
   },
   {
    "duration": 100,
    "start_time": "2025-02-13T01:32:54.731Z"
   },
   {
    "duration": 432,
    "start_time": "2025-02-13T01:32:58.523Z"
   },
   {
    "duration": 480,
    "start_time": "2025-02-13T01:33:02.009Z"
   },
   {
    "duration": 161,
    "start_time": "2025-02-13T01:33:12.141Z"
   },
   {
    "duration": 157,
    "start_time": "2025-02-13T01:35:25.195Z"
   },
   {
    "duration": 1022,
    "start_time": "2025-02-13T01:35:35.108Z"
   },
   {
    "duration": 462,
    "start_time": "2025-02-13T01:35:36.132Z"
   },
   {
    "duration": 21,
    "start_time": "2025-02-13T01:35:36.595Z"
   },
   {
    "duration": 108,
    "start_time": "2025-02-13T01:35:36.617Z"
   },
   {
    "duration": 15,
    "start_time": "2025-02-13T01:35:36.728Z"
   },
   {
    "duration": 57,
    "start_time": "2025-02-13T01:35:36.744Z"
   },
   {
    "duration": 56,
    "start_time": "2025-02-13T01:35:36.802Z"
   },
   {
    "duration": 244,
    "start_time": "2025-02-13T01:35:36.860Z"
   },
   {
    "duration": 481,
    "start_time": "2025-02-13T01:35:37.106Z"
   },
   {
    "duration": 13,
    "start_time": "2025-02-13T01:35:37.589Z"
   },
   {
    "duration": 10574,
    "start_time": "2025-02-13T01:35:37.604Z"
   },
   {
    "duration": 49,
    "start_time": "2025-02-13T01:35:48.180Z"
   },
   {
    "duration": 14,
    "start_time": "2025-02-13T01:35:48.242Z"
   },
   {
    "duration": 6191,
    "start_time": "2025-02-13T01:35:48.259Z"
   },
   {
    "duration": 53,
    "start_time": "2025-02-13T01:35:54.453Z"
   },
   {
    "duration": 91,
    "start_time": "2025-02-13T01:35:54.508Z"
   },
   {
    "duration": 2331,
    "start_time": "2025-02-13T01:35:54.601Z"
   },
   {
    "duration": 18,
    "start_time": "2025-02-13T01:35:56.933Z"
   },
   {
    "duration": 9111,
    "start_time": "2025-02-13T01:35:56.952Z"
   },
   {
    "duration": 752,
    "start_time": "2025-02-13T01:36:06.065Z"
   },
   {
    "duration": 13,
    "start_time": "2025-02-13T01:36:06.819Z"
   },
   {
    "duration": 8060,
    "start_time": "2025-02-13T01:36:06.842Z"
   },
   {
    "duration": 49,
    "start_time": "2025-02-13T01:36:14.904Z"
   },
   {
    "duration": 56,
    "start_time": "2025-02-13T01:36:14.955Z"
   },
   {
    "duration": 3082,
    "start_time": "2025-02-13T01:36:15.013Z"
   },
   {
    "duration": 61,
    "start_time": "2025-02-13T01:36:18.097Z"
   },
   {
    "duration": 184,
    "start_time": "2025-02-13T01:36:18.160Z"
   },
   {
    "duration": 11,
    "start_time": "2025-02-13T01:36:18.346Z"
   },
   {
    "duration": 103,
    "start_time": "2025-02-13T01:36:18.359Z"
   },
   {
    "duration": 9,
    "start_time": "2025-02-13T01:36:18.464Z"
   },
   {
    "duration": 115,
    "start_time": "2025-02-13T01:36:18.475Z"
   },
   {
    "duration": 458,
    "start_time": "2025-02-13T01:36:18.592Z"
   },
   {
    "duration": 499,
    "start_time": "2025-02-13T01:36:19.052Z"
   },
   {
    "duration": 176,
    "start_time": "2025-02-13T01:36:19.554Z"
   },
   {
    "duration": 2886,
    "start_time": "2025-02-13T01:36:19.732Z"
   },
   {
    "duration": 2659,
    "start_time": "2025-02-13T01:36:48.011Z"
   },
   {
    "duration": 5,
    "start_time": "2025-02-13T01:37:21.092Z"
   },
   {
    "duration": 5,
    "start_time": "2025-02-13T01:37:22.851Z"
   },
   {
    "duration": 2625,
    "start_time": "2025-02-13T01:38:28.045Z"
   },
   {
    "duration": 211,
    "start_time": "2025-02-13T01:41:11.751Z"
   },
   {
    "duration": 1021,
    "start_time": "2025-02-13T01:42:16.980Z"
   },
   {
    "duration": 484,
    "start_time": "2025-02-13T01:42:18.003Z"
   },
   {
    "duration": 20,
    "start_time": "2025-02-13T01:42:18.489Z"
   },
   {
    "duration": 108,
    "start_time": "2025-02-13T01:42:18.510Z"
   },
   {
    "duration": 4,
    "start_time": "2025-02-13T01:42:18.620Z"
   },
   {
    "duration": 69,
    "start_time": "2025-02-13T01:42:18.626Z"
   },
   {
    "duration": 53,
    "start_time": "2025-02-13T01:42:18.697Z"
   },
   {
    "duration": 249,
    "start_time": "2025-02-13T01:42:18.752Z"
   },
   {
    "duration": 498,
    "start_time": "2025-02-13T01:42:19.004Z"
   },
   {
    "duration": 12,
    "start_time": "2025-02-13T01:42:19.505Z"
   },
   {
    "duration": 10528,
    "start_time": "2025-02-13T01:42:19.519Z"
   },
   {
    "duration": 50,
    "start_time": "2025-02-13T01:42:30.049Z"
   },
   {
    "duration": 13,
    "start_time": "2025-02-13T01:42:30.101Z"
   },
   {
    "duration": 6331,
    "start_time": "2025-02-13T01:42:30.115Z"
   },
   {
    "duration": 52,
    "start_time": "2025-02-13T01:42:36.448Z"
   },
   {
    "duration": 96,
    "start_time": "2025-02-13T01:42:36.502Z"
   },
   {
    "duration": 2527,
    "start_time": "2025-02-13T01:42:36.600Z"
   },
   {
    "duration": 17,
    "start_time": "2025-02-13T01:42:39.129Z"
   },
   {
    "duration": 9244,
    "start_time": "2025-02-13T01:42:39.148Z"
   },
   {
    "duration": 728,
    "start_time": "2025-02-13T01:42:48.394Z"
   },
   {
    "duration": 19,
    "start_time": "2025-02-13T01:42:49.126Z"
   },
   {
    "duration": 8047,
    "start_time": "2025-02-13T01:42:49.146Z"
   },
   {
    "duration": 48,
    "start_time": "2025-02-13T01:42:57.195Z"
   },
   {
    "duration": 56,
    "start_time": "2025-02-13T01:42:57.245Z"
   },
   {
    "duration": 3100,
    "start_time": "2025-02-13T01:42:57.303Z"
   },
   {
    "duration": 57,
    "start_time": "2025-02-13T01:43:00.405Z"
   },
   {
    "duration": 183,
    "start_time": "2025-02-13T01:43:00.463Z"
   },
   {
    "duration": 10,
    "start_time": "2025-02-13T01:43:00.650Z"
   },
   {
    "duration": 113,
    "start_time": "2025-02-13T01:43:00.663Z"
   },
   {
    "duration": 11,
    "start_time": "2025-02-13T01:43:00.778Z"
   },
   {
    "duration": 113,
    "start_time": "2025-02-13T01:43:00.791Z"
   },
   {
    "duration": 467,
    "start_time": "2025-02-13T01:43:00.905Z"
   },
   {
    "duration": 574,
    "start_time": "2025-02-13T01:43:01.374Z"
   },
   {
    "duration": 0,
    "start_time": "2025-02-13T01:43:01.950Z"
   },
   {
    "duration": 0,
    "start_time": "2025-02-13T01:43:01.952Z"
   },
   {
    "duration": 528,
    "start_time": "2025-02-13T01:43:25.527Z"
   },
   {
    "duration": 298,
    "start_time": "2025-02-13T01:44:36.024Z"
   },
   {
    "duration": 319,
    "start_time": "2025-02-13T01:44:57.226Z"
   },
   {
    "duration": 34,
    "start_time": "2025-02-13T01:45:29.626Z"
   },
   {
    "duration": 84,
    "start_time": "2025-02-13T01:45:46.388Z"
   },
   {
    "duration": 9,
    "start_time": "2025-02-13T01:45:49.069Z"
   },
   {
    "duration": 113,
    "start_time": "2025-02-13T01:45:50.464Z"
   },
   {
    "duration": 437,
    "start_time": "2025-02-13T01:45:56.400Z"
   },
   {
    "duration": 466,
    "start_time": "2025-02-13T01:45:57.972Z"
   },
   {
    "duration": 223,
    "start_time": "2025-02-13T01:46:01.811Z"
   },
   {
    "duration": 6,
    "start_time": "2025-02-13T01:46:06.461Z"
   },
   {
    "duration": 227,
    "start_time": "2025-02-13T01:46:21.390Z"
   },
   {
    "duration": 1019,
    "start_time": "2025-02-13T01:46:39.338Z"
   },
   {
    "duration": 472,
    "start_time": "2025-02-13T01:46:40.359Z"
   },
   {
    "duration": 27,
    "start_time": "2025-02-13T01:46:40.833Z"
   },
   {
    "duration": 98,
    "start_time": "2025-02-13T01:46:40.862Z"
   },
   {
    "duration": 4,
    "start_time": "2025-02-13T01:46:40.963Z"
   },
   {
    "duration": 75,
    "start_time": "2025-02-13T01:46:40.969Z"
   },
   {
    "duration": 54,
    "start_time": "2025-02-13T01:46:41.045Z"
   },
   {
    "duration": 244,
    "start_time": "2025-02-13T01:46:41.101Z"
   },
   {
    "duration": 491,
    "start_time": "2025-02-13T01:46:41.347Z"
   },
   {
    "duration": 13,
    "start_time": "2025-02-13T01:46:41.843Z"
   },
   {
    "duration": 10370,
    "start_time": "2025-02-13T01:46:41.858Z"
   },
   {
    "duration": 59,
    "start_time": "2025-02-13T01:46:52.230Z"
   },
   {
    "duration": 13,
    "start_time": "2025-02-13T01:46:52.291Z"
   },
   {
    "duration": 6154,
    "start_time": "2025-02-13T01:46:52.308Z"
   },
   {
    "duration": 55,
    "start_time": "2025-02-13T01:46:58.464Z"
   },
   {
    "duration": 86,
    "start_time": "2025-02-13T01:46:58.521Z"
   },
   {
    "duration": 2358,
    "start_time": "2025-02-13T01:46:58.609Z"
   },
   {
    "duration": 14,
    "start_time": "2025-02-13T01:47:00.969Z"
   },
   {
    "duration": 9154,
    "start_time": "2025-02-13T01:47:00.984Z"
   },
   {
    "duration": 782,
    "start_time": "2025-02-13T01:47:10.143Z"
   },
   {
    "duration": 18,
    "start_time": "2025-02-13T01:47:10.927Z"
   },
   {
    "duration": 8046,
    "start_time": "2025-02-13T01:47:10.947Z"
   },
   {
    "duration": 53,
    "start_time": "2025-02-13T01:47:18.995Z"
   },
   {
    "duration": 64,
    "start_time": "2025-02-13T01:47:19.050Z"
   },
   {
    "duration": 3086,
    "start_time": "2025-02-13T01:47:19.115Z"
   },
   {
    "duration": 54,
    "start_time": "2025-02-13T01:47:22.203Z"
   },
   {
    "duration": 198,
    "start_time": "2025-02-13T01:47:22.259Z"
   },
   {
    "duration": 11,
    "start_time": "2025-02-13T01:47:22.459Z"
   },
   {
    "duration": 102,
    "start_time": "2025-02-13T01:47:22.471Z"
   },
   {
    "duration": 10,
    "start_time": "2025-02-13T01:47:22.575Z"
   },
   {
    "duration": 116,
    "start_time": "2025-02-13T01:47:22.587Z"
   },
   {
    "duration": 438,
    "start_time": "2025-02-13T01:47:22.705Z"
   },
   {
    "duration": 457,
    "start_time": "2025-02-13T01:47:23.144Z"
   },
   {
    "duration": 221,
    "start_time": "2025-02-13T01:47:23.603Z"
   },
   {
    "duration": 234,
    "start_time": "2025-02-13T01:47:23.826Z"
   },
   {
    "duration": 3214,
    "start_time": "2025-02-13T01:47:24.062Z"
   },
   {
    "duration": 2622,
    "start_time": "2025-02-13T01:47:41.658Z"
   },
   {
    "duration": 1005,
    "start_time": "2025-02-13T01:48:08.530Z"
   },
   {
    "duration": 468,
    "start_time": "2025-02-13T01:48:09.537Z"
   },
   {
    "duration": 20,
    "start_time": "2025-02-13T01:48:10.009Z"
   },
   {
    "duration": 99,
    "start_time": "2025-02-13T01:48:10.043Z"
   },
   {
    "duration": 4,
    "start_time": "2025-02-13T01:48:10.144Z"
   },
   {
    "duration": 95,
    "start_time": "2025-02-13T01:48:10.149Z"
   },
   {
    "duration": 45,
    "start_time": "2025-02-13T01:48:10.246Z"
   },
   {
    "duration": 251,
    "start_time": "2025-02-13T01:48:10.293Z"
   },
   {
    "duration": 508,
    "start_time": "2025-02-13T01:48:10.548Z"
   },
   {
    "duration": 13,
    "start_time": "2025-02-13T01:48:11.058Z"
   },
   {
    "duration": 10413,
    "start_time": "2025-02-13T01:48:11.073Z"
   },
   {
    "duration": 58,
    "start_time": "2025-02-13T01:48:21.488Z"
   },
   {
    "duration": 13,
    "start_time": "2025-02-13T01:48:21.549Z"
   },
   {
    "duration": 6125,
    "start_time": "2025-02-13T01:48:21.563Z"
   },
   {
    "duration": 61,
    "start_time": "2025-02-13T01:48:27.691Z"
   },
   {
    "duration": 75,
    "start_time": "2025-02-13T01:48:27.754Z"
   },
   {
    "duration": 2361,
    "start_time": "2025-02-13T01:48:27.831Z"
   },
   {
    "duration": 12,
    "start_time": "2025-02-13T01:48:30.194Z"
   },
   {
    "duration": 9226,
    "start_time": "2025-02-13T01:48:30.208Z"
   },
   {
    "duration": 720,
    "start_time": "2025-02-13T01:48:39.436Z"
   },
   {
    "duration": 13,
    "start_time": "2025-02-13T01:48:40.159Z"
   },
   {
    "duration": 8188,
    "start_time": "2025-02-13T01:48:40.174Z"
   },
   {
    "duration": 40,
    "start_time": "2025-02-13T01:48:48.364Z"
   },
   {
    "duration": 74,
    "start_time": "2025-02-13T01:48:48.406Z"
   },
   {
    "duration": 3110,
    "start_time": "2025-02-13T01:48:48.481Z"
   },
   {
    "duration": 60,
    "start_time": "2025-02-13T01:48:51.593Z"
   },
   {
    "duration": 179,
    "start_time": "2025-02-13T01:48:51.655Z"
   },
   {
    "duration": 14,
    "start_time": "2025-02-13T01:48:51.836Z"
   },
   {
    "duration": 101,
    "start_time": "2025-02-13T01:48:51.851Z"
   },
   {
    "duration": 10,
    "start_time": "2025-02-13T01:48:51.954Z"
   },
   {
    "duration": 113,
    "start_time": "2025-02-13T01:48:51.965Z"
   },
   {
    "duration": 463,
    "start_time": "2025-02-13T01:48:52.080Z"
   },
   {
    "duration": 461,
    "start_time": "2025-02-13T01:48:52.544Z"
   },
   {
    "duration": 222,
    "start_time": "2025-02-13T01:48:53.007Z"
   },
   {
    "duration": 241,
    "start_time": "2025-02-13T01:48:53.231Z"
   },
   {
    "duration": 3011,
    "start_time": "2025-02-13T01:48:53.474Z"
   },
   {
    "duration": 137,
    "start_time": "2025-02-13T01:49:19.076Z"
   },
   {
    "duration": 2706,
    "start_time": "2025-02-13T01:49:21.958Z"
   },
   {
    "duration": 2590,
    "start_time": "2025-02-13T01:51:16.181Z"
   },
   {
    "duration": 3,
    "start_time": "2025-02-13T01:52:16.800Z"
   },
   {
    "duration": 410,
    "start_time": "2025-02-13T01:54:26.845Z"
   },
   {
    "duration": 124,
    "start_time": "2025-02-13T01:57:51.350Z"
   },
   {
    "duration": 48,
    "start_time": "2025-02-13T01:58:35.142Z"
   },
   {
    "duration": 3,
    "start_time": "2025-02-13T02:00:08.586Z"
   },
   {
    "duration": 4,
    "start_time": "2025-02-13T02:00:50.260Z"
   },
   {
    "duration": 436,
    "start_time": "2025-02-13T02:00:50.266Z"
   },
   {
    "duration": 17,
    "start_time": "2025-02-13T02:00:50.704Z"
   },
   {
    "duration": 120,
    "start_time": "2025-02-13T02:00:50.723Z"
   },
   {
    "duration": 7,
    "start_time": "2025-02-13T02:00:50.846Z"
   },
   {
    "duration": 58,
    "start_time": "2025-02-13T02:00:50.854Z"
   },
   {
    "duration": 49,
    "start_time": "2025-02-13T02:00:50.914Z"
   },
   {
    "duration": 224,
    "start_time": "2025-02-13T02:00:50.965Z"
   },
   {
    "duration": 429,
    "start_time": "2025-02-13T02:00:51.191Z"
   },
   {
    "duration": 21,
    "start_time": "2025-02-13T02:00:51.622Z"
   },
   {
    "duration": 10730,
    "start_time": "2025-02-13T02:00:51.645Z"
   },
   {
    "duration": 48,
    "start_time": "2025-02-13T02:01:02.377Z"
   },
   {
    "duration": 21,
    "start_time": "2025-02-13T02:01:02.429Z"
   },
   {
    "duration": 6146,
    "start_time": "2025-02-13T02:01:02.452Z"
   },
   {
    "duration": 60,
    "start_time": "2025-02-13T02:01:08.600Z"
   },
   {
    "duration": 84,
    "start_time": "2025-02-13T02:01:08.661Z"
   },
   {
    "duration": 2374,
    "start_time": "2025-02-13T02:01:08.747Z"
   },
   {
    "duration": 20,
    "start_time": "2025-02-13T02:01:11.123Z"
   },
   {
    "duration": 9026,
    "start_time": "2025-02-13T02:01:11.145Z"
   },
   {
    "duration": 773,
    "start_time": "2025-02-13T02:01:20.173Z"
   },
   {
    "duration": 14,
    "start_time": "2025-02-13T02:01:20.949Z"
   },
   {
    "duration": 8234,
    "start_time": "2025-02-13T02:01:20.965Z"
   },
   {
    "duration": 52,
    "start_time": "2025-02-13T02:01:29.201Z"
   },
   {
    "duration": 56,
    "start_time": "2025-02-13T02:01:29.255Z"
   },
   {
    "duration": 3113,
    "start_time": "2025-02-13T02:01:29.312Z"
   },
   {
    "duration": 49,
    "start_time": "2025-02-13T02:01:32.429Z"
   },
   {
    "duration": 192,
    "start_time": "2025-02-13T02:01:32.479Z"
   },
   {
    "duration": 12,
    "start_time": "2025-02-13T02:01:32.673Z"
   },
   {
    "duration": 93,
    "start_time": "2025-02-13T02:01:32.687Z"
   },
   {
    "duration": 12,
    "start_time": "2025-02-13T02:01:32.781Z"
   },
   {
    "duration": 109,
    "start_time": "2025-02-13T02:01:32.795Z"
   },
   {
    "duration": 480,
    "start_time": "2025-02-13T02:01:32.905Z"
   },
   {
    "duration": 467,
    "start_time": "2025-02-13T02:01:33.387Z"
   },
   {
    "duration": 45,
    "start_time": "2025-02-13T02:01:33.856Z"
   },
   {
    "duration": 0,
    "start_time": "2025-02-13T02:01:33.902Z"
   },
   {
    "duration": 0,
    "start_time": "2025-02-13T02:01:33.904Z"
   },
   {
    "duration": 0,
    "start_time": "2025-02-13T02:01:33.905Z"
   },
   {
    "duration": 0,
    "start_time": "2025-02-13T02:01:33.907Z"
   },
   {
    "duration": 3,
    "start_time": "2025-02-13T02:02:52.746Z"
   },
   {
    "duration": 31,
    "start_time": "2025-02-13T02:02:55.129Z"
   },
   {
    "duration": 1011,
    "start_time": "2025-02-13T02:03:12.907Z"
   },
   {
    "duration": 456,
    "start_time": "2025-02-13T02:03:13.920Z"
   },
   {
    "duration": 20,
    "start_time": "2025-02-13T02:03:14.377Z"
   },
   {
    "duration": 107,
    "start_time": "2025-02-13T02:03:14.399Z"
   },
   {
    "duration": 4,
    "start_time": "2025-02-13T02:03:14.508Z"
   },
   {
    "duration": 78,
    "start_time": "2025-02-13T02:03:14.514Z"
   },
   {
    "duration": 51,
    "start_time": "2025-02-13T02:03:14.595Z"
   },
   {
    "duration": 232,
    "start_time": "2025-02-13T02:03:14.648Z"
   },
   {
    "duration": 484,
    "start_time": "2025-02-13T02:03:14.882Z"
   },
   {
    "duration": 13,
    "start_time": "2025-02-13T02:03:15.370Z"
   },
   {
    "duration": 10521,
    "start_time": "2025-02-13T02:03:15.385Z"
   },
   {
    "duration": 57,
    "start_time": "2025-02-13T02:03:25.908Z"
   },
   {
    "duration": 13,
    "start_time": "2025-02-13T02:03:25.967Z"
   },
   {
    "duration": 6177,
    "start_time": "2025-02-13T02:03:25.981Z"
   },
   {
    "duration": 53,
    "start_time": "2025-02-13T02:03:32.160Z"
   },
   {
    "duration": 85,
    "start_time": "2025-02-13T02:03:32.215Z"
   },
   {
    "duration": 2280,
    "start_time": "2025-02-13T02:03:32.302Z"
   },
   {
    "duration": 13,
    "start_time": "2025-02-13T02:03:34.584Z"
   },
   {
    "duration": 9051,
    "start_time": "2025-02-13T02:03:34.598Z"
   },
   {
    "duration": 718,
    "start_time": "2025-02-13T02:03:43.651Z"
   },
   {
    "duration": 13,
    "start_time": "2025-02-13T02:03:44.371Z"
   },
   {
    "duration": 8059,
    "start_time": "2025-02-13T02:03:44.385Z"
   },
   {
    "duration": 41,
    "start_time": "2025-02-13T02:03:52.446Z"
   },
   {
    "duration": 69,
    "start_time": "2025-02-13T02:03:52.489Z"
   },
   {
    "duration": 3057,
    "start_time": "2025-02-13T02:03:52.560Z"
   },
   {
    "duration": 63,
    "start_time": "2025-02-13T02:03:55.618Z"
   },
   {
    "duration": 181,
    "start_time": "2025-02-13T02:03:55.683Z"
   },
   {
    "duration": 9,
    "start_time": "2025-02-13T02:03:55.869Z"
   },
   {
    "duration": 99,
    "start_time": "2025-02-13T02:03:55.880Z"
   },
   {
    "duration": 10,
    "start_time": "2025-02-13T02:03:55.981Z"
   },
   {
    "duration": 113,
    "start_time": "2025-02-13T02:03:55.993Z"
   },
   {
    "duration": 452,
    "start_time": "2025-02-13T02:03:56.108Z"
   },
   {
    "duration": 464,
    "start_time": "2025-02-13T02:03:56.562Z"
   },
   {
    "duration": 4,
    "start_time": "2025-02-13T02:03:57.028Z"
   },
   {
    "duration": 27,
    "start_time": "2025-02-13T02:03:57.034Z"
   },
   {
    "duration": 136,
    "start_time": "2025-02-13T02:03:57.063Z"
   },
   {
    "duration": 3,
    "start_time": "2025-02-13T02:03:57.201Z"
   },
   {
    "duration": 2964,
    "start_time": "2025-02-13T02:03:57.206Z"
   },
   {
    "duration": 13,
    "start_time": "2025-02-13T02:04:41.476Z"
   },
   {
    "duration": 8,
    "start_time": "2025-02-13T02:04:47.668Z"
   },
   {
    "duration": 28,
    "start_time": "2025-02-13T02:05:00.324Z"
   },
   {
    "duration": 3,
    "start_time": "2025-02-13T02:05:59.476Z"
   },
   {
    "duration": 3,
    "start_time": "2025-02-13T02:06:48.391Z"
   },
   {
    "duration": 3,
    "start_time": "2025-02-13T02:07:26.874Z"
   },
   {
    "duration": 48,
    "start_time": "2025-02-13T02:08:38.933Z"
   },
   {
    "duration": 85,
    "start_time": "2025-02-13T02:08:43.887Z"
   },
   {
    "duration": 3,
    "start_time": "2025-02-13T02:08:45.428Z"
   },
   {
    "duration": 2622,
    "start_time": "2025-02-13T02:08:51.134Z"
   },
   {
    "duration": 2606,
    "start_time": "2025-02-13T02:09:01.452Z"
   },
   {
    "duration": 4,
    "start_time": "2025-02-13T02:11:54.016Z"
   },
   {
    "duration": 4,
    "start_time": "2025-02-13T02:12:28.501Z"
   },
   {
    "duration": 4,
    "start_time": "2025-02-13T02:13:03.951Z"
   },
   {
    "duration": 13,
    "start_time": "2025-02-13T02:14:24.448Z"
   },
   {
    "duration": 4,
    "start_time": "2025-02-13T02:14:32.768Z"
   },
   {
    "duration": 4,
    "start_time": "2025-02-13T02:16:19.947Z"
   },
   {
    "duration": 5,
    "start_time": "2025-02-13T02:16:32.144Z"
   },
   {
    "duration": 6,
    "start_time": "2025-02-13T02:19:29.022Z"
   },
   {
    "duration": 158,
    "start_time": "2025-02-16T01:12:41.367Z"
   },
   {
    "duration": 2683,
    "start_time": "2025-02-16T01:12:45.528Z"
   },
   {
    "duration": 465,
    "start_time": "2025-02-16T01:12:48.213Z"
   },
   {
    "duration": 19,
    "start_time": "2025-02-16T01:12:48.680Z"
   },
   {
    "duration": 95,
    "start_time": "2025-02-16T01:12:48.701Z"
   },
   {
    "duration": 4,
    "start_time": "2025-02-16T01:12:48.799Z"
   },
   {
    "duration": 77,
    "start_time": "2025-02-16T01:12:48.805Z"
   },
   {
    "duration": 37,
    "start_time": "2025-02-16T01:12:48.884Z"
   },
   {
    "duration": 240,
    "start_time": "2025-02-16T01:12:48.923Z"
   },
   {
    "duration": 468,
    "start_time": "2025-02-16T01:12:49.165Z"
   },
   {
    "duration": 17,
    "start_time": "2025-02-16T01:12:49.635Z"
   },
   {
    "duration": 10245,
    "start_time": "2025-02-16T01:12:49.654Z"
   },
   {
    "duration": 63,
    "start_time": "2025-02-16T01:12:59.901Z"
   },
   {
    "duration": 13,
    "start_time": "2025-02-16T01:12:59.966Z"
   },
   {
    "duration": 5851,
    "start_time": "2025-02-16T01:12:59.983Z"
   },
   {
    "duration": 50,
    "start_time": "2025-02-16T01:13:05.843Z"
   },
   {
    "duration": 82,
    "start_time": "2025-02-16T01:13:05.895Z"
   },
   {
    "duration": 2237,
    "start_time": "2025-02-16T01:13:05.979Z"
   },
   {
    "duration": 15,
    "start_time": "2025-02-16T01:13:08.218Z"
   },
   {
    "duration": 8753,
    "start_time": "2025-02-16T01:13:08.235Z"
   },
   {
    "duration": 691,
    "start_time": "2025-02-16T01:13:16.991Z"
   },
   {
    "duration": 13,
    "start_time": "2025-02-16T01:13:17.684Z"
   },
   {
    "duration": 7996,
    "start_time": "2025-02-16T01:13:17.699Z"
   },
   {
    "duration": 50,
    "start_time": "2025-02-16T01:13:25.697Z"
   },
   {
    "duration": 55,
    "start_time": "2025-02-16T01:13:25.749Z"
   },
   {
    "duration": 3044,
    "start_time": "2025-02-16T01:13:25.806Z"
   },
   {
    "duration": 54,
    "start_time": "2025-02-16T01:13:28.852Z"
   },
   {
    "duration": 181,
    "start_time": "2025-02-16T01:13:28.907Z"
   },
   {
    "duration": 10,
    "start_time": "2025-02-16T01:13:29.090Z"
   },
   {
    "duration": 100,
    "start_time": "2025-02-16T01:13:29.102Z"
   },
   {
    "duration": 9,
    "start_time": "2025-02-16T01:13:29.204Z"
   },
   {
    "duration": 136,
    "start_time": "2025-02-16T01:13:29.215Z"
   },
   {
    "duration": 426,
    "start_time": "2025-02-16T01:13:29.354Z"
   },
   {
    "duration": 455,
    "start_time": "2025-02-16T01:13:29.781Z"
   },
   {
    "duration": 4,
    "start_time": "2025-02-16T01:13:30.242Z"
   },
   {
    "duration": 49,
    "start_time": "2025-02-16T01:13:30.248Z"
   },
   {
    "duration": 150,
    "start_time": "2025-02-16T01:13:30.300Z"
   },
   {
    "duration": 5,
    "start_time": "2025-02-16T01:13:30.451Z"
   },
   {
    "duration": 2592,
    "start_time": "2025-02-16T01:13:30.458Z"
   },
   {
    "duration": 209,
    "start_time": "2025-02-16T01:13:43.133Z"
   },
   {
    "duration": 1050,
    "start_time": "2025-02-16T01:14:19.373Z"
   },
   {
    "duration": 477,
    "start_time": "2025-02-16T01:14:20.425Z"
   },
   {
    "duration": 20,
    "start_time": "2025-02-16T01:14:20.904Z"
   },
   {
    "duration": 104,
    "start_time": "2025-02-16T01:14:20.927Z"
   },
   {
    "duration": 14,
    "start_time": "2025-02-16T01:14:21.033Z"
   },
   {
    "duration": 59,
    "start_time": "2025-02-16T01:14:21.048Z"
   },
   {
    "duration": 60,
    "start_time": "2025-02-16T01:14:21.109Z"
   },
   {
    "duration": 227,
    "start_time": "2025-02-16T01:14:21.170Z"
   },
   {
    "duration": 461,
    "start_time": "2025-02-16T01:14:21.398Z"
   },
   {
    "duration": 13,
    "start_time": "2025-02-16T01:14:21.862Z"
   },
   {
    "duration": 10216,
    "start_time": "2025-02-16T01:14:21.877Z"
   },
   {
    "duration": 65,
    "start_time": "2025-02-16T01:14:32.095Z"
   },
   {
    "duration": 14,
    "start_time": "2025-02-16T01:14:32.162Z"
   },
   {
    "duration": 5789,
    "start_time": "2025-02-16T01:14:32.178Z"
   },
   {
    "duration": 54,
    "start_time": "2025-02-16T01:14:37.969Z"
   },
   {
    "duration": 82,
    "start_time": "2025-02-16T01:14:38.024Z"
   },
   {
    "duration": 2300,
    "start_time": "2025-02-16T01:14:38.108Z"
   },
   {
    "duration": 13,
    "start_time": "2025-02-16T01:14:40.410Z"
   },
   {
    "duration": 8703,
    "start_time": "2025-02-16T01:14:40.425Z"
   },
   {
    "duration": 753,
    "start_time": "2025-02-16T01:14:49.130Z"
   },
   {
    "duration": 15,
    "start_time": "2025-02-16T01:14:49.885Z"
   },
   {
    "duration": 7793,
    "start_time": "2025-02-16T01:14:49.903Z"
   },
   {
    "duration": 48,
    "start_time": "2025-02-16T01:14:57.698Z"
   },
   {
    "duration": 55,
    "start_time": "2025-02-16T01:14:57.748Z"
   },
   {
    "duration": 3074,
    "start_time": "2025-02-16T01:14:57.805Z"
   },
   {
    "duration": 50,
    "start_time": "2025-02-16T01:15:00.881Z"
   },
   {
    "duration": 197,
    "start_time": "2025-02-16T01:15:00.932Z"
   },
   {
    "duration": 16,
    "start_time": "2025-02-16T01:15:01.133Z"
   },
   {
    "duration": 102,
    "start_time": "2025-02-16T01:15:01.151Z"
   },
   {
    "duration": 11,
    "start_time": "2025-02-16T01:15:01.255Z"
   },
   {
    "duration": 113,
    "start_time": "2025-02-16T01:15:01.268Z"
   },
   {
    "duration": 452,
    "start_time": "2025-02-16T01:15:01.383Z"
   },
   {
    "duration": 480,
    "start_time": "2025-02-16T01:15:01.837Z"
   },
   {
    "duration": 3,
    "start_time": "2025-02-16T01:15:02.319Z"
   },
   {
    "duration": 60,
    "start_time": "2025-02-16T01:15:02.324Z"
   },
   {
    "duration": 157,
    "start_time": "2025-02-16T01:15:02.385Z"
   },
   {
    "duration": 6,
    "start_time": "2025-02-16T01:15:02.544Z"
   },
   {
    "duration": 2611,
    "start_time": "2025-02-16T01:15:02.551Z"
   },
   {
    "duration": 1033,
    "start_time": "2025-02-16T01:15:42.191Z"
   },
   {
    "duration": 437,
    "start_time": "2025-02-16T01:15:43.226Z"
   },
   {
    "duration": 20,
    "start_time": "2025-02-16T01:15:43.665Z"
   },
   {
    "duration": 104,
    "start_time": "2025-02-16T01:15:43.687Z"
   },
   {
    "duration": 4,
    "start_time": "2025-02-16T01:15:43.794Z"
   },
   {
    "duration": 97,
    "start_time": "2025-02-16T01:15:43.801Z"
   },
   {
    "duration": 52,
    "start_time": "2025-02-16T01:15:43.900Z"
   },
   {
    "duration": 234,
    "start_time": "2025-02-16T01:15:43.955Z"
   },
   {
    "duration": 492,
    "start_time": "2025-02-16T01:15:44.191Z"
   },
   {
    "duration": 13,
    "start_time": "2025-02-16T01:15:44.685Z"
   },
   {
    "duration": 10657,
    "start_time": "2025-02-16T01:15:44.699Z"
   },
   {
    "duration": 48,
    "start_time": "2025-02-16T01:15:55.358Z"
   },
   {
    "duration": 13,
    "start_time": "2025-02-16T01:15:55.408Z"
   },
   {
    "duration": 6151,
    "start_time": "2025-02-16T01:15:55.425Z"
   },
   {
    "duration": 52,
    "start_time": "2025-02-16T01:16:01.578Z"
   },
   {
    "duration": 73,
    "start_time": "2025-02-16T01:16:01.642Z"
   },
   {
    "duration": 2317,
    "start_time": "2025-02-16T01:16:01.717Z"
   },
   {
    "duration": 13,
    "start_time": "2025-02-16T01:16:04.037Z"
   },
   {
    "duration": 8968,
    "start_time": "2025-02-16T01:16:04.051Z"
   },
   {
    "duration": 697,
    "start_time": "2025-02-16T01:16:13.021Z"
   },
   {
    "duration": 14,
    "start_time": "2025-02-16T01:16:13.720Z"
   },
   {
    "duration": 8080,
    "start_time": "2025-02-16T01:16:13.743Z"
   },
   {
    "duration": 48,
    "start_time": "2025-02-16T01:16:21.825Z"
   },
   {
    "duration": 57,
    "start_time": "2025-02-16T01:16:21.874Z"
   },
   {
    "duration": 3087,
    "start_time": "2025-02-16T01:16:21.944Z"
   },
   {
    "duration": 58,
    "start_time": "2025-02-16T01:16:25.033Z"
   },
   {
    "duration": 195,
    "start_time": "2025-02-16T01:16:25.093Z"
   },
   {
    "duration": 10,
    "start_time": "2025-02-16T01:16:25.290Z"
   },
   {
    "duration": 100,
    "start_time": "2025-02-16T01:16:25.302Z"
   },
   {
    "duration": 10,
    "start_time": "2025-02-16T01:16:25.404Z"
   },
   {
    "duration": 111,
    "start_time": "2025-02-16T01:16:25.416Z"
   },
   {
    "duration": 422,
    "start_time": "2025-02-16T01:16:25.529Z"
   },
   {
    "duration": 468,
    "start_time": "2025-02-16T01:16:25.952Z"
   },
   {
    "duration": 3,
    "start_time": "2025-02-16T01:16:26.422Z"
   },
   {
    "duration": 68,
    "start_time": "2025-02-16T01:16:26.427Z"
   },
   {
    "duration": 159,
    "start_time": "2025-02-16T01:16:26.497Z"
   },
   {
    "duration": 6,
    "start_time": "2025-02-16T01:16:26.658Z"
   },
   {
    "duration": 2591,
    "start_time": "2025-02-16T01:16:26.665Z"
   },
   {
    "duration": 16051,
    "start_time": "2025-02-16T01:21:51.942Z"
   },
   {
    "duration": 479263,
    "start_time": "2025-02-16T01:22:52.593Z"
   },
   {
    "duration": 1040,
    "start_time": "2025-02-16T02:09:05.080Z"
   },
   {
    "duration": 441,
    "start_time": "2025-02-16T02:09:06.122Z"
   },
   {
    "duration": 21,
    "start_time": "2025-02-16T02:09:06.565Z"
   },
   {
    "duration": 99,
    "start_time": "2025-02-16T02:09:06.587Z"
   },
   {
    "duration": 6,
    "start_time": "2025-02-16T02:09:06.688Z"
   },
   {
    "duration": 73,
    "start_time": "2025-02-16T02:09:06.696Z"
   },
   {
    "duration": 44,
    "start_time": "2025-02-16T02:09:06.771Z"
   },
   {
    "duration": 236,
    "start_time": "2025-02-16T02:09:06.817Z"
   },
   {
    "duration": 484,
    "start_time": "2025-02-16T02:09:07.055Z"
   },
   {
    "duration": 13,
    "start_time": "2025-02-16T02:09:07.541Z"
   },
   {
    "duration": 10163,
    "start_time": "2025-02-16T02:09:07.556Z"
   },
   {
    "duration": 57,
    "start_time": "2025-02-16T02:09:17.721Z"
   },
   {
    "duration": 13,
    "start_time": "2025-02-16T02:09:17.780Z"
   },
   {
    "duration": 6148,
    "start_time": "2025-02-16T02:09:17.797Z"
   },
   {
    "duration": 53,
    "start_time": "2025-02-16T02:09:23.946Z"
   },
   {
    "duration": 90,
    "start_time": "2025-02-16T02:09:24.001Z"
   },
   {
    "duration": 2246,
    "start_time": "2025-02-16T02:09:24.092Z"
   },
   {
    "duration": 12,
    "start_time": "2025-02-16T02:09:26.340Z"
   },
   {
    "duration": 9131,
    "start_time": "2025-02-16T02:09:26.353Z"
   },
   {
    "duration": 694,
    "start_time": "2025-02-16T02:09:35.486Z"
   },
   {
    "duration": 14,
    "start_time": "2025-02-16T02:09:36.182Z"
   },
   {
    "duration": 8124,
    "start_time": "2025-02-16T02:09:36.197Z"
   },
   {
    "duration": 48,
    "start_time": "2025-02-16T02:09:44.323Z"
   },
   {
    "duration": 55,
    "start_time": "2025-02-16T02:09:44.373Z"
   },
   {
    "duration": 3089,
    "start_time": "2025-02-16T02:09:44.430Z"
   },
   {
    "duration": 56,
    "start_time": "2025-02-16T02:09:47.521Z"
   },
   {
    "duration": 179,
    "start_time": "2025-02-16T02:09:47.580Z"
   },
   {
    "duration": 10,
    "start_time": "2025-02-16T02:09:47.762Z"
   },
   {
    "duration": 100,
    "start_time": "2025-02-16T02:09:47.774Z"
   },
   {
    "duration": 9,
    "start_time": "2025-02-16T02:09:47.875Z"
   },
   {
    "duration": 123,
    "start_time": "2025-02-16T02:09:47.886Z"
   },
   {
    "duration": 440,
    "start_time": "2025-02-16T02:09:48.011Z"
   },
   {
    "duration": 458,
    "start_time": "2025-02-16T02:09:48.453Z"
   },
   {
    "duration": 3,
    "start_time": "2025-02-16T02:09:48.913Z"
   },
   {
    "duration": 58,
    "start_time": "2025-02-16T02:09:48.918Z"
   },
   {
    "duration": 154,
    "start_time": "2025-02-16T02:09:48.978Z"
   },
   {
    "duration": 10,
    "start_time": "2025-02-16T02:09:49.134Z"
   },
   {
    "duration": 2612,
    "start_time": "2025-02-16T02:09:49.145Z"
   },
   {
    "duration": 479121,
    "start_time": "2025-02-16T02:09:51.760Z"
   },
   {
    "duration": 284647,
    "start_time": "2025-02-16T02:17:50.883Z"
   },
   {
    "duration": 14,
    "start_time": "2025-02-16T02:27:34.904Z"
   },
   {
    "duration": 43803,
    "start_time": "2025-02-16T02:29:13.989Z"
   },
   {
    "duration": 16,
    "start_time": "2025-02-16T02:43:30.672Z"
   },
   {
    "duration": 1007,
    "start_time": "2025-02-16T03:17:14.128Z"
   },
   {
    "duration": 417,
    "start_time": "2025-02-16T03:17:15.137Z"
   },
   {
    "duration": 21,
    "start_time": "2025-02-16T03:17:15.555Z"
   },
   {
    "duration": 111,
    "start_time": "2025-02-16T03:17:15.577Z"
   },
   {
    "duration": 4,
    "start_time": "2025-02-16T03:17:15.691Z"
   },
   {
    "duration": 70,
    "start_time": "2025-02-16T03:17:15.697Z"
   },
   {
    "duration": 44,
    "start_time": "2025-02-16T03:17:15.769Z"
   },
   {
    "duration": 255,
    "start_time": "2025-02-16T03:17:15.815Z"
   },
   {
    "duration": 478,
    "start_time": "2025-02-16T03:17:16.071Z"
   },
   {
    "duration": 13,
    "start_time": "2025-02-16T03:17:16.551Z"
   },
   {
    "duration": 10126,
    "start_time": "2025-02-16T03:17:16.565Z"
   },
   {
    "duration": 53,
    "start_time": "2025-02-16T03:17:26.692Z"
   },
   {
    "duration": 13,
    "start_time": "2025-02-16T03:17:26.747Z"
   },
   {
    "duration": 5951,
    "start_time": "2025-02-16T03:17:26.764Z"
   },
   {
    "duration": 61,
    "start_time": "2025-02-16T03:17:32.716Z"
   },
   {
    "duration": 80,
    "start_time": "2025-02-16T03:17:32.779Z"
   },
   {
    "duration": 2226,
    "start_time": "2025-02-16T03:17:32.861Z"
   },
   {
    "duration": 13,
    "start_time": "2025-02-16T03:17:35.088Z"
   },
   {
    "duration": 8974,
    "start_time": "2025-02-16T03:17:35.103Z"
   },
   {
    "duration": 716,
    "start_time": "2025-02-16T03:17:44.079Z"
   },
   {
    "duration": 14,
    "start_time": "2025-02-16T03:17:44.796Z"
   },
   {
    "duration": 7922,
    "start_time": "2025-02-16T03:17:44.811Z"
   },
   {
    "duration": 44,
    "start_time": "2025-02-16T03:17:52.735Z"
   },
   {
    "duration": 67,
    "start_time": "2025-02-16T03:17:52.780Z"
   },
   {
    "duration": 3011,
    "start_time": "2025-02-16T03:17:52.849Z"
   },
   {
    "duration": 50,
    "start_time": "2025-02-16T03:17:55.862Z"
   },
   {
    "duration": 183,
    "start_time": "2025-02-16T03:17:55.914Z"
   },
   {
    "duration": 10,
    "start_time": "2025-02-16T03:17:56.099Z"
   },
   {
    "duration": 108,
    "start_time": "2025-02-16T03:17:56.110Z"
   },
   {
    "duration": 10,
    "start_time": "2025-02-16T03:17:56.219Z"
   },
   {
    "duration": 116,
    "start_time": "2025-02-16T03:17:56.231Z"
   },
   {
    "duration": 442,
    "start_time": "2025-02-16T03:17:56.349Z"
   },
   {
    "duration": 468,
    "start_time": "2025-02-16T03:17:56.792Z"
   },
   {
    "duration": 3,
    "start_time": "2025-02-16T03:17:57.262Z"
   },
   {
    "duration": 47,
    "start_time": "2025-02-16T03:17:57.267Z"
   },
   {
    "duration": 159,
    "start_time": "2025-02-16T03:17:57.316Z"
   },
   {
    "duration": 6,
    "start_time": "2025-02-16T03:17:57.477Z"
   },
   {
    "duration": 2671,
    "start_time": "2025-02-16T03:17:57.484Z"
   },
   {
    "duration": 482114,
    "start_time": "2025-02-16T03:18:00.160Z"
   },
   {
    "duration": 234,
    "start_time": "2025-02-16T03:26:02.276Z"
   },
   {
    "duration": 1802,
    "start_time": "2025-02-16T03:35:42.742Z"
   },
   {
    "duration": 978,
    "start_time": "2025-02-16T04:02:43.351Z"
   },
   {
    "duration": 407,
    "start_time": "2025-02-16T04:02:44.331Z"
   },
   {
    "duration": 19,
    "start_time": "2025-02-16T04:02:44.739Z"
   },
   {
    "duration": 104,
    "start_time": "2025-02-16T04:02:44.761Z"
   },
   {
    "duration": 4,
    "start_time": "2025-02-16T04:02:44.867Z"
   },
   {
    "duration": 76,
    "start_time": "2025-02-16T04:02:44.873Z"
   },
   {
    "duration": 45,
    "start_time": "2025-02-16T04:02:44.950Z"
   },
   {
    "duration": 247,
    "start_time": "2025-02-16T04:02:44.997Z"
   },
   {
    "duration": 479,
    "start_time": "2025-02-16T04:02:45.246Z"
   },
   {
    "duration": 17,
    "start_time": "2025-02-16T04:02:45.729Z"
   },
   {
    "duration": 10384,
    "start_time": "2025-02-16T04:02:45.747Z"
   },
   {
    "duration": 53,
    "start_time": "2025-02-16T04:02:56.133Z"
   },
   {
    "duration": 13,
    "start_time": "2025-02-16T04:02:56.188Z"
   },
   {
    "duration": 6054,
    "start_time": "2025-02-16T04:02:56.202Z"
   },
   {
    "duration": 53,
    "start_time": "2025-02-16T04:03:02.258Z"
   },
   {
    "duration": 85,
    "start_time": "2025-02-16T04:03:02.313Z"
   },
   {
    "duration": 2277,
    "start_time": "2025-02-16T04:03:02.399Z"
   },
   {
    "duration": 13,
    "start_time": "2025-02-16T04:03:04.678Z"
   },
   {
    "duration": 8817,
    "start_time": "2025-02-16T04:03:04.693Z"
   },
   {
    "duration": 712,
    "start_time": "2025-02-16T04:03:13.511Z"
   },
   {
    "duration": 19,
    "start_time": "2025-02-16T04:03:14.225Z"
   },
   {
    "duration": 7997,
    "start_time": "2025-02-16T04:03:14.246Z"
   },
   {
    "duration": 41,
    "start_time": "2025-02-16T04:03:22.245Z"
   },
   {
    "duration": 73,
    "start_time": "2025-02-16T04:03:22.287Z"
   },
   {
    "duration": 3041,
    "start_time": "2025-02-16T04:03:22.362Z"
   },
   {
    "duration": 56,
    "start_time": "2025-02-16T04:03:25.405Z"
   },
   {
    "duration": 183,
    "start_time": "2025-02-16T04:03:25.462Z"
   },
   {
    "duration": 10,
    "start_time": "2025-02-16T04:03:25.650Z"
   },
   {
    "duration": 99,
    "start_time": "2025-02-16T04:03:25.661Z"
   },
   {
    "duration": 10,
    "start_time": "2025-02-16T04:03:25.762Z"
   },
   {
    "duration": 112,
    "start_time": "2025-02-16T04:03:25.774Z"
   },
   {
    "duration": 439,
    "start_time": "2025-02-16T04:03:25.888Z"
   },
   {
    "duration": 481,
    "start_time": "2025-02-16T04:03:26.330Z"
   },
   {
    "duration": 3,
    "start_time": "2025-02-16T04:03:26.813Z"
   },
   {
    "duration": 59,
    "start_time": "2025-02-16T04:03:26.818Z"
   },
   {
    "duration": 158,
    "start_time": "2025-02-16T04:03:26.879Z"
   },
   {
    "duration": 8,
    "start_time": "2025-02-16T04:03:27.038Z"
   },
   {
    "duration": 2609,
    "start_time": "2025-02-16T04:03:27.048Z"
   },
   {
    "duration": 1031,
    "start_time": "2025-02-16T04:08:04.505Z"
   },
   {
    "duration": 407,
    "start_time": "2025-02-16T04:08:05.538Z"
   },
   {
    "duration": 20,
    "start_time": "2025-02-16T04:08:05.947Z"
   },
   {
    "duration": 98,
    "start_time": "2025-02-16T04:08:05.969Z"
   },
   {
    "duration": 4,
    "start_time": "2025-02-16T04:08:06.069Z"
   },
   {
    "duration": 69,
    "start_time": "2025-02-16T04:08:06.075Z"
   },
   {
    "duration": 38,
    "start_time": "2025-02-16T04:08:06.145Z"
   },
   {
    "duration": 239,
    "start_time": "2025-02-16T04:08:06.184Z"
   },
   {
    "duration": 475,
    "start_time": "2025-02-16T04:08:06.426Z"
   },
   {
    "duration": 13,
    "start_time": "2025-02-16T04:08:06.903Z"
   },
   {
    "duration": 10137,
    "start_time": "2025-02-16T04:08:06.918Z"
   },
   {
    "duration": 55,
    "start_time": "2025-02-16T04:08:17.057Z"
   },
   {
    "duration": 12,
    "start_time": "2025-02-16T04:08:17.114Z"
   },
   {
    "duration": 6218,
    "start_time": "2025-02-16T04:08:17.145Z"
   },
   {
    "duration": 50,
    "start_time": "2025-02-16T04:08:23.366Z"
   },
   {
    "duration": 93,
    "start_time": "2025-02-16T04:08:23.419Z"
   },
   {
    "duration": 2311,
    "start_time": "2025-02-16T04:08:23.515Z"
   },
   {
    "duration": 17,
    "start_time": "2025-02-16T04:08:25.828Z"
   },
   {
    "duration": 8803,
    "start_time": "2025-02-16T04:08:25.847Z"
   },
   {
    "duration": 764,
    "start_time": "2025-02-16T04:08:34.653Z"
   },
   {
    "duration": 12,
    "start_time": "2025-02-16T04:08:35.419Z"
   },
   {
    "duration": 7872,
    "start_time": "2025-02-16T04:08:35.433Z"
   },
   {
    "duration": 47,
    "start_time": "2025-02-16T04:08:43.307Z"
   },
   {
    "duration": 56,
    "start_time": "2025-02-16T04:08:43.356Z"
   },
   {
    "duration": 3047,
    "start_time": "2025-02-16T04:08:43.414Z"
   },
   {
    "duration": 51,
    "start_time": "2025-02-16T04:08:46.463Z"
   },
   {
    "duration": 194,
    "start_time": "2025-02-16T04:08:46.515Z"
   },
   {
    "duration": 11,
    "start_time": "2025-02-16T04:08:46.711Z"
   },
   {
    "duration": 102,
    "start_time": "2025-02-16T04:08:46.723Z"
   },
   {
    "duration": 17,
    "start_time": "2025-02-16T04:08:46.826Z"
   },
   {
    "duration": 108,
    "start_time": "2025-02-16T04:08:46.845Z"
   },
   {
    "duration": 435,
    "start_time": "2025-02-16T04:08:46.955Z"
   },
   {
    "duration": 459,
    "start_time": "2025-02-16T04:08:47.391Z"
   },
   {
    "duration": 4,
    "start_time": "2025-02-16T04:08:47.852Z"
   },
   {
    "duration": 49,
    "start_time": "2025-02-16T04:08:47.858Z"
   },
   {
    "duration": 156,
    "start_time": "2025-02-16T04:08:47.908Z"
   },
   {
    "duration": 5,
    "start_time": "2025-02-16T04:08:48.065Z"
   },
   {
    "duration": 2577,
    "start_time": "2025-02-16T04:08:48.072Z"
   },
   {
    "duration": 316,
    "start_time": "2025-02-16T04:08:50.652Z"
   },
   {
    "duration": 0,
    "start_time": "2025-02-16T04:08:50.970Z"
   },
   {
    "duration": 0,
    "start_time": "2025-02-16T04:08:50.971Z"
   },
   {
    "duration": 1788,
    "start_time": "2025-02-16T04:10:16.778Z"
   },
   {
    "duration": 719697,
    "start_time": "2025-02-16T04:10:23.678Z"
   },
   {
    "duration": 2692,
    "start_time": "2025-02-17T00:09:52.453Z"
   },
   {
    "duration": 444,
    "start_time": "2025-02-17T00:09:55.148Z"
   },
   {
    "duration": 18,
    "start_time": "2025-02-17T00:09:55.594Z"
   },
   {
    "duration": 108,
    "start_time": "2025-02-17T00:09:55.614Z"
   },
   {
    "duration": 4,
    "start_time": "2025-02-17T00:09:55.724Z"
   },
   {
    "duration": 66,
    "start_time": "2025-02-17T00:09:55.730Z"
   },
   {
    "duration": 57,
    "start_time": "2025-02-17T00:09:55.797Z"
   },
   {
    "duration": 228,
    "start_time": "2025-02-17T00:09:55.857Z"
   },
   {
    "duration": 477,
    "start_time": "2025-02-17T00:09:56.087Z"
   },
   {
    "duration": 15,
    "start_time": "2025-02-17T00:09:56.565Z"
   },
   {
    "duration": 10516,
    "start_time": "2025-02-17T00:09:56.582Z"
   },
   {
    "duration": 58,
    "start_time": "2025-02-17T00:10:07.100Z"
   },
   {
    "duration": 13,
    "start_time": "2025-02-17T00:10:07.160Z"
   },
   {
    "duration": 6222,
    "start_time": "2025-02-17T00:10:07.177Z"
   },
   {
    "duration": 53,
    "start_time": "2025-02-17T00:10:13.400Z"
   },
   {
    "duration": 74,
    "start_time": "2025-02-17T00:10:13.455Z"
   },
   {
    "duration": 2299,
    "start_time": "2025-02-17T00:10:13.531Z"
   },
   {
    "duration": 20,
    "start_time": "2025-02-17T00:10:15.832Z"
   },
   {
    "duration": 8942,
    "start_time": "2025-02-17T00:10:15.854Z"
   },
   {
    "duration": 719,
    "start_time": "2025-02-17T00:10:24.798Z"
   },
   {
    "duration": 13,
    "start_time": "2025-02-17T00:10:25.519Z"
   },
   {
    "duration": 0,
    "start_time": "2025-02-17T00:10:41.484Z"
   },
   {
    "duration": 0,
    "start_time": "2025-02-17T00:10:41.485Z"
   },
   {
    "duration": 0,
    "start_time": "2025-02-17T00:10:41.487Z"
   },
   {
    "duration": 0,
    "start_time": "2025-02-17T00:10:41.488Z"
   },
   {
    "duration": 0,
    "start_time": "2025-02-17T00:10:41.489Z"
   },
   {
    "duration": 0,
    "start_time": "2025-02-17T00:10:41.490Z"
   },
   {
    "duration": 0,
    "start_time": "2025-02-17T00:10:41.491Z"
   },
   {
    "duration": 0,
    "start_time": "2025-02-17T00:10:41.492Z"
   },
   {
    "duration": 0,
    "start_time": "2025-02-17T00:10:41.493Z"
   },
   {
    "duration": 0,
    "start_time": "2025-02-17T00:10:41.494Z"
   },
   {
    "duration": 0,
    "start_time": "2025-02-17T00:10:41.495Z"
   },
   {
    "duration": 1,
    "start_time": "2025-02-17T00:10:41.496Z"
   },
   {
    "duration": 0,
    "start_time": "2025-02-17T00:10:41.497Z"
   },
   {
    "duration": 0,
    "start_time": "2025-02-17T00:10:41.498Z"
   },
   {
    "duration": 0,
    "start_time": "2025-02-17T00:10:41.502Z"
   },
   {
    "duration": 0,
    "start_time": "2025-02-17T00:10:41.504Z"
   },
   {
    "duration": 0,
    "start_time": "2025-02-17T00:10:41.505Z"
   },
   {
    "duration": 0,
    "start_time": "2025-02-17T00:10:41.506Z"
   },
   {
    "duration": 0,
    "start_time": "2025-02-17T00:10:41.544Z"
   },
   {
    "duration": 0,
    "start_time": "2025-02-17T00:10:41.545Z"
   },
   {
    "duration": 0,
    "start_time": "2025-02-17T00:10:41.547Z"
   },
   {
    "duration": 0,
    "start_time": "2025-02-17T00:10:41.548Z"
   },
   {
    "duration": 0,
    "start_time": "2025-02-17T00:10:41.550Z"
   },
   {
    "duration": 0,
    "start_time": "2025-02-17T00:10:41.551Z"
   },
   {
    "duration": 0,
    "start_time": "2025-02-17T00:10:41.553Z"
   },
   {
    "duration": 0,
    "start_time": "2025-02-17T00:10:41.554Z"
   },
   {
    "duration": 0,
    "start_time": "2025-02-17T00:10:41.556Z"
   },
   {
    "duration": 0,
    "start_time": "2025-02-17T00:10:41.557Z"
   },
   {
    "duration": 0,
    "start_time": "2025-02-17T00:10:41.559Z"
   },
   {
    "duration": 0,
    "start_time": "2025-02-17T00:10:41.561Z"
   },
   {
    "duration": 0,
    "start_time": "2025-02-17T00:10:41.562Z"
   },
   {
    "duration": 0,
    "start_time": "2025-02-17T00:10:41.564Z"
   },
   {
    "duration": 0,
    "start_time": "2025-02-17T00:10:41.565Z"
   },
   {
    "duration": 0,
    "start_time": "2025-02-17T00:10:41.567Z"
   },
   {
    "duration": 0,
    "start_time": "2025-02-17T00:10:41.568Z"
   },
   {
    "duration": 0,
    "start_time": "2025-02-17T00:10:41.569Z"
   },
   {
    "duration": 0,
    "start_time": "2025-02-17T00:10:41.570Z"
   },
   {
    "duration": 0,
    "start_time": "2025-02-17T00:10:41.571Z"
   },
   {
    "duration": 0,
    "start_time": "2025-02-17T00:10:41.572Z"
   },
   {
    "duration": 0,
    "start_time": "2025-02-17T00:10:41.574Z"
   },
   {
    "duration": 0,
    "start_time": "2025-02-17T00:10:41.575Z"
   },
   {
    "duration": 0,
    "start_time": "2025-02-17T00:10:41.576Z"
   },
   {
    "duration": 4,
    "start_time": "2025-02-17T00:25:58.131Z"
   },
   {
    "duration": 381,
    "start_time": "2025-02-17T00:25:58.137Z"
   },
   {
    "duration": 26,
    "start_time": "2025-02-17T00:25:58.520Z"
   },
   {
    "duration": 95,
    "start_time": "2025-02-17T00:25:58.548Z"
   },
   {
    "duration": 4,
    "start_time": "2025-02-17T00:25:58.646Z"
   },
   {
    "duration": 63,
    "start_time": "2025-02-17T00:25:58.651Z"
   },
   {
    "duration": 53,
    "start_time": "2025-02-17T00:25:58.716Z"
   },
   {
    "duration": 217,
    "start_time": "2025-02-17T00:25:58.771Z"
   },
   {
    "duration": 439,
    "start_time": "2025-02-17T00:25:58.990Z"
   },
   {
    "duration": 16,
    "start_time": "2025-02-17T00:25:59.431Z"
   },
   {
    "duration": 10695,
    "start_time": "2025-02-17T00:25:59.449Z"
   },
   {
    "duration": 51,
    "start_time": "2025-02-17T00:26:10.146Z"
   },
   {
    "duration": 13,
    "start_time": "2025-02-17T00:26:10.199Z"
   },
   {
    "duration": 6056,
    "start_time": "2025-02-17T00:26:10.216Z"
   },
   {
    "duration": 47,
    "start_time": "2025-02-17T00:26:16.274Z"
   },
   {
    "duration": 85,
    "start_time": "2025-02-17T00:26:16.323Z"
   },
   {
    "duration": 2274,
    "start_time": "2025-02-17T00:26:16.410Z"
   },
   {
    "duration": 13,
    "start_time": "2025-02-17T00:26:18.686Z"
   },
   {
    "duration": 8870,
    "start_time": "2025-02-17T00:26:18.700Z"
   },
   {
    "duration": 743,
    "start_time": "2025-02-17T00:26:27.572Z"
   },
   {
    "duration": 13,
    "start_time": "2025-02-17T00:26:28.317Z"
   },
   {
    "duration": 8101,
    "start_time": "2025-02-17T00:26:28.332Z"
   },
   {
    "duration": 42,
    "start_time": "2025-02-17T00:26:36.443Z"
   },
   {
    "duration": 68,
    "start_time": "2025-02-17T00:26:36.488Z"
   },
   {
    "duration": 3088,
    "start_time": "2025-02-17T00:26:36.558Z"
   },
   {
    "duration": 49,
    "start_time": "2025-02-17T00:26:39.648Z"
   },
   {
    "duration": 197,
    "start_time": "2025-02-17T00:26:39.699Z"
   },
   {
    "duration": 12,
    "start_time": "2025-02-17T00:26:39.898Z"
   },
   {
    "duration": 94,
    "start_time": "2025-02-17T00:26:39.911Z"
   },
   {
    "duration": 10,
    "start_time": "2025-02-17T00:26:40.007Z"
   },
   {
    "duration": 108,
    "start_time": "2025-02-17T00:26:40.019Z"
   },
   {
    "duration": 462,
    "start_time": "2025-02-17T00:26:40.129Z"
   },
   {
    "duration": 474,
    "start_time": "2025-02-17T00:26:40.593Z"
   },
   {
    "duration": 3,
    "start_time": "2025-02-17T00:26:41.069Z"
   },
   {
    "duration": 51,
    "start_time": "2025-02-17T00:26:41.074Z"
   },
   {
    "duration": 170,
    "start_time": "2025-02-17T00:26:41.127Z"
   },
   {
    "duration": 5,
    "start_time": "2025-02-17T00:26:41.299Z"
   },
   {
    "duration": 2645,
    "start_time": "2025-02-17T00:26:41.306Z"
   },
   {
    "duration": 289164,
    "start_time": "2025-02-17T00:26:43.953Z"
   },
   {
    "duration": 25,
    "start_time": "2025-02-17T00:31:33.118Z"
   },
   {
    "duration": 2196,
    "start_time": "2025-02-17T00:31:33.147Z"
   },
   {
    "duration": 157,
    "start_time": "2025-02-17T00:34:40.846Z"
   },
   {
    "duration": 1048,
    "start_time": "2025-02-17T00:34:57.549Z"
   },
   {
    "duration": 446,
    "start_time": "2025-02-17T00:34:58.601Z"
   },
   {
    "duration": 21,
    "start_time": "2025-02-17T00:34:59.049Z"
   },
   {
    "duration": 124,
    "start_time": "2025-02-17T00:34:59.072Z"
   },
   {
    "duration": 5,
    "start_time": "2025-02-17T00:34:59.198Z"
   },
   {
    "duration": 73,
    "start_time": "2025-02-17T00:34:59.205Z"
   },
   {
    "duration": 50,
    "start_time": "2025-02-17T00:34:59.279Z"
   },
   {
    "duration": 237,
    "start_time": "2025-02-17T00:34:59.332Z"
   },
   {
    "duration": 463,
    "start_time": "2025-02-17T00:34:59.572Z"
   },
   {
    "duration": 17,
    "start_time": "2025-02-17T00:35:00.037Z"
   },
   {
    "duration": 10587,
    "start_time": "2025-02-17T00:35:00.056Z"
   },
   {
    "duration": 54,
    "start_time": "2025-02-17T00:35:10.645Z"
   },
   {
    "duration": 13,
    "start_time": "2025-02-17T00:35:10.701Z"
   },
   {
    "duration": 6153,
    "start_time": "2025-02-17T00:35:10.715Z"
   },
   {
    "duration": 52,
    "start_time": "2025-02-17T00:35:16.870Z"
   },
   {
    "duration": 86,
    "start_time": "2025-02-17T00:35:16.923Z"
   },
   {
    "duration": 2381,
    "start_time": "2025-02-17T00:35:17.011Z"
   },
   {
    "duration": 17,
    "start_time": "2025-02-17T00:35:19.394Z"
   },
   {
    "duration": 8693,
    "start_time": "2025-02-17T00:35:19.413Z"
   },
   {
    "duration": 764,
    "start_time": "2025-02-17T00:35:28.109Z"
   },
   {
    "duration": 13,
    "start_time": "2025-02-17T00:35:28.875Z"
   },
   {
    "duration": 8181,
    "start_time": "2025-02-17T00:35:28.890Z"
   },
   {
    "duration": 41,
    "start_time": "2025-02-17T00:35:37.072Z"
   },
   {
    "duration": 68,
    "start_time": "2025-02-17T00:35:37.114Z"
   },
   {
    "duration": 3039,
    "start_time": "2025-02-17T00:35:37.184Z"
   },
   {
    "duration": 61,
    "start_time": "2025-02-17T00:35:40.225Z"
   },
   {
    "duration": 178,
    "start_time": "2025-02-17T00:35:40.288Z"
   },
   {
    "duration": 15,
    "start_time": "2025-02-17T00:35:40.471Z"
   },
   {
    "duration": 100,
    "start_time": "2025-02-17T00:35:40.493Z"
   },
   {
    "duration": 10,
    "start_time": "2025-02-17T00:35:40.595Z"
   },
   {
    "duration": 119,
    "start_time": "2025-02-17T00:35:40.607Z"
   },
   {
    "duration": 452,
    "start_time": "2025-02-17T00:35:40.728Z"
   },
   {
    "duration": 454,
    "start_time": "2025-02-17T00:35:41.182Z"
   },
   {
    "duration": 3,
    "start_time": "2025-02-17T00:35:41.643Z"
   },
   {
    "duration": 49,
    "start_time": "2025-02-17T00:35:41.648Z"
   },
   {
    "duration": 160,
    "start_time": "2025-02-17T00:35:41.699Z"
   },
   {
    "duration": 5,
    "start_time": "2025-02-17T00:35:41.861Z"
   },
   {
    "duration": 2694,
    "start_time": "2025-02-17T00:35:41.867Z"
   },
   {
    "duration": 46178,
    "start_time": "2025-02-17T00:35:44.643Z"
   },
   {
    "duration": 0,
    "start_time": "2025-02-17T00:36:30.823Z"
   },
   {
    "duration": 0,
    "start_time": "2025-02-17T00:36:30.824Z"
   },
   {
    "duration": 0,
    "start_time": "2025-02-17T00:36:30.825Z"
   },
   {
    "duration": 0,
    "start_time": "2025-02-17T00:36:30.827Z"
   },
   {
    "duration": 4,
    "start_time": "2025-02-17T00:36:43.196Z"
   },
   {
    "duration": 6,
    "start_time": "2025-02-17T00:37:01.048Z"
   },
   {
    "duration": 4,
    "start_time": "2025-02-17T00:37:07.576Z"
   },
   {
    "duration": 5,
    "start_time": "2025-02-17T00:37:47.324Z"
   },
   {
    "duration": 5,
    "start_time": "2025-02-17T00:37:58.929Z"
   },
   {
    "duration": 4,
    "start_time": "2025-02-17T00:38:07.242Z"
   },
   {
    "duration": 10,
    "start_time": "2025-02-17T00:38:49.541Z"
   },
   {
    "duration": 4,
    "start_time": "2025-02-17T00:39:02.877Z"
   },
   {
    "duration": 3,
    "start_time": "2025-02-17T00:44:24.577Z"
   },
   {
    "duration": 371,
    "start_time": "2025-02-17T00:44:27.116Z"
   },
   {
    "duration": 17,
    "start_time": "2025-02-17T00:44:28.178Z"
   },
   {
    "duration": 93,
    "start_time": "2025-02-17T00:44:33.711Z"
   },
   {
    "duration": 5,
    "start_time": "2025-02-17T00:44:35.324Z"
   },
   {
    "duration": 54,
    "start_time": "2025-02-17T00:44:36.511Z"
   },
   {
    "duration": 37,
    "start_time": "2025-02-17T00:44:41.975Z"
   },
   {
    "duration": 237,
    "start_time": "2025-02-17T00:44:44.919Z"
   },
   {
    "duration": 460,
    "start_time": "2025-02-17T00:44:46.208Z"
   },
   {
    "duration": 14,
    "start_time": "2025-02-17T00:44:48.212Z"
   },
   {
    "duration": 10799,
    "start_time": "2025-02-17T00:44:50.212Z"
   },
   {
    "duration": 59,
    "start_time": "2025-02-17T00:45:01.014Z"
   },
   {
    "duration": 14,
    "start_time": "2025-02-17T00:45:01.075Z"
   },
   {
    "duration": 6141,
    "start_time": "2025-02-17T00:45:08.310Z"
   },
   {
    "duration": 53,
    "start_time": "2025-02-17T00:45:14.453Z"
   },
   {
    "duration": 88,
    "start_time": "2025-02-17T00:45:14.508Z"
   },
   {
    "duration": 2336,
    "start_time": "2025-02-17T00:45:14.598Z"
   },
   {
    "duration": 16,
    "start_time": "2025-02-17T00:45:16.942Z"
   },
   {
    "duration": 8889,
    "start_time": "2025-02-17T00:45:18.879Z"
   },
   {
    "duration": 734,
    "start_time": "2025-02-17T00:45:27.770Z"
   },
   {
    "duration": 13,
    "start_time": "2025-02-17T00:45:36.875Z"
   },
   {
    "duration": 8285,
    "start_time": "2025-02-17T00:45:38.710Z"
   },
   {
    "duration": 51,
    "start_time": "2025-02-17T00:45:46.997Z"
   },
   {
    "duration": 51,
    "start_time": "2025-02-17T00:45:50.118Z"
   },
   {
    "duration": 3053,
    "start_time": "2025-02-17T00:45:51.707Z"
   },
   {
    "duration": 49,
    "start_time": "2025-02-17T00:45:54.925Z"
   },
   {
    "duration": 156,
    "start_time": "2025-02-17T00:45:57.474Z"
   },
   {
    "duration": 12,
    "start_time": "2025-02-17T00:46:06.591Z"
   },
   {
    "duration": 81,
    "start_time": "2025-02-17T00:46:17.011Z"
   },
   {
    "duration": 10,
    "start_time": "2025-02-17T00:46:33.126Z"
   },
   {
    "duration": 4,
    "start_time": "2025-02-17T00:46:34.582Z"
   },
   {
    "duration": 1059,
    "start_time": "2025-02-17T00:56:48.556Z"
   },
   {
    "duration": 394,
    "start_time": "2025-02-17T00:56:54.278Z"
   },
   {
    "duration": 19,
    "start_time": "2025-02-17T00:56:55.091Z"
   },
   {
    "duration": 95,
    "start_time": "2025-02-17T00:56:58.491Z"
   },
   {
    "duration": 4,
    "start_time": "2025-02-17T00:57:01.126Z"
   },
   {
    "duration": 57,
    "start_time": "2025-02-17T00:57:01.959Z"
   },
   {
    "duration": 38,
    "start_time": "2025-02-17T00:57:06.925Z"
   },
   {
    "duration": 240,
    "start_time": "2025-02-17T00:57:12.089Z"
   },
   {
    "duration": 476,
    "start_time": "2025-02-17T00:57:13.246Z"
   },
   {
    "duration": 13,
    "start_time": "2025-02-17T00:57:16.787Z"
   },
   {
    "duration": 10546,
    "start_time": "2025-02-17T00:57:18.882Z"
   },
   {
    "duration": 55,
    "start_time": "2025-02-17T00:57:33.358Z"
   },
   {
    "duration": 13,
    "start_time": "2025-02-17T00:57:35.778Z"
   },
   {
    "duration": 6203,
    "start_time": "2025-02-17T00:57:38.259Z"
   },
   {
    "duration": 53,
    "start_time": "2025-02-17T00:57:45.737Z"
   },
   {
    "duration": 73,
    "start_time": "2025-02-17T00:57:49.725Z"
   },
   {
    "duration": 2268,
    "start_time": "2025-02-17T00:57:51.562Z"
   },
   {
    "duration": 13,
    "start_time": "2025-02-17T00:57:57.889Z"
   },
   {
    "duration": 8694,
    "start_time": "2025-02-17T00:57:59.894Z"
   },
   {
    "duration": 9022,
    "start_time": "2025-02-17T00:59:10.749Z"
   },
   {
    "duration": 706,
    "start_time": "2025-02-17T00:59:22.366Z"
   },
   {
    "duration": 14,
    "start_time": "2025-02-17T00:59:26.041Z"
   },
   {
    "duration": 8174,
    "start_time": "2025-02-17T00:59:28.319Z"
   },
   {
    "duration": 40,
    "start_time": "2025-02-17T00:59:42.064Z"
   },
   {
    "duration": 57,
    "start_time": "2025-02-17T00:59:43.529Z"
   },
   {
    "duration": 3185,
    "start_time": "2025-02-17T00:59:45.207Z"
   },
   {
    "duration": 49,
    "start_time": "2025-02-17T00:59:48.436Z"
   },
   {
    "duration": 175,
    "start_time": "2025-02-17T01:00:06.079Z"
   },
   {
    "duration": 165,
    "start_time": "2025-02-17T01:00:35.372Z"
   },
   {
    "duration": 10,
    "start_time": "2025-02-17T01:01:16.345Z"
   },
   {
    "duration": 81,
    "start_time": "2025-02-17T01:01:17.614Z"
   },
   {
    "duration": 202,
    "start_time": "2025-02-17T01:01:18.860Z"
   },
   {
    "duration": 4,
    "start_time": "2025-02-17T01:03:51.299Z"
   },
   {
    "duration": 11,
    "start_time": "2025-02-17T01:08:16.772Z"
   },
   {
    "duration": 78,
    "start_time": "2025-02-17T01:08:17.613Z"
   },
   {
    "duration": 4,
    "start_time": "2025-02-17T01:08:19.812Z"
   },
   {
    "duration": 498,
    "start_time": "2025-02-17T01:08:28.577Z"
   },
   {
    "duration": 42,
    "start_time": "2025-02-17T01:08:53.315Z"
   },
   {
    "duration": 43,
    "start_time": "2025-02-17T01:09:04.336Z"
   },
   {
    "duration": 2,
    "start_time": "2025-02-17T01:10:35.059Z"
   },
   {
    "duration": 4,
    "start_time": "2025-02-17T01:10:42.285Z"
   },
   {
    "duration": 89,
    "start_time": "2025-02-17T01:10:51.573Z"
   },
   {
    "duration": 16,
    "start_time": "2025-02-17T01:11:37.243Z"
   },
   {
    "duration": 103,
    "start_time": "2025-02-17T01:11:45.173Z"
   },
   {
    "duration": 293,
    "start_time": "2025-02-17T01:12:09.376Z"
   },
   {
    "duration": 7,
    "start_time": "2025-02-17T01:15:03.844Z"
   },
   {
    "duration": 24,
    "start_time": "2025-02-17T01:15:09.056Z"
   },
   {
    "duration": 182,
    "start_time": "2025-02-17T01:15:22.736Z"
   },
   {
    "duration": 71,
    "start_time": "2025-02-17T01:18:43.648Z"
   },
   {
    "duration": 59,
    "start_time": "2025-02-17T01:19:25.627Z"
   },
   {
    "duration": 45,
    "start_time": "2025-02-17T01:23:24.630Z"
   },
   {
    "duration": 49,
    "start_time": "2025-02-17T01:23:40.188Z"
   },
   {
    "duration": 2483,
    "start_time": "2025-02-17T01:26:42.887Z"
   },
   {
    "duration": 2135,
    "start_time": "2025-02-17T01:30:02.423Z"
   },
   {
    "duration": 2074,
    "start_time": "2025-02-17T01:30:48.605Z"
   },
   {
    "duration": 10,
    "start_time": "2025-02-17T01:31:27.166Z"
   },
   {
    "duration": 2455,
    "start_time": "2025-02-17T01:32:02.997Z"
   },
   {
    "duration": 1338,
    "start_time": "2025-02-17T01:33:42.621Z"
   },
   {
    "duration": 1394,
    "start_time": "2025-02-17T01:33:57.928Z"
   },
   {
    "duration": 21,
    "start_time": "2025-02-17T01:36:13.736Z"
   },
   {
    "duration": 25,
    "start_time": "2025-02-17T01:37:14.134Z"
   },
   {
    "duration": 26,
    "start_time": "2025-02-17T01:37:25.677Z"
   },
   {
    "duration": 984,
    "start_time": "2025-02-17T01:37:47.795Z"
   },
   {
    "duration": 418,
    "start_time": "2025-02-17T01:37:48.781Z"
   },
   {
    "duration": 20,
    "start_time": "2025-02-17T01:37:49.201Z"
   },
   {
    "duration": 102,
    "start_time": "2025-02-17T01:37:49.223Z"
   },
   {
    "duration": 3,
    "start_time": "2025-02-17T01:37:49.328Z"
   },
   {
    "duration": 65,
    "start_time": "2025-02-17T01:37:49.333Z"
   },
   {
    "duration": 51,
    "start_time": "2025-02-17T01:37:49.400Z"
   },
   {
    "duration": 228,
    "start_time": "2025-02-17T01:37:49.453Z"
   },
   {
    "duration": 455,
    "start_time": "2025-02-17T01:37:49.683Z"
   },
   {
    "duration": 13,
    "start_time": "2025-02-17T01:37:50.143Z"
   },
   {
    "duration": 10636,
    "start_time": "2025-02-17T01:37:50.157Z"
   },
   {
    "duration": 60,
    "start_time": "2025-02-17T01:38:00.796Z"
   },
   {
    "duration": 14,
    "start_time": "2025-02-17T01:38:00.858Z"
   },
   {
    "duration": 6200,
    "start_time": "2025-02-17T01:38:00.875Z"
   },
   {
    "duration": 54,
    "start_time": "2025-02-17T01:38:07.078Z"
   },
   {
    "duration": 80,
    "start_time": "2025-02-17T01:38:07.133Z"
   },
   {
    "duration": 2324,
    "start_time": "2025-02-17T01:38:07.215Z"
   },
   {
    "duration": 15,
    "start_time": "2025-02-17T01:38:09.540Z"
   },
   {
    "duration": 8959,
    "start_time": "2025-02-17T01:38:09.557Z"
   },
   {
    "duration": 735,
    "start_time": "2025-02-17T01:38:18.519Z"
   },
   {
    "duration": 13,
    "start_time": "2025-02-17T01:38:19.256Z"
   },
   {
    "duration": 8035,
    "start_time": "2025-02-17T01:38:19.271Z"
   },
   {
    "duration": 49,
    "start_time": "2025-02-17T01:38:27.308Z"
   },
   {
    "duration": 59,
    "start_time": "2025-02-17T01:38:27.359Z"
   },
   {
    "duration": 3045,
    "start_time": "2025-02-17T01:38:27.420Z"
   },
   {
    "duration": 68,
    "start_time": "2025-02-17T01:38:30.467Z"
   },
   {
    "duration": 182,
    "start_time": "2025-02-17T01:38:30.546Z"
   },
   {
    "duration": 15,
    "start_time": "2025-02-17T01:38:30.729Z"
   },
   {
    "duration": 79,
    "start_time": "2025-02-17T01:38:30.746Z"
   },
   {
    "duration": 4,
    "start_time": "2025-02-17T01:38:30.827Z"
   },
   {
    "duration": 113,
    "start_time": "2025-02-17T01:38:30.832Z"
   },
   {
    "duration": 186,
    "start_time": "2025-02-17T01:38:30.947Z"
   },
   {
    "duration": 66,
    "start_time": "2025-02-17T01:44:22.869Z"
   },
   {
    "duration": 33,
    "start_time": "2025-02-17T01:44:26.804Z"
   },
   {
    "duration": 3,
    "start_time": "2025-02-17T01:45:34.605Z"
   },
   {
    "duration": 20,
    "start_time": "2025-02-17T01:45:35.902Z"
   },
   {
    "duration": 63,
    "start_time": "2025-02-17T01:45:37.305Z"
   },
   {
    "duration": 51,
    "start_time": "2025-02-17T01:45:40.449Z"
   },
   {
    "duration": 85,
    "start_time": "2025-02-17T01:46:29.322Z"
   },
   {
    "duration": 109,
    "start_time": "2025-02-17T01:47:49.705Z"
   },
   {
    "duration": 96,
    "start_time": "2025-02-17T01:48:17.473Z"
   },
   {
    "duration": 77,
    "start_time": "2025-02-17T01:49:02.891Z"
   },
   {
    "duration": 963,
    "start_time": "2025-02-17T01:50:49.750Z"
   },
   {
    "duration": 26,
    "start_time": "2025-02-17T01:51:03.302Z"
   },
   {
    "duration": 2846,
    "start_time": "2025-02-17T01:51:06.221Z"
   },
   {
    "duration": 50,
    "start_time": "2025-02-17T01:51:22.873Z"
   },
   {
    "duration": 146,
    "start_time": "2025-02-17T01:51:28.748Z"
   },
   {
    "duration": 11,
    "start_time": "2025-02-17T01:51:34.077Z"
   },
   {
    "duration": 74,
    "start_time": "2025-02-17T01:51:37.156Z"
   },
   {
    "duration": 3,
    "start_time": "2025-02-17T01:51:39.487Z"
   },
   {
    "duration": 89,
    "start_time": "2025-02-17T01:51:40.850Z"
   },
   {
    "duration": 174,
    "start_time": "2025-02-17T01:51:44.574Z"
   },
   {
    "duration": 72,
    "start_time": "2025-02-17T01:52:24.040Z"
   },
   {
    "duration": 93,
    "start_time": "2025-02-17T01:52:38.222Z"
   },
   {
    "duration": 3,
    "start_time": "2025-02-17T01:52:47.900Z"
   },
   {
    "duration": 119,
    "start_time": "2025-02-17T01:52:48.520Z"
   },
   {
    "duration": 45,
    "start_time": "2025-02-17T01:52:49.621Z"
   },
   {
    "duration": 52,
    "start_time": "2025-02-17T01:53:20.518Z"
   },
   {
    "duration": 2,
    "start_time": "2025-02-17T01:53:34.179Z"
   },
   {
    "duration": 32,
    "start_time": "2025-02-17T01:53:36.666Z"
   },
   {
    "duration": 1040,
    "start_time": "2025-02-17T01:53:58.493Z"
   },
   {
    "duration": 409,
    "start_time": "2025-02-17T01:53:59.535Z"
   },
   {
    "duration": 20,
    "start_time": "2025-02-17T01:53:59.945Z"
   },
   {
    "duration": 107,
    "start_time": "2025-02-17T01:53:59.967Z"
   },
   {
    "duration": 4,
    "start_time": "2025-02-17T01:54:00.077Z"
   },
   {
    "duration": 70,
    "start_time": "2025-02-17T01:54:00.083Z"
   },
   {
    "duration": 47,
    "start_time": "2025-02-17T01:54:00.155Z"
   },
   {
    "duration": 240,
    "start_time": "2025-02-17T01:54:00.204Z"
   },
   {
    "duration": 517,
    "start_time": "2025-02-17T01:54:00.446Z"
   },
   {
    "duration": 14,
    "start_time": "2025-02-17T01:54:00.965Z"
   },
   {
    "duration": 10596,
    "start_time": "2025-02-17T01:54:00.980Z"
   },
   {
    "duration": 54,
    "start_time": "2025-02-17T01:54:11.578Z"
   },
   {
    "duration": 14,
    "start_time": "2025-02-17T01:54:11.642Z"
   },
   {
    "duration": 6046,
    "start_time": "2025-02-17T01:54:11.660Z"
   },
   {
    "duration": 61,
    "start_time": "2025-02-17T01:54:17.707Z"
   },
   {
    "duration": 83,
    "start_time": "2025-02-17T01:54:17.770Z"
   },
   {
    "duration": 2367,
    "start_time": "2025-02-17T01:54:17.855Z"
   },
   {
    "duration": 13,
    "start_time": "2025-02-17T01:54:20.223Z"
   },
   {
    "duration": 8939,
    "start_time": "2025-02-17T01:54:20.243Z"
   },
   {
    "duration": 788,
    "start_time": "2025-02-17T01:54:29.185Z"
   },
   {
    "duration": 12,
    "start_time": "2025-02-17T01:54:29.975Z"
   },
   {
    "duration": 8188,
    "start_time": "2025-02-17T01:54:29.989Z"
   },
   {
    "duration": 39,
    "start_time": "2025-02-17T01:54:38.179Z"
   },
   {
    "duration": 63,
    "start_time": "2025-02-17T01:54:38.220Z"
   },
   {
    "duration": 31,
    "start_time": "2025-02-17T01:54:38.285Z"
   },
   {
    "duration": 2912,
    "start_time": "2025-02-17T01:54:38.318Z"
   },
   {
    "duration": 56,
    "start_time": "2025-02-17T01:54:41.232Z"
   },
   {
    "duration": 149,
    "start_time": "2025-02-17T01:54:41.290Z"
   },
   {
    "duration": 10,
    "start_time": "2025-02-17T01:54:41.443Z"
   },
   {
    "duration": 77,
    "start_time": "2025-02-17T01:54:41.454Z"
   },
   {
    "duration": 2,
    "start_time": "2025-02-17T01:54:41.543Z"
   },
   {
    "duration": 96,
    "start_time": "2025-02-17T01:54:41.547Z"
   },
   {
    "duration": 154,
    "start_time": "2025-02-17T01:55:04.720Z"
   },
   {
    "duration": 165,
    "start_time": "2025-02-17T01:55:20.049Z"
   },
   {
    "duration": 11894,
    "start_time": "2025-02-17T01:58:11.067Z"
   },
   {
    "duration": 11714,
    "start_time": "2025-02-17T01:59:20.152Z"
   },
   {
    "duration": 177,
    "start_time": "2025-02-17T02:02:32.068Z"
   },
   {
    "duration": 40,
    "start_time": "2025-02-17T02:03:45.903Z"
   },
   {
    "duration": 108,
    "start_time": "2025-02-17T02:03:54.079Z"
   },
   {
    "duration": 6,
    "start_time": "2025-02-17T02:03:58.346Z"
   },
   {
    "duration": 5,
    "start_time": "2025-02-17T02:04:26.017Z"
   },
   {
    "duration": 39,
    "start_time": "2025-02-17T02:04:44.702Z"
   },
   {
    "duration": 1076,
    "start_time": "2025-02-17T02:13:39.486Z"
   },
   {
    "duration": 455,
    "start_time": "2025-02-17T02:13:40.565Z"
   },
   {
    "duration": 25,
    "start_time": "2025-02-17T02:13:41.021Z"
   },
   {
    "duration": 103,
    "start_time": "2025-02-17T02:13:41.047Z"
   },
   {
    "duration": 4,
    "start_time": "2025-02-17T02:13:41.152Z"
   },
   {
    "duration": 59,
    "start_time": "2025-02-17T02:13:41.158Z"
   },
   {
    "duration": 65,
    "start_time": "2025-02-17T02:13:41.220Z"
   },
   {
    "duration": 255,
    "start_time": "2025-02-17T02:13:41.287Z"
   },
   {
    "duration": 490,
    "start_time": "2025-02-17T02:13:41.544Z"
   },
   {
    "duration": 18,
    "start_time": "2025-02-17T02:13:42.037Z"
   },
   {
    "duration": 10416,
    "start_time": "2025-02-17T02:13:42.056Z"
   },
   {
    "duration": 55,
    "start_time": "2025-02-17T02:13:52.473Z"
   },
   {
    "duration": 14,
    "start_time": "2025-02-17T02:13:52.542Z"
   },
   {
    "duration": 5947,
    "start_time": "2025-02-17T02:13:52.560Z"
   },
   {
    "duration": 62,
    "start_time": "2025-02-17T02:13:58.509Z"
   },
   {
    "duration": 85,
    "start_time": "2025-02-17T02:13:58.575Z"
   },
   {
    "duration": 2393,
    "start_time": "2025-02-17T02:13:58.662Z"
   },
   {
    "duration": 13,
    "start_time": "2025-02-17T02:14:01.057Z"
   },
   {
    "duration": 8958,
    "start_time": "2025-02-17T02:14:01.072Z"
   },
   {
    "duration": 784,
    "start_time": "2025-02-17T02:14:10.032Z"
   },
   {
    "duration": 12,
    "start_time": "2025-02-17T02:14:10.818Z"
   },
   {
    "duration": 7935,
    "start_time": "2025-02-17T02:14:10.832Z"
   },
   {
    "duration": 41,
    "start_time": "2025-02-17T02:14:18.769Z"
   },
   {
    "duration": 69,
    "start_time": "2025-02-17T02:14:18.812Z"
   },
   {
    "duration": 30,
    "start_time": "2025-02-17T02:14:18.883Z"
   },
   {
    "duration": 2900,
    "start_time": "2025-02-17T02:14:18.915Z"
   },
   {
    "duration": 52,
    "start_time": "2025-02-17T02:14:21.817Z"
   },
   {
    "duration": 147,
    "start_time": "2025-02-17T02:14:21.871Z"
   },
   {
    "duration": 10,
    "start_time": "2025-02-17T02:14:22.020Z"
   },
   {
    "duration": 88,
    "start_time": "2025-02-17T02:14:22.031Z"
   },
   {
    "duration": 3,
    "start_time": "2025-02-17T02:14:22.121Z"
   },
   {
    "duration": 105,
    "start_time": "2025-02-17T02:14:22.126Z"
   },
   {
    "duration": 178,
    "start_time": "2025-02-17T02:14:22.233Z"
   },
   {
    "duration": 11911,
    "start_time": "2025-02-17T02:14:22.412Z"
   },
   {
    "duration": 12151,
    "start_time": "2025-02-17T02:14:34.324Z"
   },
   {
    "duration": 34,
    "start_time": "2025-02-17T02:14:46.477Z"
   },
   {
    "duration": 5,
    "start_time": "2025-02-17T02:14:46.513Z"
   },
   {
    "duration": 44,
    "start_time": "2025-02-17T02:14:46.520Z"
   },
   {
    "duration": 15457,
    "start_time": "2025-02-17T02:19:33.913Z"
   },
   {
    "duration": 1059,
    "start_time": "2025-02-17T02:34:22.786Z"
   },
   {
    "duration": 457,
    "start_time": "2025-02-17T02:34:23.847Z"
   },
   {
    "duration": 20,
    "start_time": "2025-02-17T02:34:24.305Z"
   },
   {
    "duration": 108,
    "start_time": "2025-02-17T02:34:24.327Z"
   },
   {
    "duration": 4,
    "start_time": "2025-02-17T02:34:24.442Z"
   },
   {
    "duration": 58,
    "start_time": "2025-02-17T02:34:24.448Z"
   },
   {
    "duration": 59,
    "start_time": "2025-02-17T02:34:24.508Z"
   },
   {
    "duration": 233,
    "start_time": "2025-02-17T02:34:24.569Z"
   },
   {
    "duration": 490,
    "start_time": "2025-02-17T02:34:24.804Z"
   },
   {
    "duration": 13,
    "start_time": "2025-02-17T02:34:25.297Z"
   },
   {
    "duration": 10296,
    "start_time": "2025-02-17T02:34:25.311Z"
   },
   {
    "duration": 61,
    "start_time": "2025-02-17T02:34:35.609Z"
   },
   {
    "duration": 13,
    "start_time": "2025-02-17T02:34:35.672Z"
   },
   {
    "duration": 6033,
    "start_time": "2025-02-17T02:34:35.688Z"
   },
   {
    "duration": 53,
    "start_time": "2025-02-17T02:34:41.723Z"
   },
   {
    "duration": 77,
    "start_time": "2025-02-17T02:34:41.778Z"
   },
   {
    "duration": 2307,
    "start_time": "2025-02-17T02:34:41.857Z"
   },
   {
    "duration": 14,
    "start_time": "2025-02-17T02:34:44.166Z"
   },
   {
    "duration": 8974,
    "start_time": "2025-02-17T02:34:44.181Z"
   },
   {
    "duration": 702,
    "start_time": "2025-02-17T02:34:53.157Z"
   },
   {
    "duration": 13,
    "start_time": "2025-02-17T02:34:53.861Z"
   },
   {
    "duration": 8012,
    "start_time": "2025-02-17T02:34:53.876Z"
   },
   {
    "duration": 41,
    "start_time": "2025-02-17T02:35:01.890Z"
   },
   {
    "duration": 58,
    "start_time": "2025-02-17T02:35:01.943Z"
   },
   {
    "duration": 43,
    "start_time": "2025-02-17T02:35:02.003Z"
   },
   {
    "duration": 2851,
    "start_time": "2025-02-17T02:35:02.048Z"
   },
   {
    "duration": 64,
    "start_time": "2025-02-17T02:35:04.901Z"
   },
   {
    "duration": 146,
    "start_time": "2025-02-17T02:35:04.966Z"
   },
   {
    "duration": 9,
    "start_time": "2025-02-17T02:35:05.114Z"
   },
   {
    "duration": 94,
    "start_time": "2025-02-17T02:35:05.125Z"
   },
   {
    "duration": 2,
    "start_time": "2025-02-17T02:35:05.221Z"
   },
   {
    "duration": 97,
    "start_time": "2025-02-17T02:35:05.225Z"
   },
   {
    "duration": 169,
    "start_time": "2025-02-17T02:35:05.324Z"
   },
   {
    "duration": 11914,
    "start_time": "2025-02-17T02:35:05.495Z"
   },
   {
    "duration": 12202,
    "start_time": "2025-02-17T02:35:17.411Z"
   },
   {
    "duration": 38,
    "start_time": "2025-02-17T02:35:29.616Z"
   },
   {
    "duration": 5,
    "start_time": "2025-02-17T02:35:29.656Z"
   },
   {
    "duration": 85,
    "start_time": "2025-02-17T02:35:29.664Z"
   },
   {
    "duration": 1048,
    "start_time": "2025-02-17T03:01:58.431Z"
   },
   {
    "duration": 440,
    "start_time": "2025-02-17T03:01:59.481Z"
   },
   {
    "duration": 20,
    "start_time": "2025-02-17T03:01:59.923Z"
   },
   {
    "duration": 98,
    "start_time": "2025-02-17T03:01:59.945Z"
   },
   {
    "duration": 4,
    "start_time": "2025-02-17T03:02:00.046Z"
   },
   {
    "duration": 57,
    "start_time": "2025-02-17T03:02:00.051Z"
   },
   {
    "duration": 55,
    "start_time": "2025-02-17T03:02:00.110Z"
   },
   {
    "duration": 228,
    "start_time": "2025-02-17T03:02:00.167Z"
   },
   {
    "duration": 496,
    "start_time": "2025-02-17T03:02:00.397Z"
   },
   {
    "duration": 13,
    "start_time": "2025-02-17T03:02:00.895Z"
   },
   {
    "duration": 10070,
    "start_time": "2025-02-17T03:02:00.910Z"
   },
   {
    "duration": 62,
    "start_time": "2025-02-17T03:02:10.982Z"
   },
   {
    "duration": 16,
    "start_time": "2025-02-17T03:02:11.046Z"
   },
   {
    "duration": 6041,
    "start_time": "2025-02-17T03:02:11.065Z"
   },
   {
    "duration": 56,
    "start_time": "2025-02-17T03:02:17.108Z"
   },
   {
    "duration": 80,
    "start_time": "2025-02-17T03:02:17.166Z"
   },
   {
    "duration": 2366,
    "start_time": "2025-02-17T03:02:17.248Z"
   },
   {
    "duration": 13,
    "start_time": "2025-02-17T03:02:19.615Z"
   },
   {
    "duration": 9001,
    "start_time": "2025-02-17T03:02:19.629Z"
   },
   {
    "duration": 716,
    "start_time": "2025-02-17T03:02:28.632Z"
   },
   {
    "duration": 14,
    "start_time": "2025-02-17T03:02:29.350Z"
   },
   {
    "duration": 7991,
    "start_time": "2025-02-17T03:02:29.366Z"
   },
   {
    "duration": 39,
    "start_time": "2025-02-17T03:02:37.359Z"
   },
   {
    "duration": 72,
    "start_time": "2025-02-17T03:02:37.400Z"
   },
   {
    "duration": 29,
    "start_time": "2025-02-17T03:02:37.474Z"
   },
   {
    "duration": 2888,
    "start_time": "2025-02-17T03:02:37.505Z"
   },
   {
    "duration": 53,
    "start_time": "2025-02-17T03:02:40.395Z"
   },
   {
    "duration": 154,
    "start_time": "2025-02-17T03:02:40.450Z"
   },
   {
    "duration": 10,
    "start_time": "2025-02-17T03:02:40.606Z"
   },
   {
    "duration": 95,
    "start_time": "2025-02-17T03:02:40.617Z"
   },
   {
    "duration": 3,
    "start_time": "2025-02-17T03:02:40.714Z"
   },
   {
    "duration": 101,
    "start_time": "2025-02-17T03:02:40.718Z"
   },
   {
    "duration": 181,
    "start_time": "2025-02-17T03:02:40.822Z"
   },
   {
    "duration": 11981,
    "start_time": "2025-02-17T03:02:41.005Z"
   },
   {
    "duration": 11874,
    "start_time": "2025-02-17T03:02:52.988Z"
   },
   {
    "duration": 35,
    "start_time": "2025-02-17T03:03:04.864Z"
   },
   {
    "duration": 5,
    "start_time": "2025-02-17T03:03:04.901Z"
   },
   {
    "duration": 59,
    "start_time": "2025-02-17T03:03:04.907Z"
   },
   {
    "duration": 3193,
    "start_time": "2025-02-17T03:04:59.185Z"
   },
   {
    "duration": 160017,
    "start_time": "2025-02-17T03:07:18.103Z"
   },
   {
    "duration": 454516,
    "start_time": "2025-02-17T03:17:58.718Z"
   },
   {
    "duration": 49,
    "start_time": "2025-02-17T03:36:22.968Z"
   },
   {
    "duration": 18356,
    "start_time": "2025-02-17T03:38:56.728Z"
   },
   {
    "duration": 18417,
    "start_time": "2025-02-17T03:42:22.543Z"
   },
   {
    "duration": 159432,
    "start_time": "2025-02-17T03:43:14.432Z"
   },
   {
    "duration": 452998,
    "start_time": "2025-02-17T03:53:50.016Z"
   },
   {
    "duration": 451848,
    "start_time": "2025-02-17T04:14:14.460Z"
   },
   {
    "duration": 18524,
    "start_time": "2025-02-17T04:52:01.046Z"
   },
   {
    "duration": 36538,
    "start_time": "2025-02-17T04:53:35.125Z"
   },
   {
    "duration": 103992,
    "start_time": "2025-02-17T04:55:14.706Z"
   },
   {
    "duration": 1,
    "start_time": "2025-02-17T04:56:58.701Z"
   },
   {
    "duration": 18719,
    "start_time": "2025-02-17T04:57:00.963Z"
   },
   {
    "duration": 818414,
    "start_time": "2025-02-17T04:57:52.629Z"
   },
   {
    "duration": 1661343,
    "start_time": "2025-02-17T05:19:07.614Z"
   },
   {
    "duration": 2,
    "start_time": "2025-02-17T06:03:02.988Z"
   },
   {
    "duration": 3042,
    "start_time": "2025-02-17T20:27:20.798Z"
   },
   {
    "duration": 595,
    "start_time": "2025-02-17T20:27:23.842Z"
   },
   {
    "duration": 22,
    "start_time": "2025-02-17T20:27:27.289Z"
   },
   {
    "duration": 99,
    "start_time": "2025-02-17T20:27:30.030Z"
   },
   {
    "duration": 5,
    "start_time": "2025-02-17T20:27:32.804Z"
   },
   {
    "duration": 75,
    "start_time": "2025-02-17T20:27:33.837Z"
   },
   {
    "duration": 55,
    "start_time": "2025-02-17T20:27:38.668Z"
   },
   {
    "duration": 235,
    "start_time": "2025-02-17T20:27:41.715Z"
   },
   {
    "duration": 524,
    "start_time": "2025-02-17T20:27:46.820Z"
   },
   {
    "duration": 18,
    "start_time": "2025-02-17T20:27:49.337Z"
   },
   {
    "duration": 10516,
    "start_time": "2025-02-17T20:27:51.717Z"
   },
   {
    "duration": 56,
    "start_time": "2025-02-17T20:29:40.913Z"
   },
   {
    "duration": 13,
    "start_time": "2025-02-17T20:29:42.775Z"
   },
   {
    "duration": 6136,
    "start_time": "2025-02-17T20:29:45.841Z"
   },
   {
    "duration": 51,
    "start_time": "2025-02-17T20:29:54.021Z"
   },
   {
    "duration": 77,
    "start_time": "2025-02-17T20:29:55.858Z"
   },
   {
    "duration": 2421,
    "start_time": "2025-02-17T20:29:59.208Z"
   },
   {
    "duration": 19,
    "start_time": "2025-02-17T20:30:07.193Z"
   },
   {
    "duration": 9908,
    "start_time": "2025-02-17T20:30:09.675Z"
   },
   {
    "duration": 801,
    "start_time": "2025-02-17T20:30:37.596Z"
   },
   {
    "duration": 15,
    "start_time": "2025-02-17T20:30:40.456Z"
   },
   {
    "duration": 8058,
    "start_time": "2025-02-17T20:30:46.493Z"
   },
   {
    "duration": 43,
    "start_time": "2025-02-17T20:30:54.553Z"
   },
   {
    "duration": 58,
    "start_time": "2025-02-17T20:31:46.063Z"
   },
   {
    "duration": 36,
    "start_time": "2025-02-17T20:31:48.610Z"
   },
   {
    "duration": 3056,
    "start_time": "2025-02-17T20:31:49.768Z"
   },
   {
    "duration": 50,
    "start_time": "2025-02-17T20:31:56.625Z"
   },
   {
    "duration": 145,
    "start_time": "2025-02-17T20:32:00.786Z"
   },
   {
    "duration": 9,
    "start_time": "2025-02-17T20:32:06.305Z"
   },
   {
    "duration": 94,
    "start_time": "2025-02-17T20:32:07.564Z"
   },
   {
    "duration": 3,
    "start_time": "2025-02-17T20:32:14.002Z"
   },
   {
    "duration": 91,
    "start_time": "2025-02-17T20:32:14.974Z"
   },
   {
    "duration": 170,
    "start_time": "2025-02-17T20:32:16.591Z"
   },
   {
    "duration": 12771,
    "start_time": "2025-02-17T20:32:19.434Z"
   },
   {
    "duration": 12433,
    "start_time": "2025-02-17T20:32:32.207Z"
   },
   {
    "duration": 42,
    "start_time": "2025-02-17T20:32:50.608Z"
   },
   {
    "duration": 5,
    "start_time": "2025-02-17T20:32:56.839Z"
   },
   {
    "duration": 66,
    "start_time": "2025-02-17T20:32:58.659Z"
   },
   {
    "duration": 17391,
    "start_time": "2025-02-17T20:33:02.364Z"
   },
   {
    "duration": 1095,
    "start_time": "2025-02-17T20:46:48.860Z"
   },
   {
    "duration": 480,
    "start_time": "2025-02-17T20:46:52.285Z"
   },
   {
    "duration": 22,
    "start_time": "2025-02-17T20:46:53.674Z"
   },
   {
    "duration": 93,
    "start_time": "2025-02-17T20:46:56.458Z"
   },
   {
    "duration": 4,
    "start_time": "2025-02-17T20:46:59.769Z"
   },
   {
    "duration": 61,
    "start_time": "2025-02-17T20:47:00.523Z"
   },
   {
    "duration": 38,
    "start_time": "2025-02-17T20:47:04.554Z"
   },
   {
    "duration": 241,
    "start_time": "2025-02-17T20:47:08.058Z"
   },
   {
    "duration": 460,
    "start_time": "2025-02-17T20:47:08.987Z"
   },
   {
    "duration": 12,
    "start_time": "2025-02-17T20:47:11.082Z"
   },
   {
    "duration": 10577,
    "start_time": "2025-02-17T20:47:12.973Z"
   },
   {
    "duration": 61,
    "start_time": "2025-02-17T20:47:23.552Z"
   },
   {
    "duration": 14,
    "start_time": "2025-02-17T20:47:29.605Z"
   },
   {
    "duration": 6263,
    "start_time": "2025-02-17T20:47:31.821Z"
   },
   {
    "duration": 56,
    "start_time": "2025-02-17T20:47:39.504Z"
   },
   {
    "duration": 75,
    "start_time": "2025-02-17T20:47:43.244Z"
   },
   {
    "duration": 2290,
    "start_time": "2025-02-17T20:47:45.402Z"
   },
   {
    "duration": 13,
    "start_time": "2025-02-17T20:47:51.103Z"
   },
   {
    "duration": 9356,
    "start_time": "2025-02-17T20:47:53.073Z"
   },
   {
    "duration": 749,
    "start_time": "2025-02-17T20:49:40.209Z"
   },
   {
    "duration": 14,
    "start_time": "2025-02-17T20:49:42.764Z"
   },
   {
    "duration": 8102,
    "start_time": "2025-02-17T20:57:00.625Z"
   },
   {
    "duration": 41,
    "start_time": "2025-02-17T20:57:28.425Z"
   },
   {
    "duration": 70,
    "start_time": "2025-02-17T20:57:31.557Z"
   },
   {
    "duration": 40,
    "start_time": "2025-02-17T20:57:32.504Z"
   },
   {
    "duration": 2893,
    "start_time": "2025-02-17T20:57:33.302Z"
   },
   {
    "duration": 52,
    "start_time": "2025-02-17T20:57:39.654Z"
   },
   {
    "duration": 143,
    "start_time": "2025-02-17T20:57:44.056Z"
   },
   {
    "duration": 10,
    "start_time": "2025-02-17T20:57:53.000Z"
   },
   {
    "duration": 88,
    "start_time": "2025-02-17T20:57:53.991Z"
   },
   {
    "duration": 3,
    "start_time": "2025-02-17T20:57:56.955Z"
   },
   {
    "duration": 97,
    "start_time": "2025-02-17T20:57:57.768Z"
   },
   {
    "duration": 167,
    "start_time": "2025-02-17T20:57:59.043Z"
   },
   {
    "duration": 12156,
    "start_time": "2025-02-17T20:58:01.682Z"
   },
   {
    "duration": 12066,
    "start_time": "2025-02-17T20:58:20.985Z"
   },
   {
    "duration": 40,
    "start_time": "2025-02-17T20:58:38.501Z"
   },
   {
    "duration": 18259,
    "start_time": "2025-02-17T21:01:45.674Z"
   },
   {
    "duration": 109634,
    "start_time": "2025-02-17T21:02:09.115Z"
   },
   {
    "duration": 0,
    "start_time": "2025-02-17T21:41:06.450Z"
   },
   {
    "duration": 23,
    "start_time": "2025-02-17T21:41:21.077Z"
   },
   {
    "duration": 24612,
    "start_time": "2025-02-17T21:44:56.956Z"
   },
   {
    "duration": 22,
    "start_time": "2025-02-17T21:47:31.812Z"
   },
   {
    "duration": 21,
    "start_time": "2025-02-17T21:47:45.856Z"
   },
   {
    "duration": 4,
    "start_time": "2025-02-17T21:48:34.675Z"
   },
   {
    "duration": 4,
    "start_time": "2025-02-17T21:48:37.676Z"
   },
   {
    "duration": 822,
    "start_time": "2025-02-17T21:48:44.392Z"
   },
   {
    "duration": 566,
    "start_time": "2025-02-17T21:53:43.796Z"
   },
   {
    "duration": 2,
    "start_time": "2025-02-17T21:54:11.146Z"
   },
   {
    "duration": 24054,
    "start_time": "2025-02-17T21:54:13.908Z"
   },
   {
    "duration": 3,
    "start_time": "2025-02-17T21:54:58.838Z"
   },
   {
    "duration": 49,
    "start_time": "2025-02-17T21:55:54.405Z"
   },
   {
    "duration": 48,
    "start_time": "2025-02-17T21:56:18.822Z"
   },
   {
    "duration": 3,
    "start_time": "2025-02-17T21:56:44.639Z"
   },
   {
    "duration": 7,
    "start_time": "2025-02-17T21:56:50.622Z"
   },
   {
    "duration": 5,
    "start_time": "2025-02-17T21:57:01.502Z"
   },
   {
    "duration": 3,
    "start_time": "2025-02-17T21:58:40.722Z"
   },
   {
    "duration": 3,
    "start_time": "2025-02-17T21:59:18.204Z"
   },
   {
    "duration": 2,
    "start_time": "2025-02-17T21:59:39.597Z"
   },
   {
    "duration": 6,
    "start_time": "2025-02-17T22:00:05.740Z"
   },
   {
    "duration": 27797,
    "start_time": "2025-02-17T22:00:06.390Z"
   },
   {
    "duration": 482887,
    "start_time": "2025-02-17T22:00:52.165Z"
   },
   {
    "duration": 32,
    "start_time": "2025-02-17T22:18:19.918Z"
   },
   {
    "duration": 2,
    "start_time": "2025-02-17T22:19:37.982Z"
   },
   {
    "duration": 244,
    "start_time": "2025-02-17T22:25:54.951Z"
   },
   {
    "duration": 164,
    "start_time": "2025-02-17T22:26:12.517Z"
   },
   {
    "duration": 15,
    "start_time": "2025-02-17T22:27:02.582Z"
   },
   {
    "duration": 59,
    "start_time": "2025-02-17T22:28:10.462Z"
   },
   {
    "duration": 59,
    "start_time": "2025-02-17T22:29:48.443Z"
   },
   {
    "duration": 19,
    "start_time": "2025-02-17T22:36:33.346Z"
   },
   {
    "duration": 18,
    "start_time": "2025-02-17T22:39:29.831Z"
   },
   {
    "duration": 4,
    "start_time": "2025-02-17T22:40:15.082Z"
   },
   {
    "duration": 12,
    "start_time": "2025-02-17T22:40:34.063Z"
   },
   {
    "duration": 2,
    "start_time": "2025-02-17T22:40:54.285Z"
   },
   {
    "duration": 366,
    "start_time": "2025-02-17T22:40:55.488Z"
   },
   {
    "duration": 202,
    "start_time": "2025-02-17T22:42:15.648Z"
   },
   {
    "duration": 12,
    "start_time": "2025-02-17T22:43:42.748Z"
   },
   {
    "duration": 3435,
    "start_time": "2025-02-17T22:44:23.914Z"
   },
   {
    "duration": 3,
    "start_time": "2025-02-17T22:44:35.961Z"
   },
   {
    "duration": 3439,
    "start_time": "2025-02-17T22:44:47.204Z"
   },
   {
    "duration": 3438,
    "start_time": "2025-02-17T22:45:14.188Z"
   },
   {
    "duration": 3383,
    "start_time": "2025-02-17T22:46:42.179Z"
   },
   {
    "duration": 4,
    "start_time": "2025-02-17T22:47:09.064Z"
   },
   {
    "duration": 4,
    "start_time": "2025-02-17T22:50:11.712Z"
   },
   {
    "duration": 4,
    "start_time": "2025-02-17T22:50:19.492Z"
   },
   {
    "duration": 12,
    "start_time": "2025-02-17T22:50:36.429Z"
   },
   {
    "duration": 16,
    "start_time": "2025-02-17T22:51:07.007Z"
   },
   {
    "duration": 3359,
    "start_time": "2025-02-17T22:51:40.877Z"
   },
   {
    "duration": 5431,
    "start_time": "2025-02-17T22:52:14.595Z"
   },
   {
    "duration": 7480,
    "start_time": "2025-02-17T22:52:32.223Z"
   },
   {
    "duration": 7443,
    "start_time": "2025-02-17T22:53:01.497Z"
   },
   {
    "duration": 7519,
    "start_time": "2025-02-17T22:53:23.264Z"
   },
   {
    "duration": 10534,
    "start_time": "2025-02-17T22:53:39.008Z"
   },
   {
    "duration": 2263,
    "start_time": "2025-02-17T23:05:31.665Z"
   },
   {
    "duration": 2325,
    "start_time": "2025-02-17T23:05:46.215Z"
   },
   {
    "duration": 2784,
    "start_time": "2025-02-19T00:04:08.631Z"
   },
   {
    "duration": 451,
    "start_time": "2025-02-19T00:04:11.417Z"
   },
   {
    "duration": 22,
    "start_time": "2025-02-19T00:04:11.870Z"
   },
   {
    "duration": 98,
    "start_time": "2025-02-19T00:04:11.894Z"
   },
   {
    "duration": 5,
    "start_time": "2025-02-19T00:04:12.792Z"
   },
   {
    "duration": 59,
    "start_time": "2025-02-19T00:04:13.875Z"
   },
   {
    "duration": 43,
    "start_time": "2025-02-19T00:04:18.279Z"
   },
   {
    "duration": 214,
    "start_time": "2025-02-19T00:04:30.588Z"
   },
   {
    "duration": 443,
    "start_time": "2025-02-19T00:04:31.407Z"
   },
   {
    "duration": 13,
    "start_time": "2025-02-19T00:04:34.166Z"
   },
   {
    "duration": 10478,
    "start_time": "2025-02-19T00:04:35.689Z"
   },
   {
    "duration": 68,
    "start_time": "2025-02-19T00:04:46.169Z"
   },
   {
    "duration": 13,
    "start_time": "2025-02-19T00:04:46.239Z"
   },
   {
    "duration": 6205,
    "start_time": "2025-02-19T00:04:46.255Z"
   },
   {
    "duration": 61,
    "start_time": "2025-02-19T00:04:52.462Z"
   },
   {
    "duration": 71,
    "start_time": "2025-02-19T00:04:52.526Z"
   },
   {
    "duration": 2319,
    "start_time": "2025-02-19T00:04:53.569Z"
   },
   {
    "duration": 14,
    "start_time": "2025-02-19T00:05:02.672Z"
   },
   {
    "duration": 8799,
    "start_time": "2025-02-19T00:05:05.142Z"
   },
   {
    "duration": 9458,
    "start_time": "2025-02-19T00:08:35.841Z"
   },
   {
    "duration": 778,
    "start_time": "2025-02-19T00:08:47.352Z"
   },
   {
    "duration": 14,
    "start_time": "2025-02-19T00:10:20.619Z"
   },
   {
    "duration": 9316,
    "start_time": "2025-02-19T00:10:22.196Z"
   },
   {
    "duration": 42,
    "start_time": "2025-02-19T00:10:31.514Z"
   },
   {
    "duration": 54,
    "start_time": "2025-02-19T00:10:34.005Z"
   },
   {
    "duration": 24,
    "start_time": "2025-02-19T00:10:38.088Z"
   },
   {
    "duration": 2884,
    "start_time": "2025-02-19T00:10:39.170Z"
   },
   {
    "duration": 57,
    "start_time": "2025-02-19T00:10:42.057Z"
   },
   {
    "duration": 159,
    "start_time": "2025-02-19T00:10:45.977Z"
   },
   {
    "duration": 11,
    "start_time": "2025-02-19T00:18:48.736Z"
   },
   {
    "duration": 97,
    "start_time": "2025-02-19T00:18:50.740Z"
   },
   {
    "duration": 3,
    "start_time": "2025-02-19T00:19:02.139Z"
   },
   {
    "duration": 112,
    "start_time": "2025-02-19T00:19:03.741Z"
   },
   {
    "duration": 229,
    "start_time": "2025-02-19T00:19:05.847Z"
   },
   {
    "duration": 15022,
    "start_time": "2025-02-19T00:19:07.470Z"
   },
   {
    "duration": 14861,
    "start_time": "2025-02-19T00:19:22.495Z"
   },
   {
    "duration": 5,
    "start_time": "2025-02-19T00:23:47.038Z"
   },
   {
    "duration": 4,
    "start_time": "2025-02-19T00:24:01.037Z"
   },
   {
    "duration": 226,
    "start_time": "2025-02-19T00:24:13.268Z"
   },
   {
    "duration": 4,
    "start_time": "2025-02-19T00:24:50.661Z"
   },
   {
    "duration": 15,
    "start_time": "2025-02-19T00:25:02.281Z"
   },
   {
    "duration": 77,
    "start_time": "2025-02-19T00:25:13.039Z"
   },
   {
    "duration": 18,
    "start_time": "2025-02-19T00:25:26.905Z"
   },
   {
    "duration": 18,
    "start_time": "2025-02-19T00:25:40.461Z"
   },
   {
    "duration": 17,
    "start_time": "2025-02-19T00:25:53.519Z"
   },
   {
    "duration": 7,
    "start_time": "2025-02-19T00:26:00.544Z"
   },
   {
    "duration": 14,
    "start_time": "2025-02-19T00:26:20.287Z"
   },
   {
    "duration": 35,
    "start_time": "2025-02-19T00:26:39.652Z"
   },
   {
    "duration": 13,
    "start_time": "2025-02-19T00:26:51.577Z"
   },
   {
    "duration": 745,
    "start_time": "2025-02-19T00:36:27.171Z"
   },
   {
    "duration": 35,
    "start_time": "2025-02-19T00:43:52.054Z"
   },
   {
    "duration": 584,
    "start_time": "2025-02-19T00:46:11.064Z"
   },
   {
    "duration": 58,
    "start_time": "2025-02-19T00:46:36.314Z"
   },
   {
    "duration": 14,
    "start_time": "2025-02-19T00:46:40.164Z"
   },
   {
    "duration": 3,
    "start_time": "2025-02-19T00:46:42.361Z"
   },
   {
    "duration": 756,
    "start_time": "2025-02-19T00:46:43.234Z"
   },
   {
    "duration": 54,
    "start_time": "2025-02-19T00:46:47.634Z"
   },
   {
    "duration": 85,
    "start_time": "2025-02-19T00:46:55.277Z"
   },
   {
    "duration": 1035,
    "start_time": "2025-02-19T01:01:47.800Z"
   },
   {
    "duration": 469,
    "start_time": "2025-02-19T01:01:48.837Z"
   },
   {
    "duration": 20,
    "start_time": "2025-02-19T01:01:49.308Z"
   },
   {
    "duration": 99,
    "start_time": "2025-02-19T01:01:49.329Z"
   },
   {
    "duration": 5,
    "start_time": "2025-02-19T01:01:49.431Z"
   },
   {
    "duration": 77,
    "start_time": "2025-02-19T01:01:49.437Z"
   },
   {
    "duration": 42,
    "start_time": "2025-02-19T01:01:49.516Z"
   },
   {
    "duration": 231,
    "start_time": "2025-02-19T01:01:49.560Z"
   },
   {
    "duration": 480,
    "start_time": "2025-02-19T01:01:49.793Z"
   },
   {
    "duration": 14,
    "start_time": "2025-02-19T01:01:50.275Z"
   },
   {
    "duration": 10760,
    "start_time": "2025-02-19T01:01:50.291Z"
   },
   {
    "duration": 59,
    "start_time": "2025-02-19T01:02:01.053Z"
   },
   {
    "duration": 14,
    "start_time": "2025-02-19T01:02:01.113Z"
   },
   {
    "duration": 6383,
    "start_time": "2025-02-19T01:02:01.131Z"
   },
   {
    "duration": 52,
    "start_time": "2025-02-19T01:02:07.515Z"
   },
   {
    "duration": 85,
    "start_time": "2025-02-19T01:02:07.570Z"
   },
   {
    "duration": 2387,
    "start_time": "2025-02-19T01:02:07.657Z"
   },
   {
    "duration": 13,
    "start_time": "2025-02-19T01:02:10.046Z"
   },
   {
    "duration": 8868,
    "start_time": "2025-02-19T01:02:10.060Z"
   },
   {
    "duration": 765,
    "start_time": "2025-02-19T01:02:18.930Z"
   },
   {
    "duration": 17,
    "start_time": "2025-02-19T01:02:19.697Z"
   },
   {
    "duration": 9011,
    "start_time": "2025-02-19T01:02:19.716Z"
   },
   {
    "duration": 42,
    "start_time": "2025-02-19T01:02:28.729Z"
   },
   {
    "duration": 76,
    "start_time": "2025-02-19T01:02:28.773Z"
   },
   {
    "duration": 31,
    "start_time": "2025-02-19T01:02:28.851Z"
   },
   {
    "duration": 3044,
    "start_time": "2025-02-19T01:02:28.885Z"
   },
   {
    "duration": 50,
    "start_time": "2025-02-19T01:02:31.933Z"
   },
   {
    "duration": 157,
    "start_time": "2025-02-19T01:02:31.985Z"
   },
   {
    "duration": 11,
    "start_time": "2025-02-19T01:02:32.144Z"
   },
   {
    "duration": 4,
    "start_time": "2025-02-19T01:02:32.157Z"
   },
   {
    "duration": 872,
    "start_time": "2025-02-19T01:02:32.162Z"
   },
   {
    "duration": 86,
    "start_time": "2025-02-19T01:02:33.036Z"
   },
   {
    "duration": 305,
    "start_time": "2025-02-19T01:02:33.125Z"
   },
   {
    "duration": 0,
    "start_time": "2025-02-19T01:02:33.432Z"
   },
   {
    "duration": 0,
    "start_time": "2025-02-19T01:02:33.433Z"
   },
   {
    "duration": 0,
    "start_time": "2025-02-19T01:02:33.434Z"
   },
   {
    "duration": 0,
    "start_time": "2025-02-19T01:02:33.435Z"
   },
   {
    "duration": 0,
    "start_time": "2025-02-19T01:02:33.436Z"
   },
   {
    "duration": 0,
    "start_time": "2025-02-19T01:02:33.437Z"
   },
   {
    "duration": 0,
    "start_time": "2025-02-19T01:02:33.438Z"
   },
   {
    "duration": 0,
    "start_time": "2025-02-19T01:02:33.439Z"
   },
   {
    "duration": 0,
    "start_time": "2025-02-19T01:02:33.440Z"
   },
   {
    "duration": 0,
    "start_time": "2025-02-19T01:02:33.441Z"
   },
   {
    "duration": 0,
    "start_time": "2025-02-19T01:02:33.442Z"
   },
   {
    "duration": 2819,
    "start_time": "2025-02-19T18:23:03.393Z"
   },
   {
    "duration": 466,
    "start_time": "2025-02-19T18:23:06.214Z"
   },
   {
    "duration": 21,
    "start_time": "2025-02-19T18:23:06.681Z"
   },
   {
    "duration": 102,
    "start_time": "2025-02-19T18:23:06.712Z"
   },
   {
    "duration": 7,
    "start_time": "2025-02-19T18:23:07.120Z"
   },
   {
    "duration": 60,
    "start_time": "2025-02-19T18:23:08.389Z"
   },
   {
    "duration": 46,
    "start_time": "2025-02-19T18:23:14.129Z"
   },
   {
    "duration": 239,
    "start_time": "2025-02-19T18:23:18.705Z"
   },
   {
    "duration": 471,
    "start_time": "2025-02-19T18:23:19.387Z"
   },
   {
    "duration": 18,
    "start_time": "2025-02-19T18:23:21.759Z"
   },
   {
    "duration": 10584,
    "start_time": "2025-02-19T18:23:26.778Z"
   },
   {
    "duration": 75,
    "start_time": "2025-02-19T18:23:37.365Z"
   },
   {
    "duration": 18,
    "start_time": "2025-02-19T18:23:37.442Z"
   },
   {
    "duration": 5963,
    "start_time": "2025-02-19T18:23:37.463Z"
   },
   {
    "duration": 67,
    "start_time": "2025-02-19T18:23:43.428Z"
   },
   {
    "duration": 102,
    "start_time": "2025-02-19T18:23:43.498Z"
   },
   {
    "duration": 2370,
    "start_time": "2025-02-19T18:23:43.603Z"
   },
   {
    "duration": 13,
    "start_time": "2025-02-19T18:23:45.975Z"
   },
   {
    "duration": 8984,
    "start_time": "2025-02-19T18:23:45.990Z"
   },
   {
    "duration": 845,
    "start_time": "2025-02-19T18:23:54.976Z"
   },
   {
    "duration": 15,
    "start_time": "2025-02-19T18:23:55.823Z"
   },
   {
    "duration": 8003,
    "start_time": "2025-02-19T18:23:55.840Z"
   },
   {
    "duration": 54,
    "start_time": "2025-02-19T18:24:03.845Z"
   },
   {
    "duration": 64,
    "start_time": "2025-02-19T18:24:03.911Z"
   },
   {
    "duration": 39,
    "start_time": "2025-02-19T18:24:03.977Z"
   },
   {
    "duration": 2926,
    "start_time": "2025-02-19T18:24:04.018Z"
   },
   {
    "duration": 52,
    "start_time": "2025-02-19T18:24:06.946Z"
   },
   {
    "duration": 139,
    "start_time": "2025-02-19T18:24:07.474Z"
   },
   {
    "duration": 11,
    "start_time": "2025-02-19T18:24:18.430Z"
   },
   {
    "duration": 4,
    "start_time": "2025-02-19T18:24:21.142Z"
   },
   {
    "duration": 1073,
    "start_time": "2025-02-19T18:24:22.097Z"
   },
   {
    "duration": 79,
    "start_time": "2025-02-19T18:24:23.172Z"
   },
   {
    "duration": 236,
    "start_time": "2025-02-19T18:24:50.207Z"
   },
   {
    "duration": 48,
    "start_time": "2025-02-19T18:41:01.688Z"
   },
   {
    "duration": 32,
    "start_time": "2025-02-19T18:41:09.716Z"
   },
   {
    "duration": 5,
    "start_time": "2025-02-19T18:41:19.895Z"
   },
   {
    "duration": 5,
    "start_time": "2025-02-19T18:42:01.878Z"
   },
   {
    "duration": 204382,
    "start_time": "2025-02-19T18:42:35.317Z"
   },
   {
    "duration": 821358,
    "start_time": "2025-02-19T18:52:50.827Z"
   },
   {
    "duration": 1083,
    "start_time": "2025-02-19T19:40:14.357Z"
   },
   {
    "duration": 457,
    "start_time": "2025-02-19T19:40:15.442Z"
   },
   {
    "duration": 20,
    "start_time": "2025-02-19T19:40:15.901Z"
   },
   {
    "duration": 103,
    "start_time": "2025-02-19T19:40:15.923Z"
   },
   {
    "duration": 4,
    "start_time": "2025-02-19T19:40:16.028Z"
   },
   {
    "duration": 86,
    "start_time": "2025-02-19T19:40:16.034Z"
   },
   {
    "duration": 52,
    "start_time": "2025-02-19T19:40:16.122Z"
   },
   {
    "duration": 244,
    "start_time": "2025-02-19T19:40:16.176Z"
   },
   {
    "duration": 485,
    "start_time": "2025-02-19T19:40:16.423Z"
   },
   {
    "duration": 13,
    "start_time": "2025-02-19T19:40:16.911Z"
   },
   {
    "duration": 10687,
    "start_time": "2025-02-19T19:40:16.925Z"
   },
   {
    "duration": 49,
    "start_time": "2025-02-19T19:40:27.614Z"
   },
   {
    "duration": 14,
    "start_time": "2025-02-19T19:40:27.665Z"
   },
   {
    "duration": 6187,
    "start_time": "2025-02-19T19:40:27.683Z"
   },
   {
    "duration": 58,
    "start_time": "2025-02-19T19:40:33.872Z"
   },
   {
    "duration": 80,
    "start_time": "2025-02-19T19:40:33.932Z"
   },
   {
    "duration": 2421,
    "start_time": "2025-02-19T19:40:34.014Z"
   },
   {
    "duration": 13,
    "start_time": "2025-02-19T19:40:36.437Z"
   },
   {
    "duration": 9105,
    "start_time": "2025-02-19T19:40:36.452Z"
   },
   {
    "duration": 822,
    "start_time": "2025-02-19T19:40:45.560Z"
   },
   {
    "duration": 13,
    "start_time": "2025-02-19T19:40:46.384Z"
   },
   {
    "duration": 8070,
    "start_time": "2025-02-19T19:40:46.399Z"
   },
   {
    "duration": 44,
    "start_time": "2025-02-19T19:40:54.471Z"
   },
   {
    "duration": 55,
    "start_time": "2025-02-19T19:40:54.517Z"
   },
   {
    "duration": 43,
    "start_time": "2025-02-19T19:40:54.574Z"
   },
   {
    "duration": 2846,
    "start_time": "2025-02-19T19:40:54.619Z"
   },
   {
    "duration": 54,
    "start_time": "2025-02-19T19:40:57.467Z"
   },
   {
    "duration": 146,
    "start_time": "2025-02-19T19:40:57.523Z"
   },
   {
    "duration": 12,
    "start_time": "2025-02-19T19:40:57.670Z"
   },
   {
    "duration": 3,
    "start_time": "2025-02-19T19:40:57.683Z"
   },
   {
    "duration": 745,
    "start_time": "2025-02-19T19:40:57.687Z"
   },
   {
    "duration": 51,
    "start_time": "2025-02-19T19:40:58.434Z"
   },
   {
    "duration": 45,
    "start_time": "2025-02-19T19:40:58.486Z"
   },
   {
    "duration": 5,
    "start_time": "2025-02-19T19:40:58.533Z"
   },
   {
    "duration": 826276,
    "start_time": "2025-02-19T19:43:30.342Z"
   },
   {
    "duration": 21979,
    "start_time": "2025-02-19T20:11:15.040Z"
   },
   {
    "duration": 2742,
    "start_time": "2025-02-21T01:02:31.959Z"
   },
   {
    "duration": 444,
    "start_time": "2025-02-21T01:02:34.703Z"
   },
   {
    "duration": 23,
    "start_time": "2025-02-21T01:02:35.149Z"
   },
   {
    "duration": 92,
    "start_time": "2025-02-21T01:02:35.375Z"
   },
   {
    "duration": 5,
    "start_time": "2025-02-21T01:02:36.429Z"
   },
   {
    "duration": 84,
    "start_time": "2025-02-21T01:02:37.310Z"
   },
   {
    "duration": 44,
    "start_time": "2025-02-21T01:02:40.740Z"
   },
   {
    "duration": 224,
    "start_time": "2025-02-21T01:02:42.716Z"
   },
   {
    "duration": 472,
    "start_time": "2025-02-21T01:02:43.779Z"
   },
   {
    "duration": 13,
    "start_time": "2025-02-21T01:02:46.274Z"
   },
   {
    "duration": 10406,
    "start_time": "2025-02-21T01:02:47.843Z"
   },
   {
    "duration": 58,
    "start_time": "2025-02-21T01:02:58.252Z"
   },
   {
    "duration": 13,
    "start_time": "2025-02-21T01:02:58.312Z"
   },
   {
    "duration": 6180,
    "start_time": "2025-02-21T01:02:58.328Z"
   },
   {
    "duration": 52,
    "start_time": "2025-02-21T01:03:04.510Z"
   },
   {
    "duration": 84,
    "start_time": "2025-02-21T01:03:04.565Z"
   },
   {
    "duration": 2286,
    "start_time": "2025-02-21T01:03:04.652Z"
   },
   {
    "duration": 12,
    "start_time": "2025-02-21T01:03:06.940Z"
   },
   {
    "duration": 9033,
    "start_time": "2025-02-21T01:03:06.955Z"
   },
   {
    "duration": 835,
    "start_time": "2025-02-21T01:03:15.990Z"
   },
   {
    "duration": 13,
    "start_time": "2025-02-21T01:03:16.828Z"
   },
   {
    "duration": 8111,
    "start_time": "2025-02-21T01:03:16.843Z"
   },
   {
    "duration": 49,
    "start_time": "2025-02-21T01:03:24.955Z"
   },
   {
    "duration": 58,
    "start_time": "2025-02-21T01:03:25.006Z"
   },
   {
    "duration": 44,
    "start_time": "2025-02-21T01:03:25.067Z"
   },
   {
    "duration": 2876,
    "start_time": "2025-02-21T01:03:25.112Z"
   },
   {
    "duration": 59,
    "start_time": "2025-02-21T01:03:27.990Z"
   },
   {
    "duration": 159,
    "start_time": "2025-02-21T01:03:28.051Z"
   },
   {
    "duration": 11,
    "start_time": "2025-02-21T01:03:31.524Z"
   },
   {
    "duration": 3,
    "start_time": "2025-02-21T01:03:34.523Z"
   },
   {
    "duration": 739,
    "start_time": "2025-02-21T01:03:35.474Z"
   },
   {
    "duration": 59,
    "start_time": "2025-02-21T01:03:37.534Z"
   },
   {
    "duration": 33,
    "start_time": "2025-02-21T01:03:57.302Z"
   },
   {
    "duration": 6,
    "start_time": "2025-02-21T01:04:05.162Z"
   },
   {
    "duration": 841381,
    "start_time": "2025-02-21T01:04:31.679Z"
   },
   {
    "duration": 330,
    "start_time": "2025-02-21T01:24:25.290Z"
   },
   {
    "duration": 49,
    "start_time": "2025-02-21T01:38:01.972Z"
   },
   {
    "duration": 350,
    "start_time": "2025-02-21T01:38:32.708Z"
   },
   {
    "duration": 37,
    "start_time": "2025-02-21T01:39:00.607Z"
   },
   {
    "duration": 109862,
    "start_time": "2025-02-21T01:39:18.742Z"
   },
   {
    "duration": 1607781,
    "start_time": "2025-02-21T01:54:28.216Z"
   },
   {
    "duration": 38501,
    "start_time": "2025-02-21T02:33:33.960Z"
   },
   {
    "duration": 2355977,
    "start_time": "2025-02-21T02:34:30.424Z"
   },
   {
    "duration": 3,
    "start_time": "2025-02-21T03:56:03.003Z"
   },
   {
    "duration": 18,
    "start_time": "2025-02-21T03:56:04.142Z"
   },
   {
    "duration": 13514,
    "start_time": "2025-02-21T03:57:09.321Z"
   },
   {
    "duration": 165,
    "start_time": "2025-02-21T05:01:21.775Z"
   },
   {
    "duration": 2902,
    "start_time": "2025-02-21T05:01:30.223Z"
   },
   {
    "duration": 94,
    "start_time": "2025-02-21T05:01:37.132Z"
   },
   {
    "duration": 16,
    "start_time": "2025-02-21T05:01:48.088Z"
   },
   {
    "duration": 19,
    "start_time": "2025-02-21T05:01:59.757Z"
   },
   {
    "duration": 477,
    "start_time": "2025-02-21T05:02:06.185Z"
   },
   {
    "duration": 16,
    "start_time": "2025-02-21T05:02:19.069Z"
   },
   {
    "duration": 14,
    "start_time": "2025-02-21T05:02:28.380Z"
   },
   {
    "duration": 173,
    "start_time": "2025-02-21T05:02:33.806Z"
   },
   {
    "duration": 6,
    "start_time": "2025-02-21T05:02:52.742Z"
   },
   {
    "duration": 47,
    "start_time": "2025-02-21T05:02:57.673Z"
   },
   {
    "duration": 246,
    "start_time": "2025-02-21T05:03:01.441Z"
   },
   {
    "duration": 498,
    "start_time": "2025-02-21T05:03:02.735Z"
   },
   {
    "duration": 14,
    "start_time": "2025-02-21T05:03:18.589Z"
   },
   {
    "duration": 10695,
    "start_time": "2025-02-21T05:03:22.092Z"
   },
   {
    "duration": 3397,
    "start_time": "2025-02-21T19:33:52.332Z"
   },
   {
    "duration": 521,
    "start_time": "2025-02-21T19:33:55.741Z"
   },
   {
    "duration": 21,
    "start_time": "2025-02-21T19:33:56.264Z"
   },
   {
    "duration": 132,
    "start_time": "2025-02-21T19:33:56.287Z"
   },
   {
    "duration": 5,
    "start_time": "2025-02-21T19:33:56.421Z"
   },
   {
    "duration": 66,
    "start_time": "2025-02-21T19:33:56.427Z"
   },
   {
    "duration": 60,
    "start_time": "2025-02-21T19:33:58.040Z"
   },
   {
    "duration": 293,
    "start_time": "2025-02-21T19:33:59.237Z"
   },
   {
    "duration": 765,
    "start_time": "2025-02-21T19:33:59.799Z"
   },
   {
    "duration": 16,
    "start_time": "2025-02-21T19:34:01.583Z"
   },
   {
    "duration": 11778,
    "start_time": "2025-02-21T19:34:02.654Z"
   },
   {
    "duration": 57,
    "start_time": "2025-02-21T19:34:14.437Z"
   },
   {
    "duration": 19,
    "start_time": "2025-02-21T19:34:14.497Z"
   },
   {
    "duration": 6571,
    "start_time": "2025-02-21T19:34:14.530Z"
   },
   {
    "duration": 60,
    "start_time": "2025-02-21T19:34:21.113Z"
   },
   {
    "duration": 102,
    "start_time": "2025-02-21T19:34:21.174Z"
   },
   {
    "duration": 2737,
    "start_time": "2025-02-21T19:34:21.279Z"
   },
   {
    "duration": 17,
    "start_time": "2025-02-21T19:34:24.020Z"
   },
   {
    "duration": 9537,
    "start_time": "2025-02-21T19:34:24.042Z"
   },
   {
    "duration": 955,
    "start_time": "2025-02-21T19:34:33.582Z"
   },
   {
    "duration": 18,
    "start_time": "2025-02-21T19:34:34.539Z"
   },
   {
    "duration": 8989,
    "start_time": "2025-02-21T19:34:34.559Z"
   },
   {
    "duration": 46,
    "start_time": "2025-02-21T19:34:43.549Z"
   },
   {
    "duration": 75,
    "start_time": "2025-02-21T19:34:43.596Z"
   },
   {
    "duration": 58,
    "start_time": "2025-02-21T19:34:43.673Z"
   },
   {
    "duration": 3422,
    "start_time": "2025-02-21T19:34:43.733Z"
   },
   {
    "duration": 63,
    "start_time": "2025-02-21T19:34:47.157Z"
   },
   {
    "duration": 149,
    "start_time": "2025-02-21T19:34:47.222Z"
   },
   {
    "duration": 11,
    "start_time": "2025-02-21T19:34:47.375Z"
   },
   {
    "duration": 4,
    "start_time": "2025-02-21T19:34:47.388Z"
   },
   {
    "duration": 900,
    "start_time": "2025-02-21T19:34:47.394Z"
   },
   {
    "duration": 79,
    "start_time": "2025-02-21T19:34:48.297Z"
   },
   {
    "duration": 41,
    "start_time": "2025-02-21T19:34:48.378Z"
   },
   {
    "duration": 7,
    "start_time": "2025-02-21T19:34:51.559Z"
   },
   {
    "duration": 5,
    "start_time": "2025-02-21T19:37:44.742Z"
   },
   {
    "duration": 398,
    "start_time": "2025-02-21T19:46:07.828Z"
   },
   {
    "duration": 26,
    "start_time": "2025-02-21T19:47:24.429Z"
   },
   {
    "duration": 44,
    "start_time": "2025-02-21T19:48:10.203Z"
   },
   {
    "duration": 903221,
    "start_time": "2025-02-21T19:48:20.057Z"
   },
   {
    "duration": 713,
    "start_time": "2025-02-21T20:05:41.752Z"
   },
   {
    "duration": 798,
    "start_time": "2025-02-21T20:06:10.638Z"
   },
   {
    "duration": 752,
    "start_time": "2025-02-21T20:06:47.129Z"
   },
   {
    "duration": 712,
    "start_time": "2025-02-21T20:06:56.154Z"
   },
   {
    "duration": 687,
    "start_time": "2025-02-21T20:30:12.894Z"
   },
   {
    "duration": 835531,
    "start_time": "2025-02-21T20:36:04.581Z"
   },
   {
    "duration": 853378,
    "start_time": "2025-02-21T20:59:54.906Z"
   },
   {
    "duration": 877015,
    "start_time": "2025-02-21T21:28:37.626Z"
   },
   {
    "duration": 663,
    "start_time": "2025-02-21T21:48:33.928Z"
   },
   {
    "duration": 16,
    "start_time": "2025-02-21T21:50:38.670Z"
   },
   {
    "duration": 3,
    "start_time": "2025-02-21T21:50:54.814Z"
   },
   {
    "duration": 378,
    "start_time": "2025-02-21T21:50:56.265Z"
   },
   {
    "duration": 18,
    "start_time": "2025-02-21T21:50:56.766Z"
   },
   {
    "duration": 102,
    "start_time": "2025-02-21T21:50:57.277Z"
   },
   {
    "duration": 6,
    "start_time": "2025-02-21T21:50:57.882Z"
   },
   {
    "duration": 65,
    "start_time": "2025-02-21T21:50:58.480Z"
   },
   {
    "duration": 34,
    "start_time": "2025-02-21T21:51:00.661Z"
   },
   {
    "duration": 193,
    "start_time": "2025-02-21T21:51:01.868Z"
   },
   {
    "duration": 416,
    "start_time": "2025-02-21T21:51:02.383Z"
   },
   {
    "duration": 14,
    "start_time": "2025-02-21T21:51:04.078Z"
   },
   {
    "duration": 10311,
    "start_time": "2025-02-21T21:51:05.160Z"
   },
   {
    "duration": 62,
    "start_time": "2025-02-21T21:51:15.473Z"
   },
   {
    "duration": 13,
    "start_time": "2025-02-21T21:51:15.537Z"
   },
   {
    "duration": 5947,
    "start_time": "2025-02-21T21:51:15.552Z"
   },
   {
    "duration": 51,
    "start_time": "2025-02-21T21:51:21.505Z"
   },
   {
    "duration": 92,
    "start_time": "2025-02-21T21:51:21.558Z"
   },
   {
    "duration": 2327,
    "start_time": "2025-02-21T21:51:21.652Z"
   },
   {
    "duration": 14,
    "start_time": "2025-02-21T21:51:23.981Z"
   },
   {
    "duration": 9155,
    "start_time": "2025-02-21T21:51:24.005Z"
   },
   {
    "duration": 798,
    "start_time": "2025-02-21T21:51:33.164Z"
   },
   {
    "duration": 13,
    "start_time": "2025-02-21T21:51:33.964Z"
   },
   {
    "duration": 8002,
    "start_time": "2025-02-21T21:51:33.978Z"
   },
   {
    "duration": 51,
    "start_time": "2025-02-21T21:51:41.981Z"
   },
   {
    "duration": 51,
    "start_time": "2025-02-21T21:51:42.034Z"
   },
   {
    "duration": 34,
    "start_time": "2025-02-21T21:51:42.087Z"
   },
   {
    "duration": 2864,
    "start_time": "2025-02-21T21:51:42.123Z"
   },
   {
    "duration": 56,
    "start_time": "2025-02-21T21:51:44.989Z"
   },
   {
    "duration": 151,
    "start_time": "2025-02-21T21:51:45.047Z"
   },
   {
    "duration": 11,
    "start_time": "2025-02-21T21:51:45.205Z"
   },
   {
    "duration": 3,
    "start_time": "2025-02-21T21:51:45.217Z"
   },
   {
    "duration": 738,
    "start_time": "2025-02-21T21:51:45.222Z"
   },
   {
    "duration": 66,
    "start_time": "2025-02-21T21:51:45.962Z"
   },
   {
    "duration": 30,
    "start_time": "2025-02-21T21:51:55.368Z"
   },
   {
    "duration": 5,
    "start_time": "2025-02-21T21:52:00.896Z"
   },
   {
    "duration": 22964,
    "start_time": "2025-02-21T21:53:39.958Z"
   },
   {
    "duration": 6,
    "start_time": "2025-02-21T21:57:56.479Z"
   },
   {
    "duration": 1865993,
    "start_time": "2025-02-21T21:58:27.233Z"
   },
   {
    "duration": 975274,
    "start_time": "2025-02-21T23:20:29.538Z"
   },
   {
    "duration": 2814,
    "start_time": "2025-02-22T01:38:19.966Z"
   },
   {
    "duration": 552,
    "start_time": "2025-02-22T01:38:22.782Z"
   },
   {
    "duration": 25,
    "start_time": "2025-02-22T01:38:23.336Z"
   },
   {
    "duration": 113,
    "start_time": "2025-02-22T01:38:23.364Z"
   },
   {
    "duration": 6,
    "start_time": "2025-02-22T01:38:23.479Z"
   },
   {
    "duration": 72,
    "start_time": "2025-02-22T01:38:23.487Z"
   },
   {
    "duration": 46,
    "start_time": "2025-02-22T01:38:23.561Z"
   },
   {
    "duration": 250,
    "start_time": "2025-02-22T01:38:23.608Z"
   },
   {
    "duration": 495,
    "start_time": "2025-02-22T01:38:23.860Z"
   },
   {
    "duration": 13,
    "start_time": "2025-02-22T01:38:24.358Z"
   },
   {
    "duration": 10603,
    "start_time": "2025-02-22T01:38:24.372Z"
   },
   {
    "duration": 58,
    "start_time": "2025-02-22T01:38:34.978Z"
   },
   {
    "duration": 13,
    "start_time": "2025-02-22T01:38:35.038Z"
   },
   {
    "duration": 6312,
    "start_time": "2025-02-22T01:38:35.054Z"
   },
   {
    "duration": 84,
    "start_time": "2025-02-22T01:38:41.368Z"
   },
   {
    "duration": 84,
    "start_time": "2025-02-22T01:38:41.456Z"
   },
   {
    "duration": 2501,
    "start_time": "2025-02-22T01:38:41.545Z"
   },
   {
    "duration": 14,
    "start_time": "2025-02-22T01:38:44.048Z"
   },
   {
    "duration": 9438,
    "start_time": "2025-02-22T01:38:44.064Z"
   },
   {
    "duration": 885,
    "start_time": "2025-02-22T01:38:53.504Z"
   },
   {
    "duration": 16,
    "start_time": "2025-02-22T01:38:54.392Z"
   },
   {
    "duration": 8134,
    "start_time": "2025-02-22T01:38:54.409Z"
   },
   {
    "duration": 47,
    "start_time": "2025-02-22T01:39:02.545Z"
   },
   {
    "duration": 74,
    "start_time": "2025-02-22T01:39:02.596Z"
   },
   {
    "duration": 32,
    "start_time": "2025-02-22T01:39:02.672Z"
   },
   {
    "duration": 2901,
    "start_time": "2025-02-22T01:39:02.706Z"
   },
   {
    "duration": 54,
    "start_time": "2025-02-22T01:39:05.609Z"
   },
   {
    "duration": 160,
    "start_time": "2025-02-22T01:39:05.664Z"
   },
   {
    "duration": 12,
    "start_time": "2025-02-22T01:39:05.831Z"
   },
   {
    "duration": 3,
    "start_time": "2025-02-22T01:39:05.845Z"
   },
   {
    "duration": 754,
    "start_time": "2025-02-22T01:39:05.850Z"
   },
   {
    "duration": 57,
    "start_time": "2025-02-22T01:39:06.606Z"
   },
   {
    "duration": 33,
    "start_time": "2025-02-22T01:39:06.665Z"
   },
   {
    "duration": 6,
    "start_time": "2025-02-22T01:39:19.279Z"
   },
   {
    "duration": 4059,
    "start_time": "2025-02-22T01:39:24.167Z"
   },
   {
    "duration": 966875,
    "start_time": "2025-02-22T01:44:21.871Z"
   },
   {
    "duration": 987656,
    "start_time": "2025-02-22T02:14:29.975Z"
   },
   {
    "duration": 2695,
    "start_time": "2025-02-23T03:32:38.166Z"
   },
   {
    "duration": 445,
    "start_time": "2025-02-23T03:32:40.864Z"
   },
   {
    "duration": 23,
    "start_time": "2025-02-23T03:32:41.311Z"
   },
   {
    "duration": 102,
    "start_time": "2025-02-23T03:32:41.337Z"
   },
   {
    "duration": 4,
    "start_time": "2025-02-23T03:32:41.441Z"
   },
   {
    "duration": 58,
    "start_time": "2025-02-23T03:32:41.852Z"
   },
   {
    "duration": 36,
    "start_time": "2025-02-23T03:32:44.239Z"
   },
   {
    "duration": 221,
    "start_time": "2025-02-23T03:32:45.485Z"
   },
   {
    "duration": 465,
    "start_time": "2025-02-23T03:32:46.047Z"
   },
   {
    "duration": 14,
    "start_time": "2025-02-23T03:32:47.951Z"
   },
   {
    "duration": 10295,
    "start_time": "2025-02-23T03:32:49.149Z"
   },
   {
    "duration": 54,
    "start_time": "2025-02-23T03:32:59.447Z"
   },
   {
    "duration": 29,
    "start_time": "2025-02-23T03:32:59.502Z"
   },
   {
    "duration": 5911,
    "start_time": "2025-02-23T03:32:59.533Z"
   },
   {
    "duration": 53,
    "start_time": "2025-02-23T03:33:05.447Z"
   },
   {
    "duration": 95,
    "start_time": "2025-02-23T03:33:05.502Z"
   },
   {
    "duration": 2369,
    "start_time": "2025-02-23T03:33:05.599Z"
   },
   {
    "duration": 2290,
    "start_time": "2025-02-23T03:33:33.592Z"
   },
   {
    "duration": 13,
    "start_time": "2025-02-23T03:33:35.884Z"
   },
   {
    "duration": 9148,
    "start_time": "2025-02-23T03:33:36.875Z"
   },
   {
    "duration": 846,
    "start_time": "2025-02-23T03:33:46.958Z"
   },
   {
    "duration": 13,
    "start_time": "2025-02-23T03:33:53.311Z"
   },
   {
    "duration": 7974,
    "start_time": "2025-02-23T03:33:56.141Z"
   },
   {
    "duration": 42,
    "start_time": "2025-02-23T03:34:05.969Z"
   },
   {
    "duration": 56,
    "start_time": "2025-02-23T03:34:07.143Z"
   },
   {
    "duration": 32,
    "start_time": "2025-02-23T03:34:08.377Z"
   },
   {
    "duration": 2873,
    "start_time": "2025-02-23T03:34:09.591Z"
   },
   {
    "duration": 50,
    "start_time": "2025-02-23T03:34:12.467Z"
   },
   {
    "duration": 156,
    "start_time": "2025-02-23T03:34:12.558Z"
   },
   {
    "duration": 12,
    "start_time": "2025-02-23T03:34:20.755Z"
   },
   {
    "duration": 3,
    "start_time": "2025-02-23T03:34:22.961Z"
   },
   {
    "duration": 757,
    "start_time": "2025-02-23T03:34:23.877Z"
   },
   {
    "duration": 55,
    "start_time": "2025-02-23T03:34:25.729Z"
   },
   {
    "duration": 33,
    "start_time": "2025-02-23T03:34:40.640Z"
   },
   {
    "duration": 5,
    "start_time": "2025-02-23T03:34:47.428Z"
   },
   {
    "duration": 850720,
    "start_time": "2025-02-23T03:35:13.483Z"
   },
   {
    "duration": 24044,
    "start_time": "2025-02-23T03:56:36.289Z"
   },
   {
    "duration": 745594,
    "start_time": "2025-02-23T03:59:42.179Z"
   },
   {
    "duration": 2,
    "start_time": "2025-02-23T04:19:55.410Z"
   },
   {
    "duration": 707,
    "start_time": "2025-02-23T04:25:12.133Z"
   },
   {
    "duration": 0,
    "start_time": "2025-02-23T04:30:37.031Z"
   },
   {
    "duration": 1046041,
    "start_time": "2025-02-23T04:30:38.625Z"
   },
   {
    "duration": 22757,
    "start_time": "2025-02-23T05:03:51.575Z"
   },
   {
    "duration": 23679,
    "start_time": "2025-02-23T05:05:44.825Z"
   },
   {
    "duration": 23414,
    "start_time": "2025-02-23T05:06:29.336Z"
   },
   {
    "duration": 23369,
    "start_time": "2025-02-23T05:09:27.192Z"
   },
   {
    "duration": 22659,
    "start_time": "2025-02-23T05:10:16.271Z"
   },
   {
    "duration": 14,
    "start_time": "2025-02-23T05:12:50.024Z"
   },
   {
    "duration": 13509,
    "start_time": "2025-02-23T05:12:56.274Z"
   },
   {
    "duration": 22,
    "start_time": "2025-02-23T05:13:47.692Z"
   },
   {
    "duration": 21,
    "start_time": "2025-02-23T05:14:16.740Z"
   },
   {
    "duration": 22,
    "start_time": "2025-02-23T05:15:15.182Z"
   },
   {
    "duration": 21,
    "start_time": "2025-02-23T05:16:42.956Z"
   },
   {
    "duration": 3,
    "start_time": "2025-02-23T05:17:11.188Z"
   },
   {
    "duration": 22,
    "start_time": "2025-02-23T05:17:16.829Z"
   },
   {
    "duration": 23,
    "start_time": "2025-02-23T05:18:07.214Z"
   },
   {
    "duration": 26,
    "start_time": "2025-02-23T05:19:38.831Z"
   },
   {
    "duration": 24,
    "start_time": "2025-02-23T05:20:53.621Z"
   },
   {
    "duration": 26,
    "start_time": "2025-02-23T05:21:40.115Z"
   },
   {
    "duration": 2,
    "start_time": "2025-02-23T05:26:53.463Z"
   }
  ],
  "kernelspec": {
   "display_name": "Python 3 (ipykernel)",
   "language": "python",
   "name": "python3"
  },
  "language_info": {
   "codemirror_mode": {
    "name": "ipython",
    "version": 3
   },
   "file_extension": ".py",
   "mimetype": "text/x-python",
   "name": "python",
   "nbconvert_exporter": "python",
   "pygments_lexer": "ipython3",
   "version": "3.9.19"
  },
  "toc": {
   "base_numbering": 1,
   "nav_menu": {},
   "number_sections": true,
   "sideBar": true,
   "skip_h1_title": true,
   "title_cell": "Table of Contents",
   "title_sidebar": "Contents",
   "toc_cell": false,
   "toc_position": {},
   "toc_section_display": true,
   "toc_window_display": false
  }
 },
 "nbformat": 4,
 "nbformat_minor": 2
}
